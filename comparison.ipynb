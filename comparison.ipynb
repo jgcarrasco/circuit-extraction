{
 "cells": [
  {
   "cell_type": "code",
   "execution_count": 28,
   "metadata": {},
   "outputs": [],
   "source": [
    "import pickle\n",
    "from itertools import product\n",
    "from functools import partial\n",
    "from tqdm import tqdm\n",
    "import random\n",
    "\n",
    "import plotly.express as px\n",
    "\n",
    "import numpy as np\n",
    "import torch\n",
    "import torch.nn as nn\n",
    "from torch import Tensor\n",
    "\n",
    "import einops\n",
    "\n",
    "from typing import Literal\n",
    "from jaxtyping import Float\n",
    "\n",
    "from transformers import AutoTokenizer, AutoModelForCausalLM\n",
    "\n",
    "from transformer_lens import HookedTransformer, ActivationCache\n",
    "from transformer_lens import utils\n",
    "\n",
    "\n",
    "torch.set_grad_enabled(False)\n",
    "device = \"cuda\" if torch.cuda.is_available() else \"cpu\""
   ]
  },
  {
   "cell_type": "code",
   "execution_count": 29,
   "metadata": {},
   "outputs": [],
   "source": [
    "def sort_Nd_tensor(tensor, descending=False):\n",
    "    i = torch.sort(tensor.flatten(), descending=descending).indices\n",
    "    return np.array(np.unravel_index(utils.to_numpy(i), tensor.shape)).T.tolist()\n",
    "\n",
    "def compute_logit_diff(logits, answer_tokens, average=True):\n",
    "    \"\"\"\n",
    "    Compute the logit difference between the correct answer and the largest logit\n",
    "    of all the possible incorrect capital letters. This is done for every iteration\n",
    "    (i.e. each of the three letters of the acronym) and then averaged if desired.\n",
    "    If `average=False`, then a `Tensor[batch_size, 3]` is returned, containing the\n",
    "    logit difference at every iteration for every prompt in the batch\n",
    "\n",
    "    Parameters:\n",
    "    -----------\n",
    "    - `logits`: `Tensor[batch_size, seq_len, d_vocab]`\n",
    "    - `answer_tokens`: Tensor[batch_size, 3]\n",
    "    \"\"\"\n",
    "    # Logits of the correct answers (batch_size, 3)\n",
    "    correct_logits = logits[:, -3:].gather(-1, answer_tokens[..., None]).squeeze()\n",
    "    # Retrieve the maximum logit of the possible incorrect answers\n",
    "    capital_letters_tokens = torch.tensor([32, 33, 34, 35, 36, 37, 38, 39, 40, 41, 42, 43, 44, 45, 46, 47, 48, 49,\n",
    "         50, 51, 52, 53, 54, 55, 56, 57], dtype=torch.long, device=device)\n",
    "    batch_size = logits.shape[0]\n",
    "    capital_letters_tokens_expanded = capital_letters_tokens.expand(batch_size, 3, -1)\n",
    "    incorrect_capital_letters = capital_letters_tokens_expanded[capital_letters_tokens_expanded != answer_tokens[..., None]].reshape(batch_size, 3, -1)\n",
    "    incorrect_logits, _ = logits[:, -3:].gather(-1, incorrect_capital_letters).max(-1)\n",
    "    # Return the mean\n",
    "    return (correct_logits - incorrect_logits).mean() if average else (correct_logits - incorrect_logits)"
   ]
  },
  {
   "cell_type": "markdown",
   "metadata": {},
   "source": [
    "# Do we obtain the same activations from huggingface and transformerlens?\n",
    "\n",
    "The idea of this experiment is to be able to obtain/patch the activations of every attention head. We need this to be able to work directly on a HF model by (i) performing activation patching to check which heads matter (ii) gather these mean activations and (iii) properly prune the huggingface model by completely removing heads/complete attention layers. \n",
    "\n",
    "- In TransformerLens, we can obtain the individual contributions of each head, i.e. what they write individually to the residual stream, via the `results` hook. This is computed by taking the activations at the `z` hook (i.e. multiplying value vector with the attention and softmaxing) and using the O matrix to project them into the residual space.\n",
    "- In HF, the model is defined in `modeling_gpt2.py`. I can see that the `_attn` function is equivalent to what is computed on the `z` hook: the QKV vectors are computed, the QK vectors are used to obtain the attention patterns, which are then used to compute the output as a weighted sum of the V vector. Then, \n",
    "\n",
    "**Equivalence**:\n",
    "- `z: (batch_size, seq_len, n_head, d_head)` $\\rightarrow$ `_attn: `"
   ]
  },
  {
   "cell_type": "code",
   "execution_count": 30,
   "metadata": {},
   "outputs": [
    {
     "name": "stdout",
     "output_type": "stream",
     "text": [
      "Loaded pretrained model gpt2-small into HookedTransformer\n"
     ]
    }
   ],
   "source": [
    "model_tl = HookedTransformer.from_pretrained(\n",
    "    'gpt2-small',\n",
    "    center_writing_weights=False,\n",
    "    center_unembed=False,\n",
    "    fold_ln=False,\n",
    "    device=device,\n",
    ")\n",
    "model_tl.set_use_hook_mlp_in(True)\n",
    "model_tl.set_use_split_qkv_input(True)\n",
    "model_tl.set_use_attn_result(True)"
   ]
  },
  {
   "cell_type": "code",
   "execution_count": 31,
   "metadata": {},
   "outputs": [],
   "source": [
    "tokenizer_hf = AutoTokenizer.from_pretrained(\"openai-community/gpt2\", add_bos_token=True)\n",
    "model_hf = AutoModelForCausalLM.from_pretrained(\"openai-community/gpt2\", output_hidden_states=False, use_cache=False).to(device)"
   ]
  },
  {
   "cell_type": "code",
   "execution_count": 32,
   "metadata": {},
   "outputs": [],
   "source": [
    "with open(\"acronyms_2_common.txt\", \"r\") as f:\n",
    "   prompts, acronyms = list(zip(*[line.split(\", \") for line in f.read().splitlines()]))\n",
    "\n",
    "# take a subset of the dataset (we do this because VRAM limitations)\n",
    "n_samples = 50\n",
    "# giga-cursed way of sampling from the dataset\n",
    "prompts, acronyms = list(map(list, zip(*random.choices(list(zip(prompts, acronyms)), k=n_samples))))"
   ]
  },
  {
   "cell_type": "code",
   "execution_count": 33,
   "metadata": {},
   "outputs": [],
   "source": [
    "tokens_tl = model_tl.to_tokens(prompts)\n",
    "answer_tokens = model_tl.to_tokens(acronyms, prepend_bos=False)\n",
    "\n",
    "logits_tl, cache_tl = model_tl.run_with_cache(tokens_tl)"
   ]
  },
  {
   "cell_type": "code",
   "execution_count": 34,
   "metadata": {},
   "outputs": [],
   "source": [
    "tokens_hf = tokenizer_hf(prompts, return_tensors=\"pt\")[\"input_ids\"]\n",
    "tokens_hf = torch.cat([torch.ones((tokens_hf.shape[0], 1), dtype=torch.long) * tokenizer_hf.bos_token_id, tokens_hf], dim=1).to(device)\n",
    "logits_hf = model_hf(tokens_hf)[\"logits\"]"
   ]
  },
  {
   "cell_type": "code",
   "execution_count": 35,
   "metadata": {},
   "outputs": [
    {
     "name": "stdout",
     "output_type": "stream",
     "text": [
      "Logit Diff. TL: 3.6052, HF: 3.6052, Allclose: True\n"
     ]
    }
   ],
   "source": [
    "logit_diff_tl = compute_logit_diff(logits_tl, answer_tokens, average=False)[..., -1].mean()\n",
    "logit_diff_hf = compute_logit_diff(logits_hf, answer_tokens, average=False)[..., -1].mean()\n",
    "\n",
    "print(f\"Logit Diff. TL: {logit_diff_tl.item():.4f}, HF: {logit_diff_hf.item():.4f}, Allclose: {torch.allclose(logit_diff_tl, logit_diff_hf)}\")"
   ]
  },
  {
   "cell_type": "markdown",
   "metadata": {},
   "source": [
    "**Output of attention head (in head space)**"
   ]
  },
  {
   "cell_type": "code",
   "execution_count": 36,
   "metadata": {},
   "outputs": [
    {
     "data": {
      "text/plain": [
       "torch.Size([50, 11, 12, 64])"
      ]
     },
     "execution_count": 36,
     "metadata": {},
     "output_type": "execute_result"
    }
   ],
   "source": [
    "z_tl = cache_tl[utils.get_act_name(\"z\", 0)]\n",
    "z_tl.shape"
   ]
  },
  {
   "cell_type": "code",
   "execution_count": 37,
   "metadata": {},
   "outputs": [],
   "source": [
    "z_hf = torch.zeros_like(z_tl)\n",
    "\n",
    "def get_z(module: nn.Module, input, output):\n",
    "    \"\"\"\n",
    "    module -> c_proj module inside `GPT2Attention`\n",
    "    input -> tensor of shape (batch_size, seq_len, n_heads*d_head=d_model)\n",
    "    \"\"\"\n",
    "    x = input[0] # (batch_size, seq_len, n_heads*d_head=d_model)\n",
    "    z = x.view(x.shape[:2] + (model_hf.config.n_head, -1))  # (batch_size, seq_len, n_heads, d_head)\n",
    "    z_hf[:] = z.detach().clone()[:]"
   ]
  },
  {
   "cell_type": "code",
   "execution_count": 38,
   "metadata": {},
   "outputs": [],
   "source": [
    "hook = model_hf.transformer.h[0].attn.c_proj.register_forward_hook(get_z)\n",
    "model_hf(tokens_hf);\n",
    "hook.remove()"
   ]
  },
  {
   "cell_type": "code",
   "execution_count": 39,
   "metadata": {},
   "outputs": [
    {
     "data": {
      "text/plain": [
       "False"
      ]
     },
     "execution_count": 39,
     "metadata": {},
     "output_type": "execute_result"
    }
   ],
   "source": [
    "torch.allclose(z_tl, z_hf)"
   ]
  },
  {
   "cell_type": "markdown",
   "metadata": {},
   "source": [
    "They are not close, probably it has something to do with layer normalization? Let's try performing the same patching experiments and checking if we get the same results. **NOTE:** Because of how GPT2 is implemented on HF, I think that it is better to patch the V vectors instead of the Z vectors. We should obtain the same results."
   ]
  },
  {
   "cell_type": "code",
   "execution_count": 40,
   "metadata": {},
   "outputs": [],
   "source": [
    "def mean_ablate_head(activations, hook, head_idx, cache):\n",
    "    # activation has shape (batch, pos, head, d_head)\n",
    "    activations[:, :, head_idx] = cache[hook.name][:, :, head_idx].mean(0)[None, ...]\n",
    "    # activations[:, :, head_idx] = 0.\n",
    "    return activations"
   ]
  },
  {
   "cell_type": "code",
   "execution_count": 41,
   "metadata": {},
   "outputs": [
    {
     "name": "stderr",
     "output_type": "stream",
     "text": [
      " 14%|█▍        | 20/144 [00:00<00:01, 65.25it/s]"
     ]
    },
    {
     "name": "stderr",
     "output_type": "stream",
     "text": [
      "100%|██████████| 144/144 [00:02<00:00, 67.16it/s]\n"
     ]
    }
   ],
   "source": [
    "corrupted_logit_diffs = torch.zeros((model_tl.cfg.n_layers, model_tl.cfg.n_heads, n_samples))\n",
    "with torch.no_grad():\n",
    "    for layer, head in tqdm(list(product(range(model_tl.cfg.n_layers), range(model_tl.cfg.n_heads)))):\n",
    "        model_tl.reset_hooks(including_permanent=True)\n",
    "        hook_fn = partial(mean_ablate_head, head_idx=head, cache=cache_tl)\n",
    "        model_tl.add_hook(utils.get_act_name(\"v\", layer), hook_fn)\n",
    "        corrupted_logits = model_tl(tokens_tl)\n",
    "        corrupted_logit_diff = compute_logit_diff(corrupted_logits, answer_tokens, average=False)\n",
    "        corrupted_logit_diffs[layer, head] = corrupted_logit_diff[..., -1] # take last letter\n",
    "\n",
    "attribution_score_tl = (corrupted_logit_diffs - logit_diff_tl.cpu()).mean(-1)"
   ]
  },
  {
   "cell_type": "code",
   "execution_count": 42,
   "metadata": {},
   "outputs": [
    {
     "data": {
      "application/vnd.plotly.v1+json": {
       "config": {
        "plotlyServerURL": "https://plot.ly"
       },
       "data": [
        {
         "coloraxis": "coloraxis",
         "hovertemplate": "Head: %{x}<br>Layer: %{y}<br>color: %{z}<extra></extra>",
         "name": "0",
         "type": "heatmap",
         "xaxis": "x",
         "yaxis": "y",
         "z": [
          [
           -0.02803538367152214,
           0.19596265256404877,
           -0.02891158126294613,
           0.07469576597213745,
           -0.003975782543420792,
           0.08112061768770218,
           0.03904760256409645,
           0.017040414735674858,
           -0.006315793842077255,
           0.01210614200681448,
           -0.03235510736703873,
           0.002916898811236024
          ],
          [
           0.03229736164212227,
           0.008749008178710938,
           -0.005387287121266127,
           -0.011861219070851803,
           -0.025328587740659714,
           -0.03544389829039574,
           -0.0014212226960808039,
           -0.007545852568000555,
           -0.003046379191800952,
           -0.002113390015438199,
           0.005985479336231947,
           0.0010577774373814464
          ],
          [
           0.009288416244089603,
           0.04752098023891449,
           -0.005962037947028875,
           0.0012646865798160434,
           -0.018042640760540962,
           0.005324812140315771,
           0.010295944288372993,
           -0.010856151580810547,
           0.006745681632310152,
           -0.040177106857299805,
           0.0027689647395163774,
           -0.0012824058067053556
          ],
          [
           0.05011235177516937,
           0.009540452621877193,
           0.016752853989601135,
           0.04765952005982399,
           0.005333080422133207,
           0.010754556395113468,
           -0.00004261970389052294,
           0.008566017262637615,
           -0.004418821539729834,
           0.010533695109188557,
           -0.03234075382351875,
           -0.0020672224927693605
          ],
          [
           0.010673237033188343,
           0.006728143896907568,
           0.003161258762702346,
           -0.00045279503683559597,
           -0.043099433183670044,
           -0.00916613545268774,
           -0.0028529453556984663,
           -0.10115025192499161,
           0.0024429322220385075,
           0.00422605499625206,
           0.009276380762457848,
           0.12055382877588272
          ],
          [
           -0.0027539825532585382,
           0.0015783882699906826,
           -0.02513517439365387,
           0.0039214324206113815,
           0.017618998885154724,
           0.01016697846353054,
           0.4142155349254608,
           0.007475586142390966,
           -0.015119647607207298,
           -0.024353522807359695,
           0.059458982199430466,
           -0.03190360963344574
          ],
          [
           -0.0020424651447683573,
           0.010944060981273651,
           0.002945070154964924,
           0.0025565719697624445,
           -0.016150664538145065,
           -0.001168804126791656,
           -0.024793587625026703,
           -0.018828516826033592,
           0.0024440002162009478,
           0.03790204972028732,
           0.0011170387733727694,
           -0.0007227992755360901
          ],
          [
           0.04159034788608551,
           -0.0017693900736048818,
           0.039047032594680786,
           -0.004222078248858452,
           0.000978708267211914,
           -0.016145382076501846,
           -0.00420487392693758,
           -0.00013387680519372225,
           -0.006511421408504248,
           -0.017980584874749184,
           -0.0030527114868164062,
           -0.0035628413315862417
          ],
          [
           0.0012495326809585094,
           0.012106933631002903,
           -0.002003259724006057,
           -0.058789435774087906,
           0.0010227012680843472,
           -0.0003179741033818573,
           -0.008897733874619007,
           -0.0018072605598717928,
           -0.0012969112722203135,
           -0.006788425613194704,
           -0.05680566653609276,
           -1.5499372482299805
          ],
          [
           0.006120033096522093,
           0.0030279350467026234,
           -0.008821172639727592,
           -0.021125154569745064,
           0.0013704490847885609,
           0.013470334932208061,
           -0.0053527639247477055,
           -0.0012304496485739946,
           -0.009591999463737011,
           0.27616986632347107,
           -0.0019778823480010033,
           0.0015853500226512551
          ],
          [
           0.02398819848895073,
           0.033725835382938385,
           0.0015305805718526244,
           -0.0060742758214473724,
           -0.0057430933229625225,
           -0.0009032631060108542,
           0.03774628788232803,
           0.1011875793337822,
           0.0014911937760189176,
           -0.0001986694405786693,
           -1.2793903350830078,
           0.002660722704604268
          ],
          [
           0.0073183439671993256,
           0.007365207653492689,
           0.0015833282377570868,
           -0.008056249469518661,
           -0.03397047892212868,
           0.007533369120210409,
           -0.06837017834186554,
           0.0035960578825324774,
           -0.011411257088184357,
           -0.003912210464477539,
           0.21820922195911407,
           -0.05026274546980858
          ]
         ]
        }
       ],
       "layout": {
        "coloraxis": {
         "cmid": 0,
         "colorscale": [
          [
           0,
           "rgb(103,0,31)"
          ],
          [
           0.1,
           "rgb(178,24,43)"
          ],
          [
           0.2,
           "rgb(214,96,77)"
          ],
          [
           0.3,
           "rgb(244,165,130)"
          ],
          [
           0.4,
           "rgb(253,219,199)"
          ],
          [
           0.5,
           "rgb(247,247,247)"
          ],
          [
           0.6,
           "rgb(209,229,240)"
          ],
          [
           0.7,
           "rgb(146,197,222)"
          ],
          [
           0.8,
           "rgb(67,147,195)"
          ],
          [
           0.9,
           "rgb(33,102,172)"
          ],
          [
           1,
           "rgb(5,48,97)"
          ]
         ]
        },
        "height": 500,
        "template": {
         "data": {
          "bar": [
           {
            "error_x": {
             "color": "#2a3f5f"
            },
            "error_y": {
             "color": "#2a3f5f"
            },
            "marker": {
             "line": {
              "color": "#E5ECF6",
              "width": 0.5
             },
             "pattern": {
              "fillmode": "overlay",
              "size": 10,
              "solidity": 0.2
             }
            },
            "type": "bar"
           }
          ],
          "barpolar": [
           {
            "marker": {
             "line": {
              "color": "#E5ECF6",
              "width": 0.5
             },
             "pattern": {
              "fillmode": "overlay",
              "size": 10,
              "solidity": 0.2
             }
            },
            "type": "barpolar"
           }
          ],
          "carpet": [
           {
            "aaxis": {
             "endlinecolor": "#2a3f5f",
             "gridcolor": "white",
             "linecolor": "white",
             "minorgridcolor": "white",
             "startlinecolor": "#2a3f5f"
            },
            "baxis": {
             "endlinecolor": "#2a3f5f",
             "gridcolor": "white",
             "linecolor": "white",
             "minorgridcolor": "white",
             "startlinecolor": "#2a3f5f"
            },
            "type": "carpet"
           }
          ],
          "choropleth": [
           {
            "colorbar": {
             "outlinewidth": 0,
             "ticks": ""
            },
            "type": "choropleth"
           }
          ],
          "contour": [
           {
            "colorbar": {
             "outlinewidth": 0,
             "ticks": ""
            },
            "colorscale": [
             [
              0,
              "#0d0887"
             ],
             [
              0.1111111111111111,
              "#46039f"
             ],
             [
              0.2222222222222222,
              "#7201a8"
             ],
             [
              0.3333333333333333,
              "#9c179e"
             ],
             [
              0.4444444444444444,
              "#bd3786"
             ],
             [
              0.5555555555555556,
              "#d8576b"
             ],
             [
              0.6666666666666666,
              "#ed7953"
             ],
             [
              0.7777777777777778,
              "#fb9f3a"
             ],
             [
              0.8888888888888888,
              "#fdca26"
             ],
             [
              1,
              "#f0f921"
             ]
            ],
            "type": "contour"
           }
          ],
          "contourcarpet": [
           {
            "colorbar": {
             "outlinewidth": 0,
             "ticks": ""
            },
            "type": "contourcarpet"
           }
          ],
          "heatmap": [
           {
            "colorbar": {
             "outlinewidth": 0,
             "ticks": ""
            },
            "colorscale": [
             [
              0,
              "#0d0887"
             ],
             [
              0.1111111111111111,
              "#46039f"
             ],
             [
              0.2222222222222222,
              "#7201a8"
             ],
             [
              0.3333333333333333,
              "#9c179e"
             ],
             [
              0.4444444444444444,
              "#bd3786"
             ],
             [
              0.5555555555555556,
              "#d8576b"
             ],
             [
              0.6666666666666666,
              "#ed7953"
             ],
             [
              0.7777777777777778,
              "#fb9f3a"
             ],
             [
              0.8888888888888888,
              "#fdca26"
             ],
             [
              1,
              "#f0f921"
             ]
            ],
            "type": "heatmap"
           }
          ],
          "heatmapgl": [
           {
            "colorbar": {
             "outlinewidth": 0,
             "ticks": ""
            },
            "colorscale": [
             [
              0,
              "#0d0887"
             ],
             [
              0.1111111111111111,
              "#46039f"
             ],
             [
              0.2222222222222222,
              "#7201a8"
             ],
             [
              0.3333333333333333,
              "#9c179e"
             ],
             [
              0.4444444444444444,
              "#bd3786"
             ],
             [
              0.5555555555555556,
              "#d8576b"
             ],
             [
              0.6666666666666666,
              "#ed7953"
             ],
             [
              0.7777777777777778,
              "#fb9f3a"
             ],
             [
              0.8888888888888888,
              "#fdca26"
             ],
             [
              1,
              "#f0f921"
             ]
            ],
            "type": "heatmapgl"
           }
          ],
          "histogram": [
           {
            "marker": {
             "pattern": {
              "fillmode": "overlay",
              "size": 10,
              "solidity": 0.2
             }
            },
            "type": "histogram"
           }
          ],
          "histogram2d": [
           {
            "colorbar": {
             "outlinewidth": 0,
             "ticks": ""
            },
            "colorscale": [
             [
              0,
              "#0d0887"
             ],
             [
              0.1111111111111111,
              "#46039f"
             ],
             [
              0.2222222222222222,
              "#7201a8"
             ],
             [
              0.3333333333333333,
              "#9c179e"
             ],
             [
              0.4444444444444444,
              "#bd3786"
             ],
             [
              0.5555555555555556,
              "#d8576b"
             ],
             [
              0.6666666666666666,
              "#ed7953"
             ],
             [
              0.7777777777777778,
              "#fb9f3a"
             ],
             [
              0.8888888888888888,
              "#fdca26"
             ],
             [
              1,
              "#f0f921"
             ]
            ],
            "type": "histogram2d"
           }
          ],
          "histogram2dcontour": [
           {
            "colorbar": {
             "outlinewidth": 0,
             "ticks": ""
            },
            "colorscale": [
             [
              0,
              "#0d0887"
             ],
             [
              0.1111111111111111,
              "#46039f"
             ],
             [
              0.2222222222222222,
              "#7201a8"
             ],
             [
              0.3333333333333333,
              "#9c179e"
             ],
             [
              0.4444444444444444,
              "#bd3786"
             ],
             [
              0.5555555555555556,
              "#d8576b"
             ],
             [
              0.6666666666666666,
              "#ed7953"
             ],
             [
              0.7777777777777778,
              "#fb9f3a"
             ],
             [
              0.8888888888888888,
              "#fdca26"
             ],
             [
              1,
              "#f0f921"
             ]
            ],
            "type": "histogram2dcontour"
           }
          ],
          "mesh3d": [
           {
            "colorbar": {
             "outlinewidth": 0,
             "ticks": ""
            },
            "type": "mesh3d"
           }
          ],
          "parcoords": [
           {
            "line": {
             "colorbar": {
              "outlinewidth": 0,
              "ticks": ""
             }
            },
            "type": "parcoords"
           }
          ],
          "pie": [
           {
            "automargin": true,
            "type": "pie"
           }
          ],
          "scatter": [
           {
            "fillpattern": {
             "fillmode": "overlay",
             "size": 10,
             "solidity": 0.2
            },
            "type": "scatter"
           }
          ],
          "scatter3d": [
           {
            "line": {
             "colorbar": {
              "outlinewidth": 0,
              "ticks": ""
             }
            },
            "marker": {
             "colorbar": {
              "outlinewidth": 0,
              "ticks": ""
             }
            },
            "type": "scatter3d"
           }
          ],
          "scattercarpet": [
           {
            "marker": {
             "colorbar": {
              "outlinewidth": 0,
              "ticks": ""
             }
            },
            "type": "scattercarpet"
           }
          ],
          "scattergeo": [
           {
            "marker": {
             "colorbar": {
              "outlinewidth": 0,
              "ticks": ""
             }
            },
            "type": "scattergeo"
           }
          ],
          "scattergl": [
           {
            "marker": {
             "colorbar": {
              "outlinewidth": 0,
              "ticks": ""
             }
            },
            "type": "scattergl"
           }
          ],
          "scattermapbox": [
           {
            "marker": {
             "colorbar": {
              "outlinewidth": 0,
              "ticks": ""
             }
            },
            "type": "scattermapbox"
           }
          ],
          "scatterpolar": [
           {
            "marker": {
             "colorbar": {
              "outlinewidth": 0,
              "ticks": ""
             }
            },
            "type": "scatterpolar"
           }
          ],
          "scatterpolargl": [
           {
            "marker": {
             "colorbar": {
              "outlinewidth": 0,
              "ticks": ""
             }
            },
            "type": "scatterpolargl"
           }
          ],
          "scatterternary": [
           {
            "marker": {
             "colorbar": {
              "outlinewidth": 0,
              "ticks": ""
             }
            },
            "type": "scatterternary"
           }
          ],
          "surface": [
           {
            "colorbar": {
             "outlinewidth": 0,
             "ticks": ""
            },
            "colorscale": [
             [
              0,
              "#0d0887"
             ],
             [
              0.1111111111111111,
              "#46039f"
             ],
             [
              0.2222222222222222,
              "#7201a8"
             ],
             [
              0.3333333333333333,
              "#9c179e"
             ],
             [
              0.4444444444444444,
              "#bd3786"
             ],
             [
              0.5555555555555556,
              "#d8576b"
             ],
             [
              0.6666666666666666,
              "#ed7953"
             ],
             [
              0.7777777777777778,
              "#fb9f3a"
             ],
             [
              0.8888888888888888,
              "#fdca26"
             ],
             [
              1,
              "#f0f921"
             ]
            ],
            "type": "surface"
           }
          ],
          "table": [
           {
            "cells": {
             "fill": {
              "color": "#EBF0F8"
             },
             "line": {
              "color": "white"
             }
            },
            "header": {
             "fill": {
              "color": "#C8D4E3"
             },
             "line": {
              "color": "white"
             }
            },
            "type": "table"
           }
          ]
         },
         "layout": {
          "annotationdefaults": {
           "arrowcolor": "#2a3f5f",
           "arrowhead": 0,
           "arrowwidth": 1
          },
          "autotypenumbers": "strict",
          "coloraxis": {
           "colorbar": {
            "outlinewidth": 0,
            "ticks": ""
           }
          },
          "colorscale": {
           "diverging": [
            [
             0,
             "#8e0152"
            ],
            [
             0.1,
             "#c51b7d"
            ],
            [
             0.2,
             "#de77ae"
            ],
            [
             0.3,
             "#f1b6da"
            ],
            [
             0.4,
             "#fde0ef"
            ],
            [
             0.5,
             "#f7f7f7"
            ],
            [
             0.6,
             "#e6f5d0"
            ],
            [
             0.7,
             "#b8e186"
            ],
            [
             0.8,
             "#7fbc41"
            ],
            [
             0.9,
             "#4d9221"
            ],
            [
             1,
             "#276419"
            ]
           ],
           "sequential": [
            [
             0,
             "#0d0887"
            ],
            [
             0.1111111111111111,
             "#46039f"
            ],
            [
             0.2222222222222222,
             "#7201a8"
            ],
            [
             0.3333333333333333,
             "#9c179e"
            ],
            [
             0.4444444444444444,
             "#bd3786"
            ],
            [
             0.5555555555555556,
             "#d8576b"
            ],
            [
             0.6666666666666666,
             "#ed7953"
            ],
            [
             0.7777777777777778,
             "#fb9f3a"
            ],
            [
             0.8888888888888888,
             "#fdca26"
            ],
            [
             1,
             "#f0f921"
            ]
           ],
           "sequentialminus": [
            [
             0,
             "#0d0887"
            ],
            [
             0.1111111111111111,
             "#46039f"
            ],
            [
             0.2222222222222222,
             "#7201a8"
            ],
            [
             0.3333333333333333,
             "#9c179e"
            ],
            [
             0.4444444444444444,
             "#bd3786"
            ],
            [
             0.5555555555555556,
             "#d8576b"
            ],
            [
             0.6666666666666666,
             "#ed7953"
            ],
            [
             0.7777777777777778,
             "#fb9f3a"
            ],
            [
             0.8888888888888888,
             "#fdca26"
            ],
            [
             1,
             "#f0f921"
            ]
           ]
          },
          "colorway": [
           "#636efa",
           "#EF553B",
           "#00cc96",
           "#ab63fa",
           "#FFA15A",
           "#19d3f3",
           "#FF6692",
           "#B6E880",
           "#FF97FF",
           "#FECB52"
          ],
          "font": {
           "color": "#2a3f5f"
          },
          "geo": {
           "bgcolor": "white",
           "lakecolor": "white",
           "landcolor": "#E5ECF6",
           "showlakes": true,
           "showland": true,
           "subunitcolor": "white"
          },
          "hoverlabel": {
           "align": "left"
          },
          "hovermode": "closest",
          "mapbox": {
           "style": "light"
          },
          "paper_bgcolor": "white",
          "plot_bgcolor": "#E5ECF6",
          "polar": {
           "angularaxis": {
            "gridcolor": "white",
            "linecolor": "white",
            "ticks": ""
           },
           "bgcolor": "#E5ECF6",
           "radialaxis": {
            "gridcolor": "white",
            "linecolor": "white",
            "ticks": ""
           }
          },
          "scene": {
           "xaxis": {
            "backgroundcolor": "#E5ECF6",
            "gridcolor": "white",
            "gridwidth": 2,
            "linecolor": "white",
            "showbackground": true,
            "ticks": "",
            "zerolinecolor": "white"
           },
           "yaxis": {
            "backgroundcolor": "#E5ECF6",
            "gridcolor": "white",
            "gridwidth": 2,
            "linecolor": "white",
            "showbackground": true,
            "ticks": "",
            "zerolinecolor": "white"
           },
           "zaxis": {
            "backgroundcolor": "#E5ECF6",
            "gridcolor": "white",
            "gridwidth": 2,
            "linecolor": "white",
            "showbackground": true,
            "ticks": "",
            "zerolinecolor": "white"
           }
          },
          "shapedefaults": {
           "line": {
            "color": "#2a3f5f"
           }
          },
          "ternary": {
           "aaxis": {
            "gridcolor": "white",
            "linecolor": "white",
            "ticks": ""
           },
           "baxis": {
            "gridcolor": "white",
            "linecolor": "white",
            "ticks": ""
           },
           "bgcolor": "#E5ECF6",
           "caxis": {
            "gridcolor": "white",
            "linecolor": "white",
            "ticks": ""
           }
          },
          "title": {
           "x": 0.05
          },
          "xaxis": {
           "automargin": true,
           "gridcolor": "white",
           "linecolor": "white",
           "ticks": "",
           "title": {
            "standoff": 15
           },
           "zerolinecolor": "white",
           "zerolinewidth": 2
          },
          "yaxis": {
           "automargin": true,
           "gridcolor": "white",
           "linecolor": "white",
           "ticks": "",
           "title": {
            "standoff": 15
           },
           "zerolinecolor": "white",
           "zerolinewidth": 2
          }
         }
        },
        "title": {
         "text": "Attribution score for attention heads (TransformerLens)"
        },
        "width": 500,
        "xaxis": {
         "anchor": "y",
         "constrain": "domain",
         "domain": [
          0,
          1
         ],
         "scaleanchor": "y",
         "title": {
          "text": "Head"
         }
        },
        "yaxis": {
         "anchor": "x",
         "autorange": "reversed",
         "constrain": "domain",
         "domain": [
          0,
          1
         ],
         "title": {
          "text": "Layer"
         }
        }
       }
      },
      "text/html": [
       "<div>                            <div id=\"f1adba94-49a2-4871-9634-d8e19bdb7564\" class=\"plotly-graph-div\" style=\"height:500px; width:500px;\"></div>            <script type=\"text/javascript\">                require([\"plotly\"], function(Plotly) {                    window.PLOTLYENV=window.PLOTLYENV || {};                                    if (document.getElementById(\"f1adba94-49a2-4871-9634-d8e19bdb7564\")) {                    Plotly.newPlot(                        \"f1adba94-49a2-4871-9634-d8e19bdb7564\",                        [{\"coloraxis\":\"coloraxis\",\"name\":\"0\",\"z\":[[-0.02803538367152214,0.19596265256404877,-0.02891158126294613,0.07469576597213745,-0.003975782543420792,0.08112061768770218,0.03904760256409645,0.017040414735674858,-0.006315793842077255,0.01210614200681448,-0.03235510736703873,0.002916898811236024],[0.03229736164212227,0.008749008178710938,-0.005387287121266127,-0.011861219070851803,-0.025328587740659714,-0.03544389829039574,-0.0014212226960808039,-0.007545852568000555,-0.003046379191800952,-0.002113390015438199,0.005985479336231947,0.0010577774373814464],[0.009288416244089603,0.04752098023891449,-0.005962037947028875,0.0012646865798160434,-0.018042640760540962,0.005324812140315771,0.010295944288372993,-0.010856151580810547,0.006745681632310152,-0.040177106857299805,0.0027689647395163774,-0.0012824058067053556],[0.05011235177516937,0.009540452621877193,0.016752853989601135,0.04765952005982399,0.005333080422133207,0.010754556395113468,-4.261970389052294e-05,0.008566017262637615,-0.004418821539729834,0.010533695109188557,-0.03234075382351875,-0.0020672224927693605],[0.010673237033188343,0.006728143896907568,0.003161258762702346,-0.00045279503683559597,-0.043099433183670044,-0.00916613545268774,-0.0028529453556984663,-0.10115025192499161,0.0024429322220385075,0.00422605499625206,0.009276380762457848,0.12055382877588272],[-0.0027539825532585382,0.0015783882699906826,-0.02513517439365387,0.0039214324206113815,0.017618998885154724,0.01016697846353054,0.4142155349254608,0.007475586142390966,-0.015119647607207298,-0.024353522807359695,0.059458982199430466,-0.03190360963344574],[-0.0020424651447683573,0.010944060981273651,0.002945070154964924,0.0025565719697624445,-0.016150664538145065,-0.001168804126791656,-0.024793587625026703,-0.018828516826033592,0.0024440002162009478,0.03790204972028732,0.0011170387733727694,-0.0007227992755360901],[0.04159034788608551,-0.0017693900736048818,0.039047032594680786,-0.004222078248858452,0.000978708267211914,-0.016145382076501846,-0.00420487392693758,-0.00013387680519372225,-0.006511421408504248,-0.017980584874749184,-0.0030527114868164062,-0.0035628413315862417],[0.0012495326809585094,0.012106933631002903,-0.002003259724006057,-0.058789435774087906,0.0010227012680843472,-0.0003179741033818573,-0.008897733874619007,-0.0018072605598717928,-0.0012969112722203135,-0.006788425613194704,-0.05680566653609276,-1.5499372482299805],[0.006120033096522093,0.0030279350467026234,-0.008821172639727592,-0.021125154569745064,0.0013704490847885609,0.013470334932208061,-0.0053527639247477055,-0.0012304496485739946,-0.009591999463737011,0.27616986632347107,-0.0019778823480010033,0.0015853500226512551],[0.02398819848895073,0.033725835382938385,0.0015305805718526244,-0.0060742758214473724,-0.0057430933229625225,-0.0009032631060108542,0.03774628788232803,0.1011875793337822,0.0014911937760189176,-0.0001986694405786693,-1.2793903350830078,0.002660722704604268],[0.0073183439671993256,0.007365207653492689,0.0015833282377570868,-0.008056249469518661,-0.03397047892212868,0.007533369120210409,-0.06837017834186554,0.0035960578825324774,-0.011411257088184357,-0.003912210464477539,0.21820922195911407,-0.05026274546980858]],\"type\":\"heatmap\",\"xaxis\":\"x\",\"yaxis\":\"y\",\"hovertemplate\":\"Head: %{x}\\u003cbr\\u003eLayer: %{y}\\u003cbr\\u003ecolor: %{z}\\u003cextra\\u003e\\u003c\\u002fextra\\u003e\"}],                        {\"template\":{\"data\":{\"histogram2dcontour\":[{\"type\":\"histogram2dcontour\",\"colorbar\":{\"outlinewidth\":0,\"ticks\":\"\"},\"colorscale\":[[0.0,\"#0d0887\"],[0.1111111111111111,\"#46039f\"],[0.2222222222222222,\"#7201a8\"],[0.3333333333333333,\"#9c179e\"],[0.4444444444444444,\"#bd3786\"],[0.5555555555555556,\"#d8576b\"],[0.6666666666666666,\"#ed7953\"],[0.7777777777777778,\"#fb9f3a\"],[0.8888888888888888,\"#fdca26\"],[1.0,\"#f0f921\"]]}],\"choropleth\":[{\"type\":\"choropleth\",\"colorbar\":{\"outlinewidth\":0,\"ticks\":\"\"}}],\"histogram2d\":[{\"type\":\"histogram2d\",\"colorbar\":{\"outlinewidth\":0,\"ticks\":\"\"},\"colorscale\":[[0.0,\"#0d0887\"],[0.1111111111111111,\"#46039f\"],[0.2222222222222222,\"#7201a8\"],[0.3333333333333333,\"#9c179e\"],[0.4444444444444444,\"#bd3786\"],[0.5555555555555556,\"#d8576b\"],[0.6666666666666666,\"#ed7953\"],[0.7777777777777778,\"#fb9f3a\"],[0.8888888888888888,\"#fdca26\"],[1.0,\"#f0f921\"]]}],\"heatmap\":[{\"type\":\"heatmap\",\"colorbar\":{\"outlinewidth\":0,\"ticks\":\"\"},\"colorscale\":[[0.0,\"#0d0887\"],[0.1111111111111111,\"#46039f\"],[0.2222222222222222,\"#7201a8\"],[0.3333333333333333,\"#9c179e\"],[0.4444444444444444,\"#bd3786\"],[0.5555555555555556,\"#d8576b\"],[0.6666666666666666,\"#ed7953\"],[0.7777777777777778,\"#fb9f3a\"],[0.8888888888888888,\"#fdca26\"],[1.0,\"#f0f921\"]]}],\"heatmapgl\":[{\"type\":\"heatmapgl\",\"colorbar\":{\"outlinewidth\":0,\"ticks\":\"\"},\"colorscale\":[[0.0,\"#0d0887\"],[0.1111111111111111,\"#46039f\"],[0.2222222222222222,\"#7201a8\"],[0.3333333333333333,\"#9c179e\"],[0.4444444444444444,\"#bd3786\"],[0.5555555555555556,\"#d8576b\"],[0.6666666666666666,\"#ed7953\"],[0.7777777777777778,\"#fb9f3a\"],[0.8888888888888888,\"#fdca26\"],[1.0,\"#f0f921\"]]}],\"contourcarpet\":[{\"type\":\"contourcarpet\",\"colorbar\":{\"outlinewidth\":0,\"ticks\":\"\"}}],\"contour\":[{\"type\":\"contour\",\"colorbar\":{\"outlinewidth\":0,\"ticks\":\"\"},\"colorscale\":[[0.0,\"#0d0887\"],[0.1111111111111111,\"#46039f\"],[0.2222222222222222,\"#7201a8\"],[0.3333333333333333,\"#9c179e\"],[0.4444444444444444,\"#bd3786\"],[0.5555555555555556,\"#d8576b\"],[0.6666666666666666,\"#ed7953\"],[0.7777777777777778,\"#fb9f3a\"],[0.8888888888888888,\"#fdca26\"],[1.0,\"#f0f921\"]]}],\"surface\":[{\"type\":\"surface\",\"colorbar\":{\"outlinewidth\":0,\"ticks\":\"\"},\"colorscale\":[[0.0,\"#0d0887\"],[0.1111111111111111,\"#46039f\"],[0.2222222222222222,\"#7201a8\"],[0.3333333333333333,\"#9c179e\"],[0.4444444444444444,\"#bd3786\"],[0.5555555555555556,\"#d8576b\"],[0.6666666666666666,\"#ed7953\"],[0.7777777777777778,\"#fb9f3a\"],[0.8888888888888888,\"#fdca26\"],[1.0,\"#f0f921\"]]}],\"mesh3d\":[{\"type\":\"mesh3d\",\"colorbar\":{\"outlinewidth\":0,\"ticks\":\"\"}}],\"scatter\":[{\"fillpattern\":{\"fillmode\":\"overlay\",\"size\":10,\"solidity\":0.2},\"type\":\"scatter\"}],\"parcoords\":[{\"type\":\"parcoords\",\"line\":{\"colorbar\":{\"outlinewidth\":0,\"ticks\":\"\"}}}],\"scatterpolargl\":[{\"type\":\"scatterpolargl\",\"marker\":{\"colorbar\":{\"outlinewidth\":0,\"ticks\":\"\"}}}],\"bar\":[{\"error_x\":{\"color\":\"#2a3f5f\"},\"error_y\":{\"color\":\"#2a3f5f\"},\"marker\":{\"line\":{\"color\":\"#E5ECF6\",\"width\":0.5},\"pattern\":{\"fillmode\":\"overlay\",\"size\":10,\"solidity\":0.2}},\"type\":\"bar\"}],\"scattergeo\":[{\"type\":\"scattergeo\",\"marker\":{\"colorbar\":{\"outlinewidth\":0,\"ticks\":\"\"}}}],\"scatterpolar\":[{\"type\":\"scatterpolar\",\"marker\":{\"colorbar\":{\"outlinewidth\":0,\"ticks\":\"\"}}}],\"histogram\":[{\"marker\":{\"pattern\":{\"fillmode\":\"overlay\",\"size\":10,\"solidity\":0.2}},\"type\":\"histogram\"}],\"scattergl\":[{\"type\":\"scattergl\",\"marker\":{\"colorbar\":{\"outlinewidth\":0,\"ticks\":\"\"}}}],\"scatter3d\":[{\"type\":\"scatter3d\",\"line\":{\"colorbar\":{\"outlinewidth\":0,\"ticks\":\"\"}},\"marker\":{\"colorbar\":{\"outlinewidth\":0,\"ticks\":\"\"}}}],\"scattermapbox\":[{\"type\":\"scattermapbox\",\"marker\":{\"colorbar\":{\"outlinewidth\":0,\"ticks\":\"\"}}}],\"scatterternary\":[{\"type\":\"scatterternary\",\"marker\":{\"colorbar\":{\"outlinewidth\":0,\"ticks\":\"\"}}}],\"scattercarpet\":[{\"type\":\"scattercarpet\",\"marker\":{\"colorbar\":{\"outlinewidth\":0,\"ticks\":\"\"}}}],\"carpet\":[{\"aaxis\":{\"endlinecolor\":\"#2a3f5f\",\"gridcolor\":\"white\",\"linecolor\":\"white\",\"minorgridcolor\":\"white\",\"startlinecolor\":\"#2a3f5f\"},\"baxis\":{\"endlinecolor\":\"#2a3f5f\",\"gridcolor\":\"white\",\"linecolor\":\"white\",\"minorgridcolor\":\"white\",\"startlinecolor\":\"#2a3f5f\"},\"type\":\"carpet\"}],\"table\":[{\"cells\":{\"fill\":{\"color\":\"#EBF0F8\"},\"line\":{\"color\":\"white\"}},\"header\":{\"fill\":{\"color\":\"#C8D4E3\"},\"line\":{\"color\":\"white\"}},\"type\":\"table\"}],\"barpolar\":[{\"marker\":{\"line\":{\"color\":\"#E5ECF6\",\"width\":0.5},\"pattern\":{\"fillmode\":\"overlay\",\"size\":10,\"solidity\":0.2}},\"type\":\"barpolar\"}],\"pie\":[{\"automargin\":true,\"type\":\"pie\"}]},\"layout\":{\"autotypenumbers\":\"strict\",\"colorway\":[\"#636efa\",\"#EF553B\",\"#00cc96\",\"#ab63fa\",\"#FFA15A\",\"#19d3f3\",\"#FF6692\",\"#B6E880\",\"#FF97FF\",\"#FECB52\"],\"font\":{\"color\":\"#2a3f5f\"},\"hovermode\":\"closest\",\"hoverlabel\":{\"align\":\"left\"},\"paper_bgcolor\":\"white\",\"plot_bgcolor\":\"#E5ECF6\",\"polar\":{\"bgcolor\":\"#E5ECF6\",\"angularaxis\":{\"gridcolor\":\"white\",\"linecolor\":\"white\",\"ticks\":\"\"},\"radialaxis\":{\"gridcolor\":\"white\",\"linecolor\":\"white\",\"ticks\":\"\"}},\"ternary\":{\"bgcolor\":\"#E5ECF6\",\"aaxis\":{\"gridcolor\":\"white\",\"linecolor\":\"white\",\"ticks\":\"\"},\"baxis\":{\"gridcolor\":\"white\",\"linecolor\":\"white\",\"ticks\":\"\"},\"caxis\":{\"gridcolor\":\"white\",\"linecolor\":\"white\",\"ticks\":\"\"}},\"coloraxis\":{\"colorbar\":{\"outlinewidth\":0,\"ticks\":\"\"}},\"colorscale\":{\"sequential\":[[0.0,\"#0d0887\"],[0.1111111111111111,\"#46039f\"],[0.2222222222222222,\"#7201a8\"],[0.3333333333333333,\"#9c179e\"],[0.4444444444444444,\"#bd3786\"],[0.5555555555555556,\"#d8576b\"],[0.6666666666666666,\"#ed7953\"],[0.7777777777777778,\"#fb9f3a\"],[0.8888888888888888,\"#fdca26\"],[1.0,\"#f0f921\"]],\"sequentialminus\":[[0.0,\"#0d0887\"],[0.1111111111111111,\"#46039f\"],[0.2222222222222222,\"#7201a8\"],[0.3333333333333333,\"#9c179e\"],[0.4444444444444444,\"#bd3786\"],[0.5555555555555556,\"#d8576b\"],[0.6666666666666666,\"#ed7953\"],[0.7777777777777778,\"#fb9f3a\"],[0.8888888888888888,\"#fdca26\"],[1.0,\"#f0f921\"]],\"diverging\":[[0,\"#8e0152\"],[0.1,\"#c51b7d\"],[0.2,\"#de77ae\"],[0.3,\"#f1b6da\"],[0.4,\"#fde0ef\"],[0.5,\"#f7f7f7\"],[0.6,\"#e6f5d0\"],[0.7,\"#b8e186\"],[0.8,\"#7fbc41\"],[0.9,\"#4d9221\"],[1,\"#276419\"]]},\"xaxis\":{\"gridcolor\":\"white\",\"linecolor\":\"white\",\"ticks\":\"\",\"title\":{\"standoff\":15},\"zerolinecolor\":\"white\",\"automargin\":true,\"zerolinewidth\":2},\"yaxis\":{\"gridcolor\":\"white\",\"linecolor\":\"white\",\"ticks\":\"\",\"title\":{\"standoff\":15},\"zerolinecolor\":\"white\",\"automargin\":true,\"zerolinewidth\":2},\"scene\":{\"xaxis\":{\"backgroundcolor\":\"#E5ECF6\",\"gridcolor\":\"white\",\"linecolor\":\"white\",\"showbackground\":true,\"ticks\":\"\",\"zerolinecolor\":\"white\",\"gridwidth\":2},\"yaxis\":{\"backgroundcolor\":\"#E5ECF6\",\"gridcolor\":\"white\",\"linecolor\":\"white\",\"showbackground\":true,\"ticks\":\"\",\"zerolinecolor\":\"white\",\"gridwidth\":2},\"zaxis\":{\"backgroundcolor\":\"#E5ECF6\",\"gridcolor\":\"white\",\"linecolor\":\"white\",\"showbackground\":true,\"ticks\":\"\",\"zerolinecolor\":\"white\",\"gridwidth\":2}},\"shapedefaults\":{\"line\":{\"color\":\"#2a3f5f\"}},\"annotationdefaults\":{\"arrowcolor\":\"#2a3f5f\",\"arrowhead\":0,\"arrowwidth\":1},\"geo\":{\"bgcolor\":\"white\",\"landcolor\":\"#E5ECF6\",\"subunitcolor\":\"white\",\"showland\":true,\"showlakes\":true,\"lakecolor\":\"white\"},\"title\":{\"x\":0.05},\"mapbox\":{\"style\":\"light\"}}},\"xaxis\":{\"anchor\":\"y\",\"domain\":[0.0,1.0],\"scaleanchor\":\"y\",\"constrain\":\"domain\",\"title\":{\"text\":\"Head\"}},\"yaxis\":{\"anchor\":\"x\",\"domain\":[0.0,1.0],\"autorange\":\"reversed\",\"constrain\":\"domain\",\"title\":{\"text\":\"Layer\"}},\"coloraxis\":{\"colorscale\":[[0.0,\"rgb(103,0,31)\"],[0.1,\"rgb(178,24,43)\"],[0.2,\"rgb(214,96,77)\"],[0.3,\"rgb(244,165,130)\"],[0.4,\"rgb(253,219,199)\"],[0.5,\"rgb(247,247,247)\"],[0.6,\"rgb(209,229,240)\"],[0.7,\"rgb(146,197,222)\"],[0.8,\"rgb(67,147,195)\"],[0.9,\"rgb(33,102,172)\"],[1.0,\"rgb(5,48,97)\"]],\"cmid\":0.0},\"title\":{\"text\":\"Attribution score for attention heads (TransformerLens)\"},\"height\":500,\"width\":500},                        {\"responsive\": true}                    ).then(function(){\n",
       "                            \n",
       "var gd = document.getElementById('f1adba94-49a2-4871-9634-d8e19bdb7564');\n",
       "var x = new MutationObserver(function (mutations, observer) {{\n",
       "        var display = window.getComputedStyle(gd).display;\n",
       "        if (!display || display === 'none') {{\n",
       "            console.log([gd, 'removed!']);\n",
       "            Plotly.purge(gd);\n",
       "            observer.disconnect();\n",
       "        }}\n",
       "}});\n",
       "\n",
       "// Listen for the removal of the full notebook cells\n",
       "var notebookContainer = gd.closest('#notebook-container');\n",
       "if (notebookContainer) {{\n",
       "    x.observe(notebookContainer, {childList: true});\n",
       "}}\n",
       "\n",
       "// Listen for the clearing of the current output cell\n",
       "var outputEl = gd.closest('.output');\n",
       "if (outputEl) {{\n",
       "    x.observe(outputEl, {childList: true});\n",
       "}}\n",
       "\n",
       "                        })                };                });            </script>        </div>"
      ]
     },
     "metadata": {},
     "output_type": "display_data"
    }
   ],
   "source": [
    "px.imshow(attribution_score_tl.detach().numpy(), title=\"Attribution score for attention heads (TransformerLens)\", labels={\"x\": \"Head\", \"y\": \"Layer\"}, width=500, height=500, color_continuous_midpoint=0.0, color_continuous_scale=\"RdBu\")"
   ]
  },
  {
   "cell_type": "code",
   "execution_count": 43,
   "metadata": {},
   "outputs": [],
   "source": [
    "cache_v = torch.zeros((model_hf.config.n_layer, model_hf.config.n_head, 11, 64))"
   ]
  },
  {
   "cell_type": "code",
   "execution_count": 44,
   "metadata": {},
   "outputs": [],
   "source": [
    "def get_cache_v(module: nn.Module, input, output, layer_idx: int, head_idx: int):\n",
    "    \"\"\"\n",
    "    Performs mean ablation on head_idx\n",
    "    This function is expected as a hook for the c_attn method of GPT2Attention.\n",
    "\n",
    "    module -> c_proj module inside `GPT2Attention`\n",
    "    output -> tensor of shape (batch_size, seq_len, 3*d_model)\n",
    "    \"\"\"\n",
    "    d_head = int(model_hf.config.n_embd / model_hf.config.n_head)\n",
    "    v_avg = output[:, :, 2*model_hf.config.n_embd + head_idx * d_head:2*model_hf.config.n_embd + (head_idx + 1) * d_head].mean(0)\n",
    "    cache_v[layer_idx, head_idx] = v_avg.detach().clone()"
   ]
  },
  {
   "cell_type": "code",
   "execution_count": 45,
   "metadata": {},
   "outputs": [
    {
     "name": "stderr",
     "output_type": "stream",
     "text": [
      "100%|██████████| 144/144 [00:00<00:00, 193.74it/s]\n"
     ]
    }
   ],
   "source": [
    "with torch.no_grad():\n",
    "    for layer, head in tqdm(list(product(range(model_hf.config.n_layer), range(model_hf.config.n_head)))):\n",
    "        hook = model_hf.transformer.h[layer].attn.c_attn.register_forward_hook(partial(get_cache_v, layer_idx=layer, head_idx=head))\n",
    "        corrupted_logits = model_hf(tokens_hf)[\"logits\"]\n",
    "        hook.remove()"
   ]
  },
  {
   "cell_type": "code",
   "execution_count": 46,
   "metadata": {},
   "outputs": [],
   "source": [
    "def mean_ablate_head_hf(module: nn.Module, input, output, layer_idx: int, head_idx: int, cache_v):\n",
    "    \"\"\"\n",
    "    Performs mean ablation on head_idx\n",
    "    This function is expected as a hook for the c_attn method of GPT2Attention.\n",
    "\n",
    "    module -> c_proj module inside `GPT2Attention`\n",
    "    output -> tensor of shape (batch_size, seq_len, 3*d_model)\n",
    "    \"\"\"\n",
    "    d_head = int(model_hf.config.n_embd / model_hf.config.n_head)\n",
    "    output[:, :, 2*model_hf.config.n_embd + head_idx * d_head:2*model_hf.config.n_embd + (head_idx + 1) * d_head] = \\\n",
    "        cache_v[layer_idx, head_idx][None, ...]\n",
    "    return output\n",
    "    "
   ]
  },
  {
   "cell_type": "code",
   "execution_count": 47,
   "metadata": {},
   "outputs": [
    {
     "name": "stderr",
     "output_type": "stream",
     "text": [
      "100%|██████████| 144/144 [00:00<00:00, 185.42it/s]\n"
     ]
    }
   ],
   "source": [
    "corrupted_logit_diffs = torch.zeros((model_hf.config.n_layer, model_hf.config.n_head, n_samples))\n",
    "with torch.no_grad():\n",
    "    for layer, head in tqdm(list(product(range(model_hf.config.n_layer), range(model_hf.config.n_head)))):\n",
    "        hook = model_hf.transformer.h[layer].attn.c_attn.register_forward_hook(partial(mean_ablate_head_hf, layer_idx=layer, head_idx=head, cache_v=cache_v))\n",
    "        corrupted_logits = model_hf(tokens_hf)[\"logits\"]\n",
    "        hook.remove()\n",
    "        corrupted_logit_diff = compute_logit_diff(corrupted_logits.cuda(), answer_tokens, average=False)\n",
    "        corrupted_logit_diffs[layer, head] = corrupted_logit_diff[..., -1] # take last letter\n",
    "\n",
    "attribution_score_hf = (corrupted_logit_diffs - logit_diff_hf.cpu()).mean(-1)"
   ]
  },
  {
   "cell_type": "code",
   "execution_count": 48,
   "metadata": {},
   "outputs": [
    {
     "data": {
      "application/vnd.plotly.v1+json": {
       "config": {
        "plotlyServerURL": "https://plot.ly"
       },
       "data": [
        {
         "coloraxis": "coloraxis",
         "hovertemplate": "Head: %{x}<br>Layer: %{y}<br>color: %{z}<extra></extra>",
         "name": "0",
         "type": "heatmap",
         "xaxis": "x",
         "yaxis": "y",
         "z": [
          [
           -0.02803497388958931,
           0.19596324861049652,
           -0.02891312539577484,
           0.07469961792230606,
           -0.003974790684878826,
           0.08112254738807678,
           0.039049919694662094,
           0.017041319981217384,
           -0.0063107870519161224,
           0.012106838636100292,
           -0.03235448896884918,
           0.0029206466861069202
          ],
          [
           0.03229762241244316,
           0.00875185988843441,
           -0.00538884149864316,
           -0.011862077750265598,
           -0.025326985865831375,
           -0.035439394414424896,
           -0.0014202690217643976,
           -0.007546472363173962,
           -0.003045187098905444,
           -0.002111091511324048,
           0.005987158045172691,
           0.00106048583984375
          ],
          [
           0.009292487986385822,
           0.047523241490125656,
           -0.005959911271929741,
           0.0012687587877735496,
           -0.018040113151073456,
           0.005323753226548433,
           0.010298872366547585,
           -0.01085506472736597,
           0.006748456973582506,
           -0.04017570614814758,
           0.0027677249163389206,
           -0.0012773990165442228
          ],
          [
           0.05011637508869171,
           0.009541225619614124,
           0.016756610944867134,
           0.04765867069363594,
           0.005336218047887087,
           0.010754747316241264,
           -0.00004481315772864036,
           0.00856795348227024,
           -0.004415588453412056,
           0.01053870189934969,
           -0.032338667660951614,
           -0.0020646380726248026
          ],
          [
           0.010674562305212021,
           0.006730327382683754,
           0.0031644152477383614,
           -0.0004492092120926827,
           -0.04310017451643944,
           -0.009164695627987385,
           -0.002854041988030076,
           -0.101143017411232,
           0.0024469089694321156,
           0.0042294692248106,
           0.009276828728616238,
           0.12055531144142151
          ],
          [
           -0.0027530957013368607,
           0.001578321447595954,
           -0.025133399292826653,
           0.003923358861356974,
           0.01762201264500618,
           0.010167627595365047,
           0.41421905159950256,
           0.007478542160242796,
           -0.015117006376385689,
           -0.02435176819562912,
           0.05946088954806328,
           -0.03190179914236069
          ],
          [
           -0.0020401859655976295,
           0.01094486191868782,
           0.0029458426870405674,
           0.0025582981761544943,
           -0.01614600233733654,
           -0.0011669349623844028,
           -0.02479172684252262,
           -0.018824424594640732,
           0.002446088707074523,
           0.03790108859539032,
           0.001117172185331583,
           -0.0007188606541603804
          ],
          [
           0.041591349989175797,
           -0.0017677020514383912,
           0.03904559090733528,
           -0.0042221262119710445,
           0.0009814643999561667,
           -0.016141338273882866,
           -0.0042036245577037334,
           -0.00013196945656090975,
           -0.006510791834443808,
           -0.017981767654418945,
           -0.0030514239333570004,
           -0.003562316996976733
          ],
          [
           0.001250038156285882,
           0.012106018140912056,
           -0.002004070207476616,
           -0.058792438358068466,
           0.0010259055998176336,
           -0.0003181362117175013,
           -0.008896141313016415,
           -0.001807680120691657,
           -0.0012972450349479914,
           -0.006787385791540146,
           -0.05680529773235321,
           -1.5499392747879028
          ],
          [
           0.006120910868048668,
           0.0030271911527961493,
           -0.00882366206496954,
           -0.02112429589033127,
           0.0013703155564144254,
           0.013470334932208061,
           -0.005348634906113148,
           -0.0012303161201998591,
           -0.009593229740858078,
           0.27616941928863525,
           -0.0019758702255785465,
           0.001587448175996542
          ],
          [
           0.02399112656712532,
           0.033723946660757065,
           0.0015328407753258944,
           -0.006073351018130779,
           -0.005746040493249893,
           -0.0009045887272804976,
           0.03774676471948624,
           0.10118915885686874,
           0.00149170879740268,
           -0.00019720077398233116,
           -1.279389500617981,
           0.0026626777835190296
          ],
          [
           0.007316694129258394,
           0.007364797405898571,
           0.0015817070379853249,
           -0.00805645901709795,
           -0.033971041440963745,
           0.007533817086368799,
           -0.06836806982755661,
           0.003596467897295952,
           -0.011410703882575035,
           -0.0039109899662435055,
           0.21820762753486633,
           -0.05026135593652725
          ]
         ]
        }
       ],
       "layout": {
        "coloraxis": {
         "cmid": 0,
         "colorscale": [
          [
           0,
           "rgb(103,0,31)"
          ],
          [
           0.1,
           "rgb(178,24,43)"
          ],
          [
           0.2,
           "rgb(214,96,77)"
          ],
          [
           0.3,
           "rgb(244,165,130)"
          ],
          [
           0.4,
           "rgb(253,219,199)"
          ],
          [
           0.5,
           "rgb(247,247,247)"
          ],
          [
           0.6,
           "rgb(209,229,240)"
          ],
          [
           0.7,
           "rgb(146,197,222)"
          ],
          [
           0.8,
           "rgb(67,147,195)"
          ],
          [
           0.9,
           "rgb(33,102,172)"
          ],
          [
           1,
           "rgb(5,48,97)"
          ]
         ]
        },
        "height": 500,
        "template": {
         "data": {
          "bar": [
           {
            "error_x": {
             "color": "#2a3f5f"
            },
            "error_y": {
             "color": "#2a3f5f"
            },
            "marker": {
             "line": {
              "color": "#E5ECF6",
              "width": 0.5
             },
             "pattern": {
              "fillmode": "overlay",
              "size": 10,
              "solidity": 0.2
             }
            },
            "type": "bar"
           }
          ],
          "barpolar": [
           {
            "marker": {
             "line": {
              "color": "#E5ECF6",
              "width": 0.5
             },
             "pattern": {
              "fillmode": "overlay",
              "size": 10,
              "solidity": 0.2
             }
            },
            "type": "barpolar"
           }
          ],
          "carpet": [
           {
            "aaxis": {
             "endlinecolor": "#2a3f5f",
             "gridcolor": "white",
             "linecolor": "white",
             "minorgridcolor": "white",
             "startlinecolor": "#2a3f5f"
            },
            "baxis": {
             "endlinecolor": "#2a3f5f",
             "gridcolor": "white",
             "linecolor": "white",
             "minorgridcolor": "white",
             "startlinecolor": "#2a3f5f"
            },
            "type": "carpet"
           }
          ],
          "choropleth": [
           {
            "colorbar": {
             "outlinewidth": 0,
             "ticks": ""
            },
            "type": "choropleth"
           }
          ],
          "contour": [
           {
            "colorbar": {
             "outlinewidth": 0,
             "ticks": ""
            },
            "colorscale": [
             [
              0,
              "#0d0887"
             ],
             [
              0.1111111111111111,
              "#46039f"
             ],
             [
              0.2222222222222222,
              "#7201a8"
             ],
             [
              0.3333333333333333,
              "#9c179e"
             ],
             [
              0.4444444444444444,
              "#bd3786"
             ],
             [
              0.5555555555555556,
              "#d8576b"
             ],
             [
              0.6666666666666666,
              "#ed7953"
             ],
             [
              0.7777777777777778,
              "#fb9f3a"
             ],
             [
              0.8888888888888888,
              "#fdca26"
             ],
             [
              1,
              "#f0f921"
             ]
            ],
            "type": "contour"
           }
          ],
          "contourcarpet": [
           {
            "colorbar": {
             "outlinewidth": 0,
             "ticks": ""
            },
            "type": "contourcarpet"
           }
          ],
          "heatmap": [
           {
            "colorbar": {
             "outlinewidth": 0,
             "ticks": ""
            },
            "colorscale": [
             [
              0,
              "#0d0887"
             ],
             [
              0.1111111111111111,
              "#46039f"
             ],
             [
              0.2222222222222222,
              "#7201a8"
             ],
             [
              0.3333333333333333,
              "#9c179e"
             ],
             [
              0.4444444444444444,
              "#bd3786"
             ],
             [
              0.5555555555555556,
              "#d8576b"
             ],
             [
              0.6666666666666666,
              "#ed7953"
             ],
             [
              0.7777777777777778,
              "#fb9f3a"
             ],
             [
              0.8888888888888888,
              "#fdca26"
             ],
             [
              1,
              "#f0f921"
             ]
            ],
            "type": "heatmap"
           }
          ],
          "heatmapgl": [
           {
            "colorbar": {
             "outlinewidth": 0,
             "ticks": ""
            },
            "colorscale": [
             [
              0,
              "#0d0887"
             ],
             [
              0.1111111111111111,
              "#46039f"
             ],
             [
              0.2222222222222222,
              "#7201a8"
             ],
             [
              0.3333333333333333,
              "#9c179e"
             ],
             [
              0.4444444444444444,
              "#bd3786"
             ],
             [
              0.5555555555555556,
              "#d8576b"
             ],
             [
              0.6666666666666666,
              "#ed7953"
             ],
             [
              0.7777777777777778,
              "#fb9f3a"
             ],
             [
              0.8888888888888888,
              "#fdca26"
             ],
             [
              1,
              "#f0f921"
             ]
            ],
            "type": "heatmapgl"
           }
          ],
          "histogram": [
           {
            "marker": {
             "pattern": {
              "fillmode": "overlay",
              "size": 10,
              "solidity": 0.2
             }
            },
            "type": "histogram"
           }
          ],
          "histogram2d": [
           {
            "colorbar": {
             "outlinewidth": 0,
             "ticks": ""
            },
            "colorscale": [
             [
              0,
              "#0d0887"
             ],
             [
              0.1111111111111111,
              "#46039f"
             ],
             [
              0.2222222222222222,
              "#7201a8"
             ],
             [
              0.3333333333333333,
              "#9c179e"
             ],
             [
              0.4444444444444444,
              "#bd3786"
             ],
             [
              0.5555555555555556,
              "#d8576b"
             ],
             [
              0.6666666666666666,
              "#ed7953"
             ],
             [
              0.7777777777777778,
              "#fb9f3a"
             ],
             [
              0.8888888888888888,
              "#fdca26"
             ],
             [
              1,
              "#f0f921"
             ]
            ],
            "type": "histogram2d"
           }
          ],
          "histogram2dcontour": [
           {
            "colorbar": {
             "outlinewidth": 0,
             "ticks": ""
            },
            "colorscale": [
             [
              0,
              "#0d0887"
             ],
             [
              0.1111111111111111,
              "#46039f"
             ],
             [
              0.2222222222222222,
              "#7201a8"
             ],
             [
              0.3333333333333333,
              "#9c179e"
             ],
             [
              0.4444444444444444,
              "#bd3786"
             ],
             [
              0.5555555555555556,
              "#d8576b"
             ],
             [
              0.6666666666666666,
              "#ed7953"
             ],
             [
              0.7777777777777778,
              "#fb9f3a"
             ],
             [
              0.8888888888888888,
              "#fdca26"
             ],
             [
              1,
              "#f0f921"
             ]
            ],
            "type": "histogram2dcontour"
           }
          ],
          "mesh3d": [
           {
            "colorbar": {
             "outlinewidth": 0,
             "ticks": ""
            },
            "type": "mesh3d"
           }
          ],
          "parcoords": [
           {
            "line": {
             "colorbar": {
              "outlinewidth": 0,
              "ticks": ""
             }
            },
            "type": "parcoords"
           }
          ],
          "pie": [
           {
            "automargin": true,
            "type": "pie"
           }
          ],
          "scatter": [
           {
            "fillpattern": {
             "fillmode": "overlay",
             "size": 10,
             "solidity": 0.2
            },
            "type": "scatter"
           }
          ],
          "scatter3d": [
           {
            "line": {
             "colorbar": {
              "outlinewidth": 0,
              "ticks": ""
             }
            },
            "marker": {
             "colorbar": {
              "outlinewidth": 0,
              "ticks": ""
             }
            },
            "type": "scatter3d"
           }
          ],
          "scattercarpet": [
           {
            "marker": {
             "colorbar": {
              "outlinewidth": 0,
              "ticks": ""
             }
            },
            "type": "scattercarpet"
           }
          ],
          "scattergeo": [
           {
            "marker": {
             "colorbar": {
              "outlinewidth": 0,
              "ticks": ""
             }
            },
            "type": "scattergeo"
           }
          ],
          "scattergl": [
           {
            "marker": {
             "colorbar": {
              "outlinewidth": 0,
              "ticks": ""
             }
            },
            "type": "scattergl"
           }
          ],
          "scattermapbox": [
           {
            "marker": {
             "colorbar": {
              "outlinewidth": 0,
              "ticks": ""
             }
            },
            "type": "scattermapbox"
           }
          ],
          "scatterpolar": [
           {
            "marker": {
             "colorbar": {
              "outlinewidth": 0,
              "ticks": ""
             }
            },
            "type": "scatterpolar"
           }
          ],
          "scatterpolargl": [
           {
            "marker": {
             "colorbar": {
              "outlinewidth": 0,
              "ticks": ""
             }
            },
            "type": "scatterpolargl"
           }
          ],
          "scatterternary": [
           {
            "marker": {
             "colorbar": {
              "outlinewidth": 0,
              "ticks": ""
             }
            },
            "type": "scatterternary"
           }
          ],
          "surface": [
           {
            "colorbar": {
             "outlinewidth": 0,
             "ticks": ""
            },
            "colorscale": [
             [
              0,
              "#0d0887"
             ],
             [
              0.1111111111111111,
              "#46039f"
             ],
             [
              0.2222222222222222,
              "#7201a8"
             ],
             [
              0.3333333333333333,
              "#9c179e"
             ],
             [
              0.4444444444444444,
              "#bd3786"
             ],
             [
              0.5555555555555556,
              "#d8576b"
             ],
             [
              0.6666666666666666,
              "#ed7953"
             ],
             [
              0.7777777777777778,
              "#fb9f3a"
             ],
             [
              0.8888888888888888,
              "#fdca26"
             ],
             [
              1,
              "#f0f921"
             ]
            ],
            "type": "surface"
           }
          ],
          "table": [
           {
            "cells": {
             "fill": {
              "color": "#EBF0F8"
             },
             "line": {
              "color": "white"
             }
            },
            "header": {
             "fill": {
              "color": "#C8D4E3"
             },
             "line": {
              "color": "white"
             }
            },
            "type": "table"
           }
          ]
         },
         "layout": {
          "annotationdefaults": {
           "arrowcolor": "#2a3f5f",
           "arrowhead": 0,
           "arrowwidth": 1
          },
          "autotypenumbers": "strict",
          "coloraxis": {
           "colorbar": {
            "outlinewidth": 0,
            "ticks": ""
           }
          },
          "colorscale": {
           "diverging": [
            [
             0,
             "#8e0152"
            ],
            [
             0.1,
             "#c51b7d"
            ],
            [
             0.2,
             "#de77ae"
            ],
            [
             0.3,
             "#f1b6da"
            ],
            [
             0.4,
             "#fde0ef"
            ],
            [
             0.5,
             "#f7f7f7"
            ],
            [
             0.6,
             "#e6f5d0"
            ],
            [
             0.7,
             "#b8e186"
            ],
            [
             0.8,
             "#7fbc41"
            ],
            [
             0.9,
             "#4d9221"
            ],
            [
             1,
             "#276419"
            ]
           ],
           "sequential": [
            [
             0,
             "#0d0887"
            ],
            [
             0.1111111111111111,
             "#46039f"
            ],
            [
             0.2222222222222222,
             "#7201a8"
            ],
            [
             0.3333333333333333,
             "#9c179e"
            ],
            [
             0.4444444444444444,
             "#bd3786"
            ],
            [
             0.5555555555555556,
             "#d8576b"
            ],
            [
             0.6666666666666666,
             "#ed7953"
            ],
            [
             0.7777777777777778,
             "#fb9f3a"
            ],
            [
             0.8888888888888888,
             "#fdca26"
            ],
            [
             1,
             "#f0f921"
            ]
           ],
           "sequentialminus": [
            [
             0,
             "#0d0887"
            ],
            [
             0.1111111111111111,
             "#46039f"
            ],
            [
             0.2222222222222222,
             "#7201a8"
            ],
            [
             0.3333333333333333,
             "#9c179e"
            ],
            [
             0.4444444444444444,
             "#bd3786"
            ],
            [
             0.5555555555555556,
             "#d8576b"
            ],
            [
             0.6666666666666666,
             "#ed7953"
            ],
            [
             0.7777777777777778,
             "#fb9f3a"
            ],
            [
             0.8888888888888888,
             "#fdca26"
            ],
            [
             1,
             "#f0f921"
            ]
           ]
          },
          "colorway": [
           "#636efa",
           "#EF553B",
           "#00cc96",
           "#ab63fa",
           "#FFA15A",
           "#19d3f3",
           "#FF6692",
           "#B6E880",
           "#FF97FF",
           "#FECB52"
          ],
          "font": {
           "color": "#2a3f5f"
          },
          "geo": {
           "bgcolor": "white",
           "lakecolor": "white",
           "landcolor": "#E5ECF6",
           "showlakes": true,
           "showland": true,
           "subunitcolor": "white"
          },
          "hoverlabel": {
           "align": "left"
          },
          "hovermode": "closest",
          "mapbox": {
           "style": "light"
          },
          "paper_bgcolor": "white",
          "plot_bgcolor": "#E5ECF6",
          "polar": {
           "angularaxis": {
            "gridcolor": "white",
            "linecolor": "white",
            "ticks": ""
           },
           "bgcolor": "#E5ECF6",
           "radialaxis": {
            "gridcolor": "white",
            "linecolor": "white",
            "ticks": ""
           }
          },
          "scene": {
           "xaxis": {
            "backgroundcolor": "#E5ECF6",
            "gridcolor": "white",
            "gridwidth": 2,
            "linecolor": "white",
            "showbackground": true,
            "ticks": "",
            "zerolinecolor": "white"
           },
           "yaxis": {
            "backgroundcolor": "#E5ECF6",
            "gridcolor": "white",
            "gridwidth": 2,
            "linecolor": "white",
            "showbackground": true,
            "ticks": "",
            "zerolinecolor": "white"
           },
           "zaxis": {
            "backgroundcolor": "#E5ECF6",
            "gridcolor": "white",
            "gridwidth": 2,
            "linecolor": "white",
            "showbackground": true,
            "ticks": "",
            "zerolinecolor": "white"
           }
          },
          "shapedefaults": {
           "line": {
            "color": "#2a3f5f"
           }
          },
          "ternary": {
           "aaxis": {
            "gridcolor": "white",
            "linecolor": "white",
            "ticks": ""
           },
           "baxis": {
            "gridcolor": "white",
            "linecolor": "white",
            "ticks": ""
           },
           "bgcolor": "#E5ECF6",
           "caxis": {
            "gridcolor": "white",
            "linecolor": "white",
            "ticks": ""
           }
          },
          "title": {
           "x": 0.05
          },
          "xaxis": {
           "automargin": true,
           "gridcolor": "white",
           "linecolor": "white",
           "ticks": "",
           "title": {
            "standoff": 15
           },
           "zerolinecolor": "white",
           "zerolinewidth": 2
          },
          "yaxis": {
           "automargin": true,
           "gridcolor": "white",
           "linecolor": "white",
           "ticks": "",
           "title": {
            "standoff": 15
           },
           "zerolinecolor": "white",
           "zerolinewidth": 2
          }
         }
        },
        "title": {
         "text": "Attribution score for attention heads (HuggingFace)"
        },
        "width": 500,
        "xaxis": {
         "anchor": "y",
         "constrain": "domain",
         "domain": [
          0,
          1
         ],
         "scaleanchor": "y",
         "title": {
          "text": "Head"
         }
        },
        "yaxis": {
         "anchor": "x",
         "autorange": "reversed",
         "constrain": "domain",
         "domain": [
          0,
          1
         ],
         "title": {
          "text": "Layer"
         }
        }
       }
      },
      "text/html": [
       "<div>                            <div id=\"0a5be28f-77f1-4c53-8291-be4db2225bae\" class=\"plotly-graph-div\" style=\"height:500px; width:500px;\"></div>            <script type=\"text/javascript\">                require([\"plotly\"], function(Plotly) {                    window.PLOTLYENV=window.PLOTLYENV || {};                                    if (document.getElementById(\"0a5be28f-77f1-4c53-8291-be4db2225bae\")) {                    Plotly.newPlot(                        \"0a5be28f-77f1-4c53-8291-be4db2225bae\",                        [{\"coloraxis\":\"coloraxis\",\"name\":\"0\",\"z\":[[-0.02803497388958931,0.19596324861049652,-0.02891312539577484,0.07469961792230606,-0.003974790684878826,0.08112254738807678,0.039049919694662094,0.017041319981217384,-0.0063107870519161224,0.012106838636100292,-0.03235448896884918,0.0029206466861069202],[0.03229762241244316,0.00875185988843441,-0.00538884149864316,-0.011862077750265598,-0.025326985865831375,-0.035439394414424896,-0.0014202690217643976,-0.007546472363173962,-0.003045187098905444,-0.002111091511324048,0.005987158045172691,0.00106048583984375],[0.009292487986385822,0.047523241490125656,-0.005959911271929741,0.0012687587877735496,-0.018040113151073456,0.005323753226548433,0.010298872366547585,-0.01085506472736597,0.006748456973582506,-0.04017570614814758,0.0027677249163389206,-0.0012773990165442228],[0.05011637508869171,0.009541225619614124,0.016756610944867134,0.04765867069363594,0.005336218047887087,0.010754747316241264,-4.481315772864036e-05,0.00856795348227024,-0.004415588453412056,0.01053870189934969,-0.032338667660951614,-0.0020646380726248026],[0.010674562305212021,0.006730327382683754,0.0031644152477383614,-0.0004492092120926827,-0.04310017451643944,-0.009164695627987385,-0.002854041988030076,-0.101143017411232,0.0024469089694321156,0.0042294692248106,0.009276828728616238,0.12055531144142151],[-0.0027530957013368607,0.001578321447595954,-0.025133399292826653,0.003923358861356974,0.01762201264500618,0.010167627595365047,0.41421905159950256,0.007478542160242796,-0.015117006376385689,-0.02435176819562912,0.05946088954806328,-0.03190179914236069],[-0.0020401859655976295,0.01094486191868782,0.0029458426870405674,0.0025582981761544943,-0.01614600233733654,-0.0011669349623844028,-0.02479172684252262,-0.018824424594640732,0.002446088707074523,0.03790108859539032,0.001117172185331583,-0.0007188606541603804],[0.041591349989175797,-0.0017677020514383912,0.03904559090733528,-0.0042221262119710445,0.0009814643999561667,-0.016141338273882866,-0.0042036245577037334,-0.00013196945656090975,-0.006510791834443808,-0.017981767654418945,-0.0030514239333570004,-0.003562316996976733],[0.001250038156285882,0.012106018140912056,-0.002004070207476616,-0.058792438358068466,0.0010259055998176336,-0.0003181362117175013,-0.008896141313016415,-0.001807680120691657,-0.0012972450349479914,-0.006787385791540146,-0.05680529773235321,-1.5499392747879028],[0.006120910868048668,0.0030271911527961493,-0.00882366206496954,-0.02112429589033127,0.0013703155564144254,0.013470334932208061,-0.005348634906113148,-0.0012303161201998591,-0.009593229740858078,0.27616941928863525,-0.0019758702255785465,0.001587448175996542],[0.02399112656712532,0.033723946660757065,0.0015328407753258944,-0.006073351018130779,-0.005746040493249893,-0.0009045887272804976,0.03774676471948624,0.10118915885686874,0.00149170879740268,-0.00019720077398233116,-1.279389500617981,0.0026626777835190296],[0.007316694129258394,0.007364797405898571,0.0015817070379853249,-0.00805645901709795,-0.033971041440963745,0.007533817086368799,-0.06836806982755661,0.003596467897295952,-0.011410703882575035,-0.0039109899662435055,0.21820762753486633,-0.05026135593652725]],\"type\":\"heatmap\",\"xaxis\":\"x\",\"yaxis\":\"y\",\"hovertemplate\":\"Head: %{x}\\u003cbr\\u003eLayer: %{y}\\u003cbr\\u003ecolor: %{z}\\u003cextra\\u003e\\u003c\\u002fextra\\u003e\"}],                        {\"template\":{\"data\":{\"histogram2dcontour\":[{\"type\":\"histogram2dcontour\",\"colorbar\":{\"outlinewidth\":0,\"ticks\":\"\"},\"colorscale\":[[0.0,\"#0d0887\"],[0.1111111111111111,\"#46039f\"],[0.2222222222222222,\"#7201a8\"],[0.3333333333333333,\"#9c179e\"],[0.4444444444444444,\"#bd3786\"],[0.5555555555555556,\"#d8576b\"],[0.6666666666666666,\"#ed7953\"],[0.7777777777777778,\"#fb9f3a\"],[0.8888888888888888,\"#fdca26\"],[1.0,\"#f0f921\"]]}],\"choropleth\":[{\"type\":\"choropleth\",\"colorbar\":{\"outlinewidth\":0,\"ticks\":\"\"}}],\"histogram2d\":[{\"type\":\"histogram2d\",\"colorbar\":{\"outlinewidth\":0,\"ticks\":\"\"},\"colorscale\":[[0.0,\"#0d0887\"],[0.1111111111111111,\"#46039f\"],[0.2222222222222222,\"#7201a8\"],[0.3333333333333333,\"#9c179e\"],[0.4444444444444444,\"#bd3786\"],[0.5555555555555556,\"#d8576b\"],[0.6666666666666666,\"#ed7953\"],[0.7777777777777778,\"#fb9f3a\"],[0.8888888888888888,\"#fdca26\"],[1.0,\"#f0f921\"]]}],\"heatmap\":[{\"type\":\"heatmap\",\"colorbar\":{\"outlinewidth\":0,\"ticks\":\"\"},\"colorscale\":[[0.0,\"#0d0887\"],[0.1111111111111111,\"#46039f\"],[0.2222222222222222,\"#7201a8\"],[0.3333333333333333,\"#9c179e\"],[0.4444444444444444,\"#bd3786\"],[0.5555555555555556,\"#d8576b\"],[0.6666666666666666,\"#ed7953\"],[0.7777777777777778,\"#fb9f3a\"],[0.8888888888888888,\"#fdca26\"],[1.0,\"#f0f921\"]]}],\"heatmapgl\":[{\"type\":\"heatmapgl\",\"colorbar\":{\"outlinewidth\":0,\"ticks\":\"\"},\"colorscale\":[[0.0,\"#0d0887\"],[0.1111111111111111,\"#46039f\"],[0.2222222222222222,\"#7201a8\"],[0.3333333333333333,\"#9c179e\"],[0.4444444444444444,\"#bd3786\"],[0.5555555555555556,\"#d8576b\"],[0.6666666666666666,\"#ed7953\"],[0.7777777777777778,\"#fb9f3a\"],[0.8888888888888888,\"#fdca26\"],[1.0,\"#f0f921\"]]}],\"contourcarpet\":[{\"type\":\"contourcarpet\",\"colorbar\":{\"outlinewidth\":0,\"ticks\":\"\"}}],\"contour\":[{\"type\":\"contour\",\"colorbar\":{\"outlinewidth\":0,\"ticks\":\"\"},\"colorscale\":[[0.0,\"#0d0887\"],[0.1111111111111111,\"#46039f\"],[0.2222222222222222,\"#7201a8\"],[0.3333333333333333,\"#9c179e\"],[0.4444444444444444,\"#bd3786\"],[0.5555555555555556,\"#d8576b\"],[0.6666666666666666,\"#ed7953\"],[0.7777777777777778,\"#fb9f3a\"],[0.8888888888888888,\"#fdca26\"],[1.0,\"#f0f921\"]]}],\"surface\":[{\"type\":\"surface\",\"colorbar\":{\"outlinewidth\":0,\"ticks\":\"\"},\"colorscale\":[[0.0,\"#0d0887\"],[0.1111111111111111,\"#46039f\"],[0.2222222222222222,\"#7201a8\"],[0.3333333333333333,\"#9c179e\"],[0.4444444444444444,\"#bd3786\"],[0.5555555555555556,\"#d8576b\"],[0.6666666666666666,\"#ed7953\"],[0.7777777777777778,\"#fb9f3a\"],[0.8888888888888888,\"#fdca26\"],[1.0,\"#f0f921\"]]}],\"mesh3d\":[{\"type\":\"mesh3d\",\"colorbar\":{\"outlinewidth\":0,\"ticks\":\"\"}}],\"scatter\":[{\"fillpattern\":{\"fillmode\":\"overlay\",\"size\":10,\"solidity\":0.2},\"type\":\"scatter\"}],\"parcoords\":[{\"type\":\"parcoords\",\"line\":{\"colorbar\":{\"outlinewidth\":0,\"ticks\":\"\"}}}],\"scatterpolargl\":[{\"type\":\"scatterpolargl\",\"marker\":{\"colorbar\":{\"outlinewidth\":0,\"ticks\":\"\"}}}],\"bar\":[{\"error_x\":{\"color\":\"#2a3f5f\"},\"error_y\":{\"color\":\"#2a3f5f\"},\"marker\":{\"line\":{\"color\":\"#E5ECF6\",\"width\":0.5},\"pattern\":{\"fillmode\":\"overlay\",\"size\":10,\"solidity\":0.2}},\"type\":\"bar\"}],\"scattergeo\":[{\"type\":\"scattergeo\",\"marker\":{\"colorbar\":{\"outlinewidth\":0,\"ticks\":\"\"}}}],\"scatterpolar\":[{\"type\":\"scatterpolar\",\"marker\":{\"colorbar\":{\"outlinewidth\":0,\"ticks\":\"\"}}}],\"histogram\":[{\"marker\":{\"pattern\":{\"fillmode\":\"overlay\",\"size\":10,\"solidity\":0.2}},\"type\":\"histogram\"}],\"scattergl\":[{\"type\":\"scattergl\",\"marker\":{\"colorbar\":{\"outlinewidth\":0,\"ticks\":\"\"}}}],\"scatter3d\":[{\"type\":\"scatter3d\",\"line\":{\"colorbar\":{\"outlinewidth\":0,\"ticks\":\"\"}},\"marker\":{\"colorbar\":{\"outlinewidth\":0,\"ticks\":\"\"}}}],\"scattermapbox\":[{\"type\":\"scattermapbox\",\"marker\":{\"colorbar\":{\"outlinewidth\":0,\"ticks\":\"\"}}}],\"scatterternary\":[{\"type\":\"scatterternary\",\"marker\":{\"colorbar\":{\"outlinewidth\":0,\"ticks\":\"\"}}}],\"scattercarpet\":[{\"type\":\"scattercarpet\",\"marker\":{\"colorbar\":{\"outlinewidth\":0,\"ticks\":\"\"}}}],\"carpet\":[{\"aaxis\":{\"endlinecolor\":\"#2a3f5f\",\"gridcolor\":\"white\",\"linecolor\":\"white\",\"minorgridcolor\":\"white\",\"startlinecolor\":\"#2a3f5f\"},\"baxis\":{\"endlinecolor\":\"#2a3f5f\",\"gridcolor\":\"white\",\"linecolor\":\"white\",\"minorgridcolor\":\"white\",\"startlinecolor\":\"#2a3f5f\"},\"type\":\"carpet\"}],\"table\":[{\"cells\":{\"fill\":{\"color\":\"#EBF0F8\"},\"line\":{\"color\":\"white\"}},\"header\":{\"fill\":{\"color\":\"#C8D4E3\"},\"line\":{\"color\":\"white\"}},\"type\":\"table\"}],\"barpolar\":[{\"marker\":{\"line\":{\"color\":\"#E5ECF6\",\"width\":0.5},\"pattern\":{\"fillmode\":\"overlay\",\"size\":10,\"solidity\":0.2}},\"type\":\"barpolar\"}],\"pie\":[{\"automargin\":true,\"type\":\"pie\"}]},\"layout\":{\"autotypenumbers\":\"strict\",\"colorway\":[\"#636efa\",\"#EF553B\",\"#00cc96\",\"#ab63fa\",\"#FFA15A\",\"#19d3f3\",\"#FF6692\",\"#B6E880\",\"#FF97FF\",\"#FECB52\"],\"font\":{\"color\":\"#2a3f5f\"},\"hovermode\":\"closest\",\"hoverlabel\":{\"align\":\"left\"},\"paper_bgcolor\":\"white\",\"plot_bgcolor\":\"#E5ECF6\",\"polar\":{\"bgcolor\":\"#E5ECF6\",\"angularaxis\":{\"gridcolor\":\"white\",\"linecolor\":\"white\",\"ticks\":\"\"},\"radialaxis\":{\"gridcolor\":\"white\",\"linecolor\":\"white\",\"ticks\":\"\"}},\"ternary\":{\"bgcolor\":\"#E5ECF6\",\"aaxis\":{\"gridcolor\":\"white\",\"linecolor\":\"white\",\"ticks\":\"\"},\"baxis\":{\"gridcolor\":\"white\",\"linecolor\":\"white\",\"ticks\":\"\"},\"caxis\":{\"gridcolor\":\"white\",\"linecolor\":\"white\",\"ticks\":\"\"}},\"coloraxis\":{\"colorbar\":{\"outlinewidth\":0,\"ticks\":\"\"}},\"colorscale\":{\"sequential\":[[0.0,\"#0d0887\"],[0.1111111111111111,\"#46039f\"],[0.2222222222222222,\"#7201a8\"],[0.3333333333333333,\"#9c179e\"],[0.4444444444444444,\"#bd3786\"],[0.5555555555555556,\"#d8576b\"],[0.6666666666666666,\"#ed7953\"],[0.7777777777777778,\"#fb9f3a\"],[0.8888888888888888,\"#fdca26\"],[1.0,\"#f0f921\"]],\"sequentialminus\":[[0.0,\"#0d0887\"],[0.1111111111111111,\"#46039f\"],[0.2222222222222222,\"#7201a8\"],[0.3333333333333333,\"#9c179e\"],[0.4444444444444444,\"#bd3786\"],[0.5555555555555556,\"#d8576b\"],[0.6666666666666666,\"#ed7953\"],[0.7777777777777778,\"#fb9f3a\"],[0.8888888888888888,\"#fdca26\"],[1.0,\"#f0f921\"]],\"diverging\":[[0,\"#8e0152\"],[0.1,\"#c51b7d\"],[0.2,\"#de77ae\"],[0.3,\"#f1b6da\"],[0.4,\"#fde0ef\"],[0.5,\"#f7f7f7\"],[0.6,\"#e6f5d0\"],[0.7,\"#b8e186\"],[0.8,\"#7fbc41\"],[0.9,\"#4d9221\"],[1,\"#276419\"]]},\"xaxis\":{\"gridcolor\":\"white\",\"linecolor\":\"white\",\"ticks\":\"\",\"title\":{\"standoff\":15},\"zerolinecolor\":\"white\",\"automargin\":true,\"zerolinewidth\":2},\"yaxis\":{\"gridcolor\":\"white\",\"linecolor\":\"white\",\"ticks\":\"\",\"title\":{\"standoff\":15},\"zerolinecolor\":\"white\",\"automargin\":true,\"zerolinewidth\":2},\"scene\":{\"xaxis\":{\"backgroundcolor\":\"#E5ECF6\",\"gridcolor\":\"white\",\"linecolor\":\"white\",\"showbackground\":true,\"ticks\":\"\",\"zerolinecolor\":\"white\",\"gridwidth\":2},\"yaxis\":{\"backgroundcolor\":\"#E5ECF6\",\"gridcolor\":\"white\",\"linecolor\":\"white\",\"showbackground\":true,\"ticks\":\"\",\"zerolinecolor\":\"white\",\"gridwidth\":2},\"zaxis\":{\"backgroundcolor\":\"#E5ECF6\",\"gridcolor\":\"white\",\"linecolor\":\"white\",\"showbackground\":true,\"ticks\":\"\",\"zerolinecolor\":\"white\",\"gridwidth\":2}},\"shapedefaults\":{\"line\":{\"color\":\"#2a3f5f\"}},\"annotationdefaults\":{\"arrowcolor\":\"#2a3f5f\",\"arrowhead\":0,\"arrowwidth\":1},\"geo\":{\"bgcolor\":\"white\",\"landcolor\":\"#E5ECF6\",\"subunitcolor\":\"white\",\"showland\":true,\"showlakes\":true,\"lakecolor\":\"white\"},\"title\":{\"x\":0.05},\"mapbox\":{\"style\":\"light\"}}},\"xaxis\":{\"anchor\":\"y\",\"domain\":[0.0,1.0],\"scaleanchor\":\"y\",\"constrain\":\"domain\",\"title\":{\"text\":\"Head\"}},\"yaxis\":{\"anchor\":\"x\",\"domain\":[0.0,1.0],\"autorange\":\"reversed\",\"constrain\":\"domain\",\"title\":{\"text\":\"Layer\"}},\"coloraxis\":{\"colorscale\":[[0.0,\"rgb(103,0,31)\"],[0.1,\"rgb(178,24,43)\"],[0.2,\"rgb(214,96,77)\"],[0.3,\"rgb(244,165,130)\"],[0.4,\"rgb(253,219,199)\"],[0.5,\"rgb(247,247,247)\"],[0.6,\"rgb(209,229,240)\"],[0.7,\"rgb(146,197,222)\"],[0.8,\"rgb(67,147,195)\"],[0.9,\"rgb(33,102,172)\"],[1.0,\"rgb(5,48,97)\"]],\"cmid\":0.0},\"title\":{\"text\":\"Attribution score for attention heads (HuggingFace)\"},\"height\":500,\"width\":500},                        {\"responsive\": true}                    ).then(function(){\n",
       "                            \n",
       "var gd = document.getElementById('0a5be28f-77f1-4c53-8291-be4db2225bae');\n",
       "var x = new MutationObserver(function (mutations, observer) {{\n",
       "        var display = window.getComputedStyle(gd).display;\n",
       "        if (!display || display === 'none') {{\n",
       "            console.log([gd, 'removed!']);\n",
       "            Plotly.purge(gd);\n",
       "            observer.disconnect();\n",
       "        }}\n",
       "}});\n",
       "\n",
       "// Listen for the removal of the full notebook cells\n",
       "var notebookContainer = gd.closest('#notebook-container');\n",
       "if (notebookContainer) {{\n",
       "    x.observe(notebookContainer, {childList: true});\n",
       "}}\n",
       "\n",
       "// Listen for the clearing of the current output cell\n",
       "var outputEl = gd.closest('.output');\n",
       "if (outputEl) {{\n",
       "    x.observe(outputEl, {childList: true});\n",
       "}}\n",
       "\n",
       "                        })                };                });            </script>        </div>"
      ]
     },
     "metadata": {},
     "output_type": "display_data"
    }
   ],
   "source": [
    "px.imshow(attribution_score_hf.detach().numpy(), title=\"Attribution score for attention heads (HuggingFace)\", labels={\"x\": \"Head\", \"y\": \"Layer\"}, width=500, height=500, color_continuous_midpoint=0.0, color_continuous_scale=\"RdBu\")"
   ]
  },
  {
   "cell_type": "code",
   "execution_count": 49,
   "metadata": {},
   "outputs": [],
   "source": [
    "sorted_heads_tl = sort_Nd_tensor(attribution_score_tl)\n",
    "sorted_heads_hf = sort_Nd_tensor(attribution_score_hf)"
   ]
  },
  {
   "cell_type": "code",
   "execution_count": 50,
   "metadata": {},
   "outputs": [
    {
     "name": "stdout",
     "output_type": "stream",
     "text": [
      "[8, 11] [8, 11]\n",
      "[10, 10] [10, 10]\n",
      "[4, 7] [4, 7]\n",
      "[11, 6] [11, 6]\n",
      "[8, 3] [8, 3]\n",
      "[8, 10] [8, 10]\n",
      "[11, 11] [11, 11]\n",
      "[4, 4] [4, 4]\n",
      "[2, 9] [2, 9]\n",
      "[1, 5] [1, 5]\n",
      "[11, 4] [11, 4]\n",
      "[0, 10] [0, 10]\n",
      "[3, 10] [3, 10]\n",
      "[5, 11] [5, 11]\n",
      "[0, 2] [0, 2]\n",
      "[0, 0] [0, 0]\n",
      "[1, 4] [1, 4]\n",
      "[5, 2] [5, 2]\n",
      "[6, 6] [6, 6]\n",
      "[5, 9] [5, 9]\n",
      "[9, 3] [9, 3]\n",
      "[6, 7] [6, 7]\n",
      "[2, 4] [2, 4]\n",
      "[7, 9] [7, 9]\n",
      "[6, 4] [6, 4]\n",
      "[7, 5] [7, 5]\n",
      "[5, 8] [5, 8]\n",
      "[1, 3] [1, 3]\n",
      "[11, 8] [11, 8]\n",
      "[2, 7] [2, 7]\n",
      "[9, 8] [9, 8]\n",
      "[4, 5] [4, 5]\n",
      "[8, 6] [8, 6]\n",
      "[9, 2] [9, 2]\n",
      "[11, 3] [11, 3]\n",
      "[1, 7] [1, 7]\n",
      "[8, 9] [8, 9]\n",
      "[7, 8] [7, 8]\n",
      "[0, 8] [0, 8]\n",
      "[10, 3] [10, 3]\n",
      "[2, 2] [2, 2]\n",
      "[10, 4] [10, 4]\n",
      "[1, 2] [1, 2]\n",
      "[9, 6] [9, 6]\n",
      "[3, 8] [3, 8]\n",
      "[7, 3] [7, 3]\n",
      "[7, 6] [7, 6]\n",
      "[0, 4] [0, 4]\n",
      "[11, 9] [11, 9]\n",
      "[7, 11] [7, 11]\n",
      "[7, 10] [7, 10]\n",
      "[1, 8] [1, 8]\n",
      "[4, 6] [4, 6]\n",
      "[5, 0] [5, 0]\n",
      "[1, 9] [1, 9]\n",
      "[3, 11] [3, 11]\n",
      "[6, 0] [6, 0]\n",
      "[8, 2] [8, 2]\n",
      "[9, 10] [9, 10]\n",
      "[8, 7] [8, 7]\n",
      "[7, 1] [7, 1]\n",
      "[1, 6] [1, 6]\n",
      "[8, 8] [8, 8]\n",
      "[2, 11] [2, 11]\n",
      "[9, 7] [9, 7]\n",
      "[6, 5] [6, 5]\n",
      "[10, 5] [10, 5]\n",
      "[6, 11] [6, 11]\n",
      "[4, 3] [4, 3]\n",
      "[8, 5] [8, 5]\n",
      "[10, 9] [10, 9]\n",
      "[7, 7] [7, 7]\n",
      "[3, 6] [3, 6]\n",
      "[7, 4] [7, 4]\n",
      "[8, 4] [8, 4]\n",
      "[1, 11] [1, 11]\n",
      "[6, 10] [6, 10]\n",
      "[8, 0] [8, 0]\n",
      "[2, 3] [2, 3]\n",
      "[9, 4] [9, 4]\n",
      "[10, 8] [10, 8]\n",
      "[10, 2] [10, 2]\n",
      "[5, 1] [5, 1]\n",
      "[11, 2] [11, 2]\n",
      "[9, 11] [9, 11]\n",
      "[4, 8] [6, 8]\n",
      "[6, 8] [4, 8]\n",
      "[6, 3] [6, 3]\n",
      "[10, 11] [10, 11]\n",
      "[2, 10] [2, 10]\n",
      "[0, 11] [0, 11]\n",
      "[6, 2] [6, 2]\n",
      "[9, 1] [9, 1]\n",
      "[4, 2] [4, 2]\n",
      "[11, 7] [11, 7]\n",
      "[5, 3] [5, 3]\n",
      "[4, 9] [4, 9]\n",
      "[2, 5] [2, 5]\n",
      "[3, 4] [3, 4]\n",
      "[1, 10] [1, 10]\n",
      "[9, 0] [9, 0]\n",
      "[4, 1] [4, 1]\n",
      "[2, 8] [2, 8]\n",
      "[11, 0] [11, 0]\n",
      "[11, 1] [11, 1]\n",
      "[5, 7] [5, 7]\n",
      "[11, 5] [11, 5]\n",
      "[3, 7] [3, 7]\n",
      "[1, 1] [1, 1]\n",
      "[4, 10] [4, 10]\n",
      "[2, 0] [2, 0]\n",
      "[3, 1] [3, 1]\n",
      "[5, 5] [5, 5]\n",
      "[2, 6] [2, 6]\n",
      "[3, 9] [3, 9]\n",
      "[4, 0] [4, 0]\n",
      "[3, 5] [3, 5]\n",
      "[6, 1] [6, 1]\n",
      "[0, 9] [8, 1]\n",
      "[8, 1] [0, 9]\n",
      "[9, 5] [9, 5]\n",
      "[3, 2] [3, 2]\n",
      "[0, 7] [0, 7]\n",
      "[5, 4] [5, 4]\n",
      "[10, 0] [10, 0]\n",
      "[1, 0] [1, 0]\n",
      "[10, 1] [10, 1]\n",
      "[10, 6] [10, 6]\n",
      "[6, 9] [6, 9]\n",
      "[7, 2] [7, 2]\n",
      "[0, 6] [0, 6]\n",
      "[7, 0] [7, 0]\n",
      "[2, 1] [2, 1]\n",
      "[3, 3] [3, 3]\n",
      "[3, 0] [3, 0]\n",
      "[5, 10] [5, 10]\n",
      "[0, 3] [0, 3]\n",
      "[0, 5] [0, 5]\n",
      "[10, 7] [10, 7]\n",
      "[4, 11] [4, 11]\n",
      "[0, 1] [0, 1]\n",
      "[11, 10] [11, 10]\n",
      "[9, 9] [9, 9]\n",
      "[5, 6] [5, 6]\n"
     ]
    }
   ],
   "source": [
    "for x, y in zip(sorted_heads_tl, sorted_heads_hf):\n",
    "    print(x, y)"
   ]
  },
  {
   "cell_type": "markdown",
   "metadata": {},
   "source": [
    "### Replicate the pruning process\n",
    "\n",
    "Now, we're going to progressively remove attention heads and measure the performance. If we get similar results with both models, repeat the experiment by removing the weights."
   ]
  },
  {
   "cell_type": "code",
   "execution_count": 51,
   "metadata": {},
   "outputs": [],
   "source": [
    "heads_to_patch = []\n",
    "logit_diffs = []\n",
    "std_logit_diffs = []\n",
    "\n",
    "for circuit_head in reversed(sorted_heads_tl):\n",
    "    heads_to_patch.append(circuit_head)\n",
    "    model_tl.reset_hooks(including_permanent=True)\n",
    "    for layer_i, head_i in heads_to_patch:\n",
    "        hook_fn = partial(mean_ablate_head, head_idx=head_i, cache=cache_tl)\n",
    "        model_tl.add_hook(utils.get_act_name(\"v\", layer_i), hook_fn)\n",
    "    circuit_logits = model_tl(tokens_tl)\n",
    "    model_tl.reset_hooks(including_permanent=True)\n",
    "\n",
    "    logit_diff = compute_logit_diff(circuit_logits, answer_tokens, average=False)\n",
    "    av_logit_diff = logit_diff[..., -1].mean(0)\n",
    "    std_logit_diff = logit_diff[..., -1].std(0)\n",
    "    logit_diffs.append(av_logit_diff)\n",
    "    std_logit_diffs.append(std_logit_diff)\n",
    "logit_diffs_tl = torch.stack(logit_diffs, dim=0)\n",
    "std_logit_diffs_tl = torch.stack(std_logit_diffs, dim=0)"
   ]
  },
  {
   "cell_type": "code",
   "execution_count": 52,
   "metadata": {},
   "outputs": [
    {
     "data": {
      "application/vnd.plotly.v1+json": {
       "config": {
        "plotlyServerURL": "https://plot.ly"
       },
       "data": [
        {
         "error_y": {
          "array": [
           1.595262885093689,
           1.3974720239639282,
           1.5158888101577759,
           1.4943068027496338,
           1.3779417276382446,
           1.5285500288009644,
           1.5364474058151245,
           1.514830470085144,
           1.4905409812927246,
           1.4854464530944824,
           1.4721096754074097,
           1.414474368095398,
           1.3509882688522339,
           1.3276599645614624,
           1.3102929592132568,
           1.3035157918930054,
           1.2935112714767456,
           1.2872416973114014,
           1.240984559059143,
           1.2143845558166504,
           1.2003899812698364,
           1.1492353677749634,
           1.1547173261642456,
           1.159838080406189,
           1.1551051139831543,
           1.158354640007019,
           1.1393986940383911,
           1.1381312608718872,
           1.105459451675415,
           1.1010661125183105,
           1.0984150171279907,
           1.1213696002960205,
           1.1299885511398315,
           1.1319104433059692,
           1.126991868019104,
           1.1193583011627197,
           1.1116163730621338,
           1.1143620014190674,
           1.1194069385528564,
           1.1241389513015747,
           1.1206285953521729,
           1.1025488376617432,
           1.0937963724136353,
           1.103171706199646,
           1.1085387468338013,
           1.0934789180755615,
           1.0789587497711182,
           1.0785449743270874,
           1.0831655263900757,
           1.0897188186645508,
           1.0907232761383057,
           1.088405966758728,
           1.0917298793792725,
           1.0911229848861694,
           1.1044687032699585,
           1.1047821044921875,
           1.105828046798706,
           1.0978705883026123,
           1.0984736680984497,
           1.0986700057983398,
           1.0829509496688843,
           1.0831634998321533,
           1.0819932222366333,
           1.0831271409988403,
           1.0826009511947632,
           1.075642704963684,
           1.072898507118225,
           1.0802388191223145,
           1.134826421737671,
           1.1351172924041748,
           1.134443759918213,
           1.1185535192489624,
           1.1184742450714111,
           1.1234067678451538,
           1.1189972162246704,
           1.13711678981781,
           1.13651704788208,
           1.1355167627334595,
           1.1281473636627197,
           1.1254041194915771,
           1.129541039466858,
           1.1245296001434326,
           1.1200541257858276,
           1.1153504848480225,
           1.0997241735458374,
           1.098839282989502,
           1.0992751121520996,
           1.0969294309616089,
           1.1019322872161865,
           1.1051150560379028,
           1.1113643646240234,
           1.1074376106262207,
           1.10896635055542,
           1.1026307344436646,
           1.1023255586624146,
           1.0923432111740112,
           1.1076973676681519,
           1.118226408958435,
           1.123353362083435,
           1.126210331916809,
           1.1157699823379517,
           1.1103366613388062,
           1.1111137866973877,
           1.103657841682434,
           1.1039204597473145,
           1.110102653503418,
           1.1152549982070923,
           1.1141459941864014,
           1.1200851202011108,
           1.1143144369125366,
           1.1190141439437866,
           1.0967230796813965,
           1.1042944192886353,
           1.1009141206741333,
           1.0822299718856812,
           1.0820361375808716,
           1.0790300369262695,
           1.0932540893554688,
           1.0869419574737549,
           1.0898386240005493,
           1.0776985883712769,
           1.0617780685424805,
           1.049588918685913,
           1.0768060684204102,
           1.0602666139602661,
           1.0583083629608154,
           1.0534555912017822,
           1.0663020610809326,
           1.0785551071166992,
           1.0663191080093384,
           1.0729364156723022,
           1.0744075775146484,
           1.0632456541061401,
           1.0841515064239502,
           1.0839999914169312,
           1.081834316253662,
           1.0743969678878784,
           1.083463430404663,
           1.0799247026443481,
           1.074009895324707,
           1.0666968822479248,
           1.0833901166915894,
           1.2518062591552734,
           1.6419267654418945
          ]
         },
         "hovertemplate": "x=%{x}<br>y=%{y}<extra></extra>",
         "legendgroup": "",
         "line": {
          "color": "#636efa",
          "dash": "solid"
         },
         "marker": {
          "symbol": "circle"
         },
         "mode": "lines",
         "name": "",
         "orientation": "v",
         "showlegend": false,
         "type": "scatter",
         "x": [
          "5.6",
          "9.9",
          "11.10",
          "0.1",
          "4.11",
          "10.7",
          "0.5",
          "0.3",
          "5.10",
          "3.0",
          "3.3",
          "2.1",
          "7.0",
          "0.6",
          "7.2",
          "6.9",
          "10.6",
          "10.1",
          "1.0",
          "10.0",
          "5.4",
          "0.7",
          "3.2",
          "9.5",
          "8.1",
          "0.9",
          "6.1",
          "3.5",
          "4.0",
          "3.9",
          "2.6",
          "5.5",
          "3.1",
          "2.0",
          "4.10",
          "1.1",
          "3.7",
          "11.5",
          "5.7",
          "11.1",
          "11.0",
          "2.8",
          "4.1",
          "9.0",
          "1.10",
          "3.4",
          "2.5",
          "4.9",
          "5.3",
          "11.7",
          "4.2",
          "9.1",
          "6.2",
          "0.11",
          "2.10",
          "10.11",
          "6.3",
          "6.8",
          "4.8",
          "9.11",
          "11.2",
          "5.1",
          "10.2",
          "10.8",
          "9.4",
          "2.3",
          "8.0",
          "6.10",
          "1.11",
          "8.4",
          "7.4",
          "3.6",
          "7.7",
          "10.9",
          "8.5",
          "4.3",
          "6.11",
          "10.5",
          "6.5",
          "9.7",
          "2.11",
          "8.8",
          "1.6",
          "7.1",
          "8.7",
          "9.10",
          "8.2",
          "6.0",
          "3.11",
          "1.9",
          "5.0",
          "4.6",
          "1.8",
          "7.10",
          "7.11",
          "11.9",
          "0.4",
          "7.6",
          "7.3",
          "3.8",
          "9.6",
          "1.2",
          "10.4",
          "2.2",
          "10.3",
          "0.8",
          "7.8",
          "8.9",
          "1.7",
          "11.3",
          "9.2",
          "8.6",
          "4.5",
          "9.8",
          "2.7",
          "11.8",
          "1.3",
          "5.8",
          "7.5",
          "6.4",
          "7.9",
          "2.4",
          "6.7",
          "9.3",
          "5.9",
          "6.6",
          "5.2",
          "1.4",
          "0.0",
          "0.2",
          "5.11",
          "3.10",
          "0.10",
          "11.4",
          "1.5",
          "2.9",
          "4.4",
          "11.11",
          "8.10",
          "8.3",
          "11.6",
          "4.7",
          "10.10",
          "8.11"
         ],
         "xaxis": "x",
         "y": [
          4.01937198638916,
          4.222156047821045,
          4.533319473266602,
          4.707581043243408,
          4.796192646026611,
          5.187533855438232,
          5.265850067138672,
          5.3011274337768555,
          5.410330295562744,
          5.434925556182861,
          5.487993240356445,
          5.536468505859375,
          5.571605205535889,
          5.591408729553223,
          5.612123966217041,
          5.611203670501709,
          5.634109973907471,
          5.661133766174316,
          5.682709693908691,
          5.716040134429932,
          5.728976726531982,
          5.742224216461182,
          5.722951412200928,
          5.742551326751709,
          5.741379261016846,
          5.740061283111572,
          5.731735706329346,
          5.728240013122559,
          5.732187271118164,
          5.72160530090332,
          5.723491668701172,
          5.697966575622559,
          5.697780609130859,
          5.694695949554443,
          5.706157684326172,
          5.7006988525390625,
          5.679718971252441,
          5.690374851226807,
          5.6993937492370605,
          5.70805025100708,
          5.725052833557129,
          5.742196083068848,
          5.745635986328125,
          5.7425665855407715,
          5.735421180725098,
          5.719890594482422,
          5.735875606536865,
          5.73514461517334,
          5.7354912757873535,
          5.739701271057129,
          5.743186950683594,
          5.741333484649658,
          5.735990047454834,
          5.7303619384765625,
          5.722155570983887,
          5.728879451751709,
          5.728477478027344,
          5.710807800292969,
          5.709612846374512,
          5.711077690124512,
          5.7271552085876465,
          5.725684642791748,
          5.728644847869873,
          5.732217311859131,
          5.732344627380371,
          5.736485481262207,
          5.733469009399414,
          5.7371673583984375,
          5.66471004486084,
          5.664645671844482,
          5.657332420349121,
          5.620196342468262,
          5.618417739868164,
          5.618663311004639,
          5.606359958648682,
          5.580846309661865,
          5.580395221710205,
          5.578528881072998,
          5.588898181915283,
          5.589188098907471,
          5.581543445587158,
          5.566471576690674,
          5.548320293426514,
          5.529496192932129,
          5.528896808624268,
          5.5245819091796875,
          5.529964447021484,
          5.518629550933838,
          5.524534225463867,
          5.526236534118652,
          5.520583152770996,
          5.528226375579834,
          5.523190021514893,
          4.982313632965088,
          4.978405952453613,
          4.984042167663574,
          4.9578142166137695,
          4.975337982177734,
          4.975278854370117,
          4.9712419509887695,
          4.943864822387695,
          4.947773456573486,
          4.950079917907715,
          4.871264934539795,
          4.864952087402344,
          4.860792636871338,
          4.852485179901123,
          4.857956886291504,
          4.827752590179443,
          4.802791118621826,
          4.798717975616455,
          4.792147636413574,
          4.784946918487549,
          4.7745041847229,
          4.789515495300293,
          4.799342632293701,
          4.788660526275635,
          4.808326721191406,
          4.809731960296631,
          4.811921119689941,
          4.82759952545166,
          4.832413673400879,
          4.847970962524414,
          4.841639995574951,
          4.799155235290527,
          4.799881458282471,
          4.80212926864624,
          4.804052829742432,
          4.7884697914123535,
          4.783086776733398,
          4.778134346008301,
          4.745399475097656,
          4.817493915557861,
          4.709236145019531,
          4.696269512176514,
          4.688358306884766,
          4.7086567878723145,
          4.640341281890869,
          4.78675651550293,
          4.74191951751709,
          4.687765121459961,
          4.54979133605957,
          2.3640594482421875,
          -0.6625524759292603
         ],
         "yaxis": "y"
        }
       ],
       "layout": {
        "legend": {
         "tracegroupgap": 0
        },
        "margin": {
         "t": 60
        },
        "shapes": [
         {
          "line": {
           "color": "black",
           "dash": "dash",
           "width": 1.5
          },
          "type": "line",
          "x0": 0,
          "x1": 1,
          "xref": "x domain",
          "y0": 3.605156898498535,
          "y1": 3.605156898498535,
          "yref": "y"
         }
        ],
        "template": {
         "data": {
          "bar": [
           {
            "error_x": {
             "color": "#2a3f5f"
            },
            "error_y": {
             "color": "#2a3f5f"
            },
            "marker": {
             "line": {
              "color": "#E5ECF6",
              "width": 0.5
             },
             "pattern": {
              "fillmode": "overlay",
              "size": 10,
              "solidity": 0.2
             }
            },
            "type": "bar"
           }
          ],
          "barpolar": [
           {
            "marker": {
             "line": {
              "color": "#E5ECF6",
              "width": 0.5
             },
             "pattern": {
              "fillmode": "overlay",
              "size": 10,
              "solidity": 0.2
             }
            },
            "type": "barpolar"
           }
          ],
          "carpet": [
           {
            "aaxis": {
             "endlinecolor": "#2a3f5f",
             "gridcolor": "white",
             "linecolor": "white",
             "minorgridcolor": "white",
             "startlinecolor": "#2a3f5f"
            },
            "baxis": {
             "endlinecolor": "#2a3f5f",
             "gridcolor": "white",
             "linecolor": "white",
             "minorgridcolor": "white",
             "startlinecolor": "#2a3f5f"
            },
            "type": "carpet"
           }
          ],
          "choropleth": [
           {
            "colorbar": {
             "outlinewidth": 0,
             "ticks": ""
            },
            "type": "choropleth"
           }
          ],
          "contour": [
           {
            "colorbar": {
             "outlinewidth": 0,
             "ticks": ""
            },
            "colorscale": [
             [
              0,
              "#0d0887"
             ],
             [
              0.1111111111111111,
              "#46039f"
             ],
             [
              0.2222222222222222,
              "#7201a8"
             ],
             [
              0.3333333333333333,
              "#9c179e"
             ],
             [
              0.4444444444444444,
              "#bd3786"
             ],
             [
              0.5555555555555556,
              "#d8576b"
             ],
             [
              0.6666666666666666,
              "#ed7953"
             ],
             [
              0.7777777777777778,
              "#fb9f3a"
             ],
             [
              0.8888888888888888,
              "#fdca26"
             ],
             [
              1,
              "#f0f921"
             ]
            ],
            "type": "contour"
           }
          ],
          "contourcarpet": [
           {
            "colorbar": {
             "outlinewidth": 0,
             "ticks": ""
            },
            "type": "contourcarpet"
           }
          ],
          "heatmap": [
           {
            "colorbar": {
             "outlinewidth": 0,
             "ticks": ""
            },
            "colorscale": [
             [
              0,
              "#0d0887"
             ],
             [
              0.1111111111111111,
              "#46039f"
             ],
             [
              0.2222222222222222,
              "#7201a8"
             ],
             [
              0.3333333333333333,
              "#9c179e"
             ],
             [
              0.4444444444444444,
              "#bd3786"
             ],
             [
              0.5555555555555556,
              "#d8576b"
             ],
             [
              0.6666666666666666,
              "#ed7953"
             ],
             [
              0.7777777777777778,
              "#fb9f3a"
             ],
             [
              0.8888888888888888,
              "#fdca26"
             ],
             [
              1,
              "#f0f921"
             ]
            ],
            "type": "heatmap"
           }
          ],
          "heatmapgl": [
           {
            "colorbar": {
             "outlinewidth": 0,
             "ticks": ""
            },
            "colorscale": [
             [
              0,
              "#0d0887"
             ],
             [
              0.1111111111111111,
              "#46039f"
             ],
             [
              0.2222222222222222,
              "#7201a8"
             ],
             [
              0.3333333333333333,
              "#9c179e"
             ],
             [
              0.4444444444444444,
              "#bd3786"
             ],
             [
              0.5555555555555556,
              "#d8576b"
             ],
             [
              0.6666666666666666,
              "#ed7953"
             ],
             [
              0.7777777777777778,
              "#fb9f3a"
             ],
             [
              0.8888888888888888,
              "#fdca26"
             ],
             [
              1,
              "#f0f921"
             ]
            ],
            "type": "heatmapgl"
           }
          ],
          "histogram": [
           {
            "marker": {
             "pattern": {
              "fillmode": "overlay",
              "size": 10,
              "solidity": 0.2
             }
            },
            "type": "histogram"
           }
          ],
          "histogram2d": [
           {
            "colorbar": {
             "outlinewidth": 0,
             "ticks": ""
            },
            "colorscale": [
             [
              0,
              "#0d0887"
             ],
             [
              0.1111111111111111,
              "#46039f"
             ],
             [
              0.2222222222222222,
              "#7201a8"
             ],
             [
              0.3333333333333333,
              "#9c179e"
             ],
             [
              0.4444444444444444,
              "#bd3786"
             ],
             [
              0.5555555555555556,
              "#d8576b"
             ],
             [
              0.6666666666666666,
              "#ed7953"
             ],
             [
              0.7777777777777778,
              "#fb9f3a"
             ],
             [
              0.8888888888888888,
              "#fdca26"
             ],
             [
              1,
              "#f0f921"
             ]
            ],
            "type": "histogram2d"
           }
          ],
          "histogram2dcontour": [
           {
            "colorbar": {
             "outlinewidth": 0,
             "ticks": ""
            },
            "colorscale": [
             [
              0,
              "#0d0887"
             ],
             [
              0.1111111111111111,
              "#46039f"
             ],
             [
              0.2222222222222222,
              "#7201a8"
             ],
             [
              0.3333333333333333,
              "#9c179e"
             ],
             [
              0.4444444444444444,
              "#bd3786"
             ],
             [
              0.5555555555555556,
              "#d8576b"
             ],
             [
              0.6666666666666666,
              "#ed7953"
             ],
             [
              0.7777777777777778,
              "#fb9f3a"
             ],
             [
              0.8888888888888888,
              "#fdca26"
             ],
             [
              1,
              "#f0f921"
             ]
            ],
            "type": "histogram2dcontour"
           }
          ],
          "mesh3d": [
           {
            "colorbar": {
             "outlinewidth": 0,
             "ticks": ""
            },
            "type": "mesh3d"
           }
          ],
          "parcoords": [
           {
            "line": {
             "colorbar": {
              "outlinewidth": 0,
              "ticks": ""
             }
            },
            "type": "parcoords"
           }
          ],
          "pie": [
           {
            "automargin": true,
            "type": "pie"
           }
          ],
          "scatter": [
           {
            "fillpattern": {
             "fillmode": "overlay",
             "size": 10,
             "solidity": 0.2
            },
            "type": "scatter"
           }
          ],
          "scatter3d": [
           {
            "line": {
             "colorbar": {
              "outlinewidth": 0,
              "ticks": ""
             }
            },
            "marker": {
             "colorbar": {
              "outlinewidth": 0,
              "ticks": ""
             }
            },
            "type": "scatter3d"
           }
          ],
          "scattercarpet": [
           {
            "marker": {
             "colorbar": {
              "outlinewidth": 0,
              "ticks": ""
             }
            },
            "type": "scattercarpet"
           }
          ],
          "scattergeo": [
           {
            "marker": {
             "colorbar": {
              "outlinewidth": 0,
              "ticks": ""
             }
            },
            "type": "scattergeo"
           }
          ],
          "scattergl": [
           {
            "marker": {
             "colorbar": {
              "outlinewidth": 0,
              "ticks": ""
             }
            },
            "type": "scattergl"
           }
          ],
          "scattermapbox": [
           {
            "marker": {
             "colorbar": {
              "outlinewidth": 0,
              "ticks": ""
             }
            },
            "type": "scattermapbox"
           }
          ],
          "scatterpolar": [
           {
            "marker": {
             "colorbar": {
              "outlinewidth": 0,
              "ticks": ""
             }
            },
            "type": "scatterpolar"
           }
          ],
          "scatterpolargl": [
           {
            "marker": {
             "colorbar": {
              "outlinewidth": 0,
              "ticks": ""
             }
            },
            "type": "scatterpolargl"
           }
          ],
          "scatterternary": [
           {
            "marker": {
             "colorbar": {
              "outlinewidth": 0,
              "ticks": ""
             }
            },
            "type": "scatterternary"
           }
          ],
          "surface": [
           {
            "colorbar": {
             "outlinewidth": 0,
             "ticks": ""
            },
            "colorscale": [
             [
              0,
              "#0d0887"
             ],
             [
              0.1111111111111111,
              "#46039f"
             ],
             [
              0.2222222222222222,
              "#7201a8"
             ],
             [
              0.3333333333333333,
              "#9c179e"
             ],
             [
              0.4444444444444444,
              "#bd3786"
             ],
             [
              0.5555555555555556,
              "#d8576b"
             ],
             [
              0.6666666666666666,
              "#ed7953"
             ],
             [
              0.7777777777777778,
              "#fb9f3a"
             ],
             [
              0.8888888888888888,
              "#fdca26"
             ],
             [
              1,
              "#f0f921"
             ]
            ],
            "type": "surface"
           }
          ],
          "table": [
           {
            "cells": {
             "fill": {
              "color": "#EBF0F8"
             },
             "line": {
              "color": "white"
             }
            },
            "header": {
             "fill": {
              "color": "#C8D4E3"
             },
             "line": {
              "color": "white"
             }
            },
            "type": "table"
           }
          ]
         },
         "layout": {
          "annotationdefaults": {
           "arrowcolor": "#2a3f5f",
           "arrowhead": 0,
           "arrowwidth": 1
          },
          "autotypenumbers": "strict",
          "coloraxis": {
           "colorbar": {
            "outlinewidth": 0,
            "ticks": ""
           }
          },
          "colorscale": {
           "diverging": [
            [
             0,
             "#8e0152"
            ],
            [
             0.1,
             "#c51b7d"
            ],
            [
             0.2,
             "#de77ae"
            ],
            [
             0.3,
             "#f1b6da"
            ],
            [
             0.4,
             "#fde0ef"
            ],
            [
             0.5,
             "#f7f7f7"
            ],
            [
             0.6,
             "#e6f5d0"
            ],
            [
             0.7,
             "#b8e186"
            ],
            [
             0.8,
             "#7fbc41"
            ],
            [
             0.9,
             "#4d9221"
            ],
            [
             1,
             "#276419"
            ]
           ],
           "sequential": [
            [
             0,
             "#0d0887"
            ],
            [
             0.1111111111111111,
             "#46039f"
            ],
            [
             0.2222222222222222,
             "#7201a8"
            ],
            [
             0.3333333333333333,
             "#9c179e"
            ],
            [
             0.4444444444444444,
             "#bd3786"
            ],
            [
             0.5555555555555556,
             "#d8576b"
            ],
            [
             0.6666666666666666,
             "#ed7953"
            ],
            [
             0.7777777777777778,
             "#fb9f3a"
            ],
            [
             0.8888888888888888,
             "#fdca26"
            ],
            [
             1,
             "#f0f921"
            ]
           ],
           "sequentialminus": [
            [
             0,
             "#0d0887"
            ],
            [
             0.1111111111111111,
             "#46039f"
            ],
            [
             0.2222222222222222,
             "#7201a8"
            ],
            [
             0.3333333333333333,
             "#9c179e"
            ],
            [
             0.4444444444444444,
             "#bd3786"
            ],
            [
             0.5555555555555556,
             "#d8576b"
            ],
            [
             0.6666666666666666,
             "#ed7953"
            ],
            [
             0.7777777777777778,
             "#fb9f3a"
            ],
            [
             0.8888888888888888,
             "#fdca26"
            ],
            [
             1,
             "#f0f921"
            ]
           ]
          },
          "colorway": [
           "#636efa",
           "#EF553B",
           "#00cc96",
           "#ab63fa",
           "#FFA15A",
           "#19d3f3",
           "#FF6692",
           "#B6E880",
           "#FF97FF",
           "#FECB52"
          ],
          "font": {
           "color": "#2a3f5f"
          },
          "geo": {
           "bgcolor": "white",
           "lakecolor": "white",
           "landcolor": "#E5ECF6",
           "showlakes": true,
           "showland": true,
           "subunitcolor": "white"
          },
          "hoverlabel": {
           "align": "left"
          },
          "hovermode": "closest",
          "mapbox": {
           "style": "light"
          },
          "paper_bgcolor": "white",
          "plot_bgcolor": "#E5ECF6",
          "polar": {
           "angularaxis": {
            "gridcolor": "white",
            "linecolor": "white",
            "ticks": ""
           },
           "bgcolor": "#E5ECF6",
           "radialaxis": {
            "gridcolor": "white",
            "linecolor": "white",
            "ticks": ""
           }
          },
          "scene": {
           "xaxis": {
            "backgroundcolor": "#E5ECF6",
            "gridcolor": "white",
            "gridwidth": 2,
            "linecolor": "white",
            "showbackground": true,
            "ticks": "",
            "zerolinecolor": "white"
           },
           "yaxis": {
            "backgroundcolor": "#E5ECF6",
            "gridcolor": "white",
            "gridwidth": 2,
            "linecolor": "white",
            "showbackground": true,
            "ticks": "",
            "zerolinecolor": "white"
           },
           "zaxis": {
            "backgroundcolor": "#E5ECF6",
            "gridcolor": "white",
            "gridwidth": 2,
            "linecolor": "white",
            "showbackground": true,
            "ticks": "",
            "zerolinecolor": "white"
           }
          },
          "shapedefaults": {
           "line": {
            "color": "#2a3f5f"
           }
          },
          "ternary": {
           "aaxis": {
            "gridcolor": "white",
            "linecolor": "white",
            "ticks": ""
           },
           "baxis": {
            "gridcolor": "white",
            "linecolor": "white",
            "ticks": ""
           },
           "bgcolor": "#E5ECF6",
           "caxis": {
            "gridcolor": "white",
            "linecolor": "white",
            "ticks": ""
           }
          },
          "title": {
           "x": 0.05
          },
          "xaxis": {
           "automargin": true,
           "gridcolor": "white",
           "linecolor": "white",
           "ticks": "",
           "title": {
            "standoff": 15
           },
           "zerolinecolor": "white",
           "zerolinewidth": 2
          },
          "yaxis": {
           "automargin": true,
           "gridcolor": "white",
           "linecolor": "white",
           "ticks": "",
           "title": {
            "standoff": 15
           },
           "zerolinecolor": "white",
           "zerolinewidth": 2
          }
         }
        },
        "xaxis": {
         "anchor": "y",
         "domain": [
          0,
          1
         ],
         "title": {
          "text": "x"
         }
        },
        "yaxis": {
         "anchor": "x",
         "domain": [
          0,
          1
         ],
         "title": {
          "text": "y"
         }
        }
       }
      },
      "text/html": [
       "<div>                            <div id=\"db0ea4fb-6b66-46a7-a4e8-3eb96ee0ca5f\" class=\"plotly-graph-div\" style=\"height:525px; width:100%;\"></div>            <script type=\"text/javascript\">                require([\"plotly\"], function(Plotly) {                    window.PLOTLYENV=window.PLOTLYENV || {};                                    if (document.getElementById(\"db0ea4fb-6b66-46a7-a4e8-3eb96ee0ca5f\")) {                    Plotly.newPlot(                        \"db0ea4fb-6b66-46a7-a4e8-3eb96ee0ca5f\",                        [{\"error_y\":{\"array\":[1.595262885093689,1.3974720239639282,1.5158888101577759,1.4943068027496338,1.3779417276382446,1.5285500288009644,1.5364474058151245,1.514830470085144,1.4905409812927246,1.4854464530944824,1.4721096754074097,1.414474368095398,1.3509882688522339,1.3276599645614624,1.3102929592132568,1.3035157918930054,1.2935112714767456,1.2872416973114014,1.240984559059143,1.2143845558166504,1.2003899812698364,1.1492353677749634,1.1547173261642456,1.159838080406189,1.1551051139831543,1.158354640007019,1.1393986940383911,1.1381312608718872,1.105459451675415,1.1010661125183105,1.0984150171279907,1.1213696002960205,1.1299885511398315,1.1319104433059692,1.126991868019104,1.1193583011627197,1.1116163730621338,1.1143620014190674,1.1194069385528564,1.1241389513015747,1.1206285953521729,1.1025488376617432,1.0937963724136353,1.103171706199646,1.1085387468338013,1.0934789180755615,1.0789587497711182,1.0785449743270874,1.0831655263900757,1.0897188186645508,1.0907232761383057,1.088405966758728,1.0917298793792725,1.0911229848861694,1.1044687032699585,1.1047821044921875,1.105828046798706,1.0978705883026123,1.0984736680984497,1.0986700057983398,1.0829509496688843,1.0831634998321533,1.0819932222366333,1.0831271409988403,1.0826009511947632,1.075642704963684,1.072898507118225,1.0802388191223145,1.134826421737671,1.1351172924041748,1.134443759918213,1.1185535192489624,1.1184742450714111,1.1234067678451538,1.1189972162246704,1.13711678981781,1.13651704788208,1.1355167627334595,1.1281473636627197,1.1254041194915771,1.129541039466858,1.1245296001434326,1.1200541257858276,1.1153504848480225,1.0997241735458374,1.098839282989502,1.0992751121520996,1.0969294309616089,1.1019322872161865,1.1051150560379028,1.1113643646240234,1.1074376106262207,1.10896635055542,1.1026307344436646,1.1023255586624146,1.0923432111740112,1.1076973676681519,1.118226408958435,1.123353362083435,1.126210331916809,1.1157699823379517,1.1103366613388062,1.1111137866973877,1.103657841682434,1.1039204597473145,1.110102653503418,1.1152549982070923,1.1141459941864014,1.1200851202011108,1.1143144369125366,1.1190141439437866,1.0967230796813965,1.1042944192886353,1.1009141206741333,1.0822299718856812,1.0820361375808716,1.0790300369262695,1.0932540893554688,1.0869419574737549,1.0898386240005493,1.0776985883712769,1.0617780685424805,1.049588918685913,1.0768060684204102,1.0602666139602661,1.0583083629608154,1.0534555912017822,1.0663020610809326,1.0785551071166992,1.0663191080093384,1.0729364156723022,1.0744075775146484,1.0632456541061401,1.0841515064239502,1.0839999914169312,1.081834316253662,1.0743969678878784,1.083463430404663,1.0799247026443481,1.074009895324707,1.0666968822479248,1.0833901166915894,1.2518062591552734,1.6419267654418945]},\"hovertemplate\":\"x=%{x}\\u003cbr\\u003ey=%{y}\\u003cextra\\u003e\\u003c\\u002fextra\\u003e\",\"legendgroup\":\"\",\"line\":{\"color\":\"#636efa\",\"dash\":\"solid\"},\"marker\":{\"symbol\":\"circle\"},\"mode\":\"lines\",\"name\":\"\",\"orientation\":\"v\",\"showlegend\":false,\"x\":[\"5.6\",\"9.9\",\"11.10\",\"0.1\",\"4.11\",\"10.7\",\"0.5\",\"0.3\",\"5.10\",\"3.0\",\"3.3\",\"2.1\",\"7.0\",\"0.6\",\"7.2\",\"6.9\",\"10.6\",\"10.1\",\"1.0\",\"10.0\",\"5.4\",\"0.7\",\"3.2\",\"9.5\",\"8.1\",\"0.9\",\"6.1\",\"3.5\",\"4.0\",\"3.9\",\"2.6\",\"5.5\",\"3.1\",\"2.0\",\"4.10\",\"1.1\",\"3.7\",\"11.5\",\"5.7\",\"11.1\",\"11.0\",\"2.8\",\"4.1\",\"9.0\",\"1.10\",\"3.4\",\"2.5\",\"4.9\",\"5.3\",\"11.7\",\"4.2\",\"9.1\",\"6.2\",\"0.11\",\"2.10\",\"10.11\",\"6.3\",\"6.8\",\"4.8\",\"9.11\",\"11.2\",\"5.1\",\"10.2\",\"10.8\",\"9.4\",\"2.3\",\"8.0\",\"6.10\",\"1.11\",\"8.4\",\"7.4\",\"3.6\",\"7.7\",\"10.9\",\"8.5\",\"4.3\",\"6.11\",\"10.5\",\"6.5\",\"9.7\",\"2.11\",\"8.8\",\"1.6\",\"7.1\",\"8.7\",\"9.10\",\"8.2\",\"6.0\",\"3.11\",\"1.9\",\"5.0\",\"4.6\",\"1.8\",\"7.10\",\"7.11\",\"11.9\",\"0.4\",\"7.6\",\"7.3\",\"3.8\",\"9.6\",\"1.2\",\"10.4\",\"2.2\",\"10.3\",\"0.8\",\"7.8\",\"8.9\",\"1.7\",\"11.3\",\"9.2\",\"8.6\",\"4.5\",\"9.8\",\"2.7\",\"11.8\",\"1.3\",\"5.8\",\"7.5\",\"6.4\",\"7.9\",\"2.4\",\"6.7\",\"9.3\",\"5.9\",\"6.6\",\"5.2\",\"1.4\",\"0.0\",\"0.2\",\"5.11\",\"3.10\",\"0.10\",\"11.4\",\"1.5\",\"2.9\",\"4.4\",\"11.11\",\"8.10\",\"8.3\",\"11.6\",\"4.7\",\"10.10\",\"8.11\"],\"xaxis\":\"x\",\"y\":[4.01937198638916,4.222156047821045,4.533319473266602,4.707581043243408,4.796192646026611,5.187533855438232,5.265850067138672,5.3011274337768555,5.410330295562744,5.434925556182861,5.487993240356445,5.536468505859375,5.571605205535889,5.591408729553223,5.612123966217041,5.611203670501709,5.634109973907471,5.661133766174316,5.682709693908691,5.716040134429932,5.728976726531982,5.742224216461182,5.722951412200928,5.742551326751709,5.741379261016846,5.740061283111572,5.731735706329346,5.728240013122559,5.732187271118164,5.72160530090332,5.723491668701172,5.697966575622559,5.697780609130859,5.694695949554443,5.706157684326172,5.7006988525390625,5.679718971252441,5.690374851226807,5.6993937492370605,5.70805025100708,5.725052833557129,5.742196083068848,5.745635986328125,5.7425665855407715,5.735421180725098,5.719890594482422,5.735875606536865,5.73514461517334,5.7354912757873535,5.739701271057129,5.743186950683594,5.741333484649658,5.735990047454834,5.7303619384765625,5.722155570983887,5.728879451751709,5.728477478027344,5.710807800292969,5.709612846374512,5.711077690124512,5.7271552085876465,5.725684642791748,5.728644847869873,5.732217311859131,5.732344627380371,5.736485481262207,5.733469009399414,5.7371673583984375,5.66471004486084,5.664645671844482,5.657332420349121,5.620196342468262,5.618417739868164,5.618663311004639,5.606359958648682,5.580846309661865,5.580395221710205,5.578528881072998,5.588898181915283,5.589188098907471,5.581543445587158,5.566471576690674,5.548320293426514,5.529496192932129,5.528896808624268,5.5245819091796875,5.529964447021484,5.518629550933838,5.524534225463867,5.526236534118652,5.520583152770996,5.528226375579834,5.523190021514893,4.982313632965088,4.978405952453613,4.984042167663574,4.9578142166137695,4.975337982177734,4.975278854370117,4.9712419509887695,4.943864822387695,4.947773456573486,4.950079917907715,4.871264934539795,4.864952087402344,4.860792636871338,4.852485179901123,4.857956886291504,4.827752590179443,4.802791118621826,4.798717975616455,4.792147636413574,4.784946918487549,4.7745041847229,4.789515495300293,4.799342632293701,4.788660526275635,4.808326721191406,4.809731960296631,4.811921119689941,4.82759952545166,4.832413673400879,4.847970962524414,4.841639995574951,4.799155235290527,4.799881458282471,4.80212926864624,4.804052829742432,4.7884697914123535,4.783086776733398,4.778134346008301,4.745399475097656,4.817493915557861,4.709236145019531,4.696269512176514,4.688358306884766,4.7086567878723145,4.640341281890869,4.78675651550293,4.74191951751709,4.687765121459961,4.54979133605957,2.3640594482421875,-0.6625524759292603],\"yaxis\":\"y\",\"type\":\"scatter\"}],                        {\"template\":{\"data\":{\"histogram2dcontour\":[{\"type\":\"histogram2dcontour\",\"colorbar\":{\"outlinewidth\":0,\"ticks\":\"\"},\"colorscale\":[[0.0,\"#0d0887\"],[0.1111111111111111,\"#46039f\"],[0.2222222222222222,\"#7201a8\"],[0.3333333333333333,\"#9c179e\"],[0.4444444444444444,\"#bd3786\"],[0.5555555555555556,\"#d8576b\"],[0.6666666666666666,\"#ed7953\"],[0.7777777777777778,\"#fb9f3a\"],[0.8888888888888888,\"#fdca26\"],[1.0,\"#f0f921\"]]}],\"choropleth\":[{\"type\":\"choropleth\",\"colorbar\":{\"outlinewidth\":0,\"ticks\":\"\"}}],\"histogram2d\":[{\"type\":\"histogram2d\",\"colorbar\":{\"outlinewidth\":0,\"ticks\":\"\"},\"colorscale\":[[0.0,\"#0d0887\"],[0.1111111111111111,\"#46039f\"],[0.2222222222222222,\"#7201a8\"],[0.3333333333333333,\"#9c179e\"],[0.4444444444444444,\"#bd3786\"],[0.5555555555555556,\"#d8576b\"],[0.6666666666666666,\"#ed7953\"],[0.7777777777777778,\"#fb9f3a\"],[0.8888888888888888,\"#fdca26\"],[1.0,\"#f0f921\"]]}],\"heatmap\":[{\"type\":\"heatmap\",\"colorbar\":{\"outlinewidth\":0,\"ticks\":\"\"},\"colorscale\":[[0.0,\"#0d0887\"],[0.1111111111111111,\"#46039f\"],[0.2222222222222222,\"#7201a8\"],[0.3333333333333333,\"#9c179e\"],[0.4444444444444444,\"#bd3786\"],[0.5555555555555556,\"#d8576b\"],[0.6666666666666666,\"#ed7953\"],[0.7777777777777778,\"#fb9f3a\"],[0.8888888888888888,\"#fdca26\"],[1.0,\"#f0f921\"]]}],\"heatmapgl\":[{\"type\":\"heatmapgl\",\"colorbar\":{\"outlinewidth\":0,\"ticks\":\"\"},\"colorscale\":[[0.0,\"#0d0887\"],[0.1111111111111111,\"#46039f\"],[0.2222222222222222,\"#7201a8\"],[0.3333333333333333,\"#9c179e\"],[0.4444444444444444,\"#bd3786\"],[0.5555555555555556,\"#d8576b\"],[0.6666666666666666,\"#ed7953\"],[0.7777777777777778,\"#fb9f3a\"],[0.8888888888888888,\"#fdca26\"],[1.0,\"#f0f921\"]]}],\"contourcarpet\":[{\"type\":\"contourcarpet\",\"colorbar\":{\"outlinewidth\":0,\"ticks\":\"\"}}],\"contour\":[{\"type\":\"contour\",\"colorbar\":{\"outlinewidth\":0,\"ticks\":\"\"},\"colorscale\":[[0.0,\"#0d0887\"],[0.1111111111111111,\"#46039f\"],[0.2222222222222222,\"#7201a8\"],[0.3333333333333333,\"#9c179e\"],[0.4444444444444444,\"#bd3786\"],[0.5555555555555556,\"#d8576b\"],[0.6666666666666666,\"#ed7953\"],[0.7777777777777778,\"#fb9f3a\"],[0.8888888888888888,\"#fdca26\"],[1.0,\"#f0f921\"]]}],\"surface\":[{\"type\":\"surface\",\"colorbar\":{\"outlinewidth\":0,\"ticks\":\"\"},\"colorscale\":[[0.0,\"#0d0887\"],[0.1111111111111111,\"#46039f\"],[0.2222222222222222,\"#7201a8\"],[0.3333333333333333,\"#9c179e\"],[0.4444444444444444,\"#bd3786\"],[0.5555555555555556,\"#d8576b\"],[0.6666666666666666,\"#ed7953\"],[0.7777777777777778,\"#fb9f3a\"],[0.8888888888888888,\"#fdca26\"],[1.0,\"#f0f921\"]]}],\"mesh3d\":[{\"type\":\"mesh3d\",\"colorbar\":{\"outlinewidth\":0,\"ticks\":\"\"}}],\"scatter\":[{\"fillpattern\":{\"fillmode\":\"overlay\",\"size\":10,\"solidity\":0.2},\"type\":\"scatter\"}],\"parcoords\":[{\"type\":\"parcoords\",\"line\":{\"colorbar\":{\"outlinewidth\":0,\"ticks\":\"\"}}}],\"scatterpolargl\":[{\"type\":\"scatterpolargl\",\"marker\":{\"colorbar\":{\"outlinewidth\":0,\"ticks\":\"\"}}}],\"bar\":[{\"error_x\":{\"color\":\"#2a3f5f\"},\"error_y\":{\"color\":\"#2a3f5f\"},\"marker\":{\"line\":{\"color\":\"#E5ECF6\",\"width\":0.5},\"pattern\":{\"fillmode\":\"overlay\",\"size\":10,\"solidity\":0.2}},\"type\":\"bar\"}],\"scattergeo\":[{\"type\":\"scattergeo\",\"marker\":{\"colorbar\":{\"outlinewidth\":0,\"ticks\":\"\"}}}],\"scatterpolar\":[{\"type\":\"scatterpolar\",\"marker\":{\"colorbar\":{\"outlinewidth\":0,\"ticks\":\"\"}}}],\"histogram\":[{\"marker\":{\"pattern\":{\"fillmode\":\"overlay\",\"size\":10,\"solidity\":0.2}},\"type\":\"histogram\"}],\"scattergl\":[{\"type\":\"scattergl\",\"marker\":{\"colorbar\":{\"outlinewidth\":0,\"ticks\":\"\"}}}],\"scatter3d\":[{\"type\":\"scatter3d\",\"line\":{\"colorbar\":{\"outlinewidth\":0,\"ticks\":\"\"}},\"marker\":{\"colorbar\":{\"outlinewidth\":0,\"ticks\":\"\"}}}],\"scattermapbox\":[{\"type\":\"scattermapbox\",\"marker\":{\"colorbar\":{\"outlinewidth\":0,\"ticks\":\"\"}}}],\"scatterternary\":[{\"type\":\"scatterternary\",\"marker\":{\"colorbar\":{\"outlinewidth\":0,\"ticks\":\"\"}}}],\"scattercarpet\":[{\"type\":\"scattercarpet\",\"marker\":{\"colorbar\":{\"outlinewidth\":0,\"ticks\":\"\"}}}],\"carpet\":[{\"aaxis\":{\"endlinecolor\":\"#2a3f5f\",\"gridcolor\":\"white\",\"linecolor\":\"white\",\"minorgridcolor\":\"white\",\"startlinecolor\":\"#2a3f5f\"},\"baxis\":{\"endlinecolor\":\"#2a3f5f\",\"gridcolor\":\"white\",\"linecolor\":\"white\",\"minorgridcolor\":\"white\",\"startlinecolor\":\"#2a3f5f\"},\"type\":\"carpet\"}],\"table\":[{\"cells\":{\"fill\":{\"color\":\"#EBF0F8\"},\"line\":{\"color\":\"white\"}},\"header\":{\"fill\":{\"color\":\"#C8D4E3\"},\"line\":{\"color\":\"white\"}},\"type\":\"table\"}],\"barpolar\":[{\"marker\":{\"line\":{\"color\":\"#E5ECF6\",\"width\":0.5},\"pattern\":{\"fillmode\":\"overlay\",\"size\":10,\"solidity\":0.2}},\"type\":\"barpolar\"}],\"pie\":[{\"automargin\":true,\"type\":\"pie\"}]},\"layout\":{\"autotypenumbers\":\"strict\",\"colorway\":[\"#636efa\",\"#EF553B\",\"#00cc96\",\"#ab63fa\",\"#FFA15A\",\"#19d3f3\",\"#FF6692\",\"#B6E880\",\"#FF97FF\",\"#FECB52\"],\"font\":{\"color\":\"#2a3f5f\"},\"hovermode\":\"closest\",\"hoverlabel\":{\"align\":\"left\"},\"paper_bgcolor\":\"white\",\"plot_bgcolor\":\"#E5ECF6\",\"polar\":{\"bgcolor\":\"#E5ECF6\",\"angularaxis\":{\"gridcolor\":\"white\",\"linecolor\":\"white\",\"ticks\":\"\"},\"radialaxis\":{\"gridcolor\":\"white\",\"linecolor\":\"white\",\"ticks\":\"\"}},\"ternary\":{\"bgcolor\":\"#E5ECF6\",\"aaxis\":{\"gridcolor\":\"white\",\"linecolor\":\"white\",\"ticks\":\"\"},\"baxis\":{\"gridcolor\":\"white\",\"linecolor\":\"white\",\"ticks\":\"\"},\"caxis\":{\"gridcolor\":\"white\",\"linecolor\":\"white\",\"ticks\":\"\"}},\"coloraxis\":{\"colorbar\":{\"outlinewidth\":0,\"ticks\":\"\"}},\"colorscale\":{\"sequential\":[[0.0,\"#0d0887\"],[0.1111111111111111,\"#46039f\"],[0.2222222222222222,\"#7201a8\"],[0.3333333333333333,\"#9c179e\"],[0.4444444444444444,\"#bd3786\"],[0.5555555555555556,\"#d8576b\"],[0.6666666666666666,\"#ed7953\"],[0.7777777777777778,\"#fb9f3a\"],[0.8888888888888888,\"#fdca26\"],[1.0,\"#f0f921\"]],\"sequentialminus\":[[0.0,\"#0d0887\"],[0.1111111111111111,\"#46039f\"],[0.2222222222222222,\"#7201a8\"],[0.3333333333333333,\"#9c179e\"],[0.4444444444444444,\"#bd3786\"],[0.5555555555555556,\"#d8576b\"],[0.6666666666666666,\"#ed7953\"],[0.7777777777777778,\"#fb9f3a\"],[0.8888888888888888,\"#fdca26\"],[1.0,\"#f0f921\"]],\"diverging\":[[0,\"#8e0152\"],[0.1,\"#c51b7d\"],[0.2,\"#de77ae\"],[0.3,\"#f1b6da\"],[0.4,\"#fde0ef\"],[0.5,\"#f7f7f7\"],[0.6,\"#e6f5d0\"],[0.7,\"#b8e186\"],[0.8,\"#7fbc41\"],[0.9,\"#4d9221\"],[1,\"#276419\"]]},\"xaxis\":{\"gridcolor\":\"white\",\"linecolor\":\"white\",\"ticks\":\"\",\"title\":{\"standoff\":15},\"zerolinecolor\":\"white\",\"automargin\":true,\"zerolinewidth\":2},\"yaxis\":{\"gridcolor\":\"white\",\"linecolor\":\"white\",\"ticks\":\"\",\"title\":{\"standoff\":15},\"zerolinecolor\":\"white\",\"automargin\":true,\"zerolinewidth\":2},\"scene\":{\"xaxis\":{\"backgroundcolor\":\"#E5ECF6\",\"gridcolor\":\"white\",\"linecolor\":\"white\",\"showbackground\":true,\"ticks\":\"\",\"zerolinecolor\":\"white\",\"gridwidth\":2},\"yaxis\":{\"backgroundcolor\":\"#E5ECF6\",\"gridcolor\":\"white\",\"linecolor\":\"white\",\"showbackground\":true,\"ticks\":\"\",\"zerolinecolor\":\"white\",\"gridwidth\":2},\"zaxis\":{\"backgroundcolor\":\"#E5ECF6\",\"gridcolor\":\"white\",\"linecolor\":\"white\",\"showbackground\":true,\"ticks\":\"\",\"zerolinecolor\":\"white\",\"gridwidth\":2}},\"shapedefaults\":{\"line\":{\"color\":\"#2a3f5f\"}},\"annotationdefaults\":{\"arrowcolor\":\"#2a3f5f\",\"arrowhead\":0,\"arrowwidth\":1},\"geo\":{\"bgcolor\":\"white\",\"landcolor\":\"#E5ECF6\",\"subunitcolor\":\"white\",\"showland\":true,\"showlakes\":true,\"lakecolor\":\"white\"},\"title\":{\"x\":0.05},\"mapbox\":{\"style\":\"light\"}}},\"xaxis\":{\"anchor\":\"y\",\"domain\":[0.0,1.0],\"title\":{\"text\":\"x\"}},\"yaxis\":{\"anchor\":\"x\",\"domain\":[0.0,1.0],\"title\":{\"text\":\"y\"}},\"legend\":{\"tracegroupgap\":0},\"margin\":{\"t\":60},\"shapes\":[{\"line\":{\"color\":\"black\",\"dash\":\"dash\",\"width\":1.5},\"type\":\"line\",\"x0\":0,\"x1\":1,\"xref\":\"x domain\",\"y0\":3.605156898498535,\"y1\":3.605156898498535,\"yref\":\"y\"}]},                        {\"responsive\": true}                    ).then(function(){\n",
       "                            \n",
       "var gd = document.getElementById('db0ea4fb-6b66-46a7-a4e8-3eb96ee0ca5f');\n",
       "var x = new MutationObserver(function (mutations, observer) {{\n",
       "        var display = window.getComputedStyle(gd).display;\n",
       "        if (!display || display === 'none') {{\n",
       "            console.log([gd, 'removed!']);\n",
       "            Plotly.purge(gd);\n",
       "            observer.disconnect();\n",
       "        }}\n",
       "}});\n",
       "\n",
       "// Listen for the removal of the full notebook cells\n",
       "var notebookContainer = gd.closest('#notebook-container');\n",
       "if (notebookContainer) {{\n",
       "    x.observe(notebookContainer, {childList: true});\n",
       "}}\n",
       "\n",
       "// Listen for the clearing of the current output cell\n",
       "var outputEl = gd.closest('.output');\n",
       "if (outputEl) {{\n",
       "    x.observe(outputEl, {childList: true});\n",
       "}}\n",
       "\n",
       "                        })                };                });            </script>        </div>"
      ]
     },
     "metadata": {},
     "output_type": "display_data"
    }
   ],
   "source": [
    "labels = [f\"{layer}.{head}\" for layer, head in reversed(sorted_heads_tl)]\n",
    "fig = px.line(x = labels, y=logit_diffs_tl.cpu().numpy(), error_y=std_logit_diffs_tl.cpu().numpy())\n",
    "fig.add_hline(y=logit_diff_tl.item(), line_width=1.5, line_dash=\"dash\", line_color=\"black\")\n",
    "fig.show()"
   ]
  },
  {
   "cell_type": "code",
   "execution_count": 53,
   "metadata": {},
   "outputs": [],
   "source": [
    "heads_to_patch = []\n",
    "logit_diffs = []\n",
    "std_logit_diffs = []\n",
    "\n",
    "hooks = []\n",
    "    \n",
    "for circuit_head in reversed(sorted_heads_hf):\n",
    "    heads_to_patch.append(circuit_head)\n",
    "    for layer_i, head_i in heads_to_patch:\n",
    "        hooks.append(model_hf.transformer.h[layer_i].attn.c_attn.register_forward_hook(partial(mean_ablate_head_hf, layer_idx=layer_i, head_idx=head_i, cache_v=cache_v)))\n",
    "    circuit_logits = model_hf(tokens_hf)[\"logits\"]\n",
    "    [hook.remove() for hook in hooks]\n",
    "\n",
    "    logit_diff = compute_logit_diff(circuit_logits, answer_tokens, average=False)\n",
    "    av_logit_diff = logit_diff[..., -1].mean(0)\n",
    "    std_logit_diff = logit_diff[..., -1].std(0)\n",
    "    logit_diffs.append(av_logit_diff)\n",
    "    std_logit_diffs.append(std_logit_diff)\n",
    "logit_diffs_hf = torch.stack(logit_diffs, dim=0)\n",
    "std_logit_diffs_hf = torch.stack(std_logit_diffs, dim=0)"
   ]
  },
  {
   "cell_type": "code",
   "execution_count": 54,
   "metadata": {},
   "outputs": [
    {
     "data": {
      "application/vnd.plotly.v1+json": {
       "config": {
        "plotlyServerURL": "https://plot.ly"
       },
       "data": [
        {
         "error_y": {
          "array": [
           1.5952602624893188,
           1.397469401359558,
           1.5158867835998535,
           1.4943119287490845,
           1.3779419660568237,
           1.5285500288009644,
           1.5364470481872559,
           1.5148301124572754,
           1.4905411005020142,
           1.4854439496994019,
           1.4721076488494873,
           1.4144761562347412,
           1.3509920835494995,
           1.3276612758636475,
           1.3102890253067017,
           1.3035134077072144,
           1.2935141324996948,
           1.2872411012649536,
           1.2409842014312744,
           1.2143864631652832,
           1.2003908157348633,
           1.1492351293563843,
           1.1547168493270874,
           1.1598368883132935,
           1.1623437404632568,
           1.1583542823791504,
           1.1393969058990479,
           1.1381304264068604,
           1.1054593324661255,
           1.101067066192627,
           1.098412036895752,
           1.121372103691101,
           1.129987120628357,
           1.1319104433059692,
           1.1269919872283936,
           1.1193616390228271,
           1.1116175651550293,
           1.114364743232727,
           1.1194084882736206,
           1.1241366863250732,
           1.1206284761428833,
           1.1025478839874268,
           1.0937966108322144,
           1.1031724214553833,
           1.1085373163223267,
           1.0934779644012451,
           1.0789563655853271,
           1.0785466432571411,
           1.0831623077392578,
           1.0897196531295776,
           1.0907241106033325,
           1.0884051322937012,
           1.091729998588562,
           1.0911232233047485,
           1.1044676303863525,
           1.104782223701477,
           1.105826735496521,
           1.1068686246871948,
           1.0984746217727661,
           1.0986722707748413,
           1.0829538106918335,
           1.0831623077392578,
           1.0819956064224243,
           1.083126425743103,
           1.0826035737991333,
           1.0756454467773438,
           1.0728999376296997,
           1.0802388191223145,
           1.1348263025283813,
           1.1351174116134644,
           1.1344425678253174,
           1.1185535192489624,
           1.1184736490249634,
           1.1234056949615479,
           1.1189994812011719,
           1.1371132135391235,
           1.13651704788208,
           1.1355162858963013,
           1.1281462907791138,
           1.1254045963287354,
           1.1295404434204102,
           1.124530553817749,
           1.1200522184371948,
           1.1153525114059448,
           1.0997223854064941,
           1.0988420248031616,
           1.0992791652679443,
           1.0969302654266357,
           1.1019327640533447,
           1.1051114797592163,
           1.1113629341125488,
           1.1074362993240356,
           1.1089671850204468,
           1.1026309728622437,
           1.102325201034546,
           1.0923415422439575,
           1.107696294784546,
           1.1182258129119873,
           1.1233563423156738,
           1.126210331916809,
           1.1157723665237427,
           1.1103323698043823,
           1.1111114025115967,
           1.103657603263855,
           1.1039236783981323,
           1.1101038455963135,
           1.1152551174163818,
           1.1141458749771118,
           1.1200860738754272,
           1.114315390586853,
           1.119013786315918,
           1.0967211723327637,
           1.1042954921722412,
           1.1009107828140259,
           1.0822278261184692,
           1.0820363759994507,
           1.07902991771698,
           1.0932559967041016,
           1.0869417190551758,
           1.0898391008377075,
           1.0776996612548828,
           1.0617759227752686,
           1.0495902299880981,
           1.076803207397461,
           1.0602666139602661,
           1.0583088397979736,
           1.0534549951553345,
           1.066303014755249,
           1.0785547494888306,
           1.0663199424743652,
           1.0729362964630127,
           1.0744071006774902,
           1.0632504224777222,
           1.0841525793075562,
           1.083997368812561,
           1.0818332433700562,
           1.0743988752365112,
           1.083463430404663,
           1.0799223184585571,
           1.0740138292312622,
           1.0666977167129517,
           1.0833913087844849,
           1.2518049478530884,
           1.6419262886047363
          ]
         },
         "hovertemplate": "x=%{x}<br>y=%{y}<extra></extra>",
         "legendgroup": "",
         "line": {
          "color": "#636efa",
          "dash": "solid"
         },
         "marker": {
          "symbol": "circle"
         },
         "mode": "lines",
         "name": "",
         "orientation": "v",
         "showlegend": false,
         "type": "scatter",
         "x": [
          "5.6",
          "9.9",
          "11.10",
          "0.1",
          "4.11",
          "10.7",
          "0.5",
          "0.3",
          "5.10",
          "3.0",
          "3.3",
          "2.1",
          "7.0",
          "0.6",
          "7.2",
          "6.9",
          "10.6",
          "10.1",
          "1.0",
          "10.0",
          "5.4",
          "0.7",
          "3.2",
          "9.5",
          "0.9",
          "8.1",
          "6.1",
          "3.5",
          "4.0",
          "3.9",
          "2.6",
          "5.5",
          "3.1",
          "2.0",
          "4.10",
          "1.1",
          "3.7",
          "11.5",
          "5.7",
          "11.1",
          "11.0",
          "2.8",
          "4.1",
          "9.0",
          "1.10",
          "3.4",
          "2.5",
          "4.9",
          "5.3",
          "11.7",
          "4.2",
          "9.1",
          "6.2",
          "0.11",
          "2.10",
          "10.11",
          "6.3",
          "4.8",
          "6.8",
          "9.11",
          "11.2",
          "5.1",
          "10.2",
          "10.8",
          "9.4",
          "2.3",
          "8.0",
          "6.10",
          "1.11",
          "8.4",
          "7.4",
          "3.6",
          "7.7",
          "10.9",
          "8.5",
          "4.3",
          "6.11",
          "10.5",
          "6.5",
          "9.7",
          "2.11",
          "8.8",
          "1.6",
          "7.1",
          "8.7",
          "9.10",
          "8.2",
          "6.0",
          "3.11",
          "1.9",
          "5.0",
          "4.6",
          "1.8",
          "7.10",
          "7.11",
          "11.9",
          "0.4",
          "7.6",
          "7.3",
          "3.8",
          "9.6",
          "1.2",
          "10.4",
          "2.2",
          "10.3",
          "0.8",
          "7.8",
          "8.9",
          "1.7",
          "11.3",
          "9.2",
          "8.6",
          "4.5",
          "9.8",
          "2.7",
          "11.8",
          "1.3",
          "5.8",
          "7.5",
          "6.4",
          "7.9",
          "2.4",
          "6.7",
          "9.3",
          "5.9",
          "6.6",
          "5.2",
          "1.4",
          "0.0",
          "0.2",
          "5.11",
          "3.10",
          "0.10",
          "11.4",
          "1.5",
          "2.9",
          "4.4",
          "11.11",
          "8.10",
          "8.3",
          "11.6",
          "4.7",
          "10.10",
          "8.11"
         ],
         "xaxis": "x",
         "y": [
          4.019374370574951,
          4.222157955169678,
          4.53331995010376,
          4.707579612731934,
          4.796189308166504,
          5.187535285949707,
          5.2658491134643555,
          5.301127910614014,
          5.410330772399902,
          5.4349236488342285,
          5.487991809844971,
          5.536470890045166,
          5.571604251861572,
          5.591408729553223,
          5.612122535705566,
          5.611202716827393,
          5.634109973907471,
          5.661136150360107,
          5.6827073097229,
          5.716037273406982,
          5.72898006439209,
          5.742225170135498,
          5.722951412200928,
          5.742551326751709,
          5.740402698516846,
          5.740060806274414,
          5.7317376136779785,
          5.728238582611084,
          5.732188701629639,
          5.72160530090332,
          5.72349214553833,
          5.697964191436768,
          5.697784423828125,
          5.694698810577393,
          5.706160068511963,
          5.700700759887695,
          5.679720878601074,
          5.690372943878174,
          5.69939661026001,
          5.7080512046813965,
          5.725053787231445,
          5.742194175720215,
          5.745635986328125,
          5.742565631866455,
          5.735422134399414,
          5.719890117645264,
          5.735878944396973,
          5.735145092010498,
          5.735490798950195,
          5.739702224731445,
          5.743185520172119,
          5.741335868835449,
          5.73598575592041,
          5.730362415313721,
          5.72215461730957,
          5.728879451751709,
          5.728475093841553,
          5.728134632110596,
          5.7096099853515625,
          5.711073875427246,
          5.727152347564697,
          5.725682735443115,
          5.728645324707031,
          5.732219219207764,
          5.732343673706055,
          5.736485958099365,
          5.733471393585205,
          5.7371673583984375,
          5.664708137512207,
          5.664643287658691,
          5.6573357582092285,
          5.620194435119629,
          5.618419170379639,
          5.618660926818848,
          5.606359004974365,
          5.580843448638916,
          5.580395221710205,
          5.578531742095947,
          5.588898658752441,
          5.5891900062561035,
          5.581543922424316,
          5.566470146179199,
          5.548318862915039,
          5.529497146606445,
          5.528896808624268,
          5.524580001831055,
          5.529963970184326,
          5.518624782562256,
          5.524534702301025,
          5.526237487792969,
          5.520583152770996,
          5.528226852416992,
          5.523189067840576,
          4.982314109802246,
          4.978404521942139,
          4.984039783477783,
          4.957813739776611,
          4.975342273712158,
          4.975281715393066,
          4.971240997314453,
          4.9438700675964355,
          4.947776794433594,
          4.9500837326049805,
          4.8712615966796875,
          4.864953994750977,
          4.860788345336914,
          4.852482318878174,
          4.8579559326171875,
          4.827750205993652,
          4.802793502807617,
          4.798717975616455,
          4.792147159576416,
          4.784945487976074,
          4.774508476257324,
          4.789515972137451,
          4.799342632293701,
          4.78865909576416,
          4.808326721191406,
          4.809731483459473,
          4.811921119689941,
          4.827600955963135,
          4.832414627075195,
          4.847972393035889,
          4.841638565063477,
          4.799154758453369,
          4.799880027770996,
          4.80212926864624,
          4.80405330657959,
          4.7884697914123535,
          4.783092021942139,
          4.778133392333984,
          4.74539852142334,
          4.817494869232178,
          4.709235191345215,
          4.6962714195251465,
          4.688356876373291,
          4.70865535736084,
          4.6403398513793945,
          4.786754608154297,
          4.74191951751709,
          4.687761306762695,
          4.5497894287109375,
          2.3640615940093994,
          -0.6625505685806274
         ],
         "yaxis": "y"
        }
       ],
       "layout": {
        "legend": {
         "tracegroupgap": 0
        },
        "margin": {
         "t": 60
        },
        "shapes": [
         {
          "line": {
           "color": "black",
           "dash": "dash",
           "width": 1.5
          },
          "type": "line",
          "x0": 0,
          "x1": 1,
          "xref": "x domain",
          "y0": 3.6051552295684814,
          "y1": 3.6051552295684814,
          "yref": "y"
         }
        ],
        "template": {
         "data": {
          "bar": [
           {
            "error_x": {
             "color": "#2a3f5f"
            },
            "error_y": {
             "color": "#2a3f5f"
            },
            "marker": {
             "line": {
              "color": "#E5ECF6",
              "width": 0.5
             },
             "pattern": {
              "fillmode": "overlay",
              "size": 10,
              "solidity": 0.2
             }
            },
            "type": "bar"
           }
          ],
          "barpolar": [
           {
            "marker": {
             "line": {
              "color": "#E5ECF6",
              "width": 0.5
             },
             "pattern": {
              "fillmode": "overlay",
              "size": 10,
              "solidity": 0.2
             }
            },
            "type": "barpolar"
           }
          ],
          "carpet": [
           {
            "aaxis": {
             "endlinecolor": "#2a3f5f",
             "gridcolor": "white",
             "linecolor": "white",
             "minorgridcolor": "white",
             "startlinecolor": "#2a3f5f"
            },
            "baxis": {
             "endlinecolor": "#2a3f5f",
             "gridcolor": "white",
             "linecolor": "white",
             "minorgridcolor": "white",
             "startlinecolor": "#2a3f5f"
            },
            "type": "carpet"
           }
          ],
          "choropleth": [
           {
            "colorbar": {
             "outlinewidth": 0,
             "ticks": ""
            },
            "type": "choropleth"
           }
          ],
          "contour": [
           {
            "colorbar": {
             "outlinewidth": 0,
             "ticks": ""
            },
            "colorscale": [
             [
              0,
              "#0d0887"
             ],
             [
              0.1111111111111111,
              "#46039f"
             ],
             [
              0.2222222222222222,
              "#7201a8"
             ],
             [
              0.3333333333333333,
              "#9c179e"
             ],
             [
              0.4444444444444444,
              "#bd3786"
             ],
             [
              0.5555555555555556,
              "#d8576b"
             ],
             [
              0.6666666666666666,
              "#ed7953"
             ],
             [
              0.7777777777777778,
              "#fb9f3a"
             ],
             [
              0.8888888888888888,
              "#fdca26"
             ],
             [
              1,
              "#f0f921"
             ]
            ],
            "type": "contour"
           }
          ],
          "contourcarpet": [
           {
            "colorbar": {
             "outlinewidth": 0,
             "ticks": ""
            },
            "type": "contourcarpet"
           }
          ],
          "heatmap": [
           {
            "colorbar": {
             "outlinewidth": 0,
             "ticks": ""
            },
            "colorscale": [
             [
              0,
              "#0d0887"
             ],
             [
              0.1111111111111111,
              "#46039f"
             ],
             [
              0.2222222222222222,
              "#7201a8"
             ],
             [
              0.3333333333333333,
              "#9c179e"
             ],
             [
              0.4444444444444444,
              "#bd3786"
             ],
             [
              0.5555555555555556,
              "#d8576b"
             ],
             [
              0.6666666666666666,
              "#ed7953"
             ],
             [
              0.7777777777777778,
              "#fb9f3a"
             ],
             [
              0.8888888888888888,
              "#fdca26"
             ],
             [
              1,
              "#f0f921"
             ]
            ],
            "type": "heatmap"
           }
          ],
          "heatmapgl": [
           {
            "colorbar": {
             "outlinewidth": 0,
             "ticks": ""
            },
            "colorscale": [
             [
              0,
              "#0d0887"
             ],
             [
              0.1111111111111111,
              "#46039f"
             ],
             [
              0.2222222222222222,
              "#7201a8"
             ],
             [
              0.3333333333333333,
              "#9c179e"
             ],
             [
              0.4444444444444444,
              "#bd3786"
             ],
             [
              0.5555555555555556,
              "#d8576b"
             ],
             [
              0.6666666666666666,
              "#ed7953"
             ],
             [
              0.7777777777777778,
              "#fb9f3a"
             ],
             [
              0.8888888888888888,
              "#fdca26"
             ],
             [
              1,
              "#f0f921"
             ]
            ],
            "type": "heatmapgl"
           }
          ],
          "histogram": [
           {
            "marker": {
             "pattern": {
              "fillmode": "overlay",
              "size": 10,
              "solidity": 0.2
             }
            },
            "type": "histogram"
           }
          ],
          "histogram2d": [
           {
            "colorbar": {
             "outlinewidth": 0,
             "ticks": ""
            },
            "colorscale": [
             [
              0,
              "#0d0887"
             ],
             [
              0.1111111111111111,
              "#46039f"
             ],
             [
              0.2222222222222222,
              "#7201a8"
             ],
             [
              0.3333333333333333,
              "#9c179e"
             ],
             [
              0.4444444444444444,
              "#bd3786"
             ],
             [
              0.5555555555555556,
              "#d8576b"
             ],
             [
              0.6666666666666666,
              "#ed7953"
             ],
             [
              0.7777777777777778,
              "#fb9f3a"
             ],
             [
              0.8888888888888888,
              "#fdca26"
             ],
             [
              1,
              "#f0f921"
             ]
            ],
            "type": "histogram2d"
           }
          ],
          "histogram2dcontour": [
           {
            "colorbar": {
             "outlinewidth": 0,
             "ticks": ""
            },
            "colorscale": [
             [
              0,
              "#0d0887"
             ],
             [
              0.1111111111111111,
              "#46039f"
             ],
             [
              0.2222222222222222,
              "#7201a8"
             ],
             [
              0.3333333333333333,
              "#9c179e"
             ],
             [
              0.4444444444444444,
              "#bd3786"
             ],
             [
              0.5555555555555556,
              "#d8576b"
             ],
             [
              0.6666666666666666,
              "#ed7953"
             ],
             [
              0.7777777777777778,
              "#fb9f3a"
             ],
             [
              0.8888888888888888,
              "#fdca26"
             ],
             [
              1,
              "#f0f921"
             ]
            ],
            "type": "histogram2dcontour"
           }
          ],
          "mesh3d": [
           {
            "colorbar": {
             "outlinewidth": 0,
             "ticks": ""
            },
            "type": "mesh3d"
           }
          ],
          "parcoords": [
           {
            "line": {
             "colorbar": {
              "outlinewidth": 0,
              "ticks": ""
             }
            },
            "type": "parcoords"
           }
          ],
          "pie": [
           {
            "automargin": true,
            "type": "pie"
           }
          ],
          "scatter": [
           {
            "fillpattern": {
             "fillmode": "overlay",
             "size": 10,
             "solidity": 0.2
            },
            "type": "scatter"
           }
          ],
          "scatter3d": [
           {
            "line": {
             "colorbar": {
              "outlinewidth": 0,
              "ticks": ""
             }
            },
            "marker": {
             "colorbar": {
              "outlinewidth": 0,
              "ticks": ""
             }
            },
            "type": "scatter3d"
           }
          ],
          "scattercarpet": [
           {
            "marker": {
             "colorbar": {
              "outlinewidth": 0,
              "ticks": ""
             }
            },
            "type": "scattercarpet"
           }
          ],
          "scattergeo": [
           {
            "marker": {
             "colorbar": {
              "outlinewidth": 0,
              "ticks": ""
             }
            },
            "type": "scattergeo"
           }
          ],
          "scattergl": [
           {
            "marker": {
             "colorbar": {
              "outlinewidth": 0,
              "ticks": ""
             }
            },
            "type": "scattergl"
           }
          ],
          "scattermapbox": [
           {
            "marker": {
             "colorbar": {
              "outlinewidth": 0,
              "ticks": ""
             }
            },
            "type": "scattermapbox"
           }
          ],
          "scatterpolar": [
           {
            "marker": {
             "colorbar": {
              "outlinewidth": 0,
              "ticks": ""
             }
            },
            "type": "scatterpolar"
           }
          ],
          "scatterpolargl": [
           {
            "marker": {
             "colorbar": {
              "outlinewidth": 0,
              "ticks": ""
             }
            },
            "type": "scatterpolargl"
           }
          ],
          "scatterternary": [
           {
            "marker": {
             "colorbar": {
              "outlinewidth": 0,
              "ticks": ""
             }
            },
            "type": "scatterternary"
           }
          ],
          "surface": [
           {
            "colorbar": {
             "outlinewidth": 0,
             "ticks": ""
            },
            "colorscale": [
             [
              0,
              "#0d0887"
             ],
             [
              0.1111111111111111,
              "#46039f"
             ],
             [
              0.2222222222222222,
              "#7201a8"
             ],
             [
              0.3333333333333333,
              "#9c179e"
             ],
             [
              0.4444444444444444,
              "#bd3786"
             ],
             [
              0.5555555555555556,
              "#d8576b"
             ],
             [
              0.6666666666666666,
              "#ed7953"
             ],
             [
              0.7777777777777778,
              "#fb9f3a"
             ],
             [
              0.8888888888888888,
              "#fdca26"
             ],
             [
              1,
              "#f0f921"
             ]
            ],
            "type": "surface"
           }
          ],
          "table": [
           {
            "cells": {
             "fill": {
              "color": "#EBF0F8"
             },
             "line": {
              "color": "white"
             }
            },
            "header": {
             "fill": {
              "color": "#C8D4E3"
             },
             "line": {
              "color": "white"
             }
            },
            "type": "table"
           }
          ]
         },
         "layout": {
          "annotationdefaults": {
           "arrowcolor": "#2a3f5f",
           "arrowhead": 0,
           "arrowwidth": 1
          },
          "autotypenumbers": "strict",
          "coloraxis": {
           "colorbar": {
            "outlinewidth": 0,
            "ticks": ""
           }
          },
          "colorscale": {
           "diverging": [
            [
             0,
             "#8e0152"
            ],
            [
             0.1,
             "#c51b7d"
            ],
            [
             0.2,
             "#de77ae"
            ],
            [
             0.3,
             "#f1b6da"
            ],
            [
             0.4,
             "#fde0ef"
            ],
            [
             0.5,
             "#f7f7f7"
            ],
            [
             0.6,
             "#e6f5d0"
            ],
            [
             0.7,
             "#b8e186"
            ],
            [
             0.8,
             "#7fbc41"
            ],
            [
             0.9,
             "#4d9221"
            ],
            [
             1,
             "#276419"
            ]
           ],
           "sequential": [
            [
             0,
             "#0d0887"
            ],
            [
             0.1111111111111111,
             "#46039f"
            ],
            [
             0.2222222222222222,
             "#7201a8"
            ],
            [
             0.3333333333333333,
             "#9c179e"
            ],
            [
             0.4444444444444444,
             "#bd3786"
            ],
            [
             0.5555555555555556,
             "#d8576b"
            ],
            [
             0.6666666666666666,
             "#ed7953"
            ],
            [
             0.7777777777777778,
             "#fb9f3a"
            ],
            [
             0.8888888888888888,
             "#fdca26"
            ],
            [
             1,
             "#f0f921"
            ]
           ],
           "sequentialminus": [
            [
             0,
             "#0d0887"
            ],
            [
             0.1111111111111111,
             "#46039f"
            ],
            [
             0.2222222222222222,
             "#7201a8"
            ],
            [
             0.3333333333333333,
             "#9c179e"
            ],
            [
             0.4444444444444444,
             "#bd3786"
            ],
            [
             0.5555555555555556,
             "#d8576b"
            ],
            [
             0.6666666666666666,
             "#ed7953"
            ],
            [
             0.7777777777777778,
             "#fb9f3a"
            ],
            [
             0.8888888888888888,
             "#fdca26"
            ],
            [
             1,
             "#f0f921"
            ]
           ]
          },
          "colorway": [
           "#636efa",
           "#EF553B",
           "#00cc96",
           "#ab63fa",
           "#FFA15A",
           "#19d3f3",
           "#FF6692",
           "#B6E880",
           "#FF97FF",
           "#FECB52"
          ],
          "font": {
           "color": "#2a3f5f"
          },
          "geo": {
           "bgcolor": "white",
           "lakecolor": "white",
           "landcolor": "#E5ECF6",
           "showlakes": true,
           "showland": true,
           "subunitcolor": "white"
          },
          "hoverlabel": {
           "align": "left"
          },
          "hovermode": "closest",
          "mapbox": {
           "style": "light"
          },
          "paper_bgcolor": "white",
          "plot_bgcolor": "#E5ECF6",
          "polar": {
           "angularaxis": {
            "gridcolor": "white",
            "linecolor": "white",
            "ticks": ""
           },
           "bgcolor": "#E5ECF6",
           "radialaxis": {
            "gridcolor": "white",
            "linecolor": "white",
            "ticks": ""
           }
          },
          "scene": {
           "xaxis": {
            "backgroundcolor": "#E5ECF6",
            "gridcolor": "white",
            "gridwidth": 2,
            "linecolor": "white",
            "showbackground": true,
            "ticks": "",
            "zerolinecolor": "white"
           },
           "yaxis": {
            "backgroundcolor": "#E5ECF6",
            "gridcolor": "white",
            "gridwidth": 2,
            "linecolor": "white",
            "showbackground": true,
            "ticks": "",
            "zerolinecolor": "white"
           },
           "zaxis": {
            "backgroundcolor": "#E5ECF6",
            "gridcolor": "white",
            "gridwidth": 2,
            "linecolor": "white",
            "showbackground": true,
            "ticks": "",
            "zerolinecolor": "white"
           }
          },
          "shapedefaults": {
           "line": {
            "color": "#2a3f5f"
           }
          },
          "ternary": {
           "aaxis": {
            "gridcolor": "white",
            "linecolor": "white",
            "ticks": ""
           },
           "baxis": {
            "gridcolor": "white",
            "linecolor": "white",
            "ticks": ""
           },
           "bgcolor": "#E5ECF6",
           "caxis": {
            "gridcolor": "white",
            "linecolor": "white",
            "ticks": ""
           }
          },
          "title": {
           "x": 0.05
          },
          "xaxis": {
           "automargin": true,
           "gridcolor": "white",
           "linecolor": "white",
           "ticks": "",
           "title": {
            "standoff": 15
           },
           "zerolinecolor": "white",
           "zerolinewidth": 2
          },
          "yaxis": {
           "automargin": true,
           "gridcolor": "white",
           "linecolor": "white",
           "ticks": "",
           "title": {
            "standoff": 15
           },
           "zerolinecolor": "white",
           "zerolinewidth": 2
          }
         }
        },
        "xaxis": {
         "anchor": "y",
         "domain": [
          0,
          1
         ],
         "title": {
          "text": "x"
         }
        },
        "yaxis": {
         "anchor": "x",
         "domain": [
          0,
          1
         ],
         "title": {
          "text": "y"
         }
        }
       }
      },
      "text/html": [
       "<div>                            <div id=\"70a9519a-5616-4dfe-9e51-aabe41a48f0b\" class=\"plotly-graph-div\" style=\"height:525px; width:100%;\"></div>            <script type=\"text/javascript\">                require([\"plotly\"], function(Plotly) {                    window.PLOTLYENV=window.PLOTLYENV || {};                                    if (document.getElementById(\"70a9519a-5616-4dfe-9e51-aabe41a48f0b\")) {                    Plotly.newPlot(                        \"70a9519a-5616-4dfe-9e51-aabe41a48f0b\",                        [{\"error_y\":{\"array\":[1.5952602624893188,1.397469401359558,1.5158867835998535,1.4943119287490845,1.3779419660568237,1.5285500288009644,1.5364470481872559,1.5148301124572754,1.4905411005020142,1.4854439496994019,1.4721076488494873,1.4144761562347412,1.3509920835494995,1.3276612758636475,1.3102890253067017,1.3035134077072144,1.2935141324996948,1.2872411012649536,1.2409842014312744,1.2143864631652832,1.2003908157348633,1.1492351293563843,1.1547168493270874,1.1598368883132935,1.1623437404632568,1.1583542823791504,1.1393969058990479,1.1381304264068604,1.1054593324661255,1.101067066192627,1.098412036895752,1.121372103691101,1.129987120628357,1.1319104433059692,1.1269919872283936,1.1193616390228271,1.1116175651550293,1.114364743232727,1.1194084882736206,1.1241366863250732,1.1206284761428833,1.1025478839874268,1.0937966108322144,1.1031724214553833,1.1085373163223267,1.0934779644012451,1.0789563655853271,1.0785466432571411,1.0831623077392578,1.0897196531295776,1.0907241106033325,1.0884051322937012,1.091729998588562,1.0911232233047485,1.1044676303863525,1.104782223701477,1.105826735496521,1.1068686246871948,1.0984746217727661,1.0986722707748413,1.0829538106918335,1.0831623077392578,1.0819956064224243,1.083126425743103,1.0826035737991333,1.0756454467773438,1.0728999376296997,1.0802388191223145,1.1348263025283813,1.1351174116134644,1.1344425678253174,1.1185535192489624,1.1184736490249634,1.1234056949615479,1.1189994812011719,1.1371132135391235,1.13651704788208,1.1355162858963013,1.1281462907791138,1.1254045963287354,1.1295404434204102,1.124530553817749,1.1200522184371948,1.1153525114059448,1.0997223854064941,1.0988420248031616,1.0992791652679443,1.0969302654266357,1.1019327640533447,1.1051114797592163,1.1113629341125488,1.1074362993240356,1.1089671850204468,1.1026309728622437,1.102325201034546,1.0923415422439575,1.107696294784546,1.1182258129119873,1.1233563423156738,1.126210331916809,1.1157723665237427,1.1103323698043823,1.1111114025115967,1.103657603263855,1.1039236783981323,1.1101038455963135,1.1152551174163818,1.1141458749771118,1.1200860738754272,1.114315390586853,1.119013786315918,1.0967211723327637,1.1042954921722412,1.1009107828140259,1.0822278261184692,1.0820363759994507,1.07902991771698,1.0932559967041016,1.0869417190551758,1.0898391008377075,1.0776996612548828,1.0617759227752686,1.0495902299880981,1.076803207397461,1.0602666139602661,1.0583088397979736,1.0534549951553345,1.066303014755249,1.0785547494888306,1.0663199424743652,1.0729362964630127,1.0744071006774902,1.0632504224777222,1.0841525793075562,1.083997368812561,1.0818332433700562,1.0743988752365112,1.083463430404663,1.0799223184585571,1.0740138292312622,1.0666977167129517,1.0833913087844849,1.2518049478530884,1.6419262886047363]},\"hovertemplate\":\"x=%{x}\\u003cbr\\u003ey=%{y}\\u003cextra\\u003e\\u003c\\u002fextra\\u003e\",\"legendgroup\":\"\",\"line\":{\"color\":\"#636efa\",\"dash\":\"solid\"},\"marker\":{\"symbol\":\"circle\"},\"mode\":\"lines\",\"name\":\"\",\"orientation\":\"v\",\"showlegend\":false,\"x\":[\"5.6\",\"9.9\",\"11.10\",\"0.1\",\"4.11\",\"10.7\",\"0.5\",\"0.3\",\"5.10\",\"3.0\",\"3.3\",\"2.1\",\"7.0\",\"0.6\",\"7.2\",\"6.9\",\"10.6\",\"10.1\",\"1.0\",\"10.0\",\"5.4\",\"0.7\",\"3.2\",\"9.5\",\"0.9\",\"8.1\",\"6.1\",\"3.5\",\"4.0\",\"3.9\",\"2.6\",\"5.5\",\"3.1\",\"2.0\",\"4.10\",\"1.1\",\"3.7\",\"11.5\",\"5.7\",\"11.1\",\"11.0\",\"2.8\",\"4.1\",\"9.0\",\"1.10\",\"3.4\",\"2.5\",\"4.9\",\"5.3\",\"11.7\",\"4.2\",\"9.1\",\"6.2\",\"0.11\",\"2.10\",\"10.11\",\"6.3\",\"4.8\",\"6.8\",\"9.11\",\"11.2\",\"5.1\",\"10.2\",\"10.8\",\"9.4\",\"2.3\",\"8.0\",\"6.10\",\"1.11\",\"8.4\",\"7.4\",\"3.6\",\"7.7\",\"10.9\",\"8.5\",\"4.3\",\"6.11\",\"10.5\",\"6.5\",\"9.7\",\"2.11\",\"8.8\",\"1.6\",\"7.1\",\"8.7\",\"9.10\",\"8.2\",\"6.0\",\"3.11\",\"1.9\",\"5.0\",\"4.6\",\"1.8\",\"7.10\",\"7.11\",\"11.9\",\"0.4\",\"7.6\",\"7.3\",\"3.8\",\"9.6\",\"1.2\",\"10.4\",\"2.2\",\"10.3\",\"0.8\",\"7.8\",\"8.9\",\"1.7\",\"11.3\",\"9.2\",\"8.6\",\"4.5\",\"9.8\",\"2.7\",\"11.8\",\"1.3\",\"5.8\",\"7.5\",\"6.4\",\"7.9\",\"2.4\",\"6.7\",\"9.3\",\"5.9\",\"6.6\",\"5.2\",\"1.4\",\"0.0\",\"0.2\",\"5.11\",\"3.10\",\"0.10\",\"11.4\",\"1.5\",\"2.9\",\"4.4\",\"11.11\",\"8.10\",\"8.3\",\"11.6\",\"4.7\",\"10.10\",\"8.11\"],\"xaxis\":\"x\",\"y\":[4.019374370574951,4.222157955169678,4.53331995010376,4.707579612731934,4.796189308166504,5.187535285949707,5.2658491134643555,5.301127910614014,5.410330772399902,5.4349236488342285,5.487991809844971,5.536470890045166,5.571604251861572,5.591408729553223,5.612122535705566,5.611202716827393,5.634109973907471,5.661136150360107,5.6827073097229,5.716037273406982,5.72898006439209,5.742225170135498,5.722951412200928,5.742551326751709,5.740402698516846,5.740060806274414,5.7317376136779785,5.728238582611084,5.732188701629639,5.72160530090332,5.72349214553833,5.697964191436768,5.697784423828125,5.694698810577393,5.706160068511963,5.700700759887695,5.679720878601074,5.690372943878174,5.69939661026001,5.7080512046813965,5.725053787231445,5.742194175720215,5.745635986328125,5.742565631866455,5.735422134399414,5.719890117645264,5.735878944396973,5.735145092010498,5.735490798950195,5.739702224731445,5.743185520172119,5.741335868835449,5.73598575592041,5.730362415313721,5.72215461730957,5.728879451751709,5.728475093841553,5.728134632110596,5.7096099853515625,5.711073875427246,5.727152347564697,5.725682735443115,5.728645324707031,5.732219219207764,5.732343673706055,5.736485958099365,5.733471393585205,5.7371673583984375,5.664708137512207,5.664643287658691,5.6573357582092285,5.620194435119629,5.618419170379639,5.618660926818848,5.606359004974365,5.580843448638916,5.580395221710205,5.578531742095947,5.588898658752441,5.5891900062561035,5.581543922424316,5.566470146179199,5.548318862915039,5.529497146606445,5.528896808624268,5.524580001831055,5.529963970184326,5.518624782562256,5.524534702301025,5.526237487792969,5.520583152770996,5.528226852416992,5.523189067840576,4.982314109802246,4.978404521942139,4.984039783477783,4.957813739776611,4.975342273712158,4.975281715393066,4.971240997314453,4.9438700675964355,4.947776794433594,4.9500837326049805,4.8712615966796875,4.864953994750977,4.860788345336914,4.852482318878174,4.8579559326171875,4.827750205993652,4.802793502807617,4.798717975616455,4.792147159576416,4.784945487976074,4.774508476257324,4.789515972137451,4.799342632293701,4.78865909576416,4.808326721191406,4.809731483459473,4.811921119689941,4.827600955963135,4.832414627075195,4.847972393035889,4.841638565063477,4.799154758453369,4.799880027770996,4.80212926864624,4.80405330657959,4.7884697914123535,4.783092021942139,4.778133392333984,4.74539852142334,4.817494869232178,4.709235191345215,4.6962714195251465,4.688356876373291,4.70865535736084,4.6403398513793945,4.786754608154297,4.74191951751709,4.687761306762695,4.5497894287109375,2.3640615940093994,-0.6625505685806274],\"yaxis\":\"y\",\"type\":\"scatter\"}],                        {\"template\":{\"data\":{\"histogram2dcontour\":[{\"type\":\"histogram2dcontour\",\"colorbar\":{\"outlinewidth\":0,\"ticks\":\"\"},\"colorscale\":[[0.0,\"#0d0887\"],[0.1111111111111111,\"#46039f\"],[0.2222222222222222,\"#7201a8\"],[0.3333333333333333,\"#9c179e\"],[0.4444444444444444,\"#bd3786\"],[0.5555555555555556,\"#d8576b\"],[0.6666666666666666,\"#ed7953\"],[0.7777777777777778,\"#fb9f3a\"],[0.8888888888888888,\"#fdca26\"],[1.0,\"#f0f921\"]]}],\"choropleth\":[{\"type\":\"choropleth\",\"colorbar\":{\"outlinewidth\":0,\"ticks\":\"\"}}],\"histogram2d\":[{\"type\":\"histogram2d\",\"colorbar\":{\"outlinewidth\":0,\"ticks\":\"\"},\"colorscale\":[[0.0,\"#0d0887\"],[0.1111111111111111,\"#46039f\"],[0.2222222222222222,\"#7201a8\"],[0.3333333333333333,\"#9c179e\"],[0.4444444444444444,\"#bd3786\"],[0.5555555555555556,\"#d8576b\"],[0.6666666666666666,\"#ed7953\"],[0.7777777777777778,\"#fb9f3a\"],[0.8888888888888888,\"#fdca26\"],[1.0,\"#f0f921\"]]}],\"heatmap\":[{\"type\":\"heatmap\",\"colorbar\":{\"outlinewidth\":0,\"ticks\":\"\"},\"colorscale\":[[0.0,\"#0d0887\"],[0.1111111111111111,\"#46039f\"],[0.2222222222222222,\"#7201a8\"],[0.3333333333333333,\"#9c179e\"],[0.4444444444444444,\"#bd3786\"],[0.5555555555555556,\"#d8576b\"],[0.6666666666666666,\"#ed7953\"],[0.7777777777777778,\"#fb9f3a\"],[0.8888888888888888,\"#fdca26\"],[1.0,\"#f0f921\"]]}],\"heatmapgl\":[{\"type\":\"heatmapgl\",\"colorbar\":{\"outlinewidth\":0,\"ticks\":\"\"},\"colorscale\":[[0.0,\"#0d0887\"],[0.1111111111111111,\"#46039f\"],[0.2222222222222222,\"#7201a8\"],[0.3333333333333333,\"#9c179e\"],[0.4444444444444444,\"#bd3786\"],[0.5555555555555556,\"#d8576b\"],[0.6666666666666666,\"#ed7953\"],[0.7777777777777778,\"#fb9f3a\"],[0.8888888888888888,\"#fdca26\"],[1.0,\"#f0f921\"]]}],\"contourcarpet\":[{\"type\":\"contourcarpet\",\"colorbar\":{\"outlinewidth\":0,\"ticks\":\"\"}}],\"contour\":[{\"type\":\"contour\",\"colorbar\":{\"outlinewidth\":0,\"ticks\":\"\"},\"colorscale\":[[0.0,\"#0d0887\"],[0.1111111111111111,\"#46039f\"],[0.2222222222222222,\"#7201a8\"],[0.3333333333333333,\"#9c179e\"],[0.4444444444444444,\"#bd3786\"],[0.5555555555555556,\"#d8576b\"],[0.6666666666666666,\"#ed7953\"],[0.7777777777777778,\"#fb9f3a\"],[0.8888888888888888,\"#fdca26\"],[1.0,\"#f0f921\"]]}],\"surface\":[{\"type\":\"surface\",\"colorbar\":{\"outlinewidth\":0,\"ticks\":\"\"},\"colorscale\":[[0.0,\"#0d0887\"],[0.1111111111111111,\"#46039f\"],[0.2222222222222222,\"#7201a8\"],[0.3333333333333333,\"#9c179e\"],[0.4444444444444444,\"#bd3786\"],[0.5555555555555556,\"#d8576b\"],[0.6666666666666666,\"#ed7953\"],[0.7777777777777778,\"#fb9f3a\"],[0.8888888888888888,\"#fdca26\"],[1.0,\"#f0f921\"]]}],\"mesh3d\":[{\"type\":\"mesh3d\",\"colorbar\":{\"outlinewidth\":0,\"ticks\":\"\"}}],\"scatter\":[{\"fillpattern\":{\"fillmode\":\"overlay\",\"size\":10,\"solidity\":0.2},\"type\":\"scatter\"}],\"parcoords\":[{\"type\":\"parcoords\",\"line\":{\"colorbar\":{\"outlinewidth\":0,\"ticks\":\"\"}}}],\"scatterpolargl\":[{\"type\":\"scatterpolargl\",\"marker\":{\"colorbar\":{\"outlinewidth\":0,\"ticks\":\"\"}}}],\"bar\":[{\"error_x\":{\"color\":\"#2a3f5f\"},\"error_y\":{\"color\":\"#2a3f5f\"},\"marker\":{\"line\":{\"color\":\"#E5ECF6\",\"width\":0.5},\"pattern\":{\"fillmode\":\"overlay\",\"size\":10,\"solidity\":0.2}},\"type\":\"bar\"}],\"scattergeo\":[{\"type\":\"scattergeo\",\"marker\":{\"colorbar\":{\"outlinewidth\":0,\"ticks\":\"\"}}}],\"scatterpolar\":[{\"type\":\"scatterpolar\",\"marker\":{\"colorbar\":{\"outlinewidth\":0,\"ticks\":\"\"}}}],\"histogram\":[{\"marker\":{\"pattern\":{\"fillmode\":\"overlay\",\"size\":10,\"solidity\":0.2}},\"type\":\"histogram\"}],\"scattergl\":[{\"type\":\"scattergl\",\"marker\":{\"colorbar\":{\"outlinewidth\":0,\"ticks\":\"\"}}}],\"scatter3d\":[{\"type\":\"scatter3d\",\"line\":{\"colorbar\":{\"outlinewidth\":0,\"ticks\":\"\"}},\"marker\":{\"colorbar\":{\"outlinewidth\":0,\"ticks\":\"\"}}}],\"scattermapbox\":[{\"type\":\"scattermapbox\",\"marker\":{\"colorbar\":{\"outlinewidth\":0,\"ticks\":\"\"}}}],\"scatterternary\":[{\"type\":\"scatterternary\",\"marker\":{\"colorbar\":{\"outlinewidth\":0,\"ticks\":\"\"}}}],\"scattercarpet\":[{\"type\":\"scattercarpet\",\"marker\":{\"colorbar\":{\"outlinewidth\":0,\"ticks\":\"\"}}}],\"carpet\":[{\"aaxis\":{\"endlinecolor\":\"#2a3f5f\",\"gridcolor\":\"white\",\"linecolor\":\"white\",\"minorgridcolor\":\"white\",\"startlinecolor\":\"#2a3f5f\"},\"baxis\":{\"endlinecolor\":\"#2a3f5f\",\"gridcolor\":\"white\",\"linecolor\":\"white\",\"minorgridcolor\":\"white\",\"startlinecolor\":\"#2a3f5f\"},\"type\":\"carpet\"}],\"table\":[{\"cells\":{\"fill\":{\"color\":\"#EBF0F8\"},\"line\":{\"color\":\"white\"}},\"header\":{\"fill\":{\"color\":\"#C8D4E3\"},\"line\":{\"color\":\"white\"}},\"type\":\"table\"}],\"barpolar\":[{\"marker\":{\"line\":{\"color\":\"#E5ECF6\",\"width\":0.5},\"pattern\":{\"fillmode\":\"overlay\",\"size\":10,\"solidity\":0.2}},\"type\":\"barpolar\"}],\"pie\":[{\"automargin\":true,\"type\":\"pie\"}]},\"layout\":{\"autotypenumbers\":\"strict\",\"colorway\":[\"#636efa\",\"#EF553B\",\"#00cc96\",\"#ab63fa\",\"#FFA15A\",\"#19d3f3\",\"#FF6692\",\"#B6E880\",\"#FF97FF\",\"#FECB52\"],\"font\":{\"color\":\"#2a3f5f\"},\"hovermode\":\"closest\",\"hoverlabel\":{\"align\":\"left\"},\"paper_bgcolor\":\"white\",\"plot_bgcolor\":\"#E5ECF6\",\"polar\":{\"bgcolor\":\"#E5ECF6\",\"angularaxis\":{\"gridcolor\":\"white\",\"linecolor\":\"white\",\"ticks\":\"\"},\"radialaxis\":{\"gridcolor\":\"white\",\"linecolor\":\"white\",\"ticks\":\"\"}},\"ternary\":{\"bgcolor\":\"#E5ECF6\",\"aaxis\":{\"gridcolor\":\"white\",\"linecolor\":\"white\",\"ticks\":\"\"},\"baxis\":{\"gridcolor\":\"white\",\"linecolor\":\"white\",\"ticks\":\"\"},\"caxis\":{\"gridcolor\":\"white\",\"linecolor\":\"white\",\"ticks\":\"\"}},\"coloraxis\":{\"colorbar\":{\"outlinewidth\":0,\"ticks\":\"\"}},\"colorscale\":{\"sequential\":[[0.0,\"#0d0887\"],[0.1111111111111111,\"#46039f\"],[0.2222222222222222,\"#7201a8\"],[0.3333333333333333,\"#9c179e\"],[0.4444444444444444,\"#bd3786\"],[0.5555555555555556,\"#d8576b\"],[0.6666666666666666,\"#ed7953\"],[0.7777777777777778,\"#fb9f3a\"],[0.8888888888888888,\"#fdca26\"],[1.0,\"#f0f921\"]],\"sequentialminus\":[[0.0,\"#0d0887\"],[0.1111111111111111,\"#46039f\"],[0.2222222222222222,\"#7201a8\"],[0.3333333333333333,\"#9c179e\"],[0.4444444444444444,\"#bd3786\"],[0.5555555555555556,\"#d8576b\"],[0.6666666666666666,\"#ed7953\"],[0.7777777777777778,\"#fb9f3a\"],[0.8888888888888888,\"#fdca26\"],[1.0,\"#f0f921\"]],\"diverging\":[[0,\"#8e0152\"],[0.1,\"#c51b7d\"],[0.2,\"#de77ae\"],[0.3,\"#f1b6da\"],[0.4,\"#fde0ef\"],[0.5,\"#f7f7f7\"],[0.6,\"#e6f5d0\"],[0.7,\"#b8e186\"],[0.8,\"#7fbc41\"],[0.9,\"#4d9221\"],[1,\"#276419\"]]},\"xaxis\":{\"gridcolor\":\"white\",\"linecolor\":\"white\",\"ticks\":\"\",\"title\":{\"standoff\":15},\"zerolinecolor\":\"white\",\"automargin\":true,\"zerolinewidth\":2},\"yaxis\":{\"gridcolor\":\"white\",\"linecolor\":\"white\",\"ticks\":\"\",\"title\":{\"standoff\":15},\"zerolinecolor\":\"white\",\"automargin\":true,\"zerolinewidth\":2},\"scene\":{\"xaxis\":{\"backgroundcolor\":\"#E5ECF6\",\"gridcolor\":\"white\",\"linecolor\":\"white\",\"showbackground\":true,\"ticks\":\"\",\"zerolinecolor\":\"white\",\"gridwidth\":2},\"yaxis\":{\"backgroundcolor\":\"#E5ECF6\",\"gridcolor\":\"white\",\"linecolor\":\"white\",\"showbackground\":true,\"ticks\":\"\",\"zerolinecolor\":\"white\",\"gridwidth\":2},\"zaxis\":{\"backgroundcolor\":\"#E5ECF6\",\"gridcolor\":\"white\",\"linecolor\":\"white\",\"showbackground\":true,\"ticks\":\"\",\"zerolinecolor\":\"white\",\"gridwidth\":2}},\"shapedefaults\":{\"line\":{\"color\":\"#2a3f5f\"}},\"annotationdefaults\":{\"arrowcolor\":\"#2a3f5f\",\"arrowhead\":0,\"arrowwidth\":1},\"geo\":{\"bgcolor\":\"white\",\"landcolor\":\"#E5ECF6\",\"subunitcolor\":\"white\",\"showland\":true,\"showlakes\":true,\"lakecolor\":\"white\"},\"title\":{\"x\":0.05},\"mapbox\":{\"style\":\"light\"}}},\"xaxis\":{\"anchor\":\"y\",\"domain\":[0.0,1.0],\"title\":{\"text\":\"x\"}},\"yaxis\":{\"anchor\":\"x\",\"domain\":[0.0,1.0],\"title\":{\"text\":\"y\"}},\"legend\":{\"tracegroupgap\":0},\"margin\":{\"t\":60},\"shapes\":[{\"line\":{\"color\":\"black\",\"dash\":\"dash\",\"width\":1.5},\"type\":\"line\",\"x0\":0,\"x1\":1,\"xref\":\"x domain\",\"y0\":3.6051552295684814,\"y1\":3.6051552295684814,\"yref\":\"y\"}]},                        {\"responsive\": true}                    ).then(function(){\n",
       "                            \n",
       "var gd = document.getElementById('70a9519a-5616-4dfe-9e51-aabe41a48f0b');\n",
       "var x = new MutationObserver(function (mutations, observer) {{\n",
       "        var display = window.getComputedStyle(gd).display;\n",
       "        if (!display || display === 'none') {{\n",
       "            console.log([gd, 'removed!']);\n",
       "            Plotly.purge(gd);\n",
       "            observer.disconnect();\n",
       "        }}\n",
       "}});\n",
       "\n",
       "// Listen for the removal of the full notebook cells\n",
       "var notebookContainer = gd.closest('#notebook-container');\n",
       "if (notebookContainer) {{\n",
       "    x.observe(notebookContainer, {childList: true});\n",
       "}}\n",
       "\n",
       "// Listen for the clearing of the current output cell\n",
       "var outputEl = gd.closest('.output');\n",
       "if (outputEl) {{\n",
       "    x.observe(outputEl, {childList: true});\n",
       "}}\n",
       "\n",
       "                        })                };                });            </script>        </div>"
      ]
     },
     "metadata": {},
     "output_type": "display_data"
    }
   ],
   "source": [
    "labels = [f\"{layer}.{head}\" for layer, head in reversed(sorted_heads_hf)]\n",
    "fig = px.line(x = labels, y=logit_diffs_hf.cpu().numpy(), error_y=std_logit_diffs_hf.cpu().numpy())\n",
    "fig.add_hline(y=logit_diff_hf.item(), line_width=1.5, line_dash=\"dash\", line_color=\"black\")\n",
    "fig.show()"
   ]
  }
 ],
 "metadata": {
  "kernelspec": {
   "display_name": "mech_interp",
   "language": "python",
   "name": "python3"
  },
  "language_info": {
   "codemirror_mode": {
    "name": "ipython",
    "version": 3
   },
   "file_extension": ".py",
   "mimetype": "text/x-python",
   "name": "python",
   "nbconvert_exporter": "python",
   "pygments_lexer": "ipython3",
   "version": "3.11.2"
  }
 },
 "nbformat": 4,
 "nbformat_minor": 2
}
