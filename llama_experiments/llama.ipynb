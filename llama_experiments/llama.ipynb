{
 "cells": [
  {
   "cell_type": "code",
   "execution_count": 1,
   "metadata": {},
   "outputs": [
    {
     "name": "stderr",
     "output_type": "stream",
     "text": [
      "/home/jgcarrasco/.virtualenvs/mech_interp/lib/python3.11/site-packages/tqdm/auto.py:21: TqdmWarning: IProgress not found. Please update jupyter and ipywidgets. See https://ipywidgets.readthedocs.io/en/stable/user_install.html\n",
      "  from .autonotebook import tqdm as notebook_tqdm\n"
     ]
    }
   ],
   "source": [
    "import pickle\n",
    "from itertools import product\n",
    "from functools import partial\n",
    "from tqdm import tqdm\n",
    "import random\n",
    "from string import ascii_uppercase\n",
    "\n",
    "import plotly.express as px\n",
    "\n",
    "import numpy as np\n",
    "import torch\n",
    "import torch.nn as nn\n",
    "from torch import Tensor\n",
    "from torch.utils.data import Dataset, DataLoader\n",
    "\n",
    "import einops\n",
    "\n",
    "from typing import Literal, Optional, Tuple, Union\n",
    "from jaxtyping import Float\n",
    "\n",
    "from transformers import AutoTokenizer, AutoModelForCausalLM\n",
    "from transformers.models.llama.modeling_llama import LlamaMLP, LlamaSdpaAttention\n",
    "from transformers.cache_utils import Cache\n",
    "\n",
    "BATCH_SIZE = 100\n",
    "SIZE = 500\n",
    "\n",
    "torch.set_grad_enabled(False)\n",
    "device = \"cuda\" if torch.cuda.is_available() else \"cpu\""
   ]
  },
  {
   "cell_type": "code",
   "execution_count": 2,
   "metadata": {},
   "outputs": [
    {
     "name": "stderr",
     "output_type": "stream",
     "text": [
      "Loading checkpoint shards: 100%|██████████| 2/2 [00:00<00:00,  2.07it/s]\n"
     ]
    }
   ],
   "source": [
    "tokenizer_hf = AutoTokenizer.from_pretrained(\"meta-llama/Llama-2-7b-hf\")\n",
    "model_hf = AutoModelForCausalLM.from_pretrained(\"meta-llama/Llama-2-7b-hf\", torch_dtype=torch.float16, use_cache=False).cuda()\n",
    "initial_parameters = model_hf.num_parameters()"
   ]
  },
  {
   "cell_type": "code",
   "execution_count": 3,
   "metadata": {},
   "outputs": [],
   "source": [
    "def n_parameters(layer: nn.Module):\n",
    "    return sum(p.numel() for p in layer.parameters())\n",
    "\n",
    "\n",
    "def print_parameters_llama(model_hf):\n",
    "    print(f\"Initial # of parameters: {initial_parameters:.2E}\")\n",
    "    print(f\"Final # of parameters: {model_hf.num_parameters():.2E}\")\n",
    "    print(f\"Reduction of {100 - model_hf.num_parameters()/initial_parameters * 100:.2f}%\")\n",
    "    print(\"-\"*40)\n",
    "    print(f\"embed_tokens: {sum(p.numel() for p in model_hf.model.embed_tokens.parameters()):.2E}\")\n",
    "    print(f\"Decoder: {32*n_parameters(model_hf.model.layers[0]):.2E}\")\n",
    "    print(f\"lm_head: {sum(p.numel() for p in model_hf.lm_head.parameters()):.2E}\")\n",
    "    print(\"-\"*40)\n",
    "    print(f\"Decoder Layer: {n_parameters(model_hf.model.layers[0]):.2E}\")\n",
    "    print(f\"\\tAttention: {n_parameters(model_hf.model.layers[0].self_attn):.2E}\")\n",
    "    print(f\"\\tMLP: {n_parameters(model_hf.model.layers[0].mlp):.2E}\")\n",
    "    print(f\"\\tinput_layernorm: {n_parameters(model_hf.model.layers[0].input_layernorm):.2E}\")\n",
    "    print(f\"\\tpost_attention_layernorm: {n_parameters(model_hf.model.layers[0].post_attention_layernorm):.2E}\")\n",
    "    print(\"-\"*40)\n",
    "\n",
    "\n",
    "def print_predictions(prompts, probs, str_toks, val_acronyms):\n",
    "    for prompt, prob, str_tok, acronym in zip(prompts, probs, str_toks, val_acronyms):\n",
    "        print(f\"{prompt}\")\n",
    "        for p, s in zip(prob, str_tok):\n",
    "            if s == acronym[-1]:\n",
    "                print(f\"\\t\\033[92m{s}: {p:.2f}\\033[0m\")\n",
    "            else:\n",
    "                print(f\"\\t{s}: {p:.2f}\")\n",
    "\n",
    "    \n",
    "def sort_Nd_tensor(tensor, descending=False):\n",
    "    i = torch.sort(tensor.flatten(), descending=descending).indices\n",
    "    return np.array(np.unravel_index(i.numpy(), tensor.shape)).T.tolist()\n",
    "\n",
    "capital_letters_tokens = torch.tensor(tokenizer_hf(list(ascii_uppercase), add_special_tokens=False)[\"input_ids\"], dtype=torch.long, device=device).squeeze()\n",
    "    \n",
    "def compute_logit_diff(logits, answer_tokens, \n",
    "                       average=True, capital_letters_tokens=capital_letters_tokens):\n",
    "    \"\"\"\n",
    "    Compute the logit difference between the correct answer and the largest logit\n",
    "    of all the possible incorrect capital letters. This is done for every iteration\n",
    "    (i.e. each of the three letters of the acronym) and then averaged if desired.\n",
    "    If `average=False`, then a `Tensor[batch_size, 3]` is returned, containing the\n",
    "    logit difference at every iteration for every prompt in the batch\n",
    "\n",
    "    Parameters:\n",
    "    -----------\n",
    "    - `logits`: `Tensor[batch_size, seq_len, d_vocab]`\n",
    "    - `answer_tokens`: Tensor[batch_size, 3]\n",
    "    \"\"\"\n",
    "    # Logits of the correct answers (batch_size, 3)\n",
    "    correct_logits = logits[:, -3:].gather(-1, answer_tokens[..., None]).squeeze()\n",
    "    # Retrieve the maximum logit of the possible incorrect answers\n",
    "    batch_size = logits.shape[0]\n",
    "    capital_letters_tokens_expanded = capital_letters_tokens.expand(batch_size, 3, -1)\n",
    "    incorrect_capital_letters = capital_letters_tokens_expanded[capital_letters_tokens_expanded != answer_tokens[..., None]].reshape(batch_size, 3, -1)\n",
    "    incorrect_logits, _ = logits[:, -3:].gather(-1, incorrect_capital_letters).max(-1)\n",
    "    # Return the mean\n",
    "    return (correct_logits - incorrect_logits).mean() if average else (correct_logits - incorrect_logits)\n",
    "\n",
    "\n",
    "def compute_accuracy(logits, answer_tokens, \n",
    "                     capital_letters_tokens=capital_letters_tokens):\n",
    "    \"\"\"\n",
    "    Computes the accuracy among the possible outputs (specified by `capital_letters_tokens`).\n",
    "    Specifically, it retrieves the predicted token among the vocabulary and checks if it is\n",
    "    the same as `answer_tokens[-1]`.\n",
    "\n",
    "    Parameters:\n",
    "    -----------\n",
    "    - `logits`: `Tensor[batch_size, seq_len, d_vocab]`\n",
    "    - `answer_tokens`: Tensor[batch_size, 3]\n",
    "    \"\"\"\n",
    "    # Retrieve logits of the letters of the vocabulary\n",
    "    logits_vocab = logits[:, -1, capital_letters_tokens]\n",
    "    # Now the indices [0, 1, 2, 3,...] represent [capital_letter_tokens[0], ...]\n",
    "    # Transform the answer tokens to [0, 1, 2, ...]\n",
    "    answer_token_t = torch.tensor([torch.where(capital_letters_tokens == element)[0][0] for element in answer_tokens[:, -1]]).to(device)\n",
    "    # Get predictions (max logit)\n",
    "    preds = logits_vocab.argmax(-1)\n",
    "    acc = (preds == answer_token_t).float().mean()\n",
    "    std = (preds == answer_token_t).float().std()\n",
    "    return acc, std"
   ]
  },
  {
   "cell_type": "code",
   "execution_count": 4,
   "metadata": {},
   "outputs": [
    {
     "name": "stdout",
     "output_type": "stream",
     "text": [
      "Initial # of parameters: 6.74E+09\n",
      "Final # of parameters: 6.74E+09\n",
      "Reduction of 0.00%\n",
      "----------------------------------------\n",
      "embed_tokens: 1.31E+08\n",
      "Decoder: 6.48E+09\n",
      "lm_head: 1.31E+08\n",
      "----------------------------------------\n",
      "Decoder Layer: 2.02E+08\n",
      "\tAttention: 6.71E+07\n",
      "\tMLP: 1.35E+08\n",
      "\tinput_layernorm: 4.10E+03\n",
      "\tpost_attention_layernorm: 4.10E+03\n",
      "----------------------------------------\n"
     ]
    }
   ],
   "source": [
    "print_parameters_llama(model_hf)"
   ]
  },
  {
   "cell_type": "code",
   "execution_count": 5,
   "metadata": {},
   "outputs": [],
   "source": [
    "with open(\"acronyms.txt\", \"r\") as f:\n",
    "   prompts, acronyms = list(zip(*[line.split(\", \") for line in f.read().splitlines()]))\n",
    "\n",
    "# take a subset of the dataset (we do this because VRAM limitations)\n",
    "n_samples = 100\n",
    "val_split = 0.2\n",
    "n_val = int(n_samples*val_split)\n",
    "# giga-cursed way of sampling from the dataset\n",
    "prompts, acronyms = list(map(list, zip(*random.choices(list(zip(prompts, acronyms)), k=n_samples))))\n",
    "val_prompts, val_acronyms = prompts[-n_val:], acronyms[-n_val:]\n",
    "prompts, acronyms = prompts[:-n_val], acronyms[:-n_val]"
   ]
  },
  {
   "cell_type": "code",
   "execution_count": 6,
   "metadata": {},
   "outputs": [],
   "source": [
    "class AcronymDataset(Dataset):\n",
    "    def __init__(self, path: str, tokenizer, size=None):\n",
    "        with open(path, \"r\") as f:\n",
    "            prompts, acronyms = list(zip(*[line.split(\", \") for line in f.read().splitlines()]))\n",
    "        self.prompts = prompts\n",
    "        self.acronyms = acronyms\n",
    "        self.cap_to_id = {k: v[0] for k, v in zip(ascii_uppercase, tokenizer(list(ascii_uppercase), add_special_tokens=False)[\"input_ids\"])}\n",
    "\n",
    "        self.tokens = tokenizer(prompts, return_tensors=\"pt\")[\"input_ids\"]\n",
    "        self.answer_tokens = torch.tensor([[self.cap_to_id[c] for c in acronym] for acronym in acronyms])\n",
    "    \n",
    "        if size:\n",
    "            self.prompts = self.prompts[:size]\n",
    "            self.acronyms = self.acronyms[:size]\n",
    "            self.tokens = self.tokens[:size]\n",
    "            self.answer_tokens = self.answer_tokens[:size]\n",
    "\n",
    "    def __len__(self):\n",
    "        return self.tokens.shape[0]\n",
    "    \n",
    "    def __getitem__(self, idx):\n",
    "        return self.tokens[idx], self.answer_tokens[idx]\n",
    "        \n",
    "dataset = AcronymDataset(path=\"cache_acronyms.txt\", tokenizer=tokenizer_hf, size=SIZE)\n",
    "dataloader = DataLoader(dataset, batch_size=BATCH_SIZE, shuffle=True)\n",
    "\n",
    "val_dataset = AcronymDataset(path=\"val_acronyms.txt\", tokenizer=tokenizer_hf, size=SIZE)\n",
    "val_dataloader = DataLoader(val_dataset, batch_size=BATCH_SIZE, shuffle=False)"
   ]
  },
  {
   "cell_type": "code",
   "execution_count": 7,
   "metadata": {},
   "outputs": [],
   "source": [
    "cap_to_id = {k: v[0] for k, v in zip(ascii_uppercase, tokenizer_hf(list(ascii_uppercase), add_special_tokens=False)[\"input_ids\"])}\n",
    "\n",
    "# tokens_hf = tokenizer_hf(prompts, return_tensors=\"pt\")[\"input_ids\"].to(device)\n",
    "# answer_tokens = torch.tensor([[cap_to_id[c] for c in acronym] for acronym in acronyms]).to(device)\n",
    "\n",
    "tokens_hf, answer_tokens = next(iter(dataloader))\n",
    "\n",
    "# val_tokens_hf = tokenizer_hf(val_prompts, return_tensors=\"pt\")[\"input_ids\"].to(device)\n",
    "# val_answer_tokens = torch.tensor([[cap_to_id[c] for c in acronym] for acronym in val_acronyms]).to(device)\n",
    "\n",
    "val_tokens_hf, val_answer_tokens = next(iter(val_dataloader))\n",
    "\n",
    "#tokens_hf = torch.cat([torch.ones((tokens_hf.shape[0], 1), dtype=torch.long) * tokenizer_hf.bos_token_id, tokens_hf], dim=1).to(device)\n",
    "logits_hf = model_hf(tokens_hf.cuda())[\"logits\"]\n",
    "val_logits_hf = model_hf(val_tokens_hf.cuda())[\"logits\"]"
   ]
  },
  {
   "cell_type": "code",
   "execution_count": 8,
   "metadata": {},
   "outputs": [
    {
     "name": "stdout",
     "output_type": "stream",
     "text": [
      "Logit Diff: 4.1992\t Val: 4.3926\n",
      "Accuracy: 1.00 ± 0.00\t Val: 1.00 ± 0.00\n"
     ]
    }
   ],
   "source": [
    "logit_diff_hf = compute_logit_diff(logits_hf, answer_tokens.cuda(), average=False)[..., -1].mean()\n",
    "val_logit_diff_hf = compute_logit_diff(val_logits_hf, val_answer_tokens.cuda(), average=False)[..., -1].mean()\n",
    "\n",
    "acc_hf, std = compute_accuracy(logits_hf, answer_tokens.cuda())\n",
    "val_acc_hf, val_std = compute_accuracy(val_logits_hf, val_answer_tokens.cuda())\n",
    "\n",
    "\n",
    "print(f\"Logit Diff: {logit_diff_hf.item():.4f}\\t Val: {val_logit_diff_hf.item():.4f}\")\n",
    "print(f\"Accuracy: {acc_hf.item():.2f} ± {std:.2f}\\t Val: {val_acc_hf.item():.2f} ± {val_std:.2f}\")"
   ]
  },
  {
   "cell_type": "code",
   "execution_count": 9,
   "metadata": {},
   "outputs": [],
   "source": [
    "def get_cache_attn(model, tokens) -> torch.Tensor:\n",
    "    def get_cache_attn_hook(module: LlamaSdpaAttention, input, output, layer_idx: int, cache: torch.Tensor):\n",
    "        \"\"\"\n",
    "        Caches the mean activation of the attention layer. `cache` has shape (n_layer, d_model)\n",
    "        output -> tensor of shape (batch_size, seq_len, d_model)\n",
    "        \"\"\"\n",
    "        cache[layer_idx] = output[0].mean(0).detach().clone()\n",
    "\n",
    "    cache_attn = torch.zeros((model.config.num_hidden_layers, 11, model.config.hidden_size), dtype=torch.float16).to(device)\n",
    "\n",
    "    for layer in range(model.config.num_hidden_layers):  \n",
    "        hook_fn = partial(get_cache_attn_hook, layer_idx=layer, cache=cache_attn)\n",
    "        hook = model.model.layers[layer].self_attn.register_forward_hook(hook_fn)\n",
    "        corrupted_logits = model(tokens)[\"logits\"]\n",
    "        hook.remove()\n",
    "    \n",
    "    return cache_attn\n",
    "\n",
    "def get_cache_attn_full(model, dataloader):\n",
    "    cache_attn = []\n",
    "    for tokens, _ in tqdm(dataloader):\n",
    "        cache_attn.append(get_cache_attn(model_hf, tokens_hf.cuda()).cpu())\n",
    "    return torch.stack(cache_attn, dim=0).mean(0)"
   ]
  },
  {
   "cell_type": "code",
   "execution_count": 10,
   "metadata": {},
   "outputs": [],
   "source": [
    "def get_attribution_score_attn(model, val_tokens, val_answer_tokens, cache) -> torch.Tensor:\n",
    "    def mean_ablate_attn_hf(module: LlamaSdpaAttention, input, output, layer_idx: int, cache: torch.Tensor):\n",
    "        \"\"\"\n",
    "        Performs mean ablation on an attention layer\n",
    "        This function \n",
    "\n",
    "        output -> tuple containing (output[0], None)\n",
    "        output[0] -> tensor of shape (batch_size, seq_len, d_model)\n",
    "        cache -> tensor of shape (n_layers, seq_len, d_model)\n",
    "        \"\"\"\n",
    "        # output = cache[layer_idx][None, ...]\n",
    "        #print(output[0].dtype, cache[layer_idx].dtype)\n",
    "        return (cache[layer_idx][None, ...], None, output[2])\n",
    "\n",
    "\n",
    "    corrupted_logit_diffs = torch.zeros((model.config.num_hidden_layers, val_tokens.shape[0]))\n",
    "    with torch.no_grad():\n",
    "        for layer in range(model.config.num_hidden_layers):\n",
    "            hook_fn = partial(mean_ablate_attn_hf, layer_idx=layer, cache=cache)\n",
    "            hook = model.model.layers[layer].self_attn.register_forward_hook(hook_fn)\n",
    "            corrupted_logits = model(val_tokens)[\"logits\"]\n",
    "            hook.remove()\n",
    "            corrupted_logit_diff = compute_logit_diff(corrupted_logits.cuda(), val_answer_tokens, average=False)\n",
    "            corrupted_logit_diffs[layer] = corrupted_logit_diff[..., -1] # take last letter\n",
    "\n",
    "    attribution_score_attn_hf = (corrupted_logit_diffs - val_logit_diff_hf.cpu()).mean(-1)\n",
    "    return attribution_score_attn_hf\n",
    "\n",
    "def get_attribution_score_attn_full(model, dataloader, cache):\n",
    "    attribution_score_attn_hf = []\n",
    "    for val_tokens, val_answer_tokens in tqdm(dataloader):\n",
    "        attribution_score_attn_hf.append(get_attribution_score_attn(model, val_tokens.cuda(), val_answer_tokens.cuda(), cache.cuda()).cpu())\n",
    "    return torch.stack(attribution_score_attn_hf, dim=0).mean(0)"
   ]
  },
  {
   "cell_type": "code",
   "execution_count": 11,
   "metadata": {},
   "outputs": [],
   "source": [
    "def get_cache_mlp(model, tokens) -> torch.Tensor:\n",
    "\n",
    "    def get_cache_mlp_hook(module: LlamaMLP, input, output, layer_idx: int, cache: torch.Tensor):\n",
    "        \"\"\"\n",
    "        Caches the mean activation of the MLP. `cache` has shape (n_layer, d_model)\n",
    "        output -> tensor of shape (batch_size, seq_len, d_model)\n",
    "        \"\"\"\n",
    "        cache[layer_idx] = output.mean(0).detach().clone()\n",
    "\n",
    "    cache_mlp = torch.zeros((model.config.num_hidden_layers, 11, model.config.hidden_size), dtype=torch.float16).to(device)\n",
    "\n",
    "    for layer in range(model.config.num_hidden_layers):  \n",
    "        hook_fn = partial(get_cache_mlp_hook, layer_idx=layer, cache=cache_mlp)\n",
    "        hook = model.model.layers[layer].mlp.register_forward_hook(hook_fn)\n",
    "        corrupted_logits = model(tokens)[\"logits\"]\n",
    "        hook.remove()\n",
    "    return cache_mlp\n",
    "\n",
    "\n",
    "def get_cache_mlp_full(model, dataloader):\n",
    "    cache_mlp = []\n",
    "    for tokens, _ in tqdm(dataloader):\n",
    "        cache_mlp.append(get_cache_mlp(model_hf, tokens_hf.cuda()).cpu())\n",
    "    return torch.stack(cache_mlp, dim=0).mean(0)\n"
   ]
  },
  {
   "cell_type": "code",
   "execution_count": 12,
   "metadata": {},
   "outputs": [],
   "source": [
    "def get_attribution_score_mlp(model, val_tokens, val_answer_tokens, cache) -> torch.Tensor:\n",
    "\n",
    "    def mean_ablate_mlp_hf(module: LlamaMLP, input, output, layer_idx: int, cache: torch.Tensor):\n",
    "        \"\"\"\n",
    "        Performs mean ablation on an MLP layer\n",
    "\n",
    "        output -> tensor of shape (batch_size, seq_len, d_model)\n",
    "        cache -> tensor of shape (n_layers, seq_len, d_model)\n",
    "        \"\"\"\n",
    "        output = cache[layer_idx][None, ...]\n",
    "        return output\n",
    "\n",
    "        \n",
    "    corrupted_logit_diffs = torch.zeros((model.config.num_hidden_layers, val_tokens.shape[0]))\n",
    "    with torch.no_grad():\n",
    "        for layer in range(model.config.num_hidden_layers):\n",
    "            hook_fn = partial(mean_ablate_mlp_hf, layer_idx=layer, cache=cache)\n",
    "            hook = model.model.layers[layer].mlp.register_forward_hook(hook_fn)\n",
    "            corrupted_logits = model(val_tokens)[\"logits\"]\n",
    "            hook.remove()\n",
    "            corrupted_logit_diff = compute_logit_diff(corrupted_logits.cuda(), val_answer_tokens, average=False)\n",
    "            corrupted_logit_diffs[layer] = corrupted_logit_diff[..., -1] # take last letter\n",
    "\n",
    "    attribution_score_mlp_hf = (corrupted_logit_diffs - val_logit_diff_hf.cpu()).mean(-1)\n",
    "    return attribution_score_mlp_hf\n",
    "\n",
    "def get_attribution_score_mlp_full(model, dataloader, cache):\n",
    "    attribution_score_mlp_hf = []\n",
    "    for val_tokens, val_answer_tokens in tqdm(dataloader):\n",
    "        attribution_score_mlp_hf.append(get_attribution_score_mlp(model, val_tokens.cuda(), val_answer_tokens.cuda(), cache.cuda()).cpu())\n",
    "    return torch.stack(attribution_score_mlp_hf, dim=0).mean(0)\n"
   ]
  },
  {
   "cell_type": "code",
   "execution_count": null,
   "metadata": {},
   "outputs": [],
   "source": [
    "cache_attn = get_cache_attn_full(model_hf, dataloader)\n",
    "attribution_score_attn_hf = get_attribution_score_attn_full(model_hf, val_dataloader, cache_attn)"
   ]
  },
  {
   "cell_type": "code",
   "execution_count": null,
   "metadata": {},
   "outputs": [],
   "source": [
    "px.imshow(attribution_score_attn_hf.unsqueeze(0).detach().numpy(), title=\"Attribution score for attention heads (HuggingFace)\", \n",
    "    labels={\"x\": \"Layer\", \"y\": \"\"}, width=1000, height=300, color_continuous_midpoint=0.0, color_continuous_scale=\"RdBu\")"
   ]
  },
  {
   "cell_type": "code",
   "execution_count": null,
   "metadata": {},
   "outputs": [],
   "source": [
    "cache_mlp = get_cache_mlp_full(model_hf, dataloader)\n",
    "attribution_score_mlp_hf = get_attribution_score_mlp_full(model_hf, val_dataloader, cache_mlp)"
   ]
  },
  {
   "cell_type": "code",
   "execution_count": 17,
   "metadata": {},
   "outputs": [
    {
     "data": {
      "application/vnd.plotly.v1+json": {
       "config": {
        "plotlyServerURL": "https://plot.ly"
       },
       "data": [
        {
         "coloraxis": "coloraxis",
         "hovertemplate": "Layer: %{x}<br>y: %{y}<br>color: %{z}<extra></extra>",
         "name": "0",
         "type": "heatmap",
         "xaxis": "x",
         "yaxis": "y",
         "z": [
          [
           -5.475561141967773,
           -6.273075103759766,
           -0.6458750367164612,
           -0.30631256103515625,
           -1.0854493379592896,
           -1.0613809823989868,
           -0.8304649591445923,
           -0.10419144481420517,
           -0.18689848482608795,
           -0.6451289057731628,
           0.27015623450279236,
           -0.25959768891334534,
           -0.1520625352859497,
           -0.23401956260204315,
           0.13875386118888855,
           -0.3731992542743683,
           -0.5176290273666382,
           0.12296481430530548,
           -0.11002347618341446,
           -0.06455472856760025,
           -0.10450784862041473,
           -0.11025004088878632,
           0.026234334334731102,
           -0.01796097494661808,
           0.1007734090089798,
           -0.2767226994037628,
           -0.00334378844127059,
           0.05594136565923691,
           -0.11011721938848495,
           -0.03379691392183304,
           -0.11250589042901993,
           1.161015510559082
          ]
         ]
        }
       ],
       "layout": {
        "coloraxis": {
         "cmid": 0,
         "colorscale": [
          [
           0,
           "rgb(103,0,31)"
          ],
          [
           0.1,
           "rgb(178,24,43)"
          ],
          [
           0.2,
           "rgb(214,96,77)"
          ],
          [
           0.3,
           "rgb(244,165,130)"
          ],
          [
           0.4,
           "rgb(253,219,199)"
          ],
          [
           0.5,
           "rgb(247,247,247)"
          ],
          [
           0.6,
           "rgb(209,229,240)"
          ],
          [
           0.7,
           "rgb(146,197,222)"
          ],
          [
           0.8,
           "rgb(67,147,195)"
          ],
          [
           0.9,
           "rgb(33,102,172)"
          ],
          [
           1,
           "rgb(5,48,97)"
          ]
         ]
        },
        "height": 300,
        "template": {
         "data": {
          "bar": [
           {
            "error_x": {
             "color": "#2a3f5f"
            },
            "error_y": {
             "color": "#2a3f5f"
            },
            "marker": {
             "line": {
              "color": "#E5ECF6",
              "width": 0.5
             },
             "pattern": {
              "fillmode": "overlay",
              "size": 10,
              "solidity": 0.2
             }
            },
            "type": "bar"
           }
          ],
          "barpolar": [
           {
            "marker": {
             "line": {
              "color": "#E5ECF6",
              "width": 0.5
             },
             "pattern": {
              "fillmode": "overlay",
              "size": 10,
              "solidity": 0.2
             }
            },
            "type": "barpolar"
           }
          ],
          "carpet": [
           {
            "aaxis": {
             "endlinecolor": "#2a3f5f",
             "gridcolor": "white",
             "linecolor": "white",
             "minorgridcolor": "white",
             "startlinecolor": "#2a3f5f"
            },
            "baxis": {
             "endlinecolor": "#2a3f5f",
             "gridcolor": "white",
             "linecolor": "white",
             "minorgridcolor": "white",
             "startlinecolor": "#2a3f5f"
            },
            "type": "carpet"
           }
          ],
          "choropleth": [
           {
            "colorbar": {
             "outlinewidth": 0,
             "ticks": ""
            },
            "type": "choropleth"
           }
          ],
          "contour": [
           {
            "colorbar": {
             "outlinewidth": 0,
             "ticks": ""
            },
            "colorscale": [
             [
              0,
              "#0d0887"
             ],
             [
              0.1111111111111111,
              "#46039f"
             ],
             [
              0.2222222222222222,
              "#7201a8"
             ],
             [
              0.3333333333333333,
              "#9c179e"
             ],
             [
              0.4444444444444444,
              "#bd3786"
             ],
             [
              0.5555555555555556,
              "#d8576b"
             ],
             [
              0.6666666666666666,
              "#ed7953"
             ],
             [
              0.7777777777777778,
              "#fb9f3a"
             ],
             [
              0.8888888888888888,
              "#fdca26"
             ],
             [
              1,
              "#f0f921"
             ]
            ],
            "type": "contour"
           }
          ],
          "contourcarpet": [
           {
            "colorbar": {
             "outlinewidth": 0,
             "ticks": ""
            },
            "type": "contourcarpet"
           }
          ],
          "heatmap": [
           {
            "colorbar": {
             "outlinewidth": 0,
             "ticks": ""
            },
            "colorscale": [
             [
              0,
              "#0d0887"
             ],
             [
              0.1111111111111111,
              "#46039f"
             ],
             [
              0.2222222222222222,
              "#7201a8"
             ],
             [
              0.3333333333333333,
              "#9c179e"
             ],
             [
              0.4444444444444444,
              "#bd3786"
             ],
             [
              0.5555555555555556,
              "#d8576b"
             ],
             [
              0.6666666666666666,
              "#ed7953"
             ],
             [
              0.7777777777777778,
              "#fb9f3a"
             ],
             [
              0.8888888888888888,
              "#fdca26"
             ],
             [
              1,
              "#f0f921"
             ]
            ],
            "type": "heatmap"
           }
          ],
          "heatmapgl": [
           {
            "colorbar": {
             "outlinewidth": 0,
             "ticks": ""
            },
            "colorscale": [
             [
              0,
              "#0d0887"
             ],
             [
              0.1111111111111111,
              "#46039f"
             ],
             [
              0.2222222222222222,
              "#7201a8"
             ],
             [
              0.3333333333333333,
              "#9c179e"
             ],
             [
              0.4444444444444444,
              "#bd3786"
             ],
             [
              0.5555555555555556,
              "#d8576b"
             ],
             [
              0.6666666666666666,
              "#ed7953"
             ],
             [
              0.7777777777777778,
              "#fb9f3a"
             ],
             [
              0.8888888888888888,
              "#fdca26"
             ],
             [
              1,
              "#f0f921"
             ]
            ],
            "type": "heatmapgl"
           }
          ],
          "histogram": [
           {
            "marker": {
             "pattern": {
              "fillmode": "overlay",
              "size": 10,
              "solidity": 0.2
             }
            },
            "type": "histogram"
           }
          ],
          "histogram2d": [
           {
            "colorbar": {
             "outlinewidth": 0,
             "ticks": ""
            },
            "colorscale": [
             [
              0,
              "#0d0887"
             ],
             [
              0.1111111111111111,
              "#46039f"
             ],
             [
              0.2222222222222222,
              "#7201a8"
             ],
             [
              0.3333333333333333,
              "#9c179e"
             ],
             [
              0.4444444444444444,
              "#bd3786"
             ],
             [
              0.5555555555555556,
              "#d8576b"
             ],
             [
              0.6666666666666666,
              "#ed7953"
             ],
             [
              0.7777777777777778,
              "#fb9f3a"
             ],
             [
              0.8888888888888888,
              "#fdca26"
             ],
             [
              1,
              "#f0f921"
             ]
            ],
            "type": "histogram2d"
           }
          ],
          "histogram2dcontour": [
           {
            "colorbar": {
             "outlinewidth": 0,
             "ticks": ""
            },
            "colorscale": [
             [
              0,
              "#0d0887"
             ],
             [
              0.1111111111111111,
              "#46039f"
             ],
             [
              0.2222222222222222,
              "#7201a8"
             ],
             [
              0.3333333333333333,
              "#9c179e"
             ],
             [
              0.4444444444444444,
              "#bd3786"
             ],
             [
              0.5555555555555556,
              "#d8576b"
             ],
             [
              0.6666666666666666,
              "#ed7953"
             ],
             [
              0.7777777777777778,
              "#fb9f3a"
             ],
             [
              0.8888888888888888,
              "#fdca26"
             ],
             [
              1,
              "#f0f921"
             ]
            ],
            "type": "histogram2dcontour"
           }
          ],
          "mesh3d": [
           {
            "colorbar": {
             "outlinewidth": 0,
             "ticks": ""
            },
            "type": "mesh3d"
           }
          ],
          "parcoords": [
           {
            "line": {
             "colorbar": {
              "outlinewidth": 0,
              "ticks": ""
             }
            },
            "type": "parcoords"
           }
          ],
          "pie": [
           {
            "automargin": true,
            "type": "pie"
           }
          ],
          "scatter": [
           {
            "fillpattern": {
             "fillmode": "overlay",
             "size": 10,
             "solidity": 0.2
            },
            "type": "scatter"
           }
          ],
          "scatter3d": [
           {
            "line": {
             "colorbar": {
              "outlinewidth": 0,
              "ticks": ""
             }
            },
            "marker": {
             "colorbar": {
              "outlinewidth": 0,
              "ticks": ""
             }
            },
            "type": "scatter3d"
           }
          ],
          "scattercarpet": [
           {
            "marker": {
             "colorbar": {
              "outlinewidth": 0,
              "ticks": ""
             }
            },
            "type": "scattercarpet"
           }
          ],
          "scattergeo": [
           {
            "marker": {
             "colorbar": {
              "outlinewidth": 0,
              "ticks": ""
             }
            },
            "type": "scattergeo"
           }
          ],
          "scattergl": [
           {
            "marker": {
             "colorbar": {
              "outlinewidth": 0,
              "ticks": ""
             }
            },
            "type": "scattergl"
           }
          ],
          "scattermapbox": [
           {
            "marker": {
             "colorbar": {
              "outlinewidth": 0,
              "ticks": ""
             }
            },
            "type": "scattermapbox"
           }
          ],
          "scatterpolar": [
           {
            "marker": {
             "colorbar": {
              "outlinewidth": 0,
              "ticks": ""
             }
            },
            "type": "scatterpolar"
           }
          ],
          "scatterpolargl": [
           {
            "marker": {
             "colorbar": {
              "outlinewidth": 0,
              "ticks": ""
             }
            },
            "type": "scatterpolargl"
           }
          ],
          "scatterternary": [
           {
            "marker": {
             "colorbar": {
              "outlinewidth": 0,
              "ticks": ""
             }
            },
            "type": "scatterternary"
           }
          ],
          "surface": [
           {
            "colorbar": {
             "outlinewidth": 0,
             "ticks": ""
            },
            "colorscale": [
             [
              0,
              "#0d0887"
             ],
             [
              0.1111111111111111,
              "#46039f"
             ],
             [
              0.2222222222222222,
              "#7201a8"
             ],
             [
              0.3333333333333333,
              "#9c179e"
             ],
             [
              0.4444444444444444,
              "#bd3786"
             ],
             [
              0.5555555555555556,
              "#d8576b"
             ],
             [
              0.6666666666666666,
              "#ed7953"
             ],
             [
              0.7777777777777778,
              "#fb9f3a"
             ],
             [
              0.8888888888888888,
              "#fdca26"
             ],
             [
              1,
              "#f0f921"
             ]
            ],
            "type": "surface"
           }
          ],
          "table": [
           {
            "cells": {
             "fill": {
              "color": "#EBF0F8"
             },
             "line": {
              "color": "white"
             }
            },
            "header": {
             "fill": {
              "color": "#C8D4E3"
             },
             "line": {
              "color": "white"
             }
            },
            "type": "table"
           }
          ]
         },
         "layout": {
          "annotationdefaults": {
           "arrowcolor": "#2a3f5f",
           "arrowhead": 0,
           "arrowwidth": 1
          },
          "autotypenumbers": "strict",
          "coloraxis": {
           "colorbar": {
            "outlinewidth": 0,
            "ticks": ""
           }
          },
          "colorscale": {
           "diverging": [
            [
             0,
             "#8e0152"
            ],
            [
             0.1,
             "#c51b7d"
            ],
            [
             0.2,
             "#de77ae"
            ],
            [
             0.3,
             "#f1b6da"
            ],
            [
             0.4,
             "#fde0ef"
            ],
            [
             0.5,
             "#f7f7f7"
            ],
            [
             0.6,
             "#e6f5d0"
            ],
            [
             0.7,
             "#b8e186"
            ],
            [
             0.8,
             "#7fbc41"
            ],
            [
             0.9,
             "#4d9221"
            ],
            [
             1,
             "#276419"
            ]
           ],
           "sequential": [
            [
             0,
             "#0d0887"
            ],
            [
             0.1111111111111111,
             "#46039f"
            ],
            [
             0.2222222222222222,
             "#7201a8"
            ],
            [
             0.3333333333333333,
             "#9c179e"
            ],
            [
             0.4444444444444444,
             "#bd3786"
            ],
            [
             0.5555555555555556,
             "#d8576b"
            ],
            [
             0.6666666666666666,
             "#ed7953"
            ],
            [
             0.7777777777777778,
             "#fb9f3a"
            ],
            [
             0.8888888888888888,
             "#fdca26"
            ],
            [
             1,
             "#f0f921"
            ]
           ],
           "sequentialminus": [
            [
             0,
             "#0d0887"
            ],
            [
             0.1111111111111111,
             "#46039f"
            ],
            [
             0.2222222222222222,
             "#7201a8"
            ],
            [
             0.3333333333333333,
             "#9c179e"
            ],
            [
             0.4444444444444444,
             "#bd3786"
            ],
            [
             0.5555555555555556,
             "#d8576b"
            ],
            [
             0.6666666666666666,
             "#ed7953"
            ],
            [
             0.7777777777777778,
             "#fb9f3a"
            ],
            [
             0.8888888888888888,
             "#fdca26"
            ],
            [
             1,
             "#f0f921"
            ]
           ]
          },
          "colorway": [
           "#636efa",
           "#EF553B",
           "#00cc96",
           "#ab63fa",
           "#FFA15A",
           "#19d3f3",
           "#FF6692",
           "#B6E880",
           "#FF97FF",
           "#FECB52"
          ],
          "font": {
           "color": "#2a3f5f"
          },
          "geo": {
           "bgcolor": "white",
           "lakecolor": "white",
           "landcolor": "#E5ECF6",
           "showlakes": true,
           "showland": true,
           "subunitcolor": "white"
          },
          "hoverlabel": {
           "align": "left"
          },
          "hovermode": "closest",
          "mapbox": {
           "style": "light"
          },
          "paper_bgcolor": "white",
          "plot_bgcolor": "#E5ECF6",
          "polar": {
           "angularaxis": {
            "gridcolor": "white",
            "linecolor": "white",
            "ticks": ""
           },
           "bgcolor": "#E5ECF6",
           "radialaxis": {
            "gridcolor": "white",
            "linecolor": "white",
            "ticks": ""
           }
          },
          "scene": {
           "xaxis": {
            "backgroundcolor": "#E5ECF6",
            "gridcolor": "white",
            "gridwidth": 2,
            "linecolor": "white",
            "showbackground": true,
            "ticks": "",
            "zerolinecolor": "white"
           },
           "yaxis": {
            "backgroundcolor": "#E5ECF6",
            "gridcolor": "white",
            "gridwidth": 2,
            "linecolor": "white",
            "showbackground": true,
            "ticks": "",
            "zerolinecolor": "white"
           },
           "zaxis": {
            "backgroundcolor": "#E5ECF6",
            "gridcolor": "white",
            "gridwidth": 2,
            "linecolor": "white",
            "showbackground": true,
            "ticks": "",
            "zerolinecolor": "white"
           }
          },
          "shapedefaults": {
           "line": {
            "color": "#2a3f5f"
           }
          },
          "ternary": {
           "aaxis": {
            "gridcolor": "white",
            "linecolor": "white",
            "ticks": ""
           },
           "baxis": {
            "gridcolor": "white",
            "linecolor": "white",
            "ticks": ""
           },
           "bgcolor": "#E5ECF6",
           "caxis": {
            "gridcolor": "white",
            "linecolor": "white",
            "ticks": ""
           }
          },
          "title": {
           "x": 0.05
          },
          "xaxis": {
           "automargin": true,
           "gridcolor": "white",
           "linecolor": "white",
           "ticks": "",
           "title": {
            "standoff": 15
           },
           "zerolinecolor": "white",
           "zerolinewidth": 2
          },
          "yaxis": {
           "automargin": true,
           "gridcolor": "white",
           "linecolor": "white",
           "ticks": "",
           "title": {
            "standoff": 15
           },
           "zerolinecolor": "white",
           "zerolinewidth": 2
          }
         }
        },
        "title": {
         "text": "Attribution score for MLPs (HuggingFace)"
        },
        "width": 1000,
        "xaxis": {
         "anchor": "y",
         "constrain": "domain",
         "domain": [
          0,
          1
         ],
         "scaleanchor": "y",
         "title": {
          "text": "Layer"
         }
        },
        "yaxis": {
         "anchor": "x",
         "autorange": "reversed",
         "constrain": "domain",
         "domain": [
          0,
          1
         ]
        }
       }
      },
      "text/html": [
       "<div>                            <div id=\"a1e61bdb-5176-4871-87cf-6aef11a3d899\" class=\"plotly-graph-div\" style=\"height:300px; width:1000px;\"></div>            <script type=\"text/javascript\">                require([\"plotly\"], function(Plotly) {                    window.PLOTLYENV=window.PLOTLYENV || {};                                    if (document.getElementById(\"a1e61bdb-5176-4871-87cf-6aef11a3d899\")) {                    Plotly.newPlot(                        \"a1e61bdb-5176-4871-87cf-6aef11a3d899\",                        [{\"coloraxis\":\"coloraxis\",\"name\":\"0\",\"z\":[[-5.475561141967773,-6.273075103759766,-0.6458750367164612,-0.30631256103515625,-1.0854493379592896,-1.0613809823989868,-0.8304649591445923,-0.10419144481420517,-0.18689848482608795,-0.6451289057731628,0.27015623450279236,-0.25959768891334534,-0.1520625352859497,-0.23401956260204315,0.13875386118888855,-0.3731992542743683,-0.5176290273666382,0.12296481430530548,-0.11002347618341446,-0.06455472856760025,-0.10450784862041473,-0.11025004088878632,0.026234334334731102,-0.01796097494661808,0.1007734090089798,-0.2767226994037628,-0.00334378844127059,0.05594136565923691,-0.11011721938848495,-0.03379691392183304,-0.11250589042901993,1.161015510559082]],\"type\":\"heatmap\",\"xaxis\":\"x\",\"yaxis\":\"y\",\"hovertemplate\":\"Layer: %{x}\\u003cbr\\u003ey: %{y}\\u003cbr\\u003ecolor: %{z}\\u003cextra\\u003e\\u003c\\u002fextra\\u003e\"}],                        {\"template\":{\"data\":{\"histogram2dcontour\":[{\"type\":\"histogram2dcontour\",\"colorbar\":{\"outlinewidth\":0,\"ticks\":\"\"},\"colorscale\":[[0.0,\"#0d0887\"],[0.1111111111111111,\"#46039f\"],[0.2222222222222222,\"#7201a8\"],[0.3333333333333333,\"#9c179e\"],[0.4444444444444444,\"#bd3786\"],[0.5555555555555556,\"#d8576b\"],[0.6666666666666666,\"#ed7953\"],[0.7777777777777778,\"#fb9f3a\"],[0.8888888888888888,\"#fdca26\"],[1.0,\"#f0f921\"]]}],\"choropleth\":[{\"type\":\"choropleth\",\"colorbar\":{\"outlinewidth\":0,\"ticks\":\"\"}}],\"histogram2d\":[{\"type\":\"histogram2d\",\"colorbar\":{\"outlinewidth\":0,\"ticks\":\"\"},\"colorscale\":[[0.0,\"#0d0887\"],[0.1111111111111111,\"#46039f\"],[0.2222222222222222,\"#7201a8\"],[0.3333333333333333,\"#9c179e\"],[0.4444444444444444,\"#bd3786\"],[0.5555555555555556,\"#d8576b\"],[0.6666666666666666,\"#ed7953\"],[0.7777777777777778,\"#fb9f3a\"],[0.8888888888888888,\"#fdca26\"],[1.0,\"#f0f921\"]]}],\"heatmap\":[{\"type\":\"heatmap\",\"colorbar\":{\"outlinewidth\":0,\"ticks\":\"\"},\"colorscale\":[[0.0,\"#0d0887\"],[0.1111111111111111,\"#46039f\"],[0.2222222222222222,\"#7201a8\"],[0.3333333333333333,\"#9c179e\"],[0.4444444444444444,\"#bd3786\"],[0.5555555555555556,\"#d8576b\"],[0.6666666666666666,\"#ed7953\"],[0.7777777777777778,\"#fb9f3a\"],[0.8888888888888888,\"#fdca26\"],[1.0,\"#f0f921\"]]}],\"heatmapgl\":[{\"type\":\"heatmapgl\",\"colorbar\":{\"outlinewidth\":0,\"ticks\":\"\"},\"colorscale\":[[0.0,\"#0d0887\"],[0.1111111111111111,\"#46039f\"],[0.2222222222222222,\"#7201a8\"],[0.3333333333333333,\"#9c179e\"],[0.4444444444444444,\"#bd3786\"],[0.5555555555555556,\"#d8576b\"],[0.6666666666666666,\"#ed7953\"],[0.7777777777777778,\"#fb9f3a\"],[0.8888888888888888,\"#fdca26\"],[1.0,\"#f0f921\"]]}],\"contourcarpet\":[{\"type\":\"contourcarpet\",\"colorbar\":{\"outlinewidth\":0,\"ticks\":\"\"}}],\"contour\":[{\"type\":\"contour\",\"colorbar\":{\"outlinewidth\":0,\"ticks\":\"\"},\"colorscale\":[[0.0,\"#0d0887\"],[0.1111111111111111,\"#46039f\"],[0.2222222222222222,\"#7201a8\"],[0.3333333333333333,\"#9c179e\"],[0.4444444444444444,\"#bd3786\"],[0.5555555555555556,\"#d8576b\"],[0.6666666666666666,\"#ed7953\"],[0.7777777777777778,\"#fb9f3a\"],[0.8888888888888888,\"#fdca26\"],[1.0,\"#f0f921\"]]}],\"surface\":[{\"type\":\"surface\",\"colorbar\":{\"outlinewidth\":0,\"ticks\":\"\"},\"colorscale\":[[0.0,\"#0d0887\"],[0.1111111111111111,\"#46039f\"],[0.2222222222222222,\"#7201a8\"],[0.3333333333333333,\"#9c179e\"],[0.4444444444444444,\"#bd3786\"],[0.5555555555555556,\"#d8576b\"],[0.6666666666666666,\"#ed7953\"],[0.7777777777777778,\"#fb9f3a\"],[0.8888888888888888,\"#fdca26\"],[1.0,\"#f0f921\"]]}],\"mesh3d\":[{\"type\":\"mesh3d\",\"colorbar\":{\"outlinewidth\":0,\"ticks\":\"\"}}],\"scatter\":[{\"fillpattern\":{\"fillmode\":\"overlay\",\"size\":10,\"solidity\":0.2},\"type\":\"scatter\"}],\"parcoords\":[{\"type\":\"parcoords\",\"line\":{\"colorbar\":{\"outlinewidth\":0,\"ticks\":\"\"}}}],\"scatterpolargl\":[{\"type\":\"scatterpolargl\",\"marker\":{\"colorbar\":{\"outlinewidth\":0,\"ticks\":\"\"}}}],\"bar\":[{\"error_x\":{\"color\":\"#2a3f5f\"},\"error_y\":{\"color\":\"#2a3f5f\"},\"marker\":{\"line\":{\"color\":\"#E5ECF6\",\"width\":0.5},\"pattern\":{\"fillmode\":\"overlay\",\"size\":10,\"solidity\":0.2}},\"type\":\"bar\"}],\"scattergeo\":[{\"type\":\"scattergeo\",\"marker\":{\"colorbar\":{\"outlinewidth\":0,\"ticks\":\"\"}}}],\"scatterpolar\":[{\"type\":\"scatterpolar\",\"marker\":{\"colorbar\":{\"outlinewidth\":0,\"ticks\":\"\"}}}],\"histogram\":[{\"marker\":{\"pattern\":{\"fillmode\":\"overlay\",\"size\":10,\"solidity\":0.2}},\"type\":\"histogram\"}],\"scattergl\":[{\"type\":\"scattergl\",\"marker\":{\"colorbar\":{\"outlinewidth\":0,\"ticks\":\"\"}}}],\"scatter3d\":[{\"type\":\"scatter3d\",\"line\":{\"colorbar\":{\"outlinewidth\":0,\"ticks\":\"\"}},\"marker\":{\"colorbar\":{\"outlinewidth\":0,\"ticks\":\"\"}}}],\"scattermapbox\":[{\"type\":\"scattermapbox\",\"marker\":{\"colorbar\":{\"outlinewidth\":0,\"ticks\":\"\"}}}],\"scatterternary\":[{\"type\":\"scatterternary\",\"marker\":{\"colorbar\":{\"outlinewidth\":0,\"ticks\":\"\"}}}],\"scattercarpet\":[{\"type\":\"scattercarpet\",\"marker\":{\"colorbar\":{\"outlinewidth\":0,\"ticks\":\"\"}}}],\"carpet\":[{\"aaxis\":{\"endlinecolor\":\"#2a3f5f\",\"gridcolor\":\"white\",\"linecolor\":\"white\",\"minorgridcolor\":\"white\",\"startlinecolor\":\"#2a3f5f\"},\"baxis\":{\"endlinecolor\":\"#2a3f5f\",\"gridcolor\":\"white\",\"linecolor\":\"white\",\"minorgridcolor\":\"white\",\"startlinecolor\":\"#2a3f5f\"},\"type\":\"carpet\"}],\"table\":[{\"cells\":{\"fill\":{\"color\":\"#EBF0F8\"},\"line\":{\"color\":\"white\"}},\"header\":{\"fill\":{\"color\":\"#C8D4E3\"},\"line\":{\"color\":\"white\"}},\"type\":\"table\"}],\"barpolar\":[{\"marker\":{\"line\":{\"color\":\"#E5ECF6\",\"width\":0.5},\"pattern\":{\"fillmode\":\"overlay\",\"size\":10,\"solidity\":0.2}},\"type\":\"barpolar\"}],\"pie\":[{\"automargin\":true,\"type\":\"pie\"}]},\"layout\":{\"autotypenumbers\":\"strict\",\"colorway\":[\"#636efa\",\"#EF553B\",\"#00cc96\",\"#ab63fa\",\"#FFA15A\",\"#19d3f3\",\"#FF6692\",\"#B6E880\",\"#FF97FF\",\"#FECB52\"],\"font\":{\"color\":\"#2a3f5f\"},\"hovermode\":\"closest\",\"hoverlabel\":{\"align\":\"left\"},\"paper_bgcolor\":\"white\",\"plot_bgcolor\":\"#E5ECF6\",\"polar\":{\"bgcolor\":\"#E5ECF6\",\"angularaxis\":{\"gridcolor\":\"white\",\"linecolor\":\"white\",\"ticks\":\"\"},\"radialaxis\":{\"gridcolor\":\"white\",\"linecolor\":\"white\",\"ticks\":\"\"}},\"ternary\":{\"bgcolor\":\"#E5ECF6\",\"aaxis\":{\"gridcolor\":\"white\",\"linecolor\":\"white\",\"ticks\":\"\"},\"baxis\":{\"gridcolor\":\"white\",\"linecolor\":\"white\",\"ticks\":\"\"},\"caxis\":{\"gridcolor\":\"white\",\"linecolor\":\"white\",\"ticks\":\"\"}},\"coloraxis\":{\"colorbar\":{\"outlinewidth\":0,\"ticks\":\"\"}},\"colorscale\":{\"sequential\":[[0.0,\"#0d0887\"],[0.1111111111111111,\"#46039f\"],[0.2222222222222222,\"#7201a8\"],[0.3333333333333333,\"#9c179e\"],[0.4444444444444444,\"#bd3786\"],[0.5555555555555556,\"#d8576b\"],[0.6666666666666666,\"#ed7953\"],[0.7777777777777778,\"#fb9f3a\"],[0.8888888888888888,\"#fdca26\"],[1.0,\"#f0f921\"]],\"sequentialminus\":[[0.0,\"#0d0887\"],[0.1111111111111111,\"#46039f\"],[0.2222222222222222,\"#7201a8\"],[0.3333333333333333,\"#9c179e\"],[0.4444444444444444,\"#bd3786\"],[0.5555555555555556,\"#d8576b\"],[0.6666666666666666,\"#ed7953\"],[0.7777777777777778,\"#fb9f3a\"],[0.8888888888888888,\"#fdca26\"],[1.0,\"#f0f921\"]],\"diverging\":[[0,\"#8e0152\"],[0.1,\"#c51b7d\"],[0.2,\"#de77ae\"],[0.3,\"#f1b6da\"],[0.4,\"#fde0ef\"],[0.5,\"#f7f7f7\"],[0.6,\"#e6f5d0\"],[0.7,\"#b8e186\"],[0.8,\"#7fbc41\"],[0.9,\"#4d9221\"],[1,\"#276419\"]]},\"xaxis\":{\"gridcolor\":\"white\",\"linecolor\":\"white\",\"ticks\":\"\",\"title\":{\"standoff\":15},\"zerolinecolor\":\"white\",\"automargin\":true,\"zerolinewidth\":2},\"yaxis\":{\"gridcolor\":\"white\",\"linecolor\":\"white\",\"ticks\":\"\",\"title\":{\"standoff\":15},\"zerolinecolor\":\"white\",\"automargin\":true,\"zerolinewidth\":2},\"scene\":{\"xaxis\":{\"backgroundcolor\":\"#E5ECF6\",\"gridcolor\":\"white\",\"linecolor\":\"white\",\"showbackground\":true,\"ticks\":\"\",\"zerolinecolor\":\"white\",\"gridwidth\":2},\"yaxis\":{\"backgroundcolor\":\"#E5ECF6\",\"gridcolor\":\"white\",\"linecolor\":\"white\",\"showbackground\":true,\"ticks\":\"\",\"zerolinecolor\":\"white\",\"gridwidth\":2},\"zaxis\":{\"backgroundcolor\":\"#E5ECF6\",\"gridcolor\":\"white\",\"linecolor\":\"white\",\"showbackground\":true,\"ticks\":\"\",\"zerolinecolor\":\"white\",\"gridwidth\":2}},\"shapedefaults\":{\"line\":{\"color\":\"#2a3f5f\"}},\"annotationdefaults\":{\"arrowcolor\":\"#2a3f5f\",\"arrowhead\":0,\"arrowwidth\":1},\"geo\":{\"bgcolor\":\"white\",\"landcolor\":\"#E5ECF6\",\"subunitcolor\":\"white\",\"showland\":true,\"showlakes\":true,\"lakecolor\":\"white\"},\"title\":{\"x\":0.05},\"mapbox\":{\"style\":\"light\"}}},\"xaxis\":{\"anchor\":\"y\",\"domain\":[0.0,1.0],\"scaleanchor\":\"y\",\"constrain\":\"domain\",\"title\":{\"text\":\"Layer\"}},\"yaxis\":{\"anchor\":\"x\",\"domain\":[0.0,1.0],\"autorange\":\"reversed\",\"constrain\":\"domain\"},\"coloraxis\":{\"colorscale\":[[0.0,\"rgb(103,0,31)\"],[0.1,\"rgb(178,24,43)\"],[0.2,\"rgb(214,96,77)\"],[0.3,\"rgb(244,165,130)\"],[0.4,\"rgb(253,219,199)\"],[0.5,\"rgb(247,247,247)\"],[0.6,\"rgb(209,229,240)\"],[0.7,\"rgb(146,197,222)\"],[0.8,\"rgb(67,147,195)\"],[0.9,\"rgb(33,102,172)\"],[1.0,\"rgb(5,48,97)\"]],\"cmid\":0.0},\"title\":{\"text\":\"Attribution score for MLPs (HuggingFace)\"},\"height\":300,\"width\":1000},                        {\"responsive\": true}                    ).then(function(){\n",
       "                            \n",
       "var gd = document.getElementById('a1e61bdb-5176-4871-87cf-6aef11a3d899');\n",
       "var x = new MutationObserver(function (mutations, observer) {{\n",
       "        var display = window.getComputedStyle(gd).display;\n",
       "        if (!display || display === 'none') {{\n",
       "            console.log([gd, 'removed!']);\n",
       "            Plotly.purge(gd);\n",
       "            observer.disconnect();\n",
       "        }}\n",
       "}});\n",
       "\n",
       "// Listen for the removal of the full notebook cells\n",
       "var notebookContainer = gd.closest('#notebook-container');\n",
       "if (notebookContainer) {{\n",
       "    x.observe(notebookContainer, {childList: true});\n",
       "}}\n",
       "\n",
       "// Listen for the clearing of the current output cell\n",
       "var outputEl = gd.closest('.output');\n",
       "if (outputEl) {{\n",
       "    x.observe(outputEl, {childList: true});\n",
       "}}\n",
       "\n",
       "                        })                };                });            </script>        </div>"
      ]
     },
     "metadata": {},
     "output_type": "display_data"
    }
   ],
   "source": [
    "px.imshow(attribution_score_mlp_hf.unsqueeze(0).detach().numpy(), title=\"Attribution score for MLPs (HuggingFace)\", \n",
    "    labels={\"x\": \"Layer\", \"y\": \"\"}, width=1000, height=300, color_continuous_midpoint=0.0, color_continuous_scale=\"RdBu\")"
   ]
  },
  {
   "cell_type": "code",
   "execution_count": 18,
   "metadata": {},
   "outputs": [],
   "source": [
    "# Row 0 contains scores for attn, row 1 for MLPs\n",
    "attribution_scores = torch.stack([attribution_score_attn_hf, attribution_score_mlp_hf], dim=0)\n",
    "sorted_components = sort_Nd_tensor(attribution_scores)"
   ]
  },
  {
   "cell_type": "markdown",
   "metadata": {},
   "source": [
    "Compared to GPT-2 Small, here we see that the absolute value of the attribution score is smaller, I guess that as we have a lot more components, the role is spread. "
   ]
  },
  {
   "cell_type": "code",
   "execution_count": 19,
   "metadata": {},
   "outputs": [
    {
     "name": "stdout",
     "output_type": "stream",
     "text": [
      "MLP 1: -6.27\n",
      "MLP 0: -5.48\n",
      "MLP 4: -1.09\n",
      "MLP 5: -1.06\n",
      "MLP 6: -0.83\n",
      "MLP 2: -0.65\n",
      "MLP 9: -0.65\n",
      "MLP 16: -0.52\n",
      "MLP 15: -0.37\n",
      "Attn. 16: -0.37\n",
      "Attn. 14: -0.32\n",
      "MLP 3: -0.31\n",
      "Attn. 20: -0.29\n",
      "MLP 25: -0.28\n",
      "Attn. 11: -0.27\n",
      "MLP 11: -0.26\n",
      "MLP 13: -0.23\n",
      "MLP 8: -0.19\n",
      "MLP 12: -0.15\n",
      "Attn. 9: -0.12\n",
      "MLP 30: -0.11\n",
      "MLP 21: -0.11\n",
      "MLP 28: -0.11\n",
      "MLP 18: -0.11\n",
      "Attn. 22: -0.11\n",
      "MLP 20: -0.10\n",
      "MLP 7: -0.10\n",
      "Attn. 23: -0.08\n",
      "Attn. 1: -0.08\n",
      "Attn. 13: -0.07\n",
      "MLP 19: -0.06\n",
      "Attn. 21: -0.06\n",
      "Attn. 12: -0.05\n",
      "Attn. 17: -0.04\n",
      "MLP 29: -0.03\n",
      "Attn. 0: -0.03\n",
      "Attn. 26: -0.03\n",
      "Attn. 27: -0.02\n",
      "Attn. 24: -0.02\n",
      "MLP 23: -0.02\n",
      "Attn. 3: -0.02\n",
      "Attn. 5: -0.02\n",
      "Attn. 8: -0.02\n",
      "Attn. 6: -0.01\n",
      "Attn. 25: -0.01\n",
      "Attn. 28: -0.00\n",
      "MLP 26: -0.00\n",
      "Attn. 19: 0.01\n",
      "Attn. 7: 0.01\n",
      "Attn. 4: 0.02\n",
      "MLP 22: 0.03\n",
      "Attn. 2: 0.04\n",
      "MLP 27: 0.06\n",
      "Attn. 31: 0.07\n",
      "Attn. 30: 0.08\n",
      "MLP 24: 0.10\n",
      "Attn. 10: 0.11\n",
      "Attn. 18: 0.11\n",
      "MLP 17: 0.12\n",
      "MLP 14: 0.14\n",
      "Attn. 15: 0.14\n",
      "MLP 10: 0.27\n",
      "Attn. 29: 0.51\n",
      "MLP 31: 1.16\n"
     ]
    }
   ],
   "source": [
    "for comp, layer in sorted_components:\n",
    "    print(f\"{'MLP' if comp else 'Attn.'} {layer}: {attribution_scores[comp, layer]:.2f}\")"
   ]
  },
  {
   "cell_type": "code",
   "execution_count": 13,
   "metadata": {},
   "outputs": [],
   "source": [
    "class PrunedRMSNorm(nn.Module):\n",
    "    \"\"\"\n",
    "    Replaces the RMSNorm with an identity function.\n",
    "    \"\"\"\n",
    "    def __init__(self):\n",
    "        super().__init__()\n",
    "    \n",
    "    def forward(self, hidden_states):\n",
    "        return hidden_states\n",
    "\n",
    "\n",
    "class PrunedMLP(nn.Module):\n",
    "    \"\"\"\n",
    "    Layer that simply returns the vector `mean_activation`, which is expected\n",
    "    to have shape (seq_len, d_model) and represents the mean activation of the MLP\n",
    "    that is going to be replaced.\n",
    "    \"\"\"\n",
    "    def __init__(self, mean_activation: torch.Tensor):\n",
    "        super().__init__()\n",
    "        self.mean_activation = mean_activation\n",
    "\n",
    "    def forward(self, x):\n",
    "        return self.mean_activation[None, ...]\n",
    "        \n",
    "\n",
    "class PrunedAttention(nn.Module):\n",
    "    \"\"\"\n",
    "    Layer that simply returns the vector `mean_activation`, which is expected\n",
    "    to have shape (seq_len, d_model) and represents the mean activation of the MLP\n",
    "    that is going to be replaced.\n",
    "    \"\"\"\n",
    "    def __init__(self, mean_activation: torch.Tensor):\n",
    "        super().__init__()\n",
    "        self.mean_activation = mean_activation\n",
    "\n",
    "    def forward(\n",
    "        self,\n",
    "        hidden_states: torch.Tensor,\n",
    "        attention_mask: Optional[torch.Tensor] = None,\n",
    "        position_ids: Optional[torch.LongTensor] = None,\n",
    "        past_key_value: Optional[Cache] = None,\n",
    "        output_attentions: bool = False,\n",
    "        use_cache: bool = False,\n",
    "        cache_position: Optional[torch.LongTensor] = None,\n",
    "    ) -> Tuple[torch.Tensor, Optional[torch.Tensor], Optional[Tuple[torch.Tensor]]]:\n",
    "        return (self.mean_activation[None, ...], None, past_key_value)"
   ]
  },
  {
   "cell_type": "code",
   "execution_count": 18,
   "metadata": {},
   "outputs": [],
   "source": [
    "def find_component_to_ablate(model, val_dataloader, cache_attn, cache_mlp, ablated_heads):\n",
    "    \"\"\"\n",
    "    1. Caches the mean outputs of each attn layer and MLP\n",
    "    2. Uses the mean outputs to perform activation patching and checking which components \n",
    "       contribute positively/negatively to performance.\n",
    "    3. Returns the component that contributes less to the performance [comp, layer], where comp=1 if MLP, 0 if attn\n",
    "    \"\"\"\n",
    "    \n",
    "    attribution_score_attn_hf = get_attribution_score_attn_full(model, val_dataloader, cache_attn)\n",
    "    attribution_score_mlp_hf = get_attribution_score_mlp_full(model, val_dataloader, cache_mlp)\n",
    "    # Row 0 contains scores for attn, row 1 for MLPs\n",
    "    attribution_scores = torch.stack([attribution_score_attn_hf, attribution_score_mlp_hf], dim=0)\n",
    "    # Set the attribution scores of the already pruned components to a super low value so that they never get selected\n",
    "    if ablated_heads:\n",
    "        for comp, layer in ablated_heads:\n",
    "            attribution_scores[comp, layer] = -1e6\n",
    "    sorted_components = sort_Nd_tensor(attribution_scores)\n",
    "    # Get non-ablated component with the highest score \n",
    "    component_to_ablate = sorted_components[-1]\n",
    "    return component_to_ablate"
   ]
  },
  {
   "cell_type": "code",
   "execution_count": 22,
   "metadata": {},
   "outputs": [],
   "source": [
    "# logit_diffs = []\n",
    "# std_logit_diffs = []\n",
    "\n",
    "# accs = []\n",
    "# std_accs = []\n",
    "\n",
    "# num_parameters = []\n",
    "\n",
    "\n",
    "# for comp, layer in reversed(sorted_components):\n",
    "#     if comp == 0:\n",
    "#         model_hf.model.layers[layer].input_layernorm = PrunedRMSNorm()\n",
    "#         model_hf.model.layers[layer].self_attn = PrunedAttention(mean_activation=cache_attn[layer])\n",
    "#     else:\n",
    "#         model_hf.model.layers[layer].post_attention_layernorm = PrunedRMSNorm()\n",
    "#         model_hf.model.layers[layer].mlp = PrunedMLP(mean_activation=cache_mlp[layer])\n",
    "#     num_parameters.append(model_hf.num_parameters())\n",
    "#     av_logit_diff = []\n",
    "#     std_logit_diff = []\n",
    "#     for val_tokens_hf, val_answer_tokens in val_dataloader:\n",
    "#         val_tokens_hf = val_tokens_hf.cuda()\n",
    "#         circuit_logits = model_hf(val_tokens_hf)[\"logits\"]\n",
    "#         # Compute logit diff\n",
    "#         logit_diff = compute_logit_diff(circuit_logits.cuda(), val_answer_tokens.cuda(), average=False)\n",
    "#         av_logit_diff.append(logit_diff[..., -1].mean(0))\n",
    "#         std_logit_diff.append(logit_diff[..., -1].std(0))\n",
    "#     av_logit_diff = torch.stack(av_logit_diff, dim=0).mean(0)\n",
    "#     std_logit_diff = torch.stack(std_logit_diff, dim=0).mean(0)\n",
    "#     logit_diffs.append(av_logit_diff)\n",
    "#     std_logit_diffs.append(std_logit_diff)\n",
    "#     # Compute accuracy\n",
    "#     acc, std = compute_accuracy(circuit_logits.cuda(), val_answer_tokens.cuda())\n",
    "#     accs.append(acc)\n",
    "#     std_accs.append(std)\n",
    "# logit_diffs_hf = torch.stack(logit_diffs, dim=0)\n",
    "# std_logit_diffs_hf = torch.stack(std_logit_diffs, dim=0)\n",
    "# accs_hf = torch.stack(accs, dim=0)\n",
    "# std_accs_hf = torch.stack(std_accs, dim=0)"
   ]
  },
  {
   "cell_type": "code",
   "execution_count": 19,
   "metadata": {},
   "outputs": [
    {
     "name": "stderr",
     "output_type": "stream",
     "text": [
      "100%|██████████| 5/5 [00:22<00:00,  4.58s/it]\n",
      "100%|██████████| 5/5 [00:22<00:00,  4.58s/it]\n",
      "100%|██████████| 5/5 [00:23<00:00,  4.61s/it]\n",
      "100%|██████████| 5/5 [00:23<00:00,  4.61s/it]\n"
     ]
    },
    {
     "name": "stdout",
     "output_type": "stream",
     "text": [
      "Ablating MLP 29\n",
      "Logit diff: 5.37158203125\tAcc: 1.0\n"
     ]
    },
    {
     "name": "stderr",
     "output_type": "stream",
     "text": [
      "100%|██████████| 5/5 [00:22<00:00,  4.53s/it]\n",
      "100%|██████████| 5/5 [00:22<00:00,  4.53s/it]\n",
      "100%|██████████| 5/5 [00:22<00:00,  4.53s/it]\n",
      "100%|██████████| 5/5 [00:22<00:00,  4.53s/it]\n"
     ]
    },
    {
     "name": "stdout",
     "output_type": "stream",
     "text": [
      "Ablating Attn 30\n",
      "Logit diff: 5.492941379547119\tAcc: 1.0\n"
     ]
    },
    {
     "name": "stderr",
     "output_type": "stream",
     "text": [
      "100%|██████████| 5/5 [00:22<00:00,  4.48s/it]\n",
      "100%|██████████| 5/5 [00:22<00:00,  4.48s/it]\n",
      "100%|██████████| 5/5 [00:22<00:00,  4.48s/it]\n",
      "100%|██████████| 5/5 [00:22<00:00,  4.48s/it]\n"
     ]
    },
    {
     "name": "stdout",
     "output_type": "stream",
     "text": [
      "Ablating Attn 5\n",
      "Logit diff: 5.575175762176514\tAcc: 1.0\n"
     ]
    },
    {
     "name": "stderr",
     "output_type": "stream",
     "text": [
      "100%|██████████| 5/5 [00:22<00:00,  4.42s/it]\n",
      "100%|██████████| 5/5 [00:22<00:00,  4.42s/it]\n",
      "100%|██████████| 5/5 [00:22<00:00,  4.43s/it]\n",
      "100%|██████████| 5/5 [00:22<00:00,  4.43s/it]\n"
     ]
    },
    {
     "name": "stdout",
     "output_type": "stream",
     "text": [
      "Ablating MLP 17\n",
      "Logit diff: 5.614375114440918\tAcc: 1.0\n"
     ]
    },
    {
     "name": "stderr",
     "output_type": "stream",
     "text": [
      "100%|██████████| 5/5 [00:21<00:00,  4.35s/it]\n",
      "100%|██████████| 5/5 [00:21<00:00,  4.35s/it]\n",
      "100%|██████████| 5/5 [00:21<00:00,  4.35s/it]\n",
      "100%|██████████| 5/5 [00:21<00:00,  4.35s/it]\n"
     ]
    },
    {
     "name": "stdout",
     "output_type": "stream",
     "text": [
      "Ablating Attn 24\n",
      "Logit diff: 5.6576642990112305\tAcc: 1.0\n"
     ]
    },
    {
     "name": "stderr",
     "output_type": "stream",
     "text": [
      "100%|██████████| 5/5 [00:21<00:00,  4.29s/it]\n",
      "100%|██████████| 5/5 [00:21<00:00,  4.29s/it]\n",
      "100%|██████████| 5/5 [00:21<00:00,  4.30s/it]\n",
      "100%|██████████| 5/5 [00:21<00:00,  4.30s/it]\n"
     ]
    },
    {
     "name": "stdout",
     "output_type": "stream",
     "text": [
      "Ablating Attn 27\n",
      "Logit diff: 5.695245742797852\tAcc: 1.0\n"
     ]
    },
    {
     "name": "stderr",
     "output_type": "stream",
     "text": [
      "100%|██████████| 5/5 [00:21<00:00,  4.24s/it]\n",
      "100%|██████████| 5/5 [00:21<00:00,  4.24s/it]\n",
      "100%|██████████| 5/5 [00:21<00:00,  4.23s/it]\n",
      "100%|██████████| 5/5 [00:21<00:00,  4.23s/it]\n"
     ]
    },
    {
     "name": "stdout",
     "output_type": "stream",
     "text": [
      "Ablating Attn 10\n",
      "Logit diff: 5.723257541656494\tAcc: 1.0\n"
     ]
    },
    {
     "name": "stderr",
     "output_type": "stream",
     "text": [
      "100%|██████████| 5/5 [00:20<00:00,  4.18s/it]\n",
      "100%|██████████| 5/5 [00:20<00:00,  4.19s/it]\n",
      "100%|██████████| 5/5 [00:20<00:00,  4.19s/it]\n",
      "100%|██████████| 5/5 [00:20<00:00,  4.19s/it]\n"
     ]
    },
    {
     "name": "stdout",
     "output_type": "stream",
     "text": [
      "Ablating Attn 8\n",
      "Logit diff: 5.7431640625\tAcc: 1.0\n"
     ]
    },
    {
     "name": "stderr",
     "output_type": "stream",
     "text": [
      "100%|██████████| 5/5 [00:20<00:00,  4.13s/it]\n",
      "100%|██████████| 5/5 [00:20<00:00,  4.12s/it]\n",
      "100%|██████████| 5/5 [00:20<00:00,  4.13s/it]\n",
      "100%|██████████| 5/5 [00:20<00:00,  4.13s/it]\n"
     ]
    },
    {
     "name": "stdout",
     "output_type": "stream",
     "text": [
      "Ablating Attn 25\n",
      "Logit diff: 5.763460636138916\tAcc: 1.0\n"
     ]
    },
    {
     "name": "stderr",
     "output_type": "stream",
     "text": [
      "100%|██████████| 5/5 [00:20<00:00,  4.07s/it]\n",
      "100%|██████████| 5/5 [00:20<00:00,  4.08s/it]\n",
      "100%|██████████| 5/5 [00:20<00:00,  4.09s/it]\n",
      "100%|██████████| 5/5 [00:20<00:00,  4.09s/it]\n"
     ]
    },
    {
     "name": "stdout",
     "output_type": "stream",
     "text": [
      "Ablating Attn 6\n",
      "Logit diff: 5.774499893188477\tAcc: 1.0\n"
     ]
    },
    {
     "name": "stderr",
     "output_type": "stream",
     "text": [
      "100%|██████████| 5/5 [00:20<00:00,  4.03s/it]\n",
      "100%|██████████| 5/5 [00:20<00:00,  4.03s/it]\n",
      "100%|██████████| 5/5 [00:20<00:00,  4.03s/it]\n",
      "100%|██████████| 5/5 [00:20<00:00,  4.03s/it]\n"
     ]
    },
    {
     "name": "stdout",
     "output_type": "stream",
     "text": [
      "Ablating Attn 9\n",
      "Logit diff: 5.777554512023926\tAcc: 1.0\n"
     ]
    },
    {
     "name": "stderr",
     "output_type": "stream",
     "text": [
      "100%|██████████| 5/5 [00:19<00:00,  3.98s/it]\n",
      "100%|██████████| 5/5 [00:19<00:00,  3.98s/it]\n",
      "100%|██████████| 5/5 [00:19<00:00,  3.98s/it]\n",
      "100%|██████████| 5/5 [00:19<00:00,  3.98s/it]\n"
     ]
    },
    {
     "name": "stdout",
     "output_type": "stream",
     "text": [
      "Ablating Attn 26\n",
      "Logit diff: 5.781843662261963\tAcc: 1.0\n"
     ]
    },
    {
     "name": "stderr",
     "output_type": "stream",
     "text": [
      "100%|██████████| 5/5 [00:19<00:00,  3.92s/it]\n",
      "100%|██████████| 5/5 [00:19<00:00,  3.92s/it]\n",
      "100%|██████████| 5/5 [00:19<00:00,  3.93s/it]\n",
      "100%|██████████| 5/5 [00:19<00:00,  3.93s/it]\n"
     ]
    },
    {
     "name": "stdout",
     "output_type": "stream",
     "text": [
      "Ablating MLP 30\n",
      "Logit diff: 5.793890476226807\tAcc: 1.0\n"
     ]
    },
    {
     "name": "stderr",
     "output_type": "stream",
     "text": [
      "100%|██████████| 5/5 [00:19<00:00,  3.84s/it]\n",
      "100%|██████████| 5/5 [00:19<00:00,  3.84s/it]\n",
      "100%|██████████| 5/5 [00:19<00:00,  3.85s/it]\n",
      "100%|██████████| 5/5 [00:19<00:00,  3.85s/it]\n"
     ]
    },
    {
     "name": "stdout",
     "output_type": "stream",
     "text": [
      "Ablating Attn 12\n",
      "Logit diff: 5.797343730926514\tAcc: 1.0\n"
     ]
    },
    {
     "name": "stderr",
     "output_type": "stream",
     "text": [
      "100%|██████████| 5/5 [00:18<00:00,  3.79s/it]\n",
      "100%|██████████| 5/5 [00:18<00:00,  3.79s/it]\n",
      "100%|██████████| 5/5 [00:18<00:00,  3.80s/it]\n",
      "100%|██████████| 5/5 [00:18<00:00,  3.80s/it]\n"
     ]
    },
    {
     "name": "stdout",
     "output_type": "stream",
     "text": [
      "Ablating MLP 2\n",
      "Logit diff: 5.797343730926514\tAcc: 1.0\n"
     ]
    },
    {
     "name": "stderr",
     "output_type": "stream",
     "text": [
      "100%|██████████| 5/5 [00:18<00:00,  3.79s/it]\n",
      "100%|██████████| 5/5 [00:18<00:00,  3.78s/it]\n",
      "100%|██████████| 5/5 [00:18<00:00,  3.79s/it]\n",
      "100%|██████████| 5/5 [00:18<00:00,  3.79s/it]\n"
     ]
    },
    {
     "name": "stdout",
     "output_type": "stream",
     "text": [
      "Ablating Attn 29\n",
      "Logit diff: 5.797343730926514\tAcc: 1.0\n"
     ]
    },
    {
     "name": "stderr",
     "output_type": "stream",
     "text": [
      "100%|██████████| 5/5 [00:18<00:00,  3.78s/it]\n",
      "100%|██████████| 5/5 [00:18<00:00,  3.78s/it]\n",
      "100%|██████████| 5/5 [00:18<00:00,  3.79s/it]\n",
      "100%|██████████| 5/5 [00:18<00:00,  3.79s/it]\n"
     ]
    },
    {
     "name": "stdout",
     "output_type": "stream",
     "text": [
      "Ablating Attn 15\n",
      "Logit diff: 5.797343730926514\tAcc: 1.0\n"
     ]
    },
    {
     "name": "stderr",
     "output_type": "stream",
     "text": [
      "100%|██████████| 5/5 [00:18<00:00,  3.78s/it]\n",
      "100%|██████████| 5/5 [00:18<00:00,  3.79s/it]\n",
      "100%|██████████| 5/5 [00:18<00:00,  3.80s/it]\n",
      "100%|██████████| 5/5 [00:18<00:00,  3.80s/it]\n"
     ]
    },
    {
     "name": "stdout",
     "output_type": "stream",
     "text": [
      "Ablating Attn 7\n",
      "Logit diff: 5.790866851806641\tAcc: 1.0\n"
     ]
    },
    {
     "name": "stderr",
     "output_type": "stream",
     "text": [
      "100%|██████████| 5/5 [00:18<00:00,  3.74s/it]\n",
      "100%|██████████| 5/5 [00:18<00:00,  3.74s/it]\n",
      "100%|██████████| 5/5 [00:18<00:00,  3.74s/it]\n",
      "100%|██████████| 5/5 [00:18<00:00,  3.74s/it]\n"
     ]
    },
    {
     "name": "stdout",
     "output_type": "stream",
     "text": [
      "Ablating Attn 0\n",
      "Logit diff: 5.780984401702881\tAcc: 1.0\n"
     ]
    },
    {
     "name": "stderr",
     "output_type": "stream",
     "text": [
      "100%|██████████| 5/5 [00:18<00:00,  3.69s/it]\n",
      "100%|██████████| 5/5 [00:18<00:00,  3.69s/it]\n",
      "100%|██████████| 5/5 [00:18<00:00,  3.69s/it]\n",
      "100%|██████████| 5/5 [00:18<00:00,  3.69s/it]\n"
     ]
    },
    {
     "name": "stdout",
     "output_type": "stream",
     "text": [
      "Ablating Attn 3\n",
      "Logit diff: 5.769898414611816\tAcc: 1.0\n"
     ]
    },
    {
     "name": "stderr",
     "output_type": "stream",
     "text": [
      "100%|██████████| 5/5 [00:18<00:00,  3.63s/it]\n",
      "100%|██████████| 5/5 [00:18<00:00,  3.63s/it]\n",
      "100%|██████████| 5/5 [00:18<00:00,  3.64s/it]\n",
      "100%|██████████| 5/5 [00:18<00:00,  3.64s/it]\n"
     ]
    },
    {
     "name": "stdout",
     "output_type": "stream",
     "text": [
      "Ablating Attn 4\n",
      "Logit diff: 5.753812313079834\tAcc: 1.0\n"
     ]
    },
    {
     "name": "stderr",
     "output_type": "stream",
     "text": [
      "100%|██████████| 5/5 [00:17<00:00,  3.58s/it]\n",
      "100%|██████████| 5/5 [00:17<00:00,  3.58s/it]\n",
      "100%|██████████| 5/5 [00:17<00:00,  3.58s/it]\n",
      "100%|██████████| 5/5 [00:17<00:00,  3.58s/it]\n"
     ]
    },
    {
     "name": "stdout",
     "output_type": "stream",
     "text": [
      "Ablating Attn 13\n",
      "Logit diff: 5.735515594482422\tAcc: 1.0\n"
     ]
    },
    {
     "name": "stderr",
     "output_type": "stream",
     "text": [
      "100%|██████████| 5/5 [00:17<00:00,  3.52s/it]\n",
      "100%|██████████| 5/5 [00:17<00:00,  3.52s/it]\n",
      "100%|██████████| 5/5 [00:17<00:00,  3.53s/it]\n",
      "100%|██████████| 5/5 [00:17<00:00,  3.53s/it]\n"
     ]
    },
    {
     "name": "stdout",
     "output_type": "stream",
     "text": [
      "Ablating Attn 23\n",
      "Logit diff: 5.70535135269165\tAcc: 1.0\n"
     ]
    },
    {
     "name": "stderr",
     "output_type": "stream",
     "text": [
      "100%|██████████| 5/5 [00:17<00:00,  3.47s/it]\n",
      "100%|██████████| 5/5 [00:17<00:00,  3.47s/it]\n",
      "100%|██████████| 5/5 [00:17<00:00,  3.47s/it]\n",
      "100%|██████████| 5/5 [00:17<00:00,  3.47s/it]\n"
     ]
    },
    {
     "name": "stdout",
     "output_type": "stream",
     "text": [
      "Ablating MLP 7\n",
      "Logit diff: 5.674546718597412\tAcc: 1.0\n"
     ]
    },
    {
     "name": "stderr",
     "output_type": "stream",
     "text": [
      "100%|██████████| 5/5 [00:16<00:00,  3.39s/it]\n",
      "100%|██████████| 5/5 [00:16<00:00,  3.40s/it]\n",
      "100%|██████████| 5/5 [00:17<00:00,  3.40s/it]\n",
      "100%|██████████| 5/5 [00:17<00:00,  3.40s/it]\n"
     ]
    },
    {
     "name": "stdout",
     "output_type": "stream",
     "text": [
      "Ablating Attn 21\n",
      "Logit diff: 5.637172222137451\tAcc: 1.0\n"
     ]
    },
    {
     "name": "stderr",
     "output_type": "stream",
     "text": [
      "100%|██████████| 5/5 [00:16<00:00,  3.34s/it]\n",
      "100%|██████████| 5/5 [00:16<00:00,  3.34s/it]\n",
      "100%|██████████| 5/5 [00:16<00:00,  3.35s/it]\n",
      "100%|██████████| 5/5 [00:16<00:00,  3.35s/it]\n"
     ]
    },
    {
     "name": "stdout",
     "output_type": "stream",
     "text": [
      "Ablating MLP 8\n",
      "Logit diff: 5.591460704803467\tAcc: 1.0\n"
     ]
    },
    {
     "name": "stderr",
     "output_type": "stream",
     "text": [
      "100%|██████████| 5/5 [00:16<00:00,  3.27s/it]\n",
      "100%|██████████| 5/5 [00:16<00:00,  3.27s/it]\n",
      "100%|██████████| 5/5 [00:16<00:00,  3.27s/it]\n",
      "100%|██████████| 5/5 [00:16<00:00,  3.27s/it]\n"
     ]
    },
    {
     "name": "stdout",
     "output_type": "stream",
     "text": [
      "Ablating Attn 22\n",
      "Logit diff: 5.544773101806641\tAcc: 1.0\n"
     ]
    },
    {
     "name": "stderr",
     "output_type": "stream",
     "text": [
      "100%|██████████| 5/5 [00:16<00:00,  3.21s/it]\n",
      "100%|██████████| 5/5 [00:16<00:00,  3.21s/it]\n",
      "100%|██████████| 5/5 [00:16<00:00,  3.22s/it]\n",
      "100%|██████████| 5/5 [00:16<00:00,  3.22s/it]\n"
     ]
    },
    {
     "name": "stdout",
     "output_type": "stream",
     "text": [
      "Ablating MLP 10\n",
      "Logit diff: 5.462672233581543\tAcc: 1.0\n"
     ]
    },
    {
     "name": "stderr",
     "output_type": "stream",
     "text": [
      "100%|██████████| 5/5 [00:15<00:00,  3.13s/it]\n",
      "100%|██████████| 5/5 [00:15<00:00,  3.13s/it]\n",
      "100%|██████████| 5/5 [00:15<00:00,  3.13s/it]\n",
      "100%|██████████| 5/5 [00:15<00:00,  3.13s/it]\n"
     ]
    },
    {
     "name": "stdout",
     "output_type": "stream",
     "text": [
      "Ablating MLP 19\n",
      "Logit diff: 5.368851661682129\tAcc: 1.0\n"
     ]
    },
    {
     "name": "stderr",
     "output_type": "stream",
     "text": [
      "100%|██████████| 5/5 [00:15<00:00,  3.05s/it]\n",
      "100%|██████████| 5/5 [00:15<00:00,  3.05s/it]\n",
      "100%|██████████| 5/5 [00:15<00:00,  3.05s/it]\n",
      "100%|██████████| 5/5 [00:15<00:00,  3.05s/it]\n"
     ]
    },
    {
     "name": "stdout",
     "output_type": "stream",
     "text": [
      "Ablating MLP 27\n",
      "Logit diff: 5.245546817779541\tAcc: 1.0\n"
     ]
    },
    {
     "name": "stderr",
     "output_type": "stream",
     "text": [
      "100%|██████████| 5/5 [00:14<00:00,  2.97s/it]\n",
      "100%|██████████| 5/5 [00:14<00:00,  2.98s/it]\n",
      "100%|██████████| 5/5 [00:14<00:00,  2.98s/it]\n",
      "100%|██████████| 5/5 [00:14<00:00,  2.98s/it]\n"
     ]
    },
    {
     "name": "stdout",
     "output_type": "stream",
     "text": [
      "Ablating Attn 28\n",
      "Logit diff: 5.099874973297119\tAcc: 1.0\n"
     ]
    },
    {
     "name": "stderr",
     "output_type": "stream",
     "text": [
      "100%|██████████| 5/5 [00:14<00:00,  2.92s/it]\n",
      "100%|██████████| 5/5 [00:14<00:00,  2.92s/it]\n",
      "100%|██████████| 5/5 [00:14<00:00,  2.93s/it]\n",
      "100%|██████████| 5/5 [00:14<00:00,  2.93s/it]\n"
     ]
    },
    {
     "name": "stdout",
     "output_type": "stream",
     "text": [
      "Ablating Attn 17\n",
      "Logit diff: 4.921875\tAcc: 1.0\n"
     ]
    },
    {
     "name": "stderr",
     "output_type": "stream",
     "text": [
      "100%|██████████| 5/5 [00:14<00:00,  2.87s/it]\n",
      "100%|██████████| 5/5 [00:14<00:00,  2.87s/it]\n",
      "100%|██████████| 5/5 [00:14<00:00,  2.87s/it]\n",
      "100%|██████████| 5/5 [00:14<00:00,  2.88s/it]\n"
     ]
    },
    {
     "name": "stdout",
     "output_type": "stream",
     "text": [
      "Ablating MLP 3\n",
      "Logit diff: 4.7406792640686035\tAcc: 1.0\n"
     ]
    },
    {
     "name": "stderr",
     "output_type": "stream",
     "text": [
      "100%|██████████| 5/5 [00:13<00:00,  2.79s/it]\n",
      "100%|██████████| 5/5 [00:13<00:00,  2.79s/it]\n",
      "100%|██████████| 5/5 [00:13<00:00,  2.79s/it]\n",
      "100%|██████████| 5/5 [00:13<00:00,  2.79s/it]\n"
     ]
    },
    {
     "name": "stdout",
     "output_type": "stream",
     "text": [
      "Ablating MLP 23\n",
      "Logit diff: 4.5418829917907715\tAcc: 1.0\n"
     ]
    },
    {
     "name": "stderr",
     "output_type": "stream",
     "text": [
      "100%|██████████| 5/5 [00:13<00:00,  2.71s/it]\n",
      "100%|██████████| 5/5 [00:13<00:00,  2.71s/it]\n",
      "100%|██████████| 5/5 [00:13<00:00,  2.72s/it]\n",
      "100%|██████████| 5/5 [00:13<00:00,  2.72s/it]\n"
     ]
    },
    {
     "name": "stdout",
     "output_type": "stream",
     "text": [
      "Ablating MLP 24\n",
      "Logit diff: 4.358155727386475\tAcc: 1.0\n"
     ]
    },
    {
     "name": "stderr",
     "output_type": "stream",
     "text": [
      "100%|██████████| 5/5 [00:13<00:00,  2.63s/it]\n",
      "100%|██████████| 5/5 [00:13<00:00,  2.63s/it]\n",
      "100%|██████████| 5/5 [00:13<00:00,  2.64s/it]\n",
      "100%|██████████| 5/5 [00:13<00:00,  2.64s/it]\n"
     ]
    },
    {
     "name": "stdout",
     "output_type": "stream",
     "text": [
      "Ablating MLP 25\n",
      "Logit diff: 4.141499996185303\tAcc: 1.0\n"
     ]
    },
    {
     "name": "stderr",
     "output_type": "stream",
     "text": [
      "100%|██████████| 5/5 [00:12<00:00,  2.55s/it]\n",
      "100%|██████████| 5/5 [00:12<00:00,  2.55s/it]\n",
      "100%|██████████| 5/5 [00:12<00:00,  2.56s/it]\n",
      "100%|██████████| 5/5 [00:12<00:00,  2.56s/it]\n"
     ]
    },
    {
     "name": "stdout",
     "output_type": "stream",
     "text": [
      "Ablating MLP 18\n",
      "Logit diff: 3.910875082015991\tAcc: 1.0\n"
     ]
    },
    {
     "name": "stderr",
     "output_type": "stream",
     "text": [
      "100%|██████████| 5/5 [00:12<00:00,  2.47s/it]\n",
      "100%|██████████| 5/5 [00:12<00:00,  2.47s/it]\n",
      "100%|██████████| 5/5 [00:12<00:00,  2.48s/it]\n",
      "100%|██████████| 5/5 [00:12<00:00,  2.48s/it]\n"
     ]
    },
    {
     "name": "stdout",
     "output_type": "stream",
     "text": [
      "Ablating Attn 31\n",
      "Logit diff: 3.6682655811309814\tAcc: 1.0\n"
     ]
    },
    {
     "name": "stderr",
     "output_type": "stream",
     "text": [
      "100%|██████████| 5/5 [00:12<00:00,  2.42s/it]\n",
      "100%|██████████| 5/5 [00:12<00:00,  2.42s/it]\n",
      "100%|██████████| 5/5 [00:12<00:00,  2.43s/it]\n",
      "100%|██████████| 5/5 [00:12<00:00,  2.43s/it]\n"
     ]
    },
    {
     "name": "stdout",
     "output_type": "stream",
     "text": [
      "Ablating MLP 20\n",
      "Logit diff: 3.4286720752716064\tAcc: 1.0\n"
     ]
    },
    {
     "name": "stderr",
     "output_type": "stream",
     "text": [
      "100%|██████████| 5/5 [00:11<00:00,  2.34s/it]\n",
      "100%|██████████| 5/5 [00:11<00:00,  2.34s/it]\n",
      "100%|██████████| 5/5 [00:11<00:00,  2.35s/it]\n",
      "100%|██████████| 5/5 [00:11<00:00,  2.35s/it]\n"
     ]
    },
    {
     "name": "stdout",
     "output_type": "stream",
     "text": [
      "Ablating MLP 26\n",
      "Logit diff: 3.174593687057495\tAcc: 0.9799999594688416\n"
     ]
    },
    {
     "name": "stderr",
     "output_type": "stream",
     "text": [
      "100%|██████████| 5/5 [00:11<00:00,  2.26s/it]\n",
      "100%|██████████| 5/5 [00:11<00:00,  2.26s/it]\n",
      "100%|██████████| 5/5 [00:11<00:00,  2.27s/it]\n",
      "100%|██████████| 5/5 [00:11<00:00,  2.27s/it]\n"
     ]
    },
    {
     "name": "stdout",
     "output_type": "stream",
     "text": [
      "Ablating Attn 2\n",
      "Logit diff: 2.9119608402252197\tAcc: 0.9799999594688416\n"
     ]
    },
    {
     "name": "stderr",
     "output_type": "stream",
     "text": [
      "100%|██████████| 5/5 [00:11<00:00,  2.21s/it]\n",
      "100%|██████████| 5/5 [00:11<00:00,  2.21s/it]\n",
      "100%|██████████| 5/5 [00:11<00:00,  2.22s/it]\n",
      "100%|██████████| 5/5 [00:11<00:00,  2.22s/it]\n"
     ]
    },
    {
     "name": "stdout",
     "output_type": "stream",
     "text": [
      "Ablating MLP 21\n",
      "Logit diff: 2.6503827571868896\tAcc: 0.9799999594688416\n"
     ]
    },
    {
     "name": "stderr",
     "output_type": "stream",
     "text": [
      "100%|██████████| 5/5 [00:10<00:00,  2.13s/it]\n",
      "100%|██████████| 5/5 [00:10<00:00,  2.13s/it]\n",
      "100%|██████████| 5/5 [00:10<00:00,  2.14s/it]\n",
      "100%|██████████| 5/5 [00:10<00:00,  2.14s/it]\n"
     ]
    },
    {
     "name": "stdout",
     "output_type": "stream",
     "text": [
      "Ablating Attn 14\n",
      "Logit diff: 2.411156177520752\tAcc: 0.9799999594688416\n"
     ]
    },
    {
     "name": "stderr",
     "output_type": "stream",
     "text": [
      "100%|██████████| 5/5 [00:10<00:00,  2.08s/it]\n",
      "100%|██████████| 5/5 [00:10<00:00,  2.08s/it]\n",
      "100%|██████████| 5/5 [00:10<00:00,  2.08s/it]\n",
      "100%|██████████| 5/5 [00:10<00:00,  2.08s/it]\n"
     ]
    },
    {
     "name": "stdout",
     "output_type": "stream",
     "text": [
      "Ablating MLP 11\n",
      "Logit diff: 2.1645076274871826\tAcc: 0.9599999785423279\n"
     ]
    },
    {
     "name": "stderr",
     "output_type": "stream",
     "text": [
      "100%|██████████| 5/5 [00:10<00:00,  2.00s/it]\n",
      "100%|██████████| 5/5 [00:10<00:00,  2.00s/it]\n",
      "100%|██████████| 5/5 [00:10<00:00,  2.00s/it]\n",
      "100%|██████████| 5/5 [00:10<00:00,  2.00s/it]\n"
     ]
    },
    {
     "name": "stdout",
     "output_type": "stream",
     "text": [
      "Ablating Attn 19\n",
      "Logit diff: 1.9165703058242798\tAcc: 0.949999988079071\n"
     ]
    },
    {
     "name": "stderr",
     "output_type": "stream",
     "text": [
      "100%|██████████| 5/5 [00:09<00:00,  1.95s/it]\n",
      "100%|██████████| 5/5 [00:09<00:00,  1.95s/it]\n",
      "100%|██████████| 5/5 [00:09<00:00,  1.95s/it]\n",
      "100%|██████████| 5/5 [00:09<00:00,  1.95s/it]\n"
     ]
    },
    {
     "name": "stdout",
     "output_type": "stream",
     "text": [
      "Ablating MLP 16\n",
      "Logit diff: 1.6519453525543213\tAcc: 0.9399999976158142\n"
     ]
    },
    {
     "name": "stderr",
     "output_type": "stream",
     "text": [
      "100%|██████████| 5/5 [00:09<00:00,  1.86s/it]\n",
      "100%|██████████| 5/5 [00:09<00:00,  1.87s/it]\n",
      "100%|██████████| 5/5 [00:09<00:00,  1.87s/it]\n",
      "100%|██████████| 5/5 [00:09<00:00,  1.87s/it]\n"
     ]
    },
    {
     "name": "stdout",
     "output_type": "stream",
     "text": [
      "Ablating MLP 5\n",
      "Logit diff: 1.342453122138977\tAcc: 0.8899999856948853\n"
     ]
    },
    {
     "name": "stderr",
     "output_type": "stream",
     "text": [
      "100%|██████████| 5/5 [00:08<00:00,  1.79s/it]\n",
      "100%|██████████| 5/5 [00:08<00:00,  1.79s/it]\n",
      "100%|██████████| 5/5 [00:08<00:00,  1.79s/it]\n",
      "100%|██████████| 5/5 [00:08<00:00,  1.79s/it]\n"
     ]
    },
    {
     "name": "stdout",
     "output_type": "stream",
     "text": [
      "Ablating Attn 11\n",
      "Logit diff: 1.0705703496932983\tAcc: 0.8700000047683716\n"
     ]
    },
    {
     "name": "stderr",
     "output_type": "stream",
     "text": [
      "100%|██████████| 5/5 [00:08<00:00,  1.74s/it]\n",
      "100%|██████████| 5/5 [00:08<00:00,  1.74s/it]\n",
      "100%|██████████| 5/5 [00:08<00:00,  1.74s/it]\n",
      "100%|██████████| 5/5 [00:08<00:00,  1.74s/it]\n"
     ]
    },
    {
     "name": "stdout",
     "output_type": "stream",
     "text": [
      "Ablating MLP 28\n",
      "Logit diff: 0.8341405987739563\tAcc: 0.7999999523162842\n"
     ]
    },
    {
     "name": "stderr",
     "output_type": "stream",
     "text": [
      "100%|██████████| 5/5 [00:08<00:00,  1.66s/it]\n",
      "100%|██████████| 5/5 [00:08<00:00,  1.66s/it]\n",
      "100%|██████████| 5/5 [00:08<00:00,  1.66s/it]\n",
      "100%|██████████| 5/5 [00:08<00:00,  1.66s/it]\n"
     ]
    },
    {
     "name": "stdout",
     "output_type": "stream",
     "text": [
      "Ablating MLP 22\n",
      "Logit diff: 0.6255000233650208\tAcc: 0.8100000023841858\n"
     ]
    },
    {
     "name": "stderr",
     "output_type": "stream",
     "text": [
      "100%|██████████| 5/5 [00:07<00:00,  1.58s/it]\n",
      "100%|██████████| 5/5 [00:07<00:00,  1.58s/it]\n",
      "100%|██████████| 5/5 [00:07<00:00,  1.58s/it]\n",
      "100%|██████████| 5/5 [00:07<00:00,  1.58s/it]\n"
     ]
    },
    {
     "name": "stdout",
     "output_type": "stream",
     "text": [
      "Ablating Attn 18\n",
      "Logit diff: 0.3979218602180481\tAcc: 0.75\n"
     ]
    },
    {
     "name": "stderr",
     "output_type": "stream",
     "text": [
      "100%|██████████| 5/5 [00:07<00:00,  1.53s/it]\n",
      "100%|██████████| 5/5 [00:07<00:00,  1.53s/it]\n",
      "100%|██████████| 5/5 [00:07<00:00,  1.53s/it]\n",
      "100%|██████████| 5/5 [00:07<00:00,  1.53s/it]\n"
     ]
    },
    {
     "name": "stdout",
     "output_type": "stream",
     "text": [
      "Ablating MLP 12\n",
      "Logit diff: 0.15204687416553497\tAcc: 0.6100000143051147\n"
     ]
    },
    {
     "name": "stderr",
     "output_type": "stream",
     "text": [
      "100%|██████████| 5/5 [00:07<00:00,  1.44s/it]\n",
      "100%|██████████| 5/5 [00:07<00:00,  1.44s/it]\n",
      "100%|██████████| 5/5 [00:07<00:00,  1.45s/it]\n",
      "100%|██████████| 5/5 [00:07<00:00,  1.45s/it]\n"
     ]
    },
    {
     "name": "stdout",
     "output_type": "stream",
     "text": [
      "Ablating Attn 1\n",
      "Logit diff: -0.09195312112569809\tAcc: 0.47999998927116394\n"
     ]
    },
    {
     "name": "stderr",
     "output_type": "stream",
     "text": [
      "100%|██████████| 5/5 [00:06<00:00,  1.39s/it]\n",
      "100%|██████████| 5/5 [00:06<00:00,  1.39s/it]\n",
      "100%|██████████| 5/5 [00:06<00:00,  1.40s/it]\n",
      "100%|██████████| 5/5 [00:06<00:00,  1.40s/it]\n"
     ]
    },
    {
     "name": "stdout",
     "output_type": "stream",
     "text": [
      "Ablating MLP 9\n",
      "Logit diff: -0.2491484135389328\tAcc: 0.4399999976158142\n"
     ]
    },
    {
     "name": "stderr",
     "output_type": "stream",
     "text": [
      "100%|██████████| 5/5 [00:06<00:00,  1.31s/it]\n",
      "100%|██████████| 5/5 [00:06<00:00,  1.31s/it]\n",
      "100%|██████████| 5/5 [00:06<00:00,  1.32s/it]\n",
      "100%|██████████| 5/5 [00:06<00:00,  1.32s/it]\n"
     ]
    },
    {
     "name": "stdout",
     "output_type": "stream",
     "text": [
      "Ablating MLP 13\n",
      "Logit diff: -0.39092186093330383\tAcc: 0.38999998569488525\n"
     ]
    },
    {
     "name": "stderr",
     "output_type": "stream",
     "text": [
      "100%|██████████| 5/5 [00:06<00:00,  1.24s/it]\n",
      "100%|██████████| 5/5 [00:06<00:00,  1.23s/it]\n",
      "100%|██████████| 5/5 [00:06<00:00,  1.24s/it]\n",
      "100%|██████████| 5/5 [00:06<00:00,  1.24s/it]\n"
     ]
    },
    {
     "name": "stdout",
     "output_type": "stream",
     "text": [
      "Ablating MLP 14\n",
      "Logit diff: -0.5140937566757202\tAcc: 0.32999998331069946\n"
     ]
    },
    {
     "name": "stderr",
     "output_type": "stream",
     "text": [
      "100%|██████████| 5/5 [00:05<00:00,  1.15s/it]\n",
      "100%|██████████| 5/5 [00:05<00:00,  1.15s/it]\n",
      "100%|██████████| 5/5 [00:05<00:00,  1.16s/it]\n",
      "100%|██████████| 5/5 [00:05<00:00,  1.16s/it]\n"
     ]
    },
    {
     "name": "stdout",
     "output_type": "stream",
     "text": [
      "Ablating MLP 31\n",
      "Logit diff: -0.6148281097412109\tAcc: 0.29999998211860657\n"
     ]
    },
    {
     "name": "stderr",
     "output_type": "stream",
     "text": [
      "100%|██████████| 5/5 [00:05<00:00,  1.08s/it]\n",
      "100%|██████████| 5/5 [00:05<00:00,  1.08s/it]\n",
      "100%|██████████| 5/5 [00:05<00:00,  1.08s/it]\n",
      "100%|██████████| 5/5 [00:05<00:00,  1.08s/it]\n"
     ]
    },
    {
     "name": "stdout",
     "output_type": "stream",
     "text": [
      "Ablating MLP 6\n",
      "Logit diff: -0.7121328115463257\tAcc: 0.26999998092651367\n"
     ]
    },
    {
     "name": "stderr",
     "output_type": "stream",
     "text": [
      "100%|██████████| 5/5 [00:04<00:00,  1.00it/s]\n",
      "100%|██████████| 5/5 [00:04<00:00,  1.00it/s]\n",
      "100%|██████████| 5/5 [00:05<00:00,  1.00s/it]\n",
      "100%|██████████| 5/5 [00:05<00:00,  1.00s/it]\n"
     ]
    },
    {
     "name": "stdout",
     "output_type": "stream",
     "text": [
      "Ablating MLP 15\n",
      "Logit diff: -0.7813124656677246\tAcc: 0.23999999463558197\n"
     ]
    },
    {
     "name": "stderr",
     "output_type": "stream",
     "text": [
      "100%|██████████| 5/5 [00:04<00:00,  1.09it/s]\n",
      "100%|██████████| 5/5 [00:04<00:00,  1.09it/s]\n",
      "100%|██████████| 5/5 [00:04<00:00,  1.08it/s]\n",
      "100%|██████████| 5/5 [00:04<00:00,  1.08it/s]\n"
     ]
    },
    {
     "name": "stdout",
     "output_type": "stream",
     "text": [
      "Ablating MLP 4\n",
      "Logit diff: -0.8311640024185181\tAcc: 0.2199999988079071\n"
     ]
    },
    {
     "name": "stderr",
     "output_type": "stream",
     "text": [
      "100%|██████████| 5/5 [00:04<00:00,  1.19it/s]\n",
      "100%|██████████| 5/5 [00:04<00:00,  1.19it/s]\n",
      "100%|██████████| 5/5 [00:04<00:00,  1.19it/s]\n",
      "100%|██████████| 5/5 [00:04<00:00,  1.19it/s]\n"
     ]
    },
    {
     "name": "stdout",
     "output_type": "stream",
     "text": [
      "Ablating MLP 1\n",
      "Logit diff: -0.888070285320282\tAcc: 0.1599999964237213\n"
     ]
    },
    {
     "name": "stderr",
     "output_type": "stream",
     "text": [
      "100%|██████████| 5/5 [00:03<00:00,  1.32it/s]\n",
      "100%|██████████| 5/5 [00:03<00:00,  1.32it/s]\n",
      "100%|██████████| 5/5 [00:03<00:00,  1.31it/s]\n",
      "100%|██████████| 5/5 [00:03<00:00,  1.31it/s]\n"
     ]
    },
    {
     "name": "stdout",
     "output_type": "stream",
     "text": [
      "Ablating Attn 20\n",
      "Logit diff: -0.9275858998298645\tAcc: 0.10999999940395355\n"
     ]
    },
    {
     "name": "stderr",
     "output_type": "stream",
     "text": [
      "100%|██████████| 5/5 [00:03<00:00,  1.41it/s]\n",
      "100%|██████████| 5/5 [00:03<00:00,  1.41it/s]\n",
      "100%|██████████| 5/5 [00:03<00:00,  1.40it/s]\n",
      "100%|██████████| 5/5 [00:03<00:00,  1.41it/s]\n"
     ]
    },
    {
     "name": "stdout",
     "output_type": "stream",
     "text": [
      "Ablating MLP 0\n",
      "Logit diff: -0.9519218802452087\tAcc: 0.10999999940395355\n"
     ]
    },
    {
     "name": "stderr",
     "output_type": "stream",
     "text": [
      "100%|██████████| 5/5 [00:03<00:00,  1.59it/s]\n",
      "100%|██████████| 5/5 [00:03<00:00,  1.59it/s]\n",
      "100%|██████████| 5/5 [00:03<00:00,  1.58it/s]\n",
      "100%|██████████| 5/5 [00:03<00:00,  1.58it/s]"
     ]
    },
    {
     "name": "stdout",
     "output_type": "stream",
     "text": [
      "Ablating Attn 16\n",
      "Logit diff: -0.9725858569145203\tAcc: 0.10999999940395355\n"
     ]
    },
    {
     "name": "stderr",
     "output_type": "stream",
     "text": [
      "\n"
     ]
    }
   ],
   "source": [
    "logit_diffs = []\n",
    "std_logit_diffs = []\n",
    "\n",
    "accs = []\n",
    "std_accs = []\n",
    "\n",
    "num_parameters = []\n",
    "\n",
    "ablated_components = []\n",
    "\n",
    "\n",
    "while len(ablated_components) < 2 * model_hf.config.num_hidden_layers:\n",
    "    cache_attn = get_cache_attn_full(model_hf, dataloader)\n",
    "    cache_mlp = get_cache_mlp_full(model_hf, dataloader)\n",
    "    comp, layer = find_component_to_ablate(model_hf, val_dataloader, cache_attn, cache_mlp, ablated_components)\n",
    "    print(f\"Ablating {'MLP' if comp else 'Attn'} {layer}\")\n",
    "    ablated_components.append([comp, layer])\n",
    "    if comp == 0:\n",
    "        model_hf.model.layers[layer].input_layernorm = PrunedRMSNorm()\n",
    "        model_hf.model.layers[layer].self_attn = PrunedAttention(mean_activation=cache_attn[layer].cuda())\n",
    "    else:\n",
    "        model_hf.model.layers[layer].post_attention_layernorm = PrunedRMSNorm()\n",
    "        model_hf.model.layers[layer].mlp = PrunedMLP(mean_activation=cache_mlp[layer].cuda())\n",
    "    num_parameters.append(model_hf.num_parameters())\n",
    "    av_logit_diff = []\n",
    "    std_logit_diff = []\n",
    "    for val_tokens_hf, val_answer_tokens in val_dataloader:\n",
    "        val_tokens_hf = val_tokens_hf.cuda()\n",
    "        circuit_logits = model_hf(val_tokens_hf)[\"logits\"]\n",
    "        # Compute logit diff\n",
    "        logit_diff = compute_logit_diff(circuit_logits.cuda(), val_answer_tokens.cuda(), average=False)\n",
    "        av_logit_diff.append(logit_diff[..., -1].mean(0))\n",
    "        std_logit_diff.append(logit_diff[..., -1].std(0))\n",
    "    av_logit_diff = torch.stack(av_logit_diff, dim=0).mean(0)\n",
    "    std_logit_diff = torch.stack(std_logit_diff, dim=0).mean(0)\n",
    "    logit_diffs.append(av_logit_diff)\n",
    "    std_logit_diffs.append(std_logit_diff)\n",
    "    # Compute accuracy\n",
    "    acc, std = compute_accuracy(circuit_logits.cuda(), val_answer_tokens.cuda())\n",
    "    print(f\"Logit diff: {av_logit_diff}\\tAcc: {acc}\")\n",
    "    accs.append(acc)\n",
    "    std_accs.append(std)\n",
    "logit_diffs_hf = torch.stack(logit_diffs, dim=0)\n",
    "std_logit_diffs_hf = torch.stack(std_logit_diffs, dim=0)\n",
    "accs_hf = torch.stack(accs, dim=0)\n",
    "std_accs_hf = torch.stack(std_accs, dim=0)"
   ]
  },
  {
   "cell_type": "code",
   "execution_count": 20,
   "metadata": {},
   "outputs": [],
   "source": [
    "cutoff = (logit_diffs_hf >= logit_diff_hf).nonzero()[-1].item() # last point where the performance is equal or higher than baseline\n",
    "cutoff_acc = (accs_hf >= acc_hf).nonzero()[-1].item() # last point where the performance is equal or higher than baseline"
   ]
  },
  {
   "cell_type": "code",
   "execution_count": 21,
   "metadata": {},
   "outputs": [
    {
     "ename": "NameError",
     "evalue": "name 'sorted_components' is not defined",
     "output_type": "error",
     "traceback": [
      "\u001b[0;31m---------------------------------------------------------------------------\u001b[0m",
      "\u001b[0;31mNameError\u001b[0m                                 Traceback (most recent call last)",
      "Cell \u001b[0;32mIn[21], line 1\u001b[0m\n\u001b[0;32m----> 1\u001b[0m labels \u001b[38;5;241m=\u001b[39m [\u001b[38;5;124mf\u001b[39m\u001b[38;5;124m\"\u001b[39m\u001b[38;5;132;01m{\u001b[39;00m\u001b[38;5;124m'\u001b[39m\u001b[38;5;124mMLP\u001b[39m\u001b[38;5;124m'\u001b[39m\u001b[38;5;250m \u001b[39m\u001b[38;5;28;01mif\u001b[39;00m\u001b[38;5;250m \u001b[39mcomp\u001b[38;5;250m \u001b[39m\u001b[38;5;28;01melse\u001b[39;00m\u001b[38;5;250m \u001b[39m\u001b[38;5;124m'\u001b[39m\u001b[38;5;124mAttn.\u001b[39m\u001b[38;5;124m'\u001b[39m\u001b[38;5;132;01m}\u001b[39;00m\u001b[38;5;124m \u001b[39m\u001b[38;5;132;01m{\u001b[39;00mlayer\u001b[38;5;132;01m}\u001b[39;00m\u001b[38;5;124m\"\u001b[39m \u001b[38;5;28;01mfor\u001b[39;00m comp, layer \u001b[38;5;129;01min\u001b[39;00m \u001b[38;5;28mreversed\u001b[39m(\u001b[43msorted_components\u001b[49m)]\n\u001b[1;32m      2\u001b[0m fig \u001b[38;5;241m=\u001b[39m px\u001b[38;5;241m.\u001b[39mline(x \u001b[38;5;241m=\u001b[39m labels, y\u001b[38;5;241m=\u001b[39mlogit_diffs_hf\u001b[38;5;241m.\u001b[39mcpu()\u001b[38;5;241m.\u001b[39mnumpy(), \n\u001b[1;32m      3\u001b[0m               error_y\u001b[38;5;241m=\u001b[39mstd_logit_diffs_hf\u001b[38;5;241m.\u001b[39mcpu()\u001b[38;5;241m.\u001b[39mnumpy(),\n\u001b[1;32m      4\u001b[0m               labels\u001b[38;5;241m=\u001b[39m{\u001b[38;5;124m\"\u001b[39m\u001b[38;5;124my\u001b[39m\u001b[38;5;124m\"\u001b[39m: \u001b[38;5;124m\"\u001b[39m\u001b[38;5;124mLogit Diff.\u001b[39m\u001b[38;5;124m\"\u001b[39m, \u001b[38;5;124m\"\u001b[39m\u001b[38;5;124mx\u001b[39m\u001b[38;5;124m\"\u001b[39m: \u001b[38;5;124m\"\u001b[39m\u001b[38;5;124mComponent\u001b[39m\u001b[38;5;124m\"\u001b[39m}, title\u001b[38;5;241m=\u001b[39m\u001b[38;5;124m\"\u001b[39m\u001b[38;5;124mLogit Diff. vs. Ablated Component\u001b[39m\u001b[38;5;124m\"\u001b[39m)\n\u001b[1;32m      5\u001b[0m fig\u001b[38;5;241m.\u001b[39madd_hline(y\u001b[38;5;241m=\u001b[39mlogit_diff_hf\u001b[38;5;241m.\u001b[39mitem(), line_width\u001b[38;5;241m=\u001b[39m\u001b[38;5;241m1.5\u001b[39m, line_dash\u001b[38;5;241m=\u001b[39m\u001b[38;5;124m\"\u001b[39m\u001b[38;5;124mdash\u001b[39m\u001b[38;5;124m\"\u001b[39m, line_color\u001b[38;5;241m=\u001b[39m\u001b[38;5;124m\"\u001b[39m\u001b[38;5;124mblack\u001b[39m\u001b[38;5;124m\"\u001b[39m)\n",
      "\u001b[0;31mNameError\u001b[0m: name 'sorted_components' is not defined"
     ]
    }
   ],
   "source": [
    "labels = [f\"{'MLP' if comp else 'Attn.'} {layer}\" for comp, layer in reversed(sorted_components)]\n",
    "fig = px.line(x = labels, y=logit_diffs_hf.cpu().numpy(), \n",
    "              error_y=std_logit_diffs_hf.cpu().numpy(),\n",
    "              labels={\"y\": \"Logit Diff.\", \"x\": \"Component\"}, title=\"Logit Diff. vs. Ablated Component\")\n",
    "fig.add_hline(y=logit_diff_hf.item(), line_width=1.5, line_dash=\"dash\", line_color=\"black\")\n",
    "fig.add_vline(x=labels[cutoff], line_width=1., line_dash=\"dash\", line_color=\"red\")\n",
    "fig.show()"
   ]
  },
  {
   "cell_type": "code",
   "execution_count": null,
   "metadata": {},
   "outputs": [
    {
     "data": {
      "application/vnd.plotly.v1+json": {
       "config": {
        "plotlyServerURL": "https://plot.ly"
       },
       "data": [
        {
         "error_y": {
          "array": [
           0,
           0,
           0,
           0,
           0,
           0,
           0,
           0,
           0,
           0,
           0,
           0,
           0,
           0,
           0,
           0,
           0,
           0,
           0,
           0,
           0,
           0,
           0.10000000149011612,
           0,
           0.10000000149011612,
           0.10000000149011612,
           0.10000000149011612,
           0.14070528745651245,
           0.14070528745651245,
           0.14070528745651245,
           0.14070528745651245,
           0.14070528745651245,
           0.14070528745651245,
           0.14070528745651245,
           0.14070528745651245,
           0.358870267868042,
           0.358870267868042,
           0.27265992760658264,
           0.31446605920791626,
           0.31446605920791626,
           0.21904291212558746,
           0.17144660651683807,
           0.196946382522583,
           0.27265992760658264,
           0.27265992760658264,
           0.3265986442565918,
           0.39427727460861206,
           0.4351941645145416,
           0.4229525625705719,
           0.28762349486351013,
           0.27265992760658264,
           0.27265992760658264,
           0.27265992760658264,
           0.27265992760658264,
           0.27265992760658264,
           0.27265992760658264,
           0.27265992760658264,
           0.27265992760658264,
           0.27265992760658264,
           0.27265992760658264,
           0.27265992760658264,
           0.27265992760658264,
           0.27265992760658264,
           0.27265992760658264
          ]
         },
         "hovertemplate": "Component=%{x}<br>Accuracy=%{y}<extra></extra>",
         "legendgroup": "",
         "line": {
          "color": "#636efa",
          "dash": "solid"
         },
         "marker": {
          "symbol": "circle"
         },
         "mode": "lines",
         "name": "",
         "orientation": "v",
         "showlegend": false,
         "type": "scatter",
         "x": [
          "MLP 31",
          "Attn. 29",
          "MLP 10",
          "Attn. 15",
          "MLP 14",
          "MLP 17",
          "Attn. 18",
          "Attn. 10",
          "MLP 24",
          "Attn. 30",
          "Attn. 31",
          "MLP 27",
          "Attn. 2",
          "MLP 22",
          "Attn. 4",
          "Attn. 7",
          "Attn. 19",
          "MLP 26",
          "Attn. 28",
          "Attn. 25",
          "Attn. 6",
          "Attn. 8",
          "Attn. 5",
          "Attn. 3",
          "MLP 23",
          "Attn. 24",
          "Attn. 27",
          "Attn. 26",
          "Attn. 0",
          "MLP 29",
          "Attn. 17",
          "Attn. 12",
          "Attn. 21",
          "MLP 19",
          "Attn. 13",
          "Attn. 1",
          "Attn. 23",
          "MLP 7",
          "MLP 20",
          "Attn. 22",
          "MLP 18",
          "MLP 28",
          "MLP 21",
          "MLP 30",
          "Attn. 9",
          "MLP 12",
          "MLP 8",
          "MLP 13",
          "MLP 11",
          "Attn. 11",
          "MLP 25",
          "Attn. 20",
          "MLP 3",
          "Attn. 14",
          "Attn. 16",
          "MLP 15",
          "MLP 16",
          "MLP 9",
          "MLP 2",
          "MLP 6",
          "MLP 5",
          "MLP 4",
          "MLP 0",
          "MLP 1"
         ],
         "xaxis": "x",
         "y": [
          1,
          1,
          1,
          1,
          1,
          1,
          1,
          1,
          1,
          1,
          1,
          1,
          1,
          1,
          1,
          1,
          1,
          1,
          1,
          1,
          1,
          1,
          0.9899999499320984,
          1,
          0.9899999499320984,
          0.9899999499320984,
          0.9899999499320984,
          0.9799999594688416,
          0.9799999594688416,
          0.9799999594688416,
          0.9799999594688416,
          0.9799999594688416,
          0.9799999594688416,
          0.9799999594688416,
          0.9799999594688416,
          0.8499999642372131,
          0.8499999642372131,
          0.9199999570846558,
          0.8899999856948853,
          0.8899999856948853,
          0.949999988079071,
          0.9699999690055847,
          0.9599999785423279,
          0.9199999570846558,
          0.9199999570846558,
          0.8799999952316284,
          0.8100000023841858,
          0.25,
          0.22999998927116394,
          0.08999999612569809,
          0.07999999821186066,
          0.07999999821186066,
          0.07999999821186066,
          0.07999999821186066,
          0.07999999821186066,
          0.07999999821186066,
          0.07999999821186066,
          0.07999999821186066,
          0.07999999821186066,
          0.07999999821186066,
          0.07999999821186066,
          0.07999999821186066,
          0.07999999821186066,
          0.07999999821186066
         ],
         "yaxis": "y"
        }
       ],
       "layout": {
        "legend": {
         "tracegroupgap": 0
        },
        "shapes": [
         {
          "line": {
           "color": "black",
           "dash": "dash",
           "width": 1.5
          },
          "type": "line",
          "x0": 0,
          "x1": 1,
          "xref": "x domain",
          "y0": 1,
          "y1": 1,
          "yref": "y"
         },
         {
          "line": {
           "color": "red",
           "dash": "dash",
           "width": 1
          },
          "type": "line",
          "x0": "Attn. 3",
          "x1": "Attn. 3",
          "xref": "x",
          "y0": 0,
          "y1": 1,
          "yref": "y domain"
         }
        ],
        "template": {
         "data": {
          "bar": [
           {
            "error_x": {
             "color": "#2a3f5f"
            },
            "error_y": {
             "color": "#2a3f5f"
            },
            "marker": {
             "line": {
              "color": "#E5ECF6",
              "width": 0.5
             },
             "pattern": {
              "fillmode": "overlay",
              "size": 10,
              "solidity": 0.2
             }
            },
            "type": "bar"
           }
          ],
          "barpolar": [
           {
            "marker": {
             "line": {
              "color": "#E5ECF6",
              "width": 0.5
             },
             "pattern": {
              "fillmode": "overlay",
              "size": 10,
              "solidity": 0.2
             }
            },
            "type": "barpolar"
           }
          ],
          "carpet": [
           {
            "aaxis": {
             "endlinecolor": "#2a3f5f",
             "gridcolor": "white",
             "linecolor": "white",
             "minorgridcolor": "white",
             "startlinecolor": "#2a3f5f"
            },
            "baxis": {
             "endlinecolor": "#2a3f5f",
             "gridcolor": "white",
             "linecolor": "white",
             "minorgridcolor": "white",
             "startlinecolor": "#2a3f5f"
            },
            "type": "carpet"
           }
          ],
          "choropleth": [
           {
            "colorbar": {
             "outlinewidth": 0,
             "ticks": ""
            },
            "type": "choropleth"
           }
          ],
          "contour": [
           {
            "colorbar": {
             "outlinewidth": 0,
             "ticks": ""
            },
            "colorscale": [
             [
              0,
              "#0d0887"
             ],
             [
              0.1111111111111111,
              "#46039f"
             ],
             [
              0.2222222222222222,
              "#7201a8"
             ],
             [
              0.3333333333333333,
              "#9c179e"
             ],
             [
              0.4444444444444444,
              "#bd3786"
             ],
             [
              0.5555555555555556,
              "#d8576b"
             ],
             [
              0.6666666666666666,
              "#ed7953"
             ],
             [
              0.7777777777777778,
              "#fb9f3a"
             ],
             [
              0.8888888888888888,
              "#fdca26"
             ],
             [
              1,
              "#f0f921"
             ]
            ],
            "type": "contour"
           }
          ],
          "contourcarpet": [
           {
            "colorbar": {
             "outlinewidth": 0,
             "ticks": ""
            },
            "type": "contourcarpet"
           }
          ],
          "heatmap": [
           {
            "colorbar": {
             "outlinewidth": 0,
             "ticks": ""
            },
            "colorscale": [
             [
              0,
              "#0d0887"
             ],
             [
              0.1111111111111111,
              "#46039f"
             ],
             [
              0.2222222222222222,
              "#7201a8"
             ],
             [
              0.3333333333333333,
              "#9c179e"
             ],
             [
              0.4444444444444444,
              "#bd3786"
             ],
             [
              0.5555555555555556,
              "#d8576b"
             ],
             [
              0.6666666666666666,
              "#ed7953"
             ],
             [
              0.7777777777777778,
              "#fb9f3a"
             ],
             [
              0.8888888888888888,
              "#fdca26"
             ],
             [
              1,
              "#f0f921"
             ]
            ],
            "type": "heatmap"
           }
          ],
          "heatmapgl": [
           {
            "colorbar": {
             "outlinewidth": 0,
             "ticks": ""
            },
            "colorscale": [
             [
              0,
              "#0d0887"
             ],
             [
              0.1111111111111111,
              "#46039f"
             ],
             [
              0.2222222222222222,
              "#7201a8"
             ],
             [
              0.3333333333333333,
              "#9c179e"
             ],
             [
              0.4444444444444444,
              "#bd3786"
             ],
             [
              0.5555555555555556,
              "#d8576b"
             ],
             [
              0.6666666666666666,
              "#ed7953"
             ],
             [
              0.7777777777777778,
              "#fb9f3a"
             ],
             [
              0.8888888888888888,
              "#fdca26"
             ],
             [
              1,
              "#f0f921"
             ]
            ],
            "type": "heatmapgl"
           }
          ],
          "histogram": [
           {
            "marker": {
             "pattern": {
              "fillmode": "overlay",
              "size": 10,
              "solidity": 0.2
             }
            },
            "type": "histogram"
           }
          ],
          "histogram2d": [
           {
            "colorbar": {
             "outlinewidth": 0,
             "ticks": ""
            },
            "colorscale": [
             [
              0,
              "#0d0887"
             ],
             [
              0.1111111111111111,
              "#46039f"
             ],
             [
              0.2222222222222222,
              "#7201a8"
             ],
             [
              0.3333333333333333,
              "#9c179e"
             ],
             [
              0.4444444444444444,
              "#bd3786"
             ],
             [
              0.5555555555555556,
              "#d8576b"
             ],
             [
              0.6666666666666666,
              "#ed7953"
             ],
             [
              0.7777777777777778,
              "#fb9f3a"
             ],
             [
              0.8888888888888888,
              "#fdca26"
             ],
             [
              1,
              "#f0f921"
             ]
            ],
            "type": "histogram2d"
           }
          ],
          "histogram2dcontour": [
           {
            "colorbar": {
             "outlinewidth": 0,
             "ticks": ""
            },
            "colorscale": [
             [
              0,
              "#0d0887"
             ],
             [
              0.1111111111111111,
              "#46039f"
             ],
             [
              0.2222222222222222,
              "#7201a8"
             ],
             [
              0.3333333333333333,
              "#9c179e"
             ],
             [
              0.4444444444444444,
              "#bd3786"
             ],
             [
              0.5555555555555556,
              "#d8576b"
             ],
             [
              0.6666666666666666,
              "#ed7953"
             ],
             [
              0.7777777777777778,
              "#fb9f3a"
             ],
             [
              0.8888888888888888,
              "#fdca26"
             ],
             [
              1,
              "#f0f921"
             ]
            ],
            "type": "histogram2dcontour"
           }
          ],
          "mesh3d": [
           {
            "colorbar": {
             "outlinewidth": 0,
             "ticks": ""
            },
            "type": "mesh3d"
           }
          ],
          "parcoords": [
           {
            "line": {
             "colorbar": {
              "outlinewidth": 0,
              "ticks": ""
             }
            },
            "type": "parcoords"
           }
          ],
          "pie": [
           {
            "automargin": true,
            "type": "pie"
           }
          ],
          "scatter": [
           {
            "fillpattern": {
             "fillmode": "overlay",
             "size": 10,
             "solidity": 0.2
            },
            "type": "scatter"
           }
          ],
          "scatter3d": [
           {
            "line": {
             "colorbar": {
              "outlinewidth": 0,
              "ticks": ""
             }
            },
            "marker": {
             "colorbar": {
              "outlinewidth": 0,
              "ticks": ""
             }
            },
            "type": "scatter3d"
           }
          ],
          "scattercarpet": [
           {
            "marker": {
             "colorbar": {
              "outlinewidth": 0,
              "ticks": ""
             }
            },
            "type": "scattercarpet"
           }
          ],
          "scattergeo": [
           {
            "marker": {
             "colorbar": {
              "outlinewidth": 0,
              "ticks": ""
             }
            },
            "type": "scattergeo"
           }
          ],
          "scattergl": [
           {
            "marker": {
             "colorbar": {
              "outlinewidth": 0,
              "ticks": ""
             }
            },
            "type": "scattergl"
           }
          ],
          "scattermapbox": [
           {
            "marker": {
             "colorbar": {
              "outlinewidth": 0,
              "ticks": ""
             }
            },
            "type": "scattermapbox"
           }
          ],
          "scatterpolar": [
           {
            "marker": {
             "colorbar": {
              "outlinewidth": 0,
              "ticks": ""
             }
            },
            "type": "scatterpolar"
           }
          ],
          "scatterpolargl": [
           {
            "marker": {
             "colorbar": {
              "outlinewidth": 0,
              "ticks": ""
             }
            },
            "type": "scatterpolargl"
           }
          ],
          "scatterternary": [
           {
            "marker": {
             "colorbar": {
              "outlinewidth": 0,
              "ticks": ""
             }
            },
            "type": "scatterternary"
           }
          ],
          "surface": [
           {
            "colorbar": {
             "outlinewidth": 0,
             "ticks": ""
            },
            "colorscale": [
             [
              0,
              "#0d0887"
             ],
             [
              0.1111111111111111,
              "#46039f"
             ],
             [
              0.2222222222222222,
              "#7201a8"
             ],
             [
              0.3333333333333333,
              "#9c179e"
             ],
             [
              0.4444444444444444,
              "#bd3786"
             ],
             [
              0.5555555555555556,
              "#d8576b"
             ],
             [
              0.6666666666666666,
              "#ed7953"
             ],
             [
              0.7777777777777778,
              "#fb9f3a"
             ],
             [
              0.8888888888888888,
              "#fdca26"
             ],
             [
              1,
              "#f0f921"
             ]
            ],
            "type": "surface"
           }
          ],
          "table": [
           {
            "cells": {
             "fill": {
              "color": "#EBF0F8"
             },
             "line": {
              "color": "white"
             }
            },
            "header": {
             "fill": {
              "color": "#C8D4E3"
             },
             "line": {
              "color": "white"
             }
            },
            "type": "table"
           }
          ]
         },
         "layout": {
          "annotationdefaults": {
           "arrowcolor": "#2a3f5f",
           "arrowhead": 0,
           "arrowwidth": 1
          },
          "autotypenumbers": "strict",
          "coloraxis": {
           "colorbar": {
            "outlinewidth": 0,
            "ticks": ""
           }
          },
          "colorscale": {
           "diverging": [
            [
             0,
             "#8e0152"
            ],
            [
             0.1,
             "#c51b7d"
            ],
            [
             0.2,
             "#de77ae"
            ],
            [
             0.3,
             "#f1b6da"
            ],
            [
             0.4,
             "#fde0ef"
            ],
            [
             0.5,
             "#f7f7f7"
            ],
            [
             0.6,
             "#e6f5d0"
            ],
            [
             0.7,
             "#b8e186"
            ],
            [
             0.8,
             "#7fbc41"
            ],
            [
             0.9,
             "#4d9221"
            ],
            [
             1,
             "#276419"
            ]
           ],
           "sequential": [
            [
             0,
             "#0d0887"
            ],
            [
             0.1111111111111111,
             "#46039f"
            ],
            [
             0.2222222222222222,
             "#7201a8"
            ],
            [
             0.3333333333333333,
             "#9c179e"
            ],
            [
             0.4444444444444444,
             "#bd3786"
            ],
            [
             0.5555555555555556,
             "#d8576b"
            ],
            [
             0.6666666666666666,
             "#ed7953"
            ],
            [
             0.7777777777777778,
             "#fb9f3a"
            ],
            [
             0.8888888888888888,
             "#fdca26"
            ],
            [
             1,
             "#f0f921"
            ]
           ],
           "sequentialminus": [
            [
             0,
             "#0d0887"
            ],
            [
             0.1111111111111111,
             "#46039f"
            ],
            [
             0.2222222222222222,
             "#7201a8"
            ],
            [
             0.3333333333333333,
             "#9c179e"
            ],
            [
             0.4444444444444444,
             "#bd3786"
            ],
            [
             0.5555555555555556,
             "#d8576b"
            ],
            [
             0.6666666666666666,
             "#ed7953"
            ],
            [
             0.7777777777777778,
             "#fb9f3a"
            ],
            [
             0.8888888888888888,
             "#fdca26"
            ],
            [
             1,
             "#f0f921"
            ]
           ]
          },
          "colorway": [
           "#636efa",
           "#EF553B",
           "#00cc96",
           "#ab63fa",
           "#FFA15A",
           "#19d3f3",
           "#FF6692",
           "#B6E880",
           "#FF97FF",
           "#FECB52"
          ],
          "font": {
           "color": "#2a3f5f"
          },
          "geo": {
           "bgcolor": "white",
           "lakecolor": "white",
           "landcolor": "#E5ECF6",
           "showlakes": true,
           "showland": true,
           "subunitcolor": "white"
          },
          "hoverlabel": {
           "align": "left"
          },
          "hovermode": "closest",
          "mapbox": {
           "style": "light"
          },
          "paper_bgcolor": "white",
          "plot_bgcolor": "#E5ECF6",
          "polar": {
           "angularaxis": {
            "gridcolor": "white",
            "linecolor": "white",
            "ticks": ""
           },
           "bgcolor": "#E5ECF6",
           "radialaxis": {
            "gridcolor": "white",
            "linecolor": "white",
            "ticks": ""
           }
          },
          "scene": {
           "xaxis": {
            "backgroundcolor": "#E5ECF6",
            "gridcolor": "white",
            "gridwidth": 2,
            "linecolor": "white",
            "showbackground": true,
            "ticks": "",
            "zerolinecolor": "white"
           },
           "yaxis": {
            "backgroundcolor": "#E5ECF6",
            "gridcolor": "white",
            "gridwidth": 2,
            "linecolor": "white",
            "showbackground": true,
            "ticks": "",
            "zerolinecolor": "white"
           },
           "zaxis": {
            "backgroundcolor": "#E5ECF6",
            "gridcolor": "white",
            "gridwidth": 2,
            "linecolor": "white",
            "showbackground": true,
            "ticks": "",
            "zerolinecolor": "white"
           }
          },
          "shapedefaults": {
           "line": {
            "color": "#2a3f5f"
           }
          },
          "ternary": {
           "aaxis": {
            "gridcolor": "white",
            "linecolor": "white",
            "ticks": ""
           },
           "baxis": {
            "gridcolor": "white",
            "linecolor": "white",
            "ticks": ""
           },
           "bgcolor": "#E5ECF6",
           "caxis": {
            "gridcolor": "white",
            "linecolor": "white",
            "ticks": ""
           }
          },
          "title": {
           "x": 0.05
          },
          "xaxis": {
           "automargin": true,
           "gridcolor": "white",
           "linecolor": "white",
           "ticks": "",
           "title": {
            "standoff": 15
           },
           "zerolinecolor": "white",
           "zerolinewidth": 2
          },
          "yaxis": {
           "automargin": true,
           "gridcolor": "white",
           "linecolor": "white",
           "ticks": "",
           "title": {
            "standoff": 15
           },
           "zerolinecolor": "white",
           "zerolinewidth": 2
          }
         }
        },
        "title": {
         "text": "Accuracy vs. Ablated Component"
        },
        "xaxis": {
         "anchor": "y",
         "domain": [
          0,
          1
         ],
         "title": {
          "text": "Component"
         }
        },
        "yaxis": {
         "anchor": "x",
         "domain": [
          0,
          1
         ],
         "title": {
          "text": "Accuracy"
         }
        }
       }
      },
      "text/html": [
       "<div>                            <div id=\"30daa926-f66e-4b00-81d1-8900db837db0\" class=\"plotly-graph-div\" style=\"height:525px; width:100%;\"></div>            <script type=\"text/javascript\">                require([\"plotly\"], function(Plotly) {                    window.PLOTLYENV=window.PLOTLYENV || {};                                    if (document.getElementById(\"30daa926-f66e-4b00-81d1-8900db837db0\")) {                    Plotly.newPlot(                        \"30daa926-f66e-4b00-81d1-8900db837db0\",                        [{\"error_y\":{\"array\":[0.0,0.0,0.0,0.0,0.0,0.0,0.0,0.0,0.0,0.0,0.0,0.0,0.0,0.0,0.0,0.0,0.0,0.0,0.0,0.0,0.0,0.0,0.10000000149011612,0.0,0.10000000149011612,0.10000000149011612,0.10000000149011612,0.14070528745651245,0.14070528745651245,0.14070528745651245,0.14070528745651245,0.14070528745651245,0.14070528745651245,0.14070528745651245,0.14070528745651245,0.358870267868042,0.358870267868042,0.27265992760658264,0.31446605920791626,0.31446605920791626,0.21904291212558746,0.17144660651683807,0.196946382522583,0.27265992760658264,0.27265992760658264,0.3265986442565918,0.39427727460861206,0.4351941645145416,0.4229525625705719,0.28762349486351013,0.27265992760658264,0.27265992760658264,0.27265992760658264,0.27265992760658264,0.27265992760658264,0.27265992760658264,0.27265992760658264,0.27265992760658264,0.27265992760658264,0.27265992760658264,0.27265992760658264,0.27265992760658264,0.27265992760658264,0.27265992760658264]},\"hovertemplate\":\"Component=%{x}\\u003cbr\\u003eAccuracy=%{y}\\u003cextra\\u003e\\u003c\\u002fextra\\u003e\",\"legendgroup\":\"\",\"line\":{\"color\":\"#636efa\",\"dash\":\"solid\"},\"marker\":{\"symbol\":\"circle\"},\"mode\":\"lines\",\"name\":\"\",\"orientation\":\"v\",\"showlegend\":false,\"x\":[\"MLP 31\",\"Attn. 29\",\"MLP 10\",\"Attn. 15\",\"MLP 14\",\"MLP 17\",\"Attn. 18\",\"Attn. 10\",\"MLP 24\",\"Attn. 30\",\"Attn. 31\",\"MLP 27\",\"Attn. 2\",\"MLP 22\",\"Attn. 4\",\"Attn. 7\",\"Attn. 19\",\"MLP 26\",\"Attn. 28\",\"Attn. 25\",\"Attn. 6\",\"Attn. 8\",\"Attn. 5\",\"Attn. 3\",\"MLP 23\",\"Attn. 24\",\"Attn. 27\",\"Attn. 26\",\"Attn. 0\",\"MLP 29\",\"Attn. 17\",\"Attn. 12\",\"Attn. 21\",\"MLP 19\",\"Attn. 13\",\"Attn. 1\",\"Attn. 23\",\"MLP 7\",\"MLP 20\",\"Attn. 22\",\"MLP 18\",\"MLP 28\",\"MLP 21\",\"MLP 30\",\"Attn. 9\",\"MLP 12\",\"MLP 8\",\"MLP 13\",\"MLP 11\",\"Attn. 11\",\"MLP 25\",\"Attn. 20\",\"MLP 3\",\"Attn. 14\",\"Attn. 16\",\"MLP 15\",\"MLP 16\",\"MLP 9\",\"MLP 2\",\"MLP 6\",\"MLP 5\",\"MLP 4\",\"MLP 0\",\"MLP 1\"],\"xaxis\":\"x\",\"y\":[1.0,1.0,1.0,1.0,1.0,1.0,1.0,1.0,1.0,1.0,1.0,1.0,1.0,1.0,1.0,1.0,1.0,1.0,1.0,1.0,1.0,1.0,0.9899999499320984,1.0,0.9899999499320984,0.9899999499320984,0.9899999499320984,0.9799999594688416,0.9799999594688416,0.9799999594688416,0.9799999594688416,0.9799999594688416,0.9799999594688416,0.9799999594688416,0.9799999594688416,0.8499999642372131,0.8499999642372131,0.9199999570846558,0.8899999856948853,0.8899999856948853,0.949999988079071,0.9699999690055847,0.9599999785423279,0.9199999570846558,0.9199999570846558,0.8799999952316284,0.8100000023841858,0.25,0.22999998927116394,0.08999999612569809,0.07999999821186066,0.07999999821186066,0.07999999821186066,0.07999999821186066,0.07999999821186066,0.07999999821186066,0.07999999821186066,0.07999999821186066,0.07999999821186066,0.07999999821186066,0.07999999821186066,0.07999999821186066,0.07999999821186066,0.07999999821186066],\"yaxis\":\"y\",\"type\":\"scatter\"}],                        {\"template\":{\"data\":{\"histogram2dcontour\":[{\"type\":\"histogram2dcontour\",\"colorbar\":{\"outlinewidth\":0,\"ticks\":\"\"},\"colorscale\":[[0.0,\"#0d0887\"],[0.1111111111111111,\"#46039f\"],[0.2222222222222222,\"#7201a8\"],[0.3333333333333333,\"#9c179e\"],[0.4444444444444444,\"#bd3786\"],[0.5555555555555556,\"#d8576b\"],[0.6666666666666666,\"#ed7953\"],[0.7777777777777778,\"#fb9f3a\"],[0.8888888888888888,\"#fdca26\"],[1.0,\"#f0f921\"]]}],\"choropleth\":[{\"type\":\"choropleth\",\"colorbar\":{\"outlinewidth\":0,\"ticks\":\"\"}}],\"histogram2d\":[{\"type\":\"histogram2d\",\"colorbar\":{\"outlinewidth\":0,\"ticks\":\"\"},\"colorscale\":[[0.0,\"#0d0887\"],[0.1111111111111111,\"#46039f\"],[0.2222222222222222,\"#7201a8\"],[0.3333333333333333,\"#9c179e\"],[0.4444444444444444,\"#bd3786\"],[0.5555555555555556,\"#d8576b\"],[0.6666666666666666,\"#ed7953\"],[0.7777777777777778,\"#fb9f3a\"],[0.8888888888888888,\"#fdca26\"],[1.0,\"#f0f921\"]]}],\"heatmap\":[{\"type\":\"heatmap\",\"colorbar\":{\"outlinewidth\":0,\"ticks\":\"\"},\"colorscale\":[[0.0,\"#0d0887\"],[0.1111111111111111,\"#46039f\"],[0.2222222222222222,\"#7201a8\"],[0.3333333333333333,\"#9c179e\"],[0.4444444444444444,\"#bd3786\"],[0.5555555555555556,\"#d8576b\"],[0.6666666666666666,\"#ed7953\"],[0.7777777777777778,\"#fb9f3a\"],[0.8888888888888888,\"#fdca26\"],[1.0,\"#f0f921\"]]}],\"heatmapgl\":[{\"type\":\"heatmapgl\",\"colorbar\":{\"outlinewidth\":0,\"ticks\":\"\"},\"colorscale\":[[0.0,\"#0d0887\"],[0.1111111111111111,\"#46039f\"],[0.2222222222222222,\"#7201a8\"],[0.3333333333333333,\"#9c179e\"],[0.4444444444444444,\"#bd3786\"],[0.5555555555555556,\"#d8576b\"],[0.6666666666666666,\"#ed7953\"],[0.7777777777777778,\"#fb9f3a\"],[0.8888888888888888,\"#fdca26\"],[1.0,\"#f0f921\"]]}],\"contourcarpet\":[{\"type\":\"contourcarpet\",\"colorbar\":{\"outlinewidth\":0,\"ticks\":\"\"}}],\"contour\":[{\"type\":\"contour\",\"colorbar\":{\"outlinewidth\":0,\"ticks\":\"\"},\"colorscale\":[[0.0,\"#0d0887\"],[0.1111111111111111,\"#46039f\"],[0.2222222222222222,\"#7201a8\"],[0.3333333333333333,\"#9c179e\"],[0.4444444444444444,\"#bd3786\"],[0.5555555555555556,\"#d8576b\"],[0.6666666666666666,\"#ed7953\"],[0.7777777777777778,\"#fb9f3a\"],[0.8888888888888888,\"#fdca26\"],[1.0,\"#f0f921\"]]}],\"surface\":[{\"type\":\"surface\",\"colorbar\":{\"outlinewidth\":0,\"ticks\":\"\"},\"colorscale\":[[0.0,\"#0d0887\"],[0.1111111111111111,\"#46039f\"],[0.2222222222222222,\"#7201a8\"],[0.3333333333333333,\"#9c179e\"],[0.4444444444444444,\"#bd3786\"],[0.5555555555555556,\"#d8576b\"],[0.6666666666666666,\"#ed7953\"],[0.7777777777777778,\"#fb9f3a\"],[0.8888888888888888,\"#fdca26\"],[1.0,\"#f0f921\"]]}],\"mesh3d\":[{\"type\":\"mesh3d\",\"colorbar\":{\"outlinewidth\":0,\"ticks\":\"\"}}],\"scatter\":[{\"fillpattern\":{\"fillmode\":\"overlay\",\"size\":10,\"solidity\":0.2},\"type\":\"scatter\"}],\"parcoords\":[{\"type\":\"parcoords\",\"line\":{\"colorbar\":{\"outlinewidth\":0,\"ticks\":\"\"}}}],\"scatterpolargl\":[{\"type\":\"scatterpolargl\",\"marker\":{\"colorbar\":{\"outlinewidth\":0,\"ticks\":\"\"}}}],\"bar\":[{\"error_x\":{\"color\":\"#2a3f5f\"},\"error_y\":{\"color\":\"#2a3f5f\"},\"marker\":{\"line\":{\"color\":\"#E5ECF6\",\"width\":0.5},\"pattern\":{\"fillmode\":\"overlay\",\"size\":10,\"solidity\":0.2}},\"type\":\"bar\"}],\"scattergeo\":[{\"type\":\"scattergeo\",\"marker\":{\"colorbar\":{\"outlinewidth\":0,\"ticks\":\"\"}}}],\"scatterpolar\":[{\"type\":\"scatterpolar\",\"marker\":{\"colorbar\":{\"outlinewidth\":0,\"ticks\":\"\"}}}],\"histogram\":[{\"marker\":{\"pattern\":{\"fillmode\":\"overlay\",\"size\":10,\"solidity\":0.2}},\"type\":\"histogram\"}],\"scattergl\":[{\"type\":\"scattergl\",\"marker\":{\"colorbar\":{\"outlinewidth\":0,\"ticks\":\"\"}}}],\"scatter3d\":[{\"type\":\"scatter3d\",\"line\":{\"colorbar\":{\"outlinewidth\":0,\"ticks\":\"\"}},\"marker\":{\"colorbar\":{\"outlinewidth\":0,\"ticks\":\"\"}}}],\"scattermapbox\":[{\"type\":\"scattermapbox\",\"marker\":{\"colorbar\":{\"outlinewidth\":0,\"ticks\":\"\"}}}],\"scatterternary\":[{\"type\":\"scatterternary\",\"marker\":{\"colorbar\":{\"outlinewidth\":0,\"ticks\":\"\"}}}],\"scattercarpet\":[{\"type\":\"scattercarpet\",\"marker\":{\"colorbar\":{\"outlinewidth\":0,\"ticks\":\"\"}}}],\"carpet\":[{\"aaxis\":{\"endlinecolor\":\"#2a3f5f\",\"gridcolor\":\"white\",\"linecolor\":\"white\",\"minorgridcolor\":\"white\",\"startlinecolor\":\"#2a3f5f\"},\"baxis\":{\"endlinecolor\":\"#2a3f5f\",\"gridcolor\":\"white\",\"linecolor\":\"white\",\"minorgridcolor\":\"white\",\"startlinecolor\":\"#2a3f5f\"},\"type\":\"carpet\"}],\"table\":[{\"cells\":{\"fill\":{\"color\":\"#EBF0F8\"},\"line\":{\"color\":\"white\"}},\"header\":{\"fill\":{\"color\":\"#C8D4E3\"},\"line\":{\"color\":\"white\"}},\"type\":\"table\"}],\"barpolar\":[{\"marker\":{\"line\":{\"color\":\"#E5ECF6\",\"width\":0.5},\"pattern\":{\"fillmode\":\"overlay\",\"size\":10,\"solidity\":0.2}},\"type\":\"barpolar\"}],\"pie\":[{\"automargin\":true,\"type\":\"pie\"}]},\"layout\":{\"autotypenumbers\":\"strict\",\"colorway\":[\"#636efa\",\"#EF553B\",\"#00cc96\",\"#ab63fa\",\"#FFA15A\",\"#19d3f3\",\"#FF6692\",\"#B6E880\",\"#FF97FF\",\"#FECB52\"],\"font\":{\"color\":\"#2a3f5f\"},\"hovermode\":\"closest\",\"hoverlabel\":{\"align\":\"left\"},\"paper_bgcolor\":\"white\",\"plot_bgcolor\":\"#E5ECF6\",\"polar\":{\"bgcolor\":\"#E5ECF6\",\"angularaxis\":{\"gridcolor\":\"white\",\"linecolor\":\"white\",\"ticks\":\"\"},\"radialaxis\":{\"gridcolor\":\"white\",\"linecolor\":\"white\",\"ticks\":\"\"}},\"ternary\":{\"bgcolor\":\"#E5ECF6\",\"aaxis\":{\"gridcolor\":\"white\",\"linecolor\":\"white\",\"ticks\":\"\"},\"baxis\":{\"gridcolor\":\"white\",\"linecolor\":\"white\",\"ticks\":\"\"},\"caxis\":{\"gridcolor\":\"white\",\"linecolor\":\"white\",\"ticks\":\"\"}},\"coloraxis\":{\"colorbar\":{\"outlinewidth\":0,\"ticks\":\"\"}},\"colorscale\":{\"sequential\":[[0.0,\"#0d0887\"],[0.1111111111111111,\"#46039f\"],[0.2222222222222222,\"#7201a8\"],[0.3333333333333333,\"#9c179e\"],[0.4444444444444444,\"#bd3786\"],[0.5555555555555556,\"#d8576b\"],[0.6666666666666666,\"#ed7953\"],[0.7777777777777778,\"#fb9f3a\"],[0.8888888888888888,\"#fdca26\"],[1.0,\"#f0f921\"]],\"sequentialminus\":[[0.0,\"#0d0887\"],[0.1111111111111111,\"#46039f\"],[0.2222222222222222,\"#7201a8\"],[0.3333333333333333,\"#9c179e\"],[0.4444444444444444,\"#bd3786\"],[0.5555555555555556,\"#d8576b\"],[0.6666666666666666,\"#ed7953\"],[0.7777777777777778,\"#fb9f3a\"],[0.8888888888888888,\"#fdca26\"],[1.0,\"#f0f921\"]],\"diverging\":[[0,\"#8e0152\"],[0.1,\"#c51b7d\"],[0.2,\"#de77ae\"],[0.3,\"#f1b6da\"],[0.4,\"#fde0ef\"],[0.5,\"#f7f7f7\"],[0.6,\"#e6f5d0\"],[0.7,\"#b8e186\"],[0.8,\"#7fbc41\"],[0.9,\"#4d9221\"],[1,\"#276419\"]]},\"xaxis\":{\"gridcolor\":\"white\",\"linecolor\":\"white\",\"ticks\":\"\",\"title\":{\"standoff\":15},\"zerolinecolor\":\"white\",\"automargin\":true,\"zerolinewidth\":2},\"yaxis\":{\"gridcolor\":\"white\",\"linecolor\":\"white\",\"ticks\":\"\",\"title\":{\"standoff\":15},\"zerolinecolor\":\"white\",\"automargin\":true,\"zerolinewidth\":2},\"scene\":{\"xaxis\":{\"backgroundcolor\":\"#E5ECF6\",\"gridcolor\":\"white\",\"linecolor\":\"white\",\"showbackground\":true,\"ticks\":\"\",\"zerolinecolor\":\"white\",\"gridwidth\":2},\"yaxis\":{\"backgroundcolor\":\"#E5ECF6\",\"gridcolor\":\"white\",\"linecolor\":\"white\",\"showbackground\":true,\"ticks\":\"\",\"zerolinecolor\":\"white\",\"gridwidth\":2},\"zaxis\":{\"backgroundcolor\":\"#E5ECF6\",\"gridcolor\":\"white\",\"linecolor\":\"white\",\"showbackground\":true,\"ticks\":\"\",\"zerolinecolor\":\"white\",\"gridwidth\":2}},\"shapedefaults\":{\"line\":{\"color\":\"#2a3f5f\"}},\"annotationdefaults\":{\"arrowcolor\":\"#2a3f5f\",\"arrowhead\":0,\"arrowwidth\":1},\"geo\":{\"bgcolor\":\"white\",\"landcolor\":\"#E5ECF6\",\"subunitcolor\":\"white\",\"showland\":true,\"showlakes\":true,\"lakecolor\":\"white\"},\"title\":{\"x\":0.05},\"mapbox\":{\"style\":\"light\"}}},\"xaxis\":{\"anchor\":\"y\",\"domain\":[0.0,1.0],\"title\":{\"text\":\"Component\"}},\"yaxis\":{\"anchor\":\"x\",\"domain\":[0.0,1.0],\"title\":{\"text\":\"Accuracy\"}},\"legend\":{\"tracegroupgap\":0},\"title\":{\"text\":\"Accuracy vs. Ablated Component\"},\"shapes\":[{\"line\":{\"color\":\"black\",\"dash\":\"dash\",\"width\":1.5},\"type\":\"line\",\"x0\":0,\"x1\":1,\"xref\":\"x domain\",\"y0\":1.0,\"y1\":1.0,\"yref\":\"y\"},{\"line\":{\"color\":\"red\",\"dash\":\"dash\",\"width\":1.0},\"type\":\"line\",\"x0\":\"Attn. 3\",\"x1\":\"Attn. 3\",\"xref\":\"x\",\"y0\":0,\"y1\":1,\"yref\":\"y domain\"}]},                        {\"responsive\": true}                    ).then(function(){\n",
       "                            \n",
       "var gd = document.getElementById('30daa926-f66e-4b00-81d1-8900db837db0');\n",
       "var x = new MutationObserver(function (mutations, observer) {{\n",
       "        var display = window.getComputedStyle(gd).display;\n",
       "        if (!display || display === 'none') {{\n",
       "            console.log([gd, 'removed!']);\n",
       "            Plotly.purge(gd);\n",
       "            observer.disconnect();\n",
       "        }}\n",
       "}});\n",
       "\n",
       "// Listen for the removal of the full notebook cells\n",
       "var notebookContainer = gd.closest('#notebook-container');\n",
       "if (notebookContainer) {{\n",
       "    x.observe(notebookContainer, {childList: true});\n",
       "}}\n",
       "\n",
       "// Listen for the clearing of the current output cell\n",
       "var outputEl = gd.closest('.output');\n",
       "if (outputEl) {{\n",
       "    x.observe(outputEl, {childList: true});\n",
       "}}\n",
       "\n",
       "                        })                };                });            </script>        </div>"
      ]
     },
     "metadata": {},
     "output_type": "display_data"
    }
   ],
   "source": [
    "labels = [f\"{'MLP' if comp else 'Attn.'} {layer}\" for comp, layer in reversed(sorted_components)]\n",
    "fig = px.line(x = labels, y=accs_hf.cpu().numpy(), \n",
    "              error_y=std_accs_hf.cpu().numpy(),\n",
    "              labels={\"y\": \"Accuracy\", \"x\": \"Component\"}, title=\"Accuracy vs. Ablated Component\")\n",
    "fig.add_hline(y=acc_hf.item(), line_width=1.5, line_dash=\"dash\", line_color=\"black\")\n",
    "fig.add_vline(x=labels[cutoff_acc], line_width=1., line_dash=\"dash\", line_color=\"red\")\n",
    "fig.show()"
   ]
  },
  {
   "cell_type": "code",
   "execution_count": null,
   "metadata": {},
   "outputs": [
    {
     "data": {
      "application/vnd.plotly.v1+json": {
       "config": {
        "plotlyServerURL": "https://plot.ly"
       },
       "data": [
        {
         "error_y": {
          "array": [
           1.4295371770858765,
           1.3127247095108032,
           1.23424232006073,
           1.2387028932571411,
           1.3871859312057495,
           1.3810595273971558,
           1.2803267240524292,
           1.2295058965682983,
           1.275128722190857,
           1.2870033979415894,
           1.3712718486785889,
           1.4657667875289917,
           1.4900431632995605,
           1.5016814470291138,
           1.4885238409042358,
           1.436138391494751,
           1.5364128351211548,
           1.6968110799789429,
           1.6632270812988281,
           1.6404718160629272,
           1.6309772729873657,
           1.6259453296661377,
           1.6874107122421265,
           1.7009814977645874,
           1.6269327402114868,
           1.6421865224838257,
           1.647273302078247,
           1.6724092960357666,
           1.6811943054199219,
           1.5876429080963135,
           1.636860728263855,
           1.637355089187622,
           1.631256341934204,
           1.646375298500061,
           1.563369631767273,
           1.394484519958496,
           1.3848254680633545,
           1.4414604902267456,
           1.6286722421646118,
           1.6402835845947266,
           2.2372257709503174,
           1.9811233282089233,
           1.6781355142593384,
           1.5111292600631714,
           1.4465391635894775,
           1.3417936563491821,
           1.2664865255355835,
           1.0407389402389526,
           1.0131263732910156,
           1.1310088634490967,
           1.402382493019104,
           1.0663690567016602,
           1.0589593648910522,
           1.0680992603302002,
           1.025564432144165,
           0.9223245978355408,
           0.9674112200737,
           0.9834526181221008,
           0.9827872514724731,
           1.0142399072647095,
           1.0095605850219727,
           1.0301682949066162,
           1.0250877141952515,
           1.0303821563720703
          ]
         },
         "hovertemplate": "% parameters=%{x}<br>Logit Diff.=%{y}<extra></extra>",
         "legendgroup": "",
         "line": {
          "color": "#636efa",
          "dash": "solid"
         },
         "marker": {
          "symbol": "circle"
         },
         "mode": "lines",
         "name": "",
         "orientation": "v",
         "showlegend": false,
         "type": "scatter",
         "x": [
          0.9799254887634405,
          0.9699657350431974,
          0.9498912238066379,
          0.9399314700863949,
          0.9198569588498353,
          0.8997824476132759,
          0.8898226938930328,
          0.8798629401727898,
          0.8597884289362302,
          0.8498286752159872,
          0.8398689214957441,
          0.8197944102591845,
          0.8098346565389415,
          0.789760145302382,
          0.779800391582139,
          0.7698406378618958,
          0.7598808841416528,
          0.7398063729050933,
          0.7298466191848503,
          0.7198868654646071,
          0.7099271117443641,
          0.699967358024121,
          0.690007604303878,
          0.6800478505836349,
          0.6599733393470754,
          0.6500135856268323,
          0.6400538319065893,
          0.6300940781863462,
          0.6201343244661031,
          0.6000598132295436,
          0.5901000595093006,
          0.5801403057890575,
          0.5701805520688144,
          0.5501060408322549,
          0.5401462871120118,
          0.5301865333917688,
          0.5202267796715256,
          0.5001522684349662,
          0.4800777571984067,
          0.4701180034781636,
          0.4500434922416041,
          0.4299689810050446,
          0.4098944697684851,
          0.38981995853192564,
          0.37986020481168253,
          0.359785693575123,
          0.33971118233856357,
          0.31963667110200406,
          0.29956215986544454,
          0.2896024061452015,
          0.269527894908642,
          0.2595681411883989,
          0.2394936299518394,
          0.22953387623159635,
          0.21957412251135328,
          0.19949961127479376,
          0.17942510003823428,
          0.15935058880167477,
          0.13927607756511526,
          0.11920156632855577,
          0.09912705509199628,
          0.07905254385543678,
          0.058978032618877275,
          0.03890352138231778
         ],
         "xaxis": "x",
         "y": [
          5.553632736206055,
          6.12179708480835,
          6.322164058685303,
          6.444531440734863,
          6.677289009094238,
          6.863867282867432,
          6.908507823944092,
          6.9426093101501465,
          6.9543046951293945,
          7.060351848602295,
          6.933929443359375,
          7.120030879974365,
          7.0546875,
          6.723883152008057,
          6.809117317199707,
          6.8326640129089355,
          6.9475860595703125,
          6.391554355621338,
          6.178570747375488,
          6.119398593902588,
          5.9846014976501465,
          5.880000114440918,
          5.325507640838623,
          5.22765588760376,
          4.876898288726807,
          4.931308746337891,
          4.895269870758057,
          4.8580780029296875,
          4.793273448944092,
          4.023804664611816,
          4.025433540344238,
          3.936140537261963,
          3.876253604888916,
          3.353961229324341,
          3.188687324523926,
          1.5442187786102295,
          1.5329922437667847,
          2.2255859375,
          2.1827266216278076,
          2.144836187362671,
          4.624812602996826,
          3.7250583171844482,
          2.9262187480926514,
          2.0452187061309814,
          1.9646795988082886,
          1.4122852087020874,
          0.8812500238418579,
          -0.4585234820842743,
          -0.5282422304153442,
          -1.1836347579956055,
          -1.6529334783554077,
          -1.6331367492675781,
          -1.6780370473861694,
          -1.726150393486023,
          -1.7770878076553345,
          -1.5049023628234863,
          -1.654749870300293,
          -1.5788261890411377,
          -1.5900858640670776,
          -1.6778086423873901,
          -1.6961151361465454,
          -1.7327812910079956,
          -1.7267049551010132,
          -1.7374393939971924
         ],
         "yaxis": "y"
        }
       ],
       "layout": {
        "legend": {
         "tracegroupgap": 0
        },
        "shapes": [
         {
          "line": {
           "color": "red",
           "dash": "dash",
           "width": 1
          },
          "type": "line",
          "x0": 0.4500434922416041,
          "x1": 0.4500434922416041,
          "xref": "x",
          "y0": 0,
          "y1": 1,
          "yref": "y domain"
         },
         {
          "line": {
           "color": "black",
           "dash": "dash",
           "width": 1.5
          },
          "type": "line",
          "x0": 0,
          "x1": 1,
          "xref": "x domain",
          "y0": 4.465624809265137,
          "y1": 4.465624809265137,
          "yref": "y"
         }
        ],
        "template": {
         "data": {
          "bar": [
           {
            "error_x": {
             "color": "#2a3f5f"
            },
            "error_y": {
             "color": "#2a3f5f"
            },
            "marker": {
             "line": {
              "color": "#E5ECF6",
              "width": 0.5
             },
             "pattern": {
              "fillmode": "overlay",
              "size": 10,
              "solidity": 0.2
             }
            },
            "type": "bar"
           }
          ],
          "barpolar": [
           {
            "marker": {
             "line": {
              "color": "#E5ECF6",
              "width": 0.5
             },
             "pattern": {
              "fillmode": "overlay",
              "size": 10,
              "solidity": 0.2
             }
            },
            "type": "barpolar"
           }
          ],
          "carpet": [
           {
            "aaxis": {
             "endlinecolor": "#2a3f5f",
             "gridcolor": "white",
             "linecolor": "white",
             "minorgridcolor": "white",
             "startlinecolor": "#2a3f5f"
            },
            "baxis": {
             "endlinecolor": "#2a3f5f",
             "gridcolor": "white",
             "linecolor": "white",
             "minorgridcolor": "white",
             "startlinecolor": "#2a3f5f"
            },
            "type": "carpet"
           }
          ],
          "choropleth": [
           {
            "colorbar": {
             "outlinewidth": 0,
             "ticks": ""
            },
            "type": "choropleth"
           }
          ],
          "contour": [
           {
            "colorbar": {
             "outlinewidth": 0,
             "ticks": ""
            },
            "colorscale": [
             [
              0,
              "#0d0887"
             ],
             [
              0.1111111111111111,
              "#46039f"
             ],
             [
              0.2222222222222222,
              "#7201a8"
             ],
             [
              0.3333333333333333,
              "#9c179e"
             ],
             [
              0.4444444444444444,
              "#bd3786"
             ],
             [
              0.5555555555555556,
              "#d8576b"
             ],
             [
              0.6666666666666666,
              "#ed7953"
             ],
             [
              0.7777777777777778,
              "#fb9f3a"
             ],
             [
              0.8888888888888888,
              "#fdca26"
             ],
             [
              1,
              "#f0f921"
             ]
            ],
            "type": "contour"
           }
          ],
          "contourcarpet": [
           {
            "colorbar": {
             "outlinewidth": 0,
             "ticks": ""
            },
            "type": "contourcarpet"
           }
          ],
          "heatmap": [
           {
            "colorbar": {
             "outlinewidth": 0,
             "ticks": ""
            },
            "colorscale": [
             [
              0,
              "#0d0887"
             ],
             [
              0.1111111111111111,
              "#46039f"
             ],
             [
              0.2222222222222222,
              "#7201a8"
             ],
             [
              0.3333333333333333,
              "#9c179e"
             ],
             [
              0.4444444444444444,
              "#bd3786"
             ],
             [
              0.5555555555555556,
              "#d8576b"
             ],
             [
              0.6666666666666666,
              "#ed7953"
             ],
             [
              0.7777777777777778,
              "#fb9f3a"
             ],
             [
              0.8888888888888888,
              "#fdca26"
             ],
             [
              1,
              "#f0f921"
             ]
            ],
            "type": "heatmap"
           }
          ],
          "heatmapgl": [
           {
            "colorbar": {
             "outlinewidth": 0,
             "ticks": ""
            },
            "colorscale": [
             [
              0,
              "#0d0887"
             ],
             [
              0.1111111111111111,
              "#46039f"
             ],
             [
              0.2222222222222222,
              "#7201a8"
             ],
             [
              0.3333333333333333,
              "#9c179e"
             ],
             [
              0.4444444444444444,
              "#bd3786"
             ],
             [
              0.5555555555555556,
              "#d8576b"
             ],
             [
              0.6666666666666666,
              "#ed7953"
             ],
             [
              0.7777777777777778,
              "#fb9f3a"
             ],
             [
              0.8888888888888888,
              "#fdca26"
             ],
             [
              1,
              "#f0f921"
             ]
            ],
            "type": "heatmapgl"
           }
          ],
          "histogram": [
           {
            "marker": {
             "pattern": {
              "fillmode": "overlay",
              "size": 10,
              "solidity": 0.2
             }
            },
            "type": "histogram"
           }
          ],
          "histogram2d": [
           {
            "colorbar": {
             "outlinewidth": 0,
             "ticks": ""
            },
            "colorscale": [
             [
              0,
              "#0d0887"
             ],
             [
              0.1111111111111111,
              "#46039f"
             ],
             [
              0.2222222222222222,
              "#7201a8"
             ],
             [
              0.3333333333333333,
              "#9c179e"
             ],
             [
              0.4444444444444444,
              "#bd3786"
             ],
             [
              0.5555555555555556,
              "#d8576b"
             ],
             [
              0.6666666666666666,
              "#ed7953"
             ],
             [
              0.7777777777777778,
              "#fb9f3a"
             ],
             [
              0.8888888888888888,
              "#fdca26"
             ],
             [
              1,
              "#f0f921"
             ]
            ],
            "type": "histogram2d"
           }
          ],
          "histogram2dcontour": [
           {
            "colorbar": {
             "outlinewidth": 0,
             "ticks": ""
            },
            "colorscale": [
             [
              0,
              "#0d0887"
             ],
             [
              0.1111111111111111,
              "#46039f"
             ],
             [
              0.2222222222222222,
              "#7201a8"
             ],
             [
              0.3333333333333333,
              "#9c179e"
             ],
             [
              0.4444444444444444,
              "#bd3786"
             ],
             [
              0.5555555555555556,
              "#d8576b"
             ],
             [
              0.6666666666666666,
              "#ed7953"
             ],
             [
              0.7777777777777778,
              "#fb9f3a"
             ],
             [
              0.8888888888888888,
              "#fdca26"
             ],
             [
              1,
              "#f0f921"
             ]
            ],
            "type": "histogram2dcontour"
           }
          ],
          "mesh3d": [
           {
            "colorbar": {
             "outlinewidth": 0,
             "ticks": ""
            },
            "type": "mesh3d"
           }
          ],
          "parcoords": [
           {
            "line": {
             "colorbar": {
              "outlinewidth": 0,
              "ticks": ""
             }
            },
            "type": "parcoords"
           }
          ],
          "pie": [
           {
            "automargin": true,
            "type": "pie"
           }
          ],
          "scatter": [
           {
            "fillpattern": {
             "fillmode": "overlay",
             "size": 10,
             "solidity": 0.2
            },
            "type": "scatter"
           }
          ],
          "scatter3d": [
           {
            "line": {
             "colorbar": {
              "outlinewidth": 0,
              "ticks": ""
             }
            },
            "marker": {
             "colorbar": {
              "outlinewidth": 0,
              "ticks": ""
             }
            },
            "type": "scatter3d"
           }
          ],
          "scattercarpet": [
           {
            "marker": {
             "colorbar": {
              "outlinewidth": 0,
              "ticks": ""
             }
            },
            "type": "scattercarpet"
           }
          ],
          "scattergeo": [
           {
            "marker": {
             "colorbar": {
              "outlinewidth": 0,
              "ticks": ""
             }
            },
            "type": "scattergeo"
           }
          ],
          "scattergl": [
           {
            "marker": {
             "colorbar": {
              "outlinewidth": 0,
              "ticks": ""
             }
            },
            "type": "scattergl"
           }
          ],
          "scattermapbox": [
           {
            "marker": {
             "colorbar": {
              "outlinewidth": 0,
              "ticks": ""
             }
            },
            "type": "scattermapbox"
           }
          ],
          "scatterpolar": [
           {
            "marker": {
             "colorbar": {
              "outlinewidth": 0,
              "ticks": ""
             }
            },
            "type": "scatterpolar"
           }
          ],
          "scatterpolargl": [
           {
            "marker": {
             "colorbar": {
              "outlinewidth": 0,
              "ticks": ""
             }
            },
            "type": "scatterpolargl"
           }
          ],
          "scatterternary": [
           {
            "marker": {
             "colorbar": {
              "outlinewidth": 0,
              "ticks": ""
             }
            },
            "type": "scatterternary"
           }
          ],
          "surface": [
           {
            "colorbar": {
             "outlinewidth": 0,
             "ticks": ""
            },
            "colorscale": [
             [
              0,
              "#0d0887"
             ],
             [
              0.1111111111111111,
              "#46039f"
             ],
             [
              0.2222222222222222,
              "#7201a8"
             ],
             [
              0.3333333333333333,
              "#9c179e"
             ],
             [
              0.4444444444444444,
              "#bd3786"
             ],
             [
              0.5555555555555556,
              "#d8576b"
             ],
             [
              0.6666666666666666,
              "#ed7953"
             ],
             [
              0.7777777777777778,
              "#fb9f3a"
             ],
             [
              0.8888888888888888,
              "#fdca26"
             ],
             [
              1,
              "#f0f921"
             ]
            ],
            "type": "surface"
           }
          ],
          "table": [
           {
            "cells": {
             "fill": {
              "color": "#EBF0F8"
             },
             "line": {
              "color": "white"
             }
            },
            "header": {
             "fill": {
              "color": "#C8D4E3"
             },
             "line": {
              "color": "white"
             }
            },
            "type": "table"
           }
          ]
         },
         "layout": {
          "annotationdefaults": {
           "arrowcolor": "#2a3f5f",
           "arrowhead": 0,
           "arrowwidth": 1
          },
          "autotypenumbers": "strict",
          "coloraxis": {
           "colorbar": {
            "outlinewidth": 0,
            "ticks": ""
           }
          },
          "colorscale": {
           "diverging": [
            [
             0,
             "#8e0152"
            ],
            [
             0.1,
             "#c51b7d"
            ],
            [
             0.2,
             "#de77ae"
            ],
            [
             0.3,
             "#f1b6da"
            ],
            [
             0.4,
             "#fde0ef"
            ],
            [
             0.5,
             "#f7f7f7"
            ],
            [
             0.6,
             "#e6f5d0"
            ],
            [
             0.7,
             "#b8e186"
            ],
            [
             0.8,
             "#7fbc41"
            ],
            [
             0.9,
             "#4d9221"
            ],
            [
             1,
             "#276419"
            ]
           ],
           "sequential": [
            [
             0,
             "#0d0887"
            ],
            [
             0.1111111111111111,
             "#46039f"
            ],
            [
             0.2222222222222222,
             "#7201a8"
            ],
            [
             0.3333333333333333,
             "#9c179e"
            ],
            [
             0.4444444444444444,
             "#bd3786"
            ],
            [
             0.5555555555555556,
             "#d8576b"
            ],
            [
             0.6666666666666666,
             "#ed7953"
            ],
            [
             0.7777777777777778,
             "#fb9f3a"
            ],
            [
             0.8888888888888888,
             "#fdca26"
            ],
            [
             1,
             "#f0f921"
            ]
           ],
           "sequentialminus": [
            [
             0,
             "#0d0887"
            ],
            [
             0.1111111111111111,
             "#46039f"
            ],
            [
             0.2222222222222222,
             "#7201a8"
            ],
            [
             0.3333333333333333,
             "#9c179e"
            ],
            [
             0.4444444444444444,
             "#bd3786"
            ],
            [
             0.5555555555555556,
             "#d8576b"
            ],
            [
             0.6666666666666666,
             "#ed7953"
            ],
            [
             0.7777777777777778,
             "#fb9f3a"
            ],
            [
             0.8888888888888888,
             "#fdca26"
            ],
            [
             1,
             "#f0f921"
            ]
           ]
          },
          "colorway": [
           "#636efa",
           "#EF553B",
           "#00cc96",
           "#ab63fa",
           "#FFA15A",
           "#19d3f3",
           "#FF6692",
           "#B6E880",
           "#FF97FF",
           "#FECB52"
          ],
          "font": {
           "color": "#2a3f5f"
          },
          "geo": {
           "bgcolor": "white",
           "lakecolor": "white",
           "landcolor": "#E5ECF6",
           "showlakes": true,
           "showland": true,
           "subunitcolor": "white"
          },
          "hoverlabel": {
           "align": "left"
          },
          "hovermode": "closest",
          "mapbox": {
           "style": "light"
          },
          "paper_bgcolor": "white",
          "plot_bgcolor": "#E5ECF6",
          "polar": {
           "angularaxis": {
            "gridcolor": "white",
            "linecolor": "white",
            "ticks": ""
           },
           "bgcolor": "#E5ECF6",
           "radialaxis": {
            "gridcolor": "white",
            "linecolor": "white",
            "ticks": ""
           }
          },
          "scene": {
           "xaxis": {
            "backgroundcolor": "#E5ECF6",
            "gridcolor": "white",
            "gridwidth": 2,
            "linecolor": "white",
            "showbackground": true,
            "ticks": "",
            "zerolinecolor": "white"
           },
           "yaxis": {
            "backgroundcolor": "#E5ECF6",
            "gridcolor": "white",
            "gridwidth": 2,
            "linecolor": "white",
            "showbackground": true,
            "ticks": "",
            "zerolinecolor": "white"
           },
           "zaxis": {
            "backgroundcolor": "#E5ECF6",
            "gridcolor": "white",
            "gridwidth": 2,
            "linecolor": "white",
            "showbackground": true,
            "ticks": "",
            "zerolinecolor": "white"
           }
          },
          "shapedefaults": {
           "line": {
            "color": "#2a3f5f"
           }
          },
          "ternary": {
           "aaxis": {
            "gridcolor": "white",
            "linecolor": "white",
            "ticks": ""
           },
           "baxis": {
            "gridcolor": "white",
            "linecolor": "white",
            "ticks": ""
           },
           "bgcolor": "#E5ECF6",
           "caxis": {
            "gridcolor": "white",
            "linecolor": "white",
            "ticks": ""
           }
          },
          "title": {
           "x": 0.05
          },
          "xaxis": {
           "automargin": true,
           "gridcolor": "white",
           "linecolor": "white",
           "ticks": "",
           "title": {
            "standoff": 15
           },
           "zerolinecolor": "white",
           "zerolinewidth": 2
          },
          "yaxis": {
           "automargin": true,
           "gridcolor": "white",
           "linecolor": "white",
           "ticks": "",
           "title": {
            "standoff": 15
           },
           "zerolinecolor": "white",
           "zerolinewidth": 2
          }
         }
        },
        "title": {
         "text": "Logit Diff. vs. model size"
        },
        "xaxis": {
         "anchor": "y",
         "autorange": "reversed",
         "domain": [
          0,
          1
         ],
         "title": {
          "text": "% parameters"
         }
        },
        "yaxis": {
         "anchor": "x",
         "domain": [
          0,
          1
         ],
         "title": {
          "text": "Logit Diff."
         }
        }
       }
      },
      "text/html": [
       "<div>                            <div id=\"d312c33d-033d-4f7b-bbc6-541f72f3998f\" class=\"plotly-graph-div\" style=\"height:525px; width:100%;\"></div>            <script type=\"text/javascript\">                require([\"plotly\"], function(Plotly) {                    window.PLOTLYENV=window.PLOTLYENV || {};                                    if (document.getElementById(\"d312c33d-033d-4f7b-bbc6-541f72f3998f\")) {                    Plotly.newPlot(                        \"d312c33d-033d-4f7b-bbc6-541f72f3998f\",                        [{\"error_y\":{\"array\":[1.4295371770858765,1.3127247095108032,1.23424232006073,1.2387028932571411,1.3871859312057495,1.3810595273971558,1.2803267240524292,1.2295058965682983,1.275128722190857,1.2870033979415894,1.3712718486785889,1.4657667875289917,1.4900431632995605,1.5016814470291138,1.4885238409042358,1.436138391494751,1.5364128351211548,1.6968110799789429,1.6632270812988281,1.6404718160629272,1.6309772729873657,1.6259453296661377,1.6874107122421265,1.7009814977645874,1.6269327402114868,1.6421865224838257,1.647273302078247,1.6724092960357666,1.6811943054199219,1.5876429080963135,1.636860728263855,1.637355089187622,1.631256341934204,1.646375298500061,1.563369631767273,1.394484519958496,1.3848254680633545,1.4414604902267456,1.6286722421646118,1.6402835845947266,2.2372257709503174,1.9811233282089233,1.6781355142593384,1.5111292600631714,1.4465391635894775,1.3417936563491821,1.2664865255355835,1.0407389402389526,1.0131263732910156,1.1310088634490967,1.402382493019104,1.0663690567016602,1.0589593648910522,1.0680992603302002,1.025564432144165,0.9223245978355408,0.9674112200737,0.9834526181221008,0.9827872514724731,1.0142399072647095,1.0095605850219727,1.0301682949066162,1.0250877141952515,1.0303821563720703]},\"hovertemplate\":\"% parameters=%{x}\\u003cbr\\u003eLogit Diff.=%{y}\\u003cextra\\u003e\\u003c\\u002fextra\\u003e\",\"legendgroup\":\"\",\"line\":{\"color\":\"#636efa\",\"dash\":\"solid\"},\"marker\":{\"symbol\":\"circle\"},\"mode\":\"lines\",\"name\":\"\",\"orientation\":\"v\",\"showlegend\":false,\"x\":[0.9799254887634405,0.9699657350431974,0.9498912238066379,0.9399314700863949,0.9198569588498353,0.8997824476132759,0.8898226938930328,0.8798629401727898,0.8597884289362302,0.8498286752159872,0.8398689214957441,0.8197944102591845,0.8098346565389415,0.789760145302382,0.779800391582139,0.7698406378618958,0.7598808841416528,0.7398063729050933,0.7298466191848503,0.7198868654646071,0.7099271117443641,0.699967358024121,0.690007604303878,0.6800478505836349,0.6599733393470754,0.6500135856268323,0.6400538319065893,0.6300940781863462,0.6201343244661031,0.6000598132295436,0.5901000595093006,0.5801403057890575,0.5701805520688144,0.5501060408322549,0.5401462871120118,0.5301865333917688,0.5202267796715256,0.5001522684349662,0.4800777571984067,0.4701180034781636,0.4500434922416041,0.4299689810050446,0.4098944697684851,0.38981995853192564,0.37986020481168253,0.359785693575123,0.33971118233856357,0.31963667110200406,0.29956215986544454,0.2896024061452015,0.269527894908642,0.2595681411883989,0.2394936299518394,0.22953387623159635,0.21957412251135328,0.19949961127479376,0.17942510003823428,0.15935058880167477,0.13927607756511526,0.11920156632855577,0.09912705509199628,0.07905254385543678,0.058978032618877275,0.03890352138231778],\"xaxis\":\"x\",\"y\":[5.553632736206055,6.12179708480835,6.322164058685303,6.444531440734863,6.677289009094238,6.863867282867432,6.908507823944092,6.9426093101501465,6.9543046951293945,7.060351848602295,6.933929443359375,7.120030879974365,7.0546875,6.723883152008057,6.809117317199707,6.8326640129089355,6.9475860595703125,6.391554355621338,6.178570747375488,6.119398593902588,5.9846014976501465,5.880000114440918,5.325507640838623,5.22765588760376,4.876898288726807,4.931308746337891,4.895269870758057,4.8580780029296875,4.793273448944092,4.023804664611816,4.025433540344238,3.936140537261963,3.876253604888916,3.353961229324341,3.188687324523926,1.5442187786102295,1.5329922437667847,2.2255859375,2.1827266216278076,2.144836187362671,4.624812602996826,3.7250583171844482,2.9262187480926514,2.0452187061309814,1.9646795988082886,1.4122852087020874,0.8812500238418579,-0.4585234820842743,-0.5282422304153442,-1.1836347579956055,-1.6529334783554077,-1.6331367492675781,-1.6780370473861694,-1.726150393486023,-1.7770878076553345,-1.5049023628234863,-1.654749870300293,-1.5788261890411377,-1.5900858640670776,-1.6778086423873901,-1.6961151361465454,-1.7327812910079956,-1.7267049551010132,-1.7374393939971924],\"yaxis\":\"y\",\"type\":\"scatter\"}],                        {\"template\":{\"data\":{\"histogram2dcontour\":[{\"type\":\"histogram2dcontour\",\"colorbar\":{\"outlinewidth\":0,\"ticks\":\"\"},\"colorscale\":[[0.0,\"#0d0887\"],[0.1111111111111111,\"#46039f\"],[0.2222222222222222,\"#7201a8\"],[0.3333333333333333,\"#9c179e\"],[0.4444444444444444,\"#bd3786\"],[0.5555555555555556,\"#d8576b\"],[0.6666666666666666,\"#ed7953\"],[0.7777777777777778,\"#fb9f3a\"],[0.8888888888888888,\"#fdca26\"],[1.0,\"#f0f921\"]]}],\"choropleth\":[{\"type\":\"choropleth\",\"colorbar\":{\"outlinewidth\":0,\"ticks\":\"\"}}],\"histogram2d\":[{\"type\":\"histogram2d\",\"colorbar\":{\"outlinewidth\":0,\"ticks\":\"\"},\"colorscale\":[[0.0,\"#0d0887\"],[0.1111111111111111,\"#46039f\"],[0.2222222222222222,\"#7201a8\"],[0.3333333333333333,\"#9c179e\"],[0.4444444444444444,\"#bd3786\"],[0.5555555555555556,\"#d8576b\"],[0.6666666666666666,\"#ed7953\"],[0.7777777777777778,\"#fb9f3a\"],[0.8888888888888888,\"#fdca26\"],[1.0,\"#f0f921\"]]}],\"heatmap\":[{\"type\":\"heatmap\",\"colorbar\":{\"outlinewidth\":0,\"ticks\":\"\"},\"colorscale\":[[0.0,\"#0d0887\"],[0.1111111111111111,\"#46039f\"],[0.2222222222222222,\"#7201a8\"],[0.3333333333333333,\"#9c179e\"],[0.4444444444444444,\"#bd3786\"],[0.5555555555555556,\"#d8576b\"],[0.6666666666666666,\"#ed7953\"],[0.7777777777777778,\"#fb9f3a\"],[0.8888888888888888,\"#fdca26\"],[1.0,\"#f0f921\"]]}],\"heatmapgl\":[{\"type\":\"heatmapgl\",\"colorbar\":{\"outlinewidth\":0,\"ticks\":\"\"},\"colorscale\":[[0.0,\"#0d0887\"],[0.1111111111111111,\"#46039f\"],[0.2222222222222222,\"#7201a8\"],[0.3333333333333333,\"#9c179e\"],[0.4444444444444444,\"#bd3786\"],[0.5555555555555556,\"#d8576b\"],[0.6666666666666666,\"#ed7953\"],[0.7777777777777778,\"#fb9f3a\"],[0.8888888888888888,\"#fdca26\"],[1.0,\"#f0f921\"]]}],\"contourcarpet\":[{\"type\":\"contourcarpet\",\"colorbar\":{\"outlinewidth\":0,\"ticks\":\"\"}}],\"contour\":[{\"type\":\"contour\",\"colorbar\":{\"outlinewidth\":0,\"ticks\":\"\"},\"colorscale\":[[0.0,\"#0d0887\"],[0.1111111111111111,\"#46039f\"],[0.2222222222222222,\"#7201a8\"],[0.3333333333333333,\"#9c179e\"],[0.4444444444444444,\"#bd3786\"],[0.5555555555555556,\"#d8576b\"],[0.6666666666666666,\"#ed7953\"],[0.7777777777777778,\"#fb9f3a\"],[0.8888888888888888,\"#fdca26\"],[1.0,\"#f0f921\"]]}],\"surface\":[{\"type\":\"surface\",\"colorbar\":{\"outlinewidth\":0,\"ticks\":\"\"},\"colorscale\":[[0.0,\"#0d0887\"],[0.1111111111111111,\"#46039f\"],[0.2222222222222222,\"#7201a8\"],[0.3333333333333333,\"#9c179e\"],[0.4444444444444444,\"#bd3786\"],[0.5555555555555556,\"#d8576b\"],[0.6666666666666666,\"#ed7953\"],[0.7777777777777778,\"#fb9f3a\"],[0.8888888888888888,\"#fdca26\"],[1.0,\"#f0f921\"]]}],\"mesh3d\":[{\"type\":\"mesh3d\",\"colorbar\":{\"outlinewidth\":0,\"ticks\":\"\"}}],\"scatter\":[{\"fillpattern\":{\"fillmode\":\"overlay\",\"size\":10,\"solidity\":0.2},\"type\":\"scatter\"}],\"parcoords\":[{\"type\":\"parcoords\",\"line\":{\"colorbar\":{\"outlinewidth\":0,\"ticks\":\"\"}}}],\"scatterpolargl\":[{\"type\":\"scatterpolargl\",\"marker\":{\"colorbar\":{\"outlinewidth\":0,\"ticks\":\"\"}}}],\"bar\":[{\"error_x\":{\"color\":\"#2a3f5f\"},\"error_y\":{\"color\":\"#2a3f5f\"},\"marker\":{\"line\":{\"color\":\"#E5ECF6\",\"width\":0.5},\"pattern\":{\"fillmode\":\"overlay\",\"size\":10,\"solidity\":0.2}},\"type\":\"bar\"}],\"scattergeo\":[{\"type\":\"scattergeo\",\"marker\":{\"colorbar\":{\"outlinewidth\":0,\"ticks\":\"\"}}}],\"scatterpolar\":[{\"type\":\"scatterpolar\",\"marker\":{\"colorbar\":{\"outlinewidth\":0,\"ticks\":\"\"}}}],\"histogram\":[{\"marker\":{\"pattern\":{\"fillmode\":\"overlay\",\"size\":10,\"solidity\":0.2}},\"type\":\"histogram\"}],\"scattergl\":[{\"type\":\"scattergl\",\"marker\":{\"colorbar\":{\"outlinewidth\":0,\"ticks\":\"\"}}}],\"scatter3d\":[{\"type\":\"scatter3d\",\"line\":{\"colorbar\":{\"outlinewidth\":0,\"ticks\":\"\"}},\"marker\":{\"colorbar\":{\"outlinewidth\":0,\"ticks\":\"\"}}}],\"scattermapbox\":[{\"type\":\"scattermapbox\",\"marker\":{\"colorbar\":{\"outlinewidth\":0,\"ticks\":\"\"}}}],\"scatterternary\":[{\"type\":\"scatterternary\",\"marker\":{\"colorbar\":{\"outlinewidth\":0,\"ticks\":\"\"}}}],\"scattercarpet\":[{\"type\":\"scattercarpet\",\"marker\":{\"colorbar\":{\"outlinewidth\":0,\"ticks\":\"\"}}}],\"carpet\":[{\"aaxis\":{\"endlinecolor\":\"#2a3f5f\",\"gridcolor\":\"white\",\"linecolor\":\"white\",\"minorgridcolor\":\"white\",\"startlinecolor\":\"#2a3f5f\"},\"baxis\":{\"endlinecolor\":\"#2a3f5f\",\"gridcolor\":\"white\",\"linecolor\":\"white\",\"minorgridcolor\":\"white\",\"startlinecolor\":\"#2a3f5f\"},\"type\":\"carpet\"}],\"table\":[{\"cells\":{\"fill\":{\"color\":\"#EBF0F8\"},\"line\":{\"color\":\"white\"}},\"header\":{\"fill\":{\"color\":\"#C8D4E3\"},\"line\":{\"color\":\"white\"}},\"type\":\"table\"}],\"barpolar\":[{\"marker\":{\"line\":{\"color\":\"#E5ECF6\",\"width\":0.5},\"pattern\":{\"fillmode\":\"overlay\",\"size\":10,\"solidity\":0.2}},\"type\":\"barpolar\"}],\"pie\":[{\"automargin\":true,\"type\":\"pie\"}]},\"layout\":{\"autotypenumbers\":\"strict\",\"colorway\":[\"#636efa\",\"#EF553B\",\"#00cc96\",\"#ab63fa\",\"#FFA15A\",\"#19d3f3\",\"#FF6692\",\"#B6E880\",\"#FF97FF\",\"#FECB52\"],\"font\":{\"color\":\"#2a3f5f\"},\"hovermode\":\"closest\",\"hoverlabel\":{\"align\":\"left\"},\"paper_bgcolor\":\"white\",\"plot_bgcolor\":\"#E5ECF6\",\"polar\":{\"bgcolor\":\"#E5ECF6\",\"angularaxis\":{\"gridcolor\":\"white\",\"linecolor\":\"white\",\"ticks\":\"\"},\"radialaxis\":{\"gridcolor\":\"white\",\"linecolor\":\"white\",\"ticks\":\"\"}},\"ternary\":{\"bgcolor\":\"#E5ECF6\",\"aaxis\":{\"gridcolor\":\"white\",\"linecolor\":\"white\",\"ticks\":\"\"},\"baxis\":{\"gridcolor\":\"white\",\"linecolor\":\"white\",\"ticks\":\"\"},\"caxis\":{\"gridcolor\":\"white\",\"linecolor\":\"white\",\"ticks\":\"\"}},\"coloraxis\":{\"colorbar\":{\"outlinewidth\":0,\"ticks\":\"\"}},\"colorscale\":{\"sequential\":[[0.0,\"#0d0887\"],[0.1111111111111111,\"#46039f\"],[0.2222222222222222,\"#7201a8\"],[0.3333333333333333,\"#9c179e\"],[0.4444444444444444,\"#bd3786\"],[0.5555555555555556,\"#d8576b\"],[0.6666666666666666,\"#ed7953\"],[0.7777777777777778,\"#fb9f3a\"],[0.8888888888888888,\"#fdca26\"],[1.0,\"#f0f921\"]],\"sequentialminus\":[[0.0,\"#0d0887\"],[0.1111111111111111,\"#46039f\"],[0.2222222222222222,\"#7201a8\"],[0.3333333333333333,\"#9c179e\"],[0.4444444444444444,\"#bd3786\"],[0.5555555555555556,\"#d8576b\"],[0.6666666666666666,\"#ed7953\"],[0.7777777777777778,\"#fb9f3a\"],[0.8888888888888888,\"#fdca26\"],[1.0,\"#f0f921\"]],\"diverging\":[[0,\"#8e0152\"],[0.1,\"#c51b7d\"],[0.2,\"#de77ae\"],[0.3,\"#f1b6da\"],[0.4,\"#fde0ef\"],[0.5,\"#f7f7f7\"],[0.6,\"#e6f5d0\"],[0.7,\"#b8e186\"],[0.8,\"#7fbc41\"],[0.9,\"#4d9221\"],[1,\"#276419\"]]},\"xaxis\":{\"gridcolor\":\"white\",\"linecolor\":\"white\",\"ticks\":\"\",\"title\":{\"standoff\":15},\"zerolinecolor\":\"white\",\"automargin\":true,\"zerolinewidth\":2},\"yaxis\":{\"gridcolor\":\"white\",\"linecolor\":\"white\",\"ticks\":\"\",\"title\":{\"standoff\":15},\"zerolinecolor\":\"white\",\"automargin\":true,\"zerolinewidth\":2},\"scene\":{\"xaxis\":{\"backgroundcolor\":\"#E5ECF6\",\"gridcolor\":\"white\",\"linecolor\":\"white\",\"showbackground\":true,\"ticks\":\"\",\"zerolinecolor\":\"white\",\"gridwidth\":2},\"yaxis\":{\"backgroundcolor\":\"#E5ECF6\",\"gridcolor\":\"white\",\"linecolor\":\"white\",\"showbackground\":true,\"ticks\":\"\",\"zerolinecolor\":\"white\",\"gridwidth\":2},\"zaxis\":{\"backgroundcolor\":\"#E5ECF6\",\"gridcolor\":\"white\",\"linecolor\":\"white\",\"showbackground\":true,\"ticks\":\"\",\"zerolinecolor\":\"white\",\"gridwidth\":2}},\"shapedefaults\":{\"line\":{\"color\":\"#2a3f5f\"}},\"annotationdefaults\":{\"arrowcolor\":\"#2a3f5f\",\"arrowhead\":0,\"arrowwidth\":1},\"geo\":{\"bgcolor\":\"white\",\"landcolor\":\"#E5ECF6\",\"subunitcolor\":\"white\",\"showland\":true,\"showlakes\":true,\"lakecolor\":\"white\"},\"title\":{\"x\":0.05},\"mapbox\":{\"style\":\"light\"}}},\"xaxis\":{\"anchor\":\"y\",\"domain\":[0.0,1.0],\"title\":{\"text\":\"% parameters\"},\"autorange\":\"reversed\"},\"yaxis\":{\"anchor\":\"x\",\"domain\":[0.0,1.0],\"title\":{\"text\":\"Logit Diff.\"}},\"legend\":{\"tracegroupgap\":0},\"title\":{\"text\":\"Logit Diff. vs. model size\"},\"shapes\":[{\"line\":{\"color\":\"red\",\"dash\":\"dash\",\"width\":1.0},\"type\":\"line\",\"x0\":0.4500434922416041,\"x1\":0.4500434922416041,\"xref\":\"x\",\"y0\":0,\"y1\":1,\"yref\":\"y domain\"},{\"line\":{\"color\":\"black\",\"dash\":\"dash\",\"width\":1.5},\"type\":\"line\",\"x0\":0,\"x1\":1,\"xref\":\"x domain\",\"y0\":4.465624809265137,\"y1\":4.465624809265137,\"yref\":\"y\"}]},                        {\"responsive\": true}                    ).then(function(){\n",
       "                            \n",
       "var gd = document.getElementById('d312c33d-033d-4f7b-bbc6-541f72f3998f');\n",
       "var x = new MutationObserver(function (mutations, observer) {{\n",
       "        var display = window.getComputedStyle(gd).display;\n",
       "        if (!display || display === 'none') {{\n",
       "            console.log([gd, 'removed!']);\n",
       "            Plotly.purge(gd);\n",
       "            observer.disconnect();\n",
       "        }}\n",
       "}});\n",
       "\n",
       "// Listen for the removal of the full notebook cells\n",
       "var notebookContainer = gd.closest('#notebook-container');\n",
       "if (notebookContainer) {{\n",
       "    x.observe(notebookContainer, {childList: true});\n",
       "}}\n",
       "\n",
       "// Listen for the clearing of the current output cell\n",
       "var outputEl = gd.closest('.output');\n",
       "if (outputEl) {{\n",
       "    x.observe(outputEl, {childList: true});\n",
       "}}\n",
       "\n",
       "                        })                };                });            </script>        </div>"
      ]
     },
     "metadata": {},
     "output_type": "display_data"
    }
   ],
   "source": [
    "p_parameters = [x/initial_parameters for x in num_parameters]\n",
    "\n",
    "fig = px.line(x = p_parameters, y=logit_diffs_hf.cpu().numpy(), \n",
    "              error_y=std_logit_diffs_hf.cpu().numpy(),\n",
    "              labels={\"y\": \"Logit Diff.\", \"x\": \"% parameters\"}, title=\"Logit Diff. vs. model size\")\n",
    "fig.add_vline(x=p_parameters[cutoff], line_width=1., line_dash=\"dash\", line_color=\"red\")\n",
    "fig.add_hline(y=logit_diff_hf.item(), line_width=1.5, line_dash=\"dash\", line_color=\"black\")\n",
    "fig.update_xaxes(autorange=\"reversed\")\n",
    "fig.show()"
   ]
  },
  {
   "cell_type": "code",
   "execution_count": null,
   "metadata": {},
   "outputs": [
    {
     "data": {
      "application/vnd.plotly.v1+json": {
       "config": {
        "plotlyServerURL": "https://plot.ly"
       },
       "data": [
        {
         "error_y": {
          "array": [
           0,
           0,
           0,
           0,
           0,
           0,
           0,
           0,
           0,
           0,
           0,
           0,
           0,
           0,
           0,
           0,
           0,
           0,
           0,
           0,
           0,
           0,
           0.10000000149011612,
           0,
           0.10000000149011612,
           0.10000000149011612,
           0.10000000149011612,
           0.14070528745651245,
           0.14070528745651245,
           0.14070528745651245,
           0.14070528745651245,
           0.14070528745651245,
           0.14070528745651245,
           0.14070528745651245,
           0.14070528745651245,
           0.358870267868042,
           0.358870267868042,
           0.27265992760658264,
           0.31446605920791626,
           0.31446605920791626,
           0.21904291212558746,
           0.17144660651683807,
           0.196946382522583,
           0.27265992760658264,
           0.27265992760658264,
           0.3265986442565918,
           0.39427727460861206,
           0.4351941645145416,
           0.4229525625705719,
           0.28762349486351013,
           0.27265992760658264,
           0.27265992760658264,
           0.27265992760658264,
           0.27265992760658264,
           0.27265992760658264,
           0.27265992760658264,
           0.27265992760658264,
           0.27265992760658264,
           0.27265992760658264,
           0.27265992760658264,
           0.27265992760658264,
           0.27265992760658264,
           0.27265992760658264,
           0.27265992760658264
          ]
         },
         "hovertemplate": "% parameters=%{x}<br>Accuracy=%{y}<extra></extra>",
         "legendgroup": "",
         "line": {
          "color": "#636efa",
          "dash": "solid"
         },
         "marker": {
          "symbol": "circle"
         },
         "mode": "lines",
         "name": "",
         "orientation": "v",
         "showlegend": false,
         "type": "scatter",
         "x": [
          0.9799254887634405,
          0.9699657350431974,
          0.9498912238066379,
          0.9399314700863949,
          0.9198569588498353,
          0.8997824476132759,
          0.8898226938930328,
          0.8798629401727898,
          0.8597884289362302,
          0.8498286752159872,
          0.8398689214957441,
          0.8197944102591845,
          0.8098346565389415,
          0.789760145302382,
          0.779800391582139,
          0.7698406378618958,
          0.7598808841416528,
          0.7398063729050933,
          0.7298466191848503,
          0.7198868654646071,
          0.7099271117443641,
          0.699967358024121,
          0.690007604303878,
          0.6800478505836349,
          0.6599733393470754,
          0.6500135856268323,
          0.6400538319065893,
          0.6300940781863462,
          0.6201343244661031,
          0.6000598132295436,
          0.5901000595093006,
          0.5801403057890575,
          0.5701805520688144,
          0.5501060408322549,
          0.5401462871120118,
          0.5301865333917688,
          0.5202267796715256,
          0.5001522684349662,
          0.4800777571984067,
          0.4701180034781636,
          0.4500434922416041,
          0.4299689810050446,
          0.4098944697684851,
          0.38981995853192564,
          0.37986020481168253,
          0.359785693575123,
          0.33971118233856357,
          0.31963667110200406,
          0.29956215986544454,
          0.2896024061452015,
          0.269527894908642,
          0.2595681411883989,
          0.2394936299518394,
          0.22953387623159635,
          0.21957412251135328,
          0.19949961127479376,
          0.17942510003823428,
          0.15935058880167477,
          0.13927607756511526,
          0.11920156632855577,
          0.09912705509199628,
          0.07905254385543678,
          0.058978032618877275,
          0.03890352138231778
         ],
         "xaxis": "x",
         "y": [
          1,
          1,
          1,
          1,
          1,
          1,
          1,
          1,
          1,
          1,
          1,
          1,
          1,
          1,
          1,
          1,
          1,
          1,
          1,
          1,
          1,
          1,
          0.9899999499320984,
          1,
          0.9899999499320984,
          0.9899999499320984,
          0.9899999499320984,
          0.9799999594688416,
          0.9799999594688416,
          0.9799999594688416,
          0.9799999594688416,
          0.9799999594688416,
          0.9799999594688416,
          0.9799999594688416,
          0.9799999594688416,
          0.8499999642372131,
          0.8499999642372131,
          0.9199999570846558,
          0.8899999856948853,
          0.8899999856948853,
          0.949999988079071,
          0.9699999690055847,
          0.9599999785423279,
          0.9199999570846558,
          0.9199999570846558,
          0.8799999952316284,
          0.8100000023841858,
          0.25,
          0.22999998927116394,
          0.08999999612569809,
          0.07999999821186066,
          0.07999999821186066,
          0.07999999821186066,
          0.07999999821186066,
          0.07999999821186066,
          0.07999999821186066,
          0.07999999821186066,
          0.07999999821186066,
          0.07999999821186066,
          0.07999999821186066,
          0.07999999821186066,
          0.07999999821186066,
          0.07999999821186066,
          0.07999999821186066
         ],
         "yaxis": "y"
        }
       ],
       "layout": {
        "legend": {
         "tracegroupgap": 0
        },
        "shapes": [
         {
          "line": {
           "color": "red",
           "dash": "dash",
           "width": 1
          },
          "type": "line",
          "x0": 0.6800478505836349,
          "x1": 0.6800478505836349,
          "xref": "x",
          "y0": 0,
          "y1": 1,
          "yref": "y domain"
         },
         {
          "line": {
           "color": "black",
           "dash": "dash",
           "width": 1.5
          },
          "type": "line",
          "x0": 0,
          "x1": 1,
          "xref": "x domain",
          "y0": 1,
          "y1": 1,
          "yref": "y"
         }
        ],
        "template": {
         "data": {
          "bar": [
           {
            "error_x": {
             "color": "#2a3f5f"
            },
            "error_y": {
             "color": "#2a3f5f"
            },
            "marker": {
             "line": {
              "color": "#E5ECF6",
              "width": 0.5
             },
             "pattern": {
              "fillmode": "overlay",
              "size": 10,
              "solidity": 0.2
             }
            },
            "type": "bar"
           }
          ],
          "barpolar": [
           {
            "marker": {
             "line": {
              "color": "#E5ECF6",
              "width": 0.5
             },
             "pattern": {
              "fillmode": "overlay",
              "size": 10,
              "solidity": 0.2
             }
            },
            "type": "barpolar"
           }
          ],
          "carpet": [
           {
            "aaxis": {
             "endlinecolor": "#2a3f5f",
             "gridcolor": "white",
             "linecolor": "white",
             "minorgridcolor": "white",
             "startlinecolor": "#2a3f5f"
            },
            "baxis": {
             "endlinecolor": "#2a3f5f",
             "gridcolor": "white",
             "linecolor": "white",
             "minorgridcolor": "white",
             "startlinecolor": "#2a3f5f"
            },
            "type": "carpet"
           }
          ],
          "choropleth": [
           {
            "colorbar": {
             "outlinewidth": 0,
             "ticks": ""
            },
            "type": "choropleth"
           }
          ],
          "contour": [
           {
            "colorbar": {
             "outlinewidth": 0,
             "ticks": ""
            },
            "colorscale": [
             [
              0,
              "#0d0887"
             ],
             [
              0.1111111111111111,
              "#46039f"
             ],
             [
              0.2222222222222222,
              "#7201a8"
             ],
             [
              0.3333333333333333,
              "#9c179e"
             ],
             [
              0.4444444444444444,
              "#bd3786"
             ],
             [
              0.5555555555555556,
              "#d8576b"
             ],
             [
              0.6666666666666666,
              "#ed7953"
             ],
             [
              0.7777777777777778,
              "#fb9f3a"
             ],
             [
              0.8888888888888888,
              "#fdca26"
             ],
             [
              1,
              "#f0f921"
             ]
            ],
            "type": "contour"
           }
          ],
          "contourcarpet": [
           {
            "colorbar": {
             "outlinewidth": 0,
             "ticks": ""
            },
            "type": "contourcarpet"
           }
          ],
          "heatmap": [
           {
            "colorbar": {
             "outlinewidth": 0,
             "ticks": ""
            },
            "colorscale": [
             [
              0,
              "#0d0887"
             ],
             [
              0.1111111111111111,
              "#46039f"
             ],
             [
              0.2222222222222222,
              "#7201a8"
             ],
             [
              0.3333333333333333,
              "#9c179e"
             ],
             [
              0.4444444444444444,
              "#bd3786"
             ],
             [
              0.5555555555555556,
              "#d8576b"
             ],
             [
              0.6666666666666666,
              "#ed7953"
             ],
             [
              0.7777777777777778,
              "#fb9f3a"
             ],
             [
              0.8888888888888888,
              "#fdca26"
             ],
             [
              1,
              "#f0f921"
             ]
            ],
            "type": "heatmap"
           }
          ],
          "heatmapgl": [
           {
            "colorbar": {
             "outlinewidth": 0,
             "ticks": ""
            },
            "colorscale": [
             [
              0,
              "#0d0887"
             ],
             [
              0.1111111111111111,
              "#46039f"
             ],
             [
              0.2222222222222222,
              "#7201a8"
             ],
             [
              0.3333333333333333,
              "#9c179e"
             ],
             [
              0.4444444444444444,
              "#bd3786"
             ],
             [
              0.5555555555555556,
              "#d8576b"
             ],
             [
              0.6666666666666666,
              "#ed7953"
             ],
             [
              0.7777777777777778,
              "#fb9f3a"
             ],
             [
              0.8888888888888888,
              "#fdca26"
             ],
             [
              1,
              "#f0f921"
             ]
            ],
            "type": "heatmapgl"
           }
          ],
          "histogram": [
           {
            "marker": {
             "pattern": {
              "fillmode": "overlay",
              "size": 10,
              "solidity": 0.2
             }
            },
            "type": "histogram"
           }
          ],
          "histogram2d": [
           {
            "colorbar": {
             "outlinewidth": 0,
             "ticks": ""
            },
            "colorscale": [
             [
              0,
              "#0d0887"
             ],
             [
              0.1111111111111111,
              "#46039f"
             ],
             [
              0.2222222222222222,
              "#7201a8"
             ],
             [
              0.3333333333333333,
              "#9c179e"
             ],
             [
              0.4444444444444444,
              "#bd3786"
             ],
             [
              0.5555555555555556,
              "#d8576b"
             ],
             [
              0.6666666666666666,
              "#ed7953"
             ],
             [
              0.7777777777777778,
              "#fb9f3a"
             ],
             [
              0.8888888888888888,
              "#fdca26"
             ],
             [
              1,
              "#f0f921"
             ]
            ],
            "type": "histogram2d"
           }
          ],
          "histogram2dcontour": [
           {
            "colorbar": {
             "outlinewidth": 0,
             "ticks": ""
            },
            "colorscale": [
             [
              0,
              "#0d0887"
             ],
             [
              0.1111111111111111,
              "#46039f"
             ],
             [
              0.2222222222222222,
              "#7201a8"
             ],
             [
              0.3333333333333333,
              "#9c179e"
             ],
             [
              0.4444444444444444,
              "#bd3786"
             ],
             [
              0.5555555555555556,
              "#d8576b"
             ],
             [
              0.6666666666666666,
              "#ed7953"
             ],
             [
              0.7777777777777778,
              "#fb9f3a"
             ],
             [
              0.8888888888888888,
              "#fdca26"
             ],
             [
              1,
              "#f0f921"
             ]
            ],
            "type": "histogram2dcontour"
           }
          ],
          "mesh3d": [
           {
            "colorbar": {
             "outlinewidth": 0,
             "ticks": ""
            },
            "type": "mesh3d"
           }
          ],
          "parcoords": [
           {
            "line": {
             "colorbar": {
              "outlinewidth": 0,
              "ticks": ""
             }
            },
            "type": "parcoords"
           }
          ],
          "pie": [
           {
            "automargin": true,
            "type": "pie"
           }
          ],
          "scatter": [
           {
            "fillpattern": {
             "fillmode": "overlay",
             "size": 10,
             "solidity": 0.2
            },
            "type": "scatter"
           }
          ],
          "scatter3d": [
           {
            "line": {
             "colorbar": {
              "outlinewidth": 0,
              "ticks": ""
             }
            },
            "marker": {
             "colorbar": {
              "outlinewidth": 0,
              "ticks": ""
             }
            },
            "type": "scatter3d"
           }
          ],
          "scattercarpet": [
           {
            "marker": {
             "colorbar": {
              "outlinewidth": 0,
              "ticks": ""
             }
            },
            "type": "scattercarpet"
           }
          ],
          "scattergeo": [
           {
            "marker": {
             "colorbar": {
              "outlinewidth": 0,
              "ticks": ""
             }
            },
            "type": "scattergeo"
           }
          ],
          "scattergl": [
           {
            "marker": {
             "colorbar": {
              "outlinewidth": 0,
              "ticks": ""
             }
            },
            "type": "scattergl"
           }
          ],
          "scattermapbox": [
           {
            "marker": {
             "colorbar": {
              "outlinewidth": 0,
              "ticks": ""
             }
            },
            "type": "scattermapbox"
           }
          ],
          "scatterpolar": [
           {
            "marker": {
             "colorbar": {
              "outlinewidth": 0,
              "ticks": ""
             }
            },
            "type": "scatterpolar"
           }
          ],
          "scatterpolargl": [
           {
            "marker": {
             "colorbar": {
              "outlinewidth": 0,
              "ticks": ""
             }
            },
            "type": "scatterpolargl"
           }
          ],
          "scatterternary": [
           {
            "marker": {
             "colorbar": {
              "outlinewidth": 0,
              "ticks": ""
             }
            },
            "type": "scatterternary"
           }
          ],
          "surface": [
           {
            "colorbar": {
             "outlinewidth": 0,
             "ticks": ""
            },
            "colorscale": [
             [
              0,
              "#0d0887"
             ],
             [
              0.1111111111111111,
              "#46039f"
             ],
             [
              0.2222222222222222,
              "#7201a8"
             ],
             [
              0.3333333333333333,
              "#9c179e"
             ],
             [
              0.4444444444444444,
              "#bd3786"
             ],
             [
              0.5555555555555556,
              "#d8576b"
             ],
             [
              0.6666666666666666,
              "#ed7953"
             ],
             [
              0.7777777777777778,
              "#fb9f3a"
             ],
             [
              0.8888888888888888,
              "#fdca26"
             ],
             [
              1,
              "#f0f921"
             ]
            ],
            "type": "surface"
           }
          ],
          "table": [
           {
            "cells": {
             "fill": {
              "color": "#EBF0F8"
             },
             "line": {
              "color": "white"
             }
            },
            "header": {
             "fill": {
              "color": "#C8D4E3"
             },
             "line": {
              "color": "white"
             }
            },
            "type": "table"
           }
          ]
         },
         "layout": {
          "annotationdefaults": {
           "arrowcolor": "#2a3f5f",
           "arrowhead": 0,
           "arrowwidth": 1
          },
          "autotypenumbers": "strict",
          "coloraxis": {
           "colorbar": {
            "outlinewidth": 0,
            "ticks": ""
           }
          },
          "colorscale": {
           "diverging": [
            [
             0,
             "#8e0152"
            ],
            [
             0.1,
             "#c51b7d"
            ],
            [
             0.2,
             "#de77ae"
            ],
            [
             0.3,
             "#f1b6da"
            ],
            [
             0.4,
             "#fde0ef"
            ],
            [
             0.5,
             "#f7f7f7"
            ],
            [
             0.6,
             "#e6f5d0"
            ],
            [
             0.7,
             "#b8e186"
            ],
            [
             0.8,
             "#7fbc41"
            ],
            [
             0.9,
             "#4d9221"
            ],
            [
             1,
             "#276419"
            ]
           ],
           "sequential": [
            [
             0,
             "#0d0887"
            ],
            [
             0.1111111111111111,
             "#46039f"
            ],
            [
             0.2222222222222222,
             "#7201a8"
            ],
            [
             0.3333333333333333,
             "#9c179e"
            ],
            [
             0.4444444444444444,
             "#bd3786"
            ],
            [
             0.5555555555555556,
             "#d8576b"
            ],
            [
             0.6666666666666666,
             "#ed7953"
            ],
            [
             0.7777777777777778,
             "#fb9f3a"
            ],
            [
             0.8888888888888888,
             "#fdca26"
            ],
            [
             1,
             "#f0f921"
            ]
           ],
           "sequentialminus": [
            [
             0,
             "#0d0887"
            ],
            [
             0.1111111111111111,
             "#46039f"
            ],
            [
             0.2222222222222222,
             "#7201a8"
            ],
            [
             0.3333333333333333,
             "#9c179e"
            ],
            [
             0.4444444444444444,
             "#bd3786"
            ],
            [
             0.5555555555555556,
             "#d8576b"
            ],
            [
             0.6666666666666666,
             "#ed7953"
            ],
            [
             0.7777777777777778,
             "#fb9f3a"
            ],
            [
             0.8888888888888888,
             "#fdca26"
            ],
            [
             1,
             "#f0f921"
            ]
           ]
          },
          "colorway": [
           "#636efa",
           "#EF553B",
           "#00cc96",
           "#ab63fa",
           "#FFA15A",
           "#19d3f3",
           "#FF6692",
           "#B6E880",
           "#FF97FF",
           "#FECB52"
          ],
          "font": {
           "color": "#2a3f5f"
          },
          "geo": {
           "bgcolor": "white",
           "lakecolor": "white",
           "landcolor": "#E5ECF6",
           "showlakes": true,
           "showland": true,
           "subunitcolor": "white"
          },
          "hoverlabel": {
           "align": "left"
          },
          "hovermode": "closest",
          "mapbox": {
           "style": "light"
          },
          "paper_bgcolor": "white",
          "plot_bgcolor": "#E5ECF6",
          "polar": {
           "angularaxis": {
            "gridcolor": "white",
            "linecolor": "white",
            "ticks": ""
           },
           "bgcolor": "#E5ECF6",
           "radialaxis": {
            "gridcolor": "white",
            "linecolor": "white",
            "ticks": ""
           }
          },
          "scene": {
           "xaxis": {
            "backgroundcolor": "#E5ECF6",
            "gridcolor": "white",
            "gridwidth": 2,
            "linecolor": "white",
            "showbackground": true,
            "ticks": "",
            "zerolinecolor": "white"
           },
           "yaxis": {
            "backgroundcolor": "#E5ECF6",
            "gridcolor": "white",
            "gridwidth": 2,
            "linecolor": "white",
            "showbackground": true,
            "ticks": "",
            "zerolinecolor": "white"
           },
           "zaxis": {
            "backgroundcolor": "#E5ECF6",
            "gridcolor": "white",
            "gridwidth": 2,
            "linecolor": "white",
            "showbackground": true,
            "ticks": "",
            "zerolinecolor": "white"
           }
          },
          "shapedefaults": {
           "line": {
            "color": "#2a3f5f"
           }
          },
          "ternary": {
           "aaxis": {
            "gridcolor": "white",
            "linecolor": "white",
            "ticks": ""
           },
           "baxis": {
            "gridcolor": "white",
            "linecolor": "white",
            "ticks": ""
           },
           "bgcolor": "#E5ECF6",
           "caxis": {
            "gridcolor": "white",
            "linecolor": "white",
            "ticks": ""
           }
          },
          "title": {
           "x": 0.05
          },
          "xaxis": {
           "automargin": true,
           "gridcolor": "white",
           "linecolor": "white",
           "ticks": "",
           "title": {
            "standoff": 15
           },
           "zerolinecolor": "white",
           "zerolinewidth": 2
          },
          "yaxis": {
           "automargin": true,
           "gridcolor": "white",
           "linecolor": "white",
           "ticks": "",
           "title": {
            "standoff": 15
           },
           "zerolinecolor": "white",
           "zerolinewidth": 2
          }
         }
        },
        "title": {
         "text": "Accuracy vs. model size"
        },
        "xaxis": {
         "anchor": "y",
         "autorange": "reversed",
         "domain": [
          0,
          1
         ],
         "title": {
          "text": "% parameters"
         }
        },
        "yaxis": {
         "anchor": "x",
         "domain": [
          0,
          1
         ],
         "title": {
          "text": "Accuracy"
         }
        }
       }
      },
      "text/html": [
       "<div>                            <div id=\"80987bf4-9c1a-46a9-8c53-5eb02760ce5c\" class=\"plotly-graph-div\" style=\"height:525px; width:100%;\"></div>            <script type=\"text/javascript\">                require([\"plotly\"], function(Plotly) {                    window.PLOTLYENV=window.PLOTLYENV || {};                                    if (document.getElementById(\"80987bf4-9c1a-46a9-8c53-5eb02760ce5c\")) {                    Plotly.newPlot(                        \"80987bf4-9c1a-46a9-8c53-5eb02760ce5c\",                        [{\"error_y\":{\"array\":[0.0,0.0,0.0,0.0,0.0,0.0,0.0,0.0,0.0,0.0,0.0,0.0,0.0,0.0,0.0,0.0,0.0,0.0,0.0,0.0,0.0,0.0,0.10000000149011612,0.0,0.10000000149011612,0.10000000149011612,0.10000000149011612,0.14070528745651245,0.14070528745651245,0.14070528745651245,0.14070528745651245,0.14070528745651245,0.14070528745651245,0.14070528745651245,0.14070528745651245,0.358870267868042,0.358870267868042,0.27265992760658264,0.31446605920791626,0.31446605920791626,0.21904291212558746,0.17144660651683807,0.196946382522583,0.27265992760658264,0.27265992760658264,0.3265986442565918,0.39427727460861206,0.4351941645145416,0.4229525625705719,0.28762349486351013,0.27265992760658264,0.27265992760658264,0.27265992760658264,0.27265992760658264,0.27265992760658264,0.27265992760658264,0.27265992760658264,0.27265992760658264,0.27265992760658264,0.27265992760658264,0.27265992760658264,0.27265992760658264,0.27265992760658264,0.27265992760658264]},\"hovertemplate\":\"% parameters=%{x}\\u003cbr\\u003eAccuracy=%{y}\\u003cextra\\u003e\\u003c\\u002fextra\\u003e\",\"legendgroup\":\"\",\"line\":{\"color\":\"#636efa\",\"dash\":\"solid\"},\"marker\":{\"symbol\":\"circle\"},\"mode\":\"lines\",\"name\":\"\",\"orientation\":\"v\",\"showlegend\":false,\"x\":[0.9799254887634405,0.9699657350431974,0.9498912238066379,0.9399314700863949,0.9198569588498353,0.8997824476132759,0.8898226938930328,0.8798629401727898,0.8597884289362302,0.8498286752159872,0.8398689214957441,0.8197944102591845,0.8098346565389415,0.789760145302382,0.779800391582139,0.7698406378618958,0.7598808841416528,0.7398063729050933,0.7298466191848503,0.7198868654646071,0.7099271117443641,0.699967358024121,0.690007604303878,0.6800478505836349,0.6599733393470754,0.6500135856268323,0.6400538319065893,0.6300940781863462,0.6201343244661031,0.6000598132295436,0.5901000595093006,0.5801403057890575,0.5701805520688144,0.5501060408322549,0.5401462871120118,0.5301865333917688,0.5202267796715256,0.5001522684349662,0.4800777571984067,0.4701180034781636,0.4500434922416041,0.4299689810050446,0.4098944697684851,0.38981995853192564,0.37986020481168253,0.359785693575123,0.33971118233856357,0.31963667110200406,0.29956215986544454,0.2896024061452015,0.269527894908642,0.2595681411883989,0.2394936299518394,0.22953387623159635,0.21957412251135328,0.19949961127479376,0.17942510003823428,0.15935058880167477,0.13927607756511526,0.11920156632855577,0.09912705509199628,0.07905254385543678,0.058978032618877275,0.03890352138231778],\"xaxis\":\"x\",\"y\":[1.0,1.0,1.0,1.0,1.0,1.0,1.0,1.0,1.0,1.0,1.0,1.0,1.0,1.0,1.0,1.0,1.0,1.0,1.0,1.0,1.0,1.0,0.9899999499320984,1.0,0.9899999499320984,0.9899999499320984,0.9899999499320984,0.9799999594688416,0.9799999594688416,0.9799999594688416,0.9799999594688416,0.9799999594688416,0.9799999594688416,0.9799999594688416,0.9799999594688416,0.8499999642372131,0.8499999642372131,0.9199999570846558,0.8899999856948853,0.8899999856948853,0.949999988079071,0.9699999690055847,0.9599999785423279,0.9199999570846558,0.9199999570846558,0.8799999952316284,0.8100000023841858,0.25,0.22999998927116394,0.08999999612569809,0.07999999821186066,0.07999999821186066,0.07999999821186066,0.07999999821186066,0.07999999821186066,0.07999999821186066,0.07999999821186066,0.07999999821186066,0.07999999821186066,0.07999999821186066,0.07999999821186066,0.07999999821186066,0.07999999821186066,0.07999999821186066],\"yaxis\":\"y\",\"type\":\"scatter\"}],                        {\"template\":{\"data\":{\"histogram2dcontour\":[{\"type\":\"histogram2dcontour\",\"colorbar\":{\"outlinewidth\":0,\"ticks\":\"\"},\"colorscale\":[[0.0,\"#0d0887\"],[0.1111111111111111,\"#46039f\"],[0.2222222222222222,\"#7201a8\"],[0.3333333333333333,\"#9c179e\"],[0.4444444444444444,\"#bd3786\"],[0.5555555555555556,\"#d8576b\"],[0.6666666666666666,\"#ed7953\"],[0.7777777777777778,\"#fb9f3a\"],[0.8888888888888888,\"#fdca26\"],[1.0,\"#f0f921\"]]}],\"choropleth\":[{\"type\":\"choropleth\",\"colorbar\":{\"outlinewidth\":0,\"ticks\":\"\"}}],\"histogram2d\":[{\"type\":\"histogram2d\",\"colorbar\":{\"outlinewidth\":0,\"ticks\":\"\"},\"colorscale\":[[0.0,\"#0d0887\"],[0.1111111111111111,\"#46039f\"],[0.2222222222222222,\"#7201a8\"],[0.3333333333333333,\"#9c179e\"],[0.4444444444444444,\"#bd3786\"],[0.5555555555555556,\"#d8576b\"],[0.6666666666666666,\"#ed7953\"],[0.7777777777777778,\"#fb9f3a\"],[0.8888888888888888,\"#fdca26\"],[1.0,\"#f0f921\"]]}],\"heatmap\":[{\"type\":\"heatmap\",\"colorbar\":{\"outlinewidth\":0,\"ticks\":\"\"},\"colorscale\":[[0.0,\"#0d0887\"],[0.1111111111111111,\"#46039f\"],[0.2222222222222222,\"#7201a8\"],[0.3333333333333333,\"#9c179e\"],[0.4444444444444444,\"#bd3786\"],[0.5555555555555556,\"#d8576b\"],[0.6666666666666666,\"#ed7953\"],[0.7777777777777778,\"#fb9f3a\"],[0.8888888888888888,\"#fdca26\"],[1.0,\"#f0f921\"]]}],\"heatmapgl\":[{\"type\":\"heatmapgl\",\"colorbar\":{\"outlinewidth\":0,\"ticks\":\"\"},\"colorscale\":[[0.0,\"#0d0887\"],[0.1111111111111111,\"#46039f\"],[0.2222222222222222,\"#7201a8\"],[0.3333333333333333,\"#9c179e\"],[0.4444444444444444,\"#bd3786\"],[0.5555555555555556,\"#d8576b\"],[0.6666666666666666,\"#ed7953\"],[0.7777777777777778,\"#fb9f3a\"],[0.8888888888888888,\"#fdca26\"],[1.0,\"#f0f921\"]]}],\"contourcarpet\":[{\"type\":\"contourcarpet\",\"colorbar\":{\"outlinewidth\":0,\"ticks\":\"\"}}],\"contour\":[{\"type\":\"contour\",\"colorbar\":{\"outlinewidth\":0,\"ticks\":\"\"},\"colorscale\":[[0.0,\"#0d0887\"],[0.1111111111111111,\"#46039f\"],[0.2222222222222222,\"#7201a8\"],[0.3333333333333333,\"#9c179e\"],[0.4444444444444444,\"#bd3786\"],[0.5555555555555556,\"#d8576b\"],[0.6666666666666666,\"#ed7953\"],[0.7777777777777778,\"#fb9f3a\"],[0.8888888888888888,\"#fdca26\"],[1.0,\"#f0f921\"]]}],\"surface\":[{\"type\":\"surface\",\"colorbar\":{\"outlinewidth\":0,\"ticks\":\"\"},\"colorscale\":[[0.0,\"#0d0887\"],[0.1111111111111111,\"#46039f\"],[0.2222222222222222,\"#7201a8\"],[0.3333333333333333,\"#9c179e\"],[0.4444444444444444,\"#bd3786\"],[0.5555555555555556,\"#d8576b\"],[0.6666666666666666,\"#ed7953\"],[0.7777777777777778,\"#fb9f3a\"],[0.8888888888888888,\"#fdca26\"],[1.0,\"#f0f921\"]]}],\"mesh3d\":[{\"type\":\"mesh3d\",\"colorbar\":{\"outlinewidth\":0,\"ticks\":\"\"}}],\"scatter\":[{\"fillpattern\":{\"fillmode\":\"overlay\",\"size\":10,\"solidity\":0.2},\"type\":\"scatter\"}],\"parcoords\":[{\"type\":\"parcoords\",\"line\":{\"colorbar\":{\"outlinewidth\":0,\"ticks\":\"\"}}}],\"scatterpolargl\":[{\"type\":\"scatterpolargl\",\"marker\":{\"colorbar\":{\"outlinewidth\":0,\"ticks\":\"\"}}}],\"bar\":[{\"error_x\":{\"color\":\"#2a3f5f\"},\"error_y\":{\"color\":\"#2a3f5f\"},\"marker\":{\"line\":{\"color\":\"#E5ECF6\",\"width\":0.5},\"pattern\":{\"fillmode\":\"overlay\",\"size\":10,\"solidity\":0.2}},\"type\":\"bar\"}],\"scattergeo\":[{\"type\":\"scattergeo\",\"marker\":{\"colorbar\":{\"outlinewidth\":0,\"ticks\":\"\"}}}],\"scatterpolar\":[{\"type\":\"scatterpolar\",\"marker\":{\"colorbar\":{\"outlinewidth\":0,\"ticks\":\"\"}}}],\"histogram\":[{\"marker\":{\"pattern\":{\"fillmode\":\"overlay\",\"size\":10,\"solidity\":0.2}},\"type\":\"histogram\"}],\"scattergl\":[{\"type\":\"scattergl\",\"marker\":{\"colorbar\":{\"outlinewidth\":0,\"ticks\":\"\"}}}],\"scatter3d\":[{\"type\":\"scatter3d\",\"line\":{\"colorbar\":{\"outlinewidth\":0,\"ticks\":\"\"}},\"marker\":{\"colorbar\":{\"outlinewidth\":0,\"ticks\":\"\"}}}],\"scattermapbox\":[{\"type\":\"scattermapbox\",\"marker\":{\"colorbar\":{\"outlinewidth\":0,\"ticks\":\"\"}}}],\"scatterternary\":[{\"type\":\"scatterternary\",\"marker\":{\"colorbar\":{\"outlinewidth\":0,\"ticks\":\"\"}}}],\"scattercarpet\":[{\"type\":\"scattercarpet\",\"marker\":{\"colorbar\":{\"outlinewidth\":0,\"ticks\":\"\"}}}],\"carpet\":[{\"aaxis\":{\"endlinecolor\":\"#2a3f5f\",\"gridcolor\":\"white\",\"linecolor\":\"white\",\"minorgridcolor\":\"white\",\"startlinecolor\":\"#2a3f5f\"},\"baxis\":{\"endlinecolor\":\"#2a3f5f\",\"gridcolor\":\"white\",\"linecolor\":\"white\",\"minorgridcolor\":\"white\",\"startlinecolor\":\"#2a3f5f\"},\"type\":\"carpet\"}],\"table\":[{\"cells\":{\"fill\":{\"color\":\"#EBF0F8\"},\"line\":{\"color\":\"white\"}},\"header\":{\"fill\":{\"color\":\"#C8D4E3\"},\"line\":{\"color\":\"white\"}},\"type\":\"table\"}],\"barpolar\":[{\"marker\":{\"line\":{\"color\":\"#E5ECF6\",\"width\":0.5},\"pattern\":{\"fillmode\":\"overlay\",\"size\":10,\"solidity\":0.2}},\"type\":\"barpolar\"}],\"pie\":[{\"automargin\":true,\"type\":\"pie\"}]},\"layout\":{\"autotypenumbers\":\"strict\",\"colorway\":[\"#636efa\",\"#EF553B\",\"#00cc96\",\"#ab63fa\",\"#FFA15A\",\"#19d3f3\",\"#FF6692\",\"#B6E880\",\"#FF97FF\",\"#FECB52\"],\"font\":{\"color\":\"#2a3f5f\"},\"hovermode\":\"closest\",\"hoverlabel\":{\"align\":\"left\"},\"paper_bgcolor\":\"white\",\"plot_bgcolor\":\"#E5ECF6\",\"polar\":{\"bgcolor\":\"#E5ECF6\",\"angularaxis\":{\"gridcolor\":\"white\",\"linecolor\":\"white\",\"ticks\":\"\"},\"radialaxis\":{\"gridcolor\":\"white\",\"linecolor\":\"white\",\"ticks\":\"\"}},\"ternary\":{\"bgcolor\":\"#E5ECF6\",\"aaxis\":{\"gridcolor\":\"white\",\"linecolor\":\"white\",\"ticks\":\"\"},\"baxis\":{\"gridcolor\":\"white\",\"linecolor\":\"white\",\"ticks\":\"\"},\"caxis\":{\"gridcolor\":\"white\",\"linecolor\":\"white\",\"ticks\":\"\"}},\"coloraxis\":{\"colorbar\":{\"outlinewidth\":0,\"ticks\":\"\"}},\"colorscale\":{\"sequential\":[[0.0,\"#0d0887\"],[0.1111111111111111,\"#46039f\"],[0.2222222222222222,\"#7201a8\"],[0.3333333333333333,\"#9c179e\"],[0.4444444444444444,\"#bd3786\"],[0.5555555555555556,\"#d8576b\"],[0.6666666666666666,\"#ed7953\"],[0.7777777777777778,\"#fb9f3a\"],[0.8888888888888888,\"#fdca26\"],[1.0,\"#f0f921\"]],\"sequentialminus\":[[0.0,\"#0d0887\"],[0.1111111111111111,\"#46039f\"],[0.2222222222222222,\"#7201a8\"],[0.3333333333333333,\"#9c179e\"],[0.4444444444444444,\"#bd3786\"],[0.5555555555555556,\"#d8576b\"],[0.6666666666666666,\"#ed7953\"],[0.7777777777777778,\"#fb9f3a\"],[0.8888888888888888,\"#fdca26\"],[1.0,\"#f0f921\"]],\"diverging\":[[0,\"#8e0152\"],[0.1,\"#c51b7d\"],[0.2,\"#de77ae\"],[0.3,\"#f1b6da\"],[0.4,\"#fde0ef\"],[0.5,\"#f7f7f7\"],[0.6,\"#e6f5d0\"],[0.7,\"#b8e186\"],[0.8,\"#7fbc41\"],[0.9,\"#4d9221\"],[1,\"#276419\"]]},\"xaxis\":{\"gridcolor\":\"white\",\"linecolor\":\"white\",\"ticks\":\"\",\"title\":{\"standoff\":15},\"zerolinecolor\":\"white\",\"automargin\":true,\"zerolinewidth\":2},\"yaxis\":{\"gridcolor\":\"white\",\"linecolor\":\"white\",\"ticks\":\"\",\"title\":{\"standoff\":15},\"zerolinecolor\":\"white\",\"automargin\":true,\"zerolinewidth\":2},\"scene\":{\"xaxis\":{\"backgroundcolor\":\"#E5ECF6\",\"gridcolor\":\"white\",\"linecolor\":\"white\",\"showbackground\":true,\"ticks\":\"\",\"zerolinecolor\":\"white\",\"gridwidth\":2},\"yaxis\":{\"backgroundcolor\":\"#E5ECF6\",\"gridcolor\":\"white\",\"linecolor\":\"white\",\"showbackground\":true,\"ticks\":\"\",\"zerolinecolor\":\"white\",\"gridwidth\":2},\"zaxis\":{\"backgroundcolor\":\"#E5ECF6\",\"gridcolor\":\"white\",\"linecolor\":\"white\",\"showbackground\":true,\"ticks\":\"\",\"zerolinecolor\":\"white\",\"gridwidth\":2}},\"shapedefaults\":{\"line\":{\"color\":\"#2a3f5f\"}},\"annotationdefaults\":{\"arrowcolor\":\"#2a3f5f\",\"arrowhead\":0,\"arrowwidth\":1},\"geo\":{\"bgcolor\":\"white\",\"landcolor\":\"#E5ECF6\",\"subunitcolor\":\"white\",\"showland\":true,\"showlakes\":true,\"lakecolor\":\"white\"},\"title\":{\"x\":0.05},\"mapbox\":{\"style\":\"light\"}}},\"xaxis\":{\"anchor\":\"y\",\"domain\":[0.0,1.0],\"title\":{\"text\":\"% parameters\"},\"autorange\":\"reversed\"},\"yaxis\":{\"anchor\":\"x\",\"domain\":[0.0,1.0],\"title\":{\"text\":\"Accuracy\"}},\"legend\":{\"tracegroupgap\":0},\"title\":{\"text\":\"Accuracy vs. model size\"},\"shapes\":[{\"line\":{\"color\":\"red\",\"dash\":\"dash\",\"width\":1.0},\"type\":\"line\",\"x0\":0.6800478505836349,\"x1\":0.6800478505836349,\"xref\":\"x\",\"y0\":0,\"y1\":1,\"yref\":\"y domain\"},{\"line\":{\"color\":\"black\",\"dash\":\"dash\",\"width\":1.5},\"type\":\"line\",\"x0\":0,\"x1\":1,\"xref\":\"x domain\",\"y0\":1.0,\"y1\":1.0,\"yref\":\"y\"}]},                        {\"responsive\": true}                    ).then(function(){\n",
       "                            \n",
       "var gd = document.getElementById('80987bf4-9c1a-46a9-8c53-5eb02760ce5c');\n",
       "var x = new MutationObserver(function (mutations, observer) {{\n",
       "        var display = window.getComputedStyle(gd).display;\n",
       "        if (!display || display === 'none') {{\n",
       "            console.log([gd, 'removed!']);\n",
       "            Plotly.purge(gd);\n",
       "            observer.disconnect();\n",
       "        }}\n",
       "}});\n",
       "\n",
       "// Listen for the removal of the full notebook cells\n",
       "var notebookContainer = gd.closest('#notebook-container');\n",
       "if (notebookContainer) {{\n",
       "    x.observe(notebookContainer, {childList: true});\n",
       "}}\n",
       "\n",
       "// Listen for the clearing of the current output cell\n",
       "var outputEl = gd.closest('.output');\n",
       "if (outputEl) {{\n",
       "    x.observe(outputEl, {childList: true});\n",
       "}}\n",
       "\n",
       "                        })                };                });            </script>        </div>"
      ]
     },
     "metadata": {},
     "output_type": "display_data"
    }
   ],
   "source": [
    "fig = px.line(x = p_parameters, y=accs_hf.cpu().numpy(), \n",
    "              error_y=std_accs_hf.cpu().numpy(),\n",
    "              labels={\"y\": \"Accuracy\", \"x\": \"% parameters\"}, title=\"Accuracy vs. model size\")\n",
    "fig.add_vline(x=p_parameters[cutoff_acc], line_width=1., line_dash=\"dash\", line_color=\"red\")\n",
    "fig.add_hline(y=acc_hf.item(), line_width=1.5, line_dash=\"dash\", line_color=\"black\")\n",
    "fig.update_xaxes(autorange=\"reversed\")\n",
    "fig.show()"
   ]
  }
 ],
 "metadata": {
  "kernelspec": {
   "display_name": "mech_interp",
   "language": "python",
   "name": "python3"
  },
  "language_info": {
   "codemirror_mode": {
    "name": "ipython",
    "version": 3
   },
   "file_extension": ".py",
   "mimetype": "text/x-python",
   "name": "python",
   "nbconvert_exporter": "python",
   "pygments_lexer": "ipython3",
   "version": "3.11.2"
  }
 },
 "nbformat": 4,
 "nbformat_minor": 2
}
