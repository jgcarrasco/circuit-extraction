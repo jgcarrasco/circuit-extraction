{
 "cells": [
  {
   "cell_type": "code",
   "execution_count": 2,
   "metadata": {},
   "outputs": [
    {
     "name": "stderr",
     "output_type": "stream",
     "text": [
      "/home/jgcarrasco/.virtualenvs/mech_interp/lib/python3.11/site-packages/tqdm/auto.py:21: TqdmWarning: IProgress not found. Please update jupyter and ipywidgets. See https://ipywidgets.readthedocs.io/en/stable/user_install.html\n",
      "  from .autonotebook import tqdm as notebook_tqdm\n"
     ]
    }
   ],
   "source": [
    "import random\n",
    "import pickle\n",
    "import string\n",
    "from itertools import combinations_with_replacement, product\n",
    "\n",
    "import numpy as np\n",
    "import matplotlib.pyplot as plt\n",
    "\n",
    "import torch\n",
    "\n",
    "from transformers import AutoTokenizer, AutoModelForCausalLM\n",
    "\n",
    "%load_ext autoreload\n",
    "%autoreload 2"
   ]
  },
  {
   "cell_type": "code",
   "execution_count": 14,
   "metadata": {},
   "outputs": [],
   "source": [
    "# load Llama2 tokenizer\n",
    "tokenizer_hf = AutoTokenizer.from_pretrained(\"meta-llama/Llama-2-7b-hf\")\n",
    "tokenizer_hf.pad_token = tokenizer_hf.eos_token"
   ]
  },
  {
   "cell_type": "markdown",
   "metadata": {},
   "source": [
    "# New dataset\n",
    "1. Take list of all 3-letter acronyms that are tokenized as three separate tokens (e.g. \"|A|B|C|\")\n",
    "2. Take list of words that are tokenized as a single token (including their preceding space, e.g. \"| Bruh|\")\n",
    "3. Create list of samples by (i) choosing and acronym and (ii) sampling a word from the previous list for every capital letter of the acronym (e.g. \"|The| Auto| Bruh| Cafe|(|A|B|C|\"). **NOTE:** We will sample the acronyms according to the frequency of the capital letters on our dictionary. We do this because, for example, there are a lot of acronyms containing the letter X but we have just one word beginning by X on our dictionary (as these are uncommon) thus uniformly sampling the acronyms would bring the word X a lot more than usual. "
   ]
  },
  {
   "cell_type": "code",
   "execution_count": 5,
   "metadata": {},
   "outputs": [
    {
     "data": {
      "text/plain": [
       "17576"
      ]
     },
     "execution_count": 5,
     "metadata": {},
     "output_type": "execute_result"
    }
   ],
   "source": [
    "acronyms_list = list(product(string.ascii_uppercase, repeat=3))\n",
    "acronyms_list = [\"\".join(x) for x in acronyms_list]\n",
    "len(acronyms_list)"
   ]
  },
  {
   "cell_type": "code",
   "execution_count": 29,
   "metadata": {},
   "outputs": [
    {
     "data": {
      "text/plain": [
       "torch.Size([7125])"
      ]
     },
     "execution_count": 29,
     "metadata": {},
     "output_type": "execute_result"
    }
   ],
   "source": [
    "acronyms_tokenized = tokenizer_hf(acronyms_list, \n",
    "                                  add_special_tokens=False,\n",
    "                                  padding=True,\n",
    "                                  return_tensors=\"pt\")[\"input_ids\"]\n",
    "# Take the indices of acronyms that are composed by 3 tokens, i.e. its last token is different from the BOS token\n",
    "indices = torch.arange(acronyms_tokenized.shape[0], device=\"cuda\")[acronyms_tokenized[:, -1] != tokenizer_hf.pad_token_id].cpu()\n",
    "indices.shape"
   ]
  },
  {
   "cell_type": "markdown",
   "metadata": {},
   "source": [
    "In GPT2 we obtained 2740 in the previous step (so now we get a lot more)"
   ]
  },
  {
   "cell_type": "code",
   "execution_count": 32,
   "metadata": {},
   "outputs": [
    {
     "data": {
      "text/plain": [
       "(7125, ['AEA', 'AEH', 'AEI', 'AEJ', 'AEK'])"
      ]
     },
     "execution_count": 32,
     "metadata": {},
     "output_type": "execute_result"
    }
   ],
   "source": [
    "possible_acronyms_list = tokenizer_hf.batch_decode(acronyms_tokenized[indices],\n",
    "                                                   skip_special_tokens=True)\n",
    "len(possible_acronyms_list), possible_acronyms_list[:5]"
   ]
  },
  {
   "cell_type": "markdown",
   "metadata": {},
   "source": [
    "There are 7125 3-letter acronyms that are tokenized as three separate words. "
   ]
  },
  {
   "cell_type": "markdown",
   "metadata": {},
   "source": [
    "Now, let's collect a set of nouns that are tokenized as single tokens.\n",
    "\n",
    "We will take the words from https://github.com/taikuukaits/SimpleWordlists/tree/master (Ashley Bovan page). It contains around **91k** nouns, so it should be sufficient (some of them are quite rare):"
   ]
  },
  {
   "cell_type": "code",
   "execution_count": 40,
   "metadata": {},
   "outputs": [
    {
     "data": {
      "text/plain": [
       "['▁This']"
      ]
     },
     "execution_count": 40,
     "metadata": {},
     "output_type": "execute_result"
    }
   ],
   "source": [
    "tokenizer_hf.tokenize(\"This\")"
   ]
  },
  {
   "cell_type": "markdown",
   "metadata": {},
   "source": [
    "The Llama tokenizer represents the space as `_`. It looks like calling the `tokenize` method already prepends a space to the string, which is what we wanted."
   ]
  },
  {
   "cell_type": "code",
   "execution_count": 53,
   "metadata": {},
   "outputs": [],
   "source": [
    "capital_letters_space = [f\"▁{l}\" for l in string.ascii_uppercase]\n",
    "\n",
    "with open(\"nouns_2_token.txt\", \"w\") as g:\n",
    "    with open(\"Wordlist-Nouns-All.txt\", \"r\") as f:\n",
    "        for word in f.read().splitlines():\n",
    "            word = word.capitalize()\n",
    "            str_word = tokenizer_hf.tokenize(word)\n",
    "            if len(str_word) == 2 and str_word[0] in capital_letters_space:\n",
    "                g.write(word + \"\\n\")"
   ]
  },
  {
   "cell_type": "markdown",
   "metadata": {},
   "source": [
    "When filtering the nouns that are not tokenized as single tokens (including a preceding space) we drop from 91k to ~~7k~~ 4k. Now, to make it easier, we will build a dictionary that groups words beginning with the same capital letter:"
   ]
  },
  {
   "cell_type": "code",
   "execution_count": 55,
   "metadata": {},
   "outputs": [],
   "source": [
    "# Initialize dictionary\n",
    "words_dict = {}\n",
    "for c in string.ascii_uppercase:\n",
    "    words_dict[c] = []\n",
    "\n",
    "n_words = 0\n",
    "with open(\"nouns_2_token.txt\", \"r\") as f:\n",
    "    for word in f.read().splitlines():\n",
    "        words_dict[word[0]].append(word)\n",
    "        n_words += 1\n",
    "\n",
    "with open('words_dict.pkl', 'wb') as f:\n",
    "    pickle.dump(words_dict, f)"
   ]
  },
  {
   "cell_type": "code",
   "execution_count": 59,
   "metadata": {},
   "outputs": [
    {
     "data": {
      "image/png": "[encoded data removed]",
      "text/plain": [
       "<Figure size 640x480 with 1 Axes>"
      ]
     },
     "metadata": {},
     "output_type": "display_data"
    }
   ],
   "source": [
    "with open(\"words_dict.pkl\", 'rb') as f:\n",
    "        words_dict = pickle.load(f)\n",
    "\n",
    "prob_dict = {}\n",
    "\n",
    "n_words = sum([len(v) for _, v in words_dict.items()])\n",
    "\n",
    "# get the probability of sampling a word beginning by each letter\n",
    "for k, v in words_dict.items():\n",
    "    prob_dict[k] = float(len(v)) / n_words\n",
    "\n",
    "plt.bar(x=prob_dict.keys(), height=prob_dict.values(), edgecolor=\"black\")\n",
    "plt.show()"
   ]
  },
  {
   "cell_type": "code",
   "execution_count": 61,
   "metadata": {},
   "outputs": [
    {
     "data": {
      "text/plain": [
       "'SBH'"
      ]
     },
     "execution_count": 61,
     "metadata": {},
     "output_type": "execute_result"
    }
   ],
   "source": [
    "# probability distribution of the acronym list\n",
    "p = np.array([prob_dict[acronym[0]]*prob_dict[acronym[1]]*prob_dict[acronym[2]] for acronym in possible_acronyms_list])\n",
    "# normalize\n",
    "p = p / p.sum()\n",
    "\n",
    "np.random.choice(possible_acronyms_list, size=1, p=p)[0]"
   ]
  },
  {
   "cell_type": "code",
   "execution_count": 66,
   "metadata": {},
   "outputs": [
    {
     "data": {
      "text/plain": [
       "('The Ryes Bellow Jour (RB', 'RBJ')"
      ]
     },
     "execution_count": 66,
     "metadata": {},
     "output_type": "execute_result"
    }
   ],
   "source": [
    "def get_random_acronym(acronyms_list=possible_acronyms_list, words_dict_path=\"words_dict.pkl\", max_iter=100):\n",
    "    \n",
    "    with open(words_dict_path, 'rb') as f:\n",
    "        words_dict = pickle.load(f)\n",
    "\n",
    "    acronym = np.random.choice(acronyms_list, size=1, p=p)[0]\n",
    "    prompt = \"The\"\n",
    "    for c in acronym:\n",
    "        # Obtain a random word that meets the requirements\n",
    "        word = random.choice(words_dict[c])\n",
    "        prompt += \" \" + word\n",
    "    prompt = prompt + \" (\" + acronym[:2]\n",
    "    return prompt, acronym\n",
    "\n",
    "prompt, acronym = get_random_acronym()\n",
    "prompt, acronym"
   ]
  },
  {
   "cell_type": "code",
   "execution_count": 67,
   "metadata": {},
   "outputs": [
    {
     "data": {
      "text/plain": [
       "['▁The', '▁R', 'yes', '▁B', 'ellow', '▁J', 'our', '▁(', 'R', 'B']"
      ]
     },
     "execution_count": 67,
     "metadata": {},
     "output_type": "execute_result"
    }
   ],
   "source": [
    "tokenizer_hf.tokenize(prompt)"
   ]
  },
  {
   "cell_type": "markdown",
   "metadata": {},
   "source": [
    "Now that we have defined the sampling method, we will retrieve a list of 100000 samples."
   ]
  },
  {
   "cell_type": "code",
   "execution_count": 68,
   "metadata": {},
   "outputs": [],
   "source": [
    "i = 0\n",
    "while i < 100000:\n",
    "    #print(f\"Total words: {i}\")\n",
    "    with open(\"acronyms.txt\", \"a\") as f:\n",
    "        prompt, acronym = get_random_acronym()\n",
    "        f.write(prompt + \", \" + acronym + \"\\n\")\n",
    "    i += 1"
   ]
  }
 ],
 "metadata": {
  "kernelspec": {
   "display_name": "mech_interp",
   "language": "python",
   "name": "python3"
  },
  "language_info": {
   "codemirror_mode": {
    "name": "ipython",
    "version": 3
   },
   "file_extension": ".py",
   "mimetype": "text/x-python",
   "name": "python",
   "nbconvert_exporter": "python",
   "pygments_lexer": "ipython3",
   "version": "3.11.2"
  }
 },
 "nbformat": 4,
 "nbformat_minor": 2
}
