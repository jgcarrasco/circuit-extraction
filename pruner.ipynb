{
 "cells": [
  {
   "cell_type": "code",
   "execution_count": 1,
   "metadata": {},
   "outputs": [
    {
     "name": "stderr",
     "output_type": "stream",
     "text": [
      "/home/jgcarrasco/.virtualenvs/mech_interp/lib/python3.11/site-packages/tqdm/auto.py:21: TqdmWarning: IProgress not found. Please update jupyter and ipywidgets. See https://ipywidgets.readthedocs.io/en/stable/user_install.html\n",
      "  from .autonotebook import tqdm as notebook_tqdm\n"
     ]
    }
   ],
   "source": [
    "import random\n",
    "import itertools\n",
    "from functools import partial\n",
    "from typing import Optional, Tuple, Any, Union\n",
    "import pickle\n",
    "from tqdm import tqdm\n",
    "\n",
    "import torch\n",
    "import torch.nn as nn\n",
    "from torch import Tensor\n",
    "\n",
    "from transformers import AutoTokenizer, AutoModelForCausalLM\n",
    "\n",
    "import plotly.express as px\n",
    "\n",
    "torch.set_grad_enabled(False)\n",
    "device = \"cuda\" if torch.cuda.is_available() else \"cpu\""
   ]
  },
  {
   "cell_type": "code",
   "execution_count": 2,
   "metadata": {},
   "outputs": [],
   "source": [
    "def compute_logit_diff(logits, answer_tokens, average=True):\n",
    "    \"\"\"\n",
    "    Compute the logit difference between the correct answer and the largest logit\n",
    "    of all the possible incorrect capital letters. This is done for every iteration\n",
    "    (i.e. each of the three letters of the acronym) and then averaged if desired.\n",
    "    If `average=False`, then a `Tensor[batch_size, 3]` is returned, containing the\n",
    "    logit difference at every iteration for every prompt in the batch\n",
    "\n",
    "    Parameters:\n",
    "    -----------\n",
    "    - `logits`: `Tensor[batch_size, seq_len, d_vocab]`\n",
    "    - `answer_tokens`: Tensor[batch_size, 3]\n",
    "    \"\"\"\n",
    "    # Logits of the correct answers (batch_size, 3)\n",
    "    correct_logits = logits[:, -3:].gather(-1, answer_tokens[..., None]).squeeze()\n",
    "    # Retrieve the maximum logit of the possible incorrect answers\n",
    "    capital_letters_tokens = torch.tensor([32, 33, 34, 35, 36, 37, 38, 39, 40, 41, 42, 43, 44, 45, 46, 47, 48, 49,\n",
    "         50, 51, 52, 53, 54, 55, 56, 57], dtype=torch.long)\n",
    "    batch_size = logits.shape[0]\n",
    "    capital_letters_tokens_expanded = capital_letters_tokens.expand(batch_size, 3, -1)\n",
    "    incorrect_capital_letters = capital_letters_tokens_expanded[capital_letters_tokens_expanded != answer_tokens[..., None]].reshape(batch_size, 3, -1)\n",
    "    incorrect_logits, _ = logits[:, -3:].gather(-1, incorrect_capital_letters).max(-1)\n",
    "    # Return the mean\n",
    "    return (correct_logits - incorrect_logits).mean() if average else (correct_logits - incorrect_logits)"
   ]
  },
  {
   "cell_type": "markdown",
   "metadata": {},
   "source": [
    "#### Load dataset & model"
   ]
  },
  {
   "cell_type": "code",
   "execution_count": 3,
   "metadata": {},
   "outputs": [],
   "source": [
    "with open(\"acronyms_2_common.txt\", \"r\") as f:\n",
    "   prompts, acronyms = list(zip(*[line.split(\", \") for line in set(f.read().splitlines())]))\n",
    "\n",
    "# take a subset of the dataset (we do this because VRAM limitations)\n",
    "n_patching = 100\n",
    "n_val = 100\n",
    "# giga-cursed way of sampling from the dataset\n",
    "patching_prompts, patching_acronyms = prompts[:n_patching], acronyms[:n_patching]\n",
    "val_prompts, val_acronyms = prompts[n_patching:n_patching+n_val], acronyms[n_patching:n_patching+n_val]"
   ]
  },
  {
   "cell_type": "code",
   "execution_count": 16,
   "metadata": {},
   "outputs": [],
   "source": [
    "tokenizer = AutoTokenizer.from_pretrained(\"openai-community/gpt2\", add_bos_token=True)\n",
    "model = AutoModelForCausalLM.from_pretrained(\"openai-community/gpt2\", output_hidden_states=False, use_cache=False)"
   ]
  },
  {
   "cell_type": "markdown",
   "metadata": {},
   "source": [
    "The QKV vectors are computed for every attn head in the same layer via a 1D convolution.\n",
    "If input has shape (batch_size, seq_len, d_model), Conv1D(input) has shape (batch_size, seq_len, 3*d_model). Then this is split to obtain the QKV vectors FOR EVERY HEAD (i.e. each Q,K,V has shape (batch_size, seq_len, d_model)). Then, they call `_split_heads` to divide the QKV vectors in terms of different heads -> (batch_size, n_head, seq_len, d_model / n_head). This is just a reshape, so we could modify the correct indices to patch a single head."
   ]
  },
  {
   "cell_type": "code",
   "execution_count": 5,
   "metadata": {},
   "outputs": [],
   "source": [
    "patching_tokens = tokenizer(patching_prompts, return_tensors=\"pt\")[\"input_ids\"]\n",
    "patching_tokens = torch.cat([torch.ones((patching_tokens.shape[0], 1), dtype=torch.long) * tokenizer.bos_token_id, patching_tokens], dim=1)\n",
    "val_tokens = tokenizer(val_prompts, return_tensors=\"pt\")[\"input_ids\"]\n",
    "val_tokens = torch.cat([torch.ones((val_tokens.shape[0], 1), dtype=torch.long) * tokenizer.bos_token_id, val_tokens], dim=1)\n",
    "\n",
    "patching_answer_tokens = tokenizer(patching_acronyms, return_tensors=\"pt\")[\"input_ids\"]\n",
    "val_answer_tokens = tokenizer(val_acronyms, return_tensors=\"pt\")[\"input_ids\"]"
   ]
  },
  {
   "cell_type": "code",
   "execution_count": 18,
   "metadata": {},
   "outputs": [
    {
     "data": {
      "text/plain": [
       "(3.2218189239501953, 3.4839301109313965)"
      ]
     },
     "execution_count": 18,
     "metadata": {},
     "output_type": "execute_result"
    }
   ],
   "source": [
    "patching_output = model(patching_tokens)\n",
    "patching_logits = patching_output[\"logits\"]\n",
    "val_output = model(val_tokens)\n",
    "val_logits = val_output[\"logits\"]\n",
    "\n",
    "patching_logit_diff = compute_logit_diff(patching_logits, patching_answer_tokens, average=False)[..., -1].mean()\n",
    "val_logit_diff = compute_logit_diff(val_logits, val_answer_tokens, average=False)[..., -1].mean()\n",
    "patching_logit_diff.item(), val_logit_diff.item()"
   ]
  },
  {
   "cell_type": "code",
   "execution_count": 7,
   "metadata": {},
   "outputs": [],
   "source": [
    "# retrieve the average head activation on the patching dataset\n",
    "seq_len = patching_tokens.shape[-1]\n",
    "d_head = int(model.config.n_embd / model.config.n_head)\n",
    "average_head_acts = torch.zeros((model.config.n_layer, seq_len, model.config.n_head, d_head)) # (n_layers, seq_len, n_head, d_head)\n",
    "\n",
    "def cache_head_acts(module, input, output, layer: int):\n",
    "    d_model = int(output.shape[-1] / 3)\n",
    "    v = output[:, :, 2*d_model:]\n",
    "    new_shape = v.shape[:-1] + (12, int(d_model / 12)) # (batch_size, seq_len, n_head, d_head)\n",
    "    v = v.view(new_shape) \n",
    "    average_head_acts[layer] = v.mean(0).detach().clone() # (seq_len, n_head, d_head)\n",
    "\n",
    "hooks = []\n",
    "for layer in range(model.config.n_layer):\n",
    "    hook_fn = partial(cache_head_acts, layer=layer)\n",
    "    hooks.append(model.transformer.h[layer].attn.c_attn.register_forward_hook(hook_fn))\n",
    "model(patching_tokens)\n",
    "[hook.remove() for hook in hooks];"
   ]
  },
  {
   "cell_type": "markdown",
   "metadata": {},
   "source": [
    "In the cell above, we retrieve the V vectors of each head. However, we want to obtain what each head writes into the residual stream. To do so, we have to focus on the projection step. This step receives a vector of shape `(batch_size, seq_len, n_heads*d_heads = d_model)` where the output of each head is arranged sequentially, and then it is projected to the residual space. To obtain what head `head_i` writes into the residual stream, we just have to mask off every other head just before the projection, and then project."
   ]
  },
  {
   "cell_type": "code",
   "execution_count": 19,
   "metadata": {},
   "outputs": [],
   "source": [
    "# retrieve the average head activation on the patching dataset\n",
    "seq_len = patching_tokens.shape[-1]\n",
    "d_head = int(model.config.n_embd / model.config.n_head)\n",
    "average_head_acts = torch.zeros((model.config.n_layer, model.config.n_head, seq_len, model.config.n_embd)) # (n_layers, n_head, seq_len, d_model)\n",
    "\n",
    "d_head = int(model.config.n_embd / model.config.n_head)\n",
    "\n",
    "def cache_head_acts(module, input, output, layer: int, head: int):\n",
    "    \n",
    "    x = input[0].detach().clone() # (batch_size, seq_len, n_heads*d_head = d_model)\n",
    "    # Set to zero the activations that do not belong to `head`\n",
    "    x = x.view(x.size()[:-1] + (model.config.n_head, d_head)) # (batch_size, seq_len, n_heads, d_head)\n",
    "    mask = torch.ones_like(x)\n",
    "    mask[:, :, head] = 0.\n",
    "    x[mask.bool()] = 0.\n",
    "    x = x.view(x.size()[:-2] + (model.config.n_head * d_head,)) # back to the original shape\n",
    "    # Now project into the residual space\n",
    "    # This is literally a copy-paste of the forward method of the module.\n",
    "    # The thing is that if I call it again, it will the hook infinitely\n",
    "    # This is ultra-cursed but it works for now\n",
    "    size_out = x.size()[:-1] + (module.nf,)\n",
    "    x = torch.addmm(module.bias, x.view(-1, x.size(-1)), module.weight)\n",
    "    x = x.view(size_out)\n",
    "    average_head_acts[layer, head] = x.mean(0).detach().clone() # (seq_len, n_head, d_model)\n",
    "hooks = []\n",
    "for layer, head in itertools.product(range(model.config.n_layer), range(model.config.n_head)):\n",
    "    hook_fn = partial(cache_head_acts, layer=layer, head=head)\n",
    "    hooks.append(model.transformer.h[layer].attn.c_proj.register_forward_hook(hook_fn))\n",
    "model(patching_tokens)\n",
    "[hook.remove() for hook in hooks];\n",
    "torch.save(average_head_acts, \"average_head_acts.pt\")"
   ]
  },
  {
   "cell_type": "code",
   "execution_count": 28,
   "metadata": {},
   "outputs": [],
   "source": [
    "def mean_ablate_residual(module, input, output):\n",
    "    output = list(output)\n",
    "    output[0] = output[0].mean(0)[None, ...]\n",
    "    return tuple(output)\n",
    "\n",
    "def mean_ablate_head(module, input, output, layer_idx:int, head_idx: int, cache: Optional[Tensor] = None):\n",
    "    \"\"\"\n",
    "    The output has shape (batch_size, seq_len, 3*d_model) and contains\n",
    "    the concatenated QKV vectors (for every head), i.e. v = output[:, :, 2*d_model:]\n",
    "\n",
    "    If `cache=None`, replace with the mean of the current activation. If not, `cache` is \n",
    "    Tensor of shape (n_layers, seq_len, n_head, d_head) containing the mean activations\n",
    "    computed on another dataset.\n",
    "    \"\"\"\n",
    "    d_model = int(output.shape[-1] / 3)\n",
    "    v = output[:, :, 2*d_model:]\n",
    "    new_shape = v.shape[:-1] + (12, int(d_model / 12)) # (batch_size, seq_len, n_head, d_head)\n",
    "    v = v.view(new_shape)\n",
    "    if cache is None:\n",
    "        v[:, :, head_idx] = v[:, :, head_idx].mean(0)[None, ...]\n",
    "    else:\n",
    "        v[:, :, head_idx] = cache[layer_idx, :, head_idx][None, ...]\n",
    "    \n",
    "\n",
    "\n",
    "# for i in range(12):\n",
    "#     hooks.append(model.transformer.h[i].attn.register_forward_hook(mean_ablate_residual))\n",
    "\n",
    "# heads_to_patch = [(8, 11), (9, 9), (10, 10)]\n",
    "\n",
    "# for layer, head in heads_to_patch:\n",
    "#     hook_fn = partial(mean_ablate_head, head_idx=head)\n",
    "#     hooks.append(model.transformer.h[layer].attn.c_attn.register_forward_hook(hook_fn))"
   ]
  },
  {
   "cell_type": "code",
   "execution_count": 29,
   "metadata": {},
   "outputs": [],
   "source": [
    "circuit_heads = [[], [8, 11], [9, 9], [10, 10], [11, 4], [5, 8], [4, 11], [2, 2], [1, 0]]\n",
    "\n",
    "circuit_heads_i = []\n",
    "logit_diffs = []\n",
    "std_logit_diffs = []\n",
    "\n",
    "for circuit_head in circuit_heads:\n",
    "    circuit_heads_i.append(circuit_head)\n",
    "    heads_to_patch = [[a, b] for a, b in itertools.product(range(0, 12), range(12)) if [a, b] not in circuit_heads_i]\n",
    "\n",
    "    hooks = []\n",
    "    for layer_i, head_i in heads_to_patch:\n",
    "        hook_fn = partial(mean_ablate_head, layer_idx=layer_i, head_idx=head_i, cache=average_head_acts)\n",
    "        hooks.append(model.transformer.h[layer_i].attn.c_attn.register_forward_hook(hook_fn))\n",
    "    circuit_logits = model(val_tokens)[\"logits\"]\n",
    "    [hook.remove() for hook in hooks]\n",
    "\n",
    "    logit_diff = compute_logit_diff(circuit_logits, val_answer_tokens, average=False)\n",
    "    av_logit_diff = logit_diff[..., -1].mean(0)\n",
    "    std_logit_diff = logit_diff[..., -1].std(0)\n",
    "    logit_diffs.append(av_logit_diff)\n",
    "    std_logit_diffs.append(std_logit_diff)\n",
    "logit_diffs = torch.stack(logit_diffs, dim=0)\n",
    "std_logit_diffs = torch.stack(std_logit_diffs, dim=0)"
   ]
  },
  {
   "cell_type": "code",
   "execution_count": 30,
   "metadata": {},
   "outputs": [
    {
     "data": {
      "application/vnd.plotly.v1+json": {
       "config": {
        "plotlyServerURL": "https://plot.ly"
       },
       "data": [
        {
         "error_y": {
          "array": [
           1.2422503232955933,
           1.0665944814682007,
           1.099604845046997,
           1.105834722518921,
           1.0788819789886475,
           1.067893624305725,
           1.1473220586776733,
           1.2785756587982178,
           1.3768948316574097
          ]
         },
         "hovertemplate": "x=%{x}<br>y=%{y}<extra></extra>",
         "legendgroup": "",
         "line": {
          "color": "#636efa",
          "dash": "solid"
         },
         "marker": {
          "symbol": "circle"
         },
         "mode": "lines",
         "name": "",
         "orientation": "v",
         "showlegend": false,
         "type": "scatter",
         "x": [
          "None",
          "8.11",
          "9.9",
          "10.10",
          "11.4",
          "5.8",
          "4.11",
          "2.2",
          "1.0"
         ],
         "xaxis": "x",
         "y": [
          -0.8814378380775452,
          2.456256151199341,
          2.6377487182617188,
          4.343130111694336,
          4.446231842041016,
          4.3959550857543945,
          4.215796947479248,
          4.082383632659912,
          4.0291361808776855
         ],
         "yaxis": "y"
        }
       ],
       "layout": {
        "height": 400,
        "legend": {
         "tracegroupgap": 0
        },
        "margin": {
         "t": 60
        },
        "shapes": [
         {
          "line": {
           "color": "black",
           "dash": "dash",
           "width": 1.5
          },
          "type": "line",
          "x0": 0,
          "x1": 1,
          "xref": "x domain",
          "y0": 3.310142755508423,
          "y1": 3.310142755508423,
          "yref": "y"
         }
        ],
        "template": {
         "data": {
          "bar": [
           {
            "error_x": {
             "color": "#2a3f5f"
            },
            "error_y": {
             "color": "#2a3f5f"
            },
            "marker": {
             "line": {
              "color": "#E5ECF6",
              "width": 0.5
             },
             "pattern": {
              "fillmode": "overlay",
              "size": 10,
              "solidity": 0.2
             }
            },
            "type": "bar"
           }
          ],
          "barpolar": [
           {
            "marker": {
             "line": {
              "color": "#E5ECF6",
              "width": 0.5
             },
             "pattern": {
              "fillmode": "overlay",
              "size": 10,
              "solidity": 0.2
             }
            },
            "type": "barpolar"
           }
          ],
          "carpet": [
           {
            "aaxis": {
             "endlinecolor": "#2a3f5f",
             "gridcolor": "white",
             "linecolor": "white",
             "minorgridcolor": "white",
             "startlinecolor": "#2a3f5f"
            },
            "baxis": {
             "endlinecolor": "#2a3f5f",
             "gridcolor": "white",
             "linecolor": "white",
             "minorgridcolor": "white",
             "startlinecolor": "#2a3f5f"
            },
            "type": "carpet"
           }
          ],
          "choropleth": [
           {
            "colorbar": {
             "outlinewidth": 0,
             "ticks": ""
            },
            "type": "choropleth"
           }
          ],
          "contour": [
           {
            "colorbar": {
             "outlinewidth": 0,
             "ticks": ""
            },
            "colorscale": [
             [
              0,
              "#0d0887"
             ],
             [
              0.1111111111111111,
              "#46039f"
             ],
             [
              0.2222222222222222,
              "#7201a8"
             ],
             [
              0.3333333333333333,
              "#9c179e"
             ],
             [
              0.4444444444444444,
              "#bd3786"
             ],
             [
              0.5555555555555556,
              "#d8576b"
             ],
             [
              0.6666666666666666,
              "#ed7953"
             ],
             [
              0.7777777777777778,
              "#fb9f3a"
             ],
             [
              0.8888888888888888,
              "#fdca26"
             ],
             [
              1,
              "#f0f921"
             ]
            ],
            "type": "contour"
           }
          ],
          "contourcarpet": [
           {
            "colorbar": {
             "outlinewidth": 0,
             "ticks": ""
            },
            "type": "contourcarpet"
           }
          ],
          "heatmap": [
           {
            "colorbar": {
             "outlinewidth": 0,
             "ticks": ""
            },
            "colorscale": [
             [
              0,
              "#0d0887"
             ],
             [
              0.1111111111111111,
              "#46039f"
             ],
             [
              0.2222222222222222,
              "#7201a8"
             ],
             [
              0.3333333333333333,
              "#9c179e"
             ],
             [
              0.4444444444444444,
              "#bd3786"
             ],
             [
              0.5555555555555556,
              "#d8576b"
             ],
             [
              0.6666666666666666,
              "#ed7953"
             ],
             [
              0.7777777777777778,
              "#fb9f3a"
             ],
             [
              0.8888888888888888,
              "#fdca26"
             ],
             [
              1,
              "#f0f921"
             ]
            ],
            "type": "heatmap"
           }
          ],
          "heatmapgl": [
           {
            "colorbar": {
             "outlinewidth": 0,
             "ticks": ""
            },
            "colorscale": [
             [
              0,
              "#0d0887"
             ],
             [
              0.1111111111111111,
              "#46039f"
             ],
             [
              0.2222222222222222,
              "#7201a8"
             ],
             [
              0.3333333333333333,
              "#9c179e"
             ],
             [
              0.4444444444444444,
              "#bd3786"
             ],
             [
              0.5555555555555556,
              "#d8576b"
             ],
             [
              0.6666666666666666,
              "#ed7953"
             ],
             [
              0.7777777777777778,
              "#fb9f3a"
             ],
             [
              0.8888888888888888,
              "#fdca26"
             ],
             [
              1,
              "#f0f921"
             ]
            ],
            "type": "heatmapgl"
           }
          ],
          "histogram": [
           {
            "marker": {
             "pattern": {
              "fillmode": "overlay",
              "size": 10,
              "solidity": 0.2
             }
            },
            "type": "histogram"
           }
          ],
          "histogram2d": [
           {
            "colorbar": {
             "outlinewidth": 0,
             "ticks": ""
            },
            "colorscale": [
             [
              0,
              "#0d0887"
             ],
             [
              0.1111111111111111,
              "#46039f"
             ],
             [
              0.2222222222222222,
              "#7201a8"
             ],
             [
              0.3333333333333333,
              "#9c179e"
             ],
             [
              0.4444444444444444,
              "#bd3786"
             ],
             [
              0.5555555555555556,
              "#d8576b"
             ],
             [
              0.6666666666666666,
              "#ed7953"
             ],
             [
              0.7777777777777778,
              "#fb9f3a"
             ],
             [
              0.8888888888888888,
              "#fdca26"
             ],
             [
              1,
              "#f0f921"
             ]
            ],
            "type": "histogram2d"
           }
          ],
          "histogram2dcontour": [
           {
            "colorbar": {
             "outlinewidth": 0,
             "ticks": ""
            },
            "colorscale": [
             [
              0,
              "#0d0887"
             ],
             [
              0.1111111111111111,
              "#46039f"
             ],
             [
              0.2222222222222222,
              "#7201a8"
             ],
             [
              0.3333333333333333,
              "#9c179e"
             ],
             [
              0.4444444444444444,
              "#bd3786"
             ],
             [
              0.5555555555555556,
              "#d8576b"
             ],
             [
              0.6666666666666666,
              "#ed7953"
             ],
             [
              0.7777777777777778,
              "#fb9f3a"
             ],
             [
              0.8888888888888888,
              "#fdca26"
             ],
             [
              1,
              "#f0f921"
             ]
            ],
            "type": "histogram2dcontour"
           }
          ],
          "mesh3d": [
           {
            "colorbar": {
             "outlinewidth": 0,
             "ticks": ""
            },
            "type": "mesh3d"
           }
          ],
          "parcoords": [
           {
            "line": {
             "colorbar": {
              "outlinewidth": 0,
              "ticks": ""
             }
            },
            "type": "parcoords"
           }
          ],
          "pie": [
           {
            "automargin": true,
            "type": "pie"
           }
          ],
          "scatter": [
           {
            "fillpattern": {
             "fillmode": "overlay",
             "size": 10,
             "solidity": 0.2
            },
            "type": "scatter"
           }
          ],
          "scatter3d": [
           {
            "line": {
             "colorbar": {
              "outlinewidth": 0,
              "ticks": ""
             }
            },
            "marker": {
             "colorbar": {
              "outlinewidth": 0,
              "ticks": ""
             }
            },
            "type": "scatter3d"
           }
          ],
          "scattercarpet": [
           {
            "marker": {
             "colorbar": {
              "outlinewidth": 0,
              "ticks": ""
             }
            },
            "type": "scattercarpet"
           }
          ],
          "scattergeo": [
           {
            "marker": {
             "colorbar": {
              "outlinewidth": 0,
              "ticks": ""
             }
            },
            "type": "scattergeo"
           }
          ],
          "scattergl": [
           {
            "marker": {
             "colorbar": {
              "outlinewidth": 0,
              "ticks": ""
             }
            },
            "type": "scattergl"
           }
          ],
          "scattermapbox": [
           {
            "marker": {
             "colorbar": {
              "outlinewidth": 0,
              "ticks": ""
             }
            },
            "type": "scattermapbox"
           }
          ],
          "scatterpolar": [
           {
            "marker": {
             "colorbar": {
              "outlinewidth": 0,
              "ticks": ""
             }
            },
            "type": "scatterpolar"
           }
          ],
          "scatterpolargl": [
           {
            "marker": {
             "colorbar": {
              "outlinewidth": 0,
              "ticks": ""
             }
            },
            "type": "scatterpolargl"
           }
          ],
          "scatterternary": [
           {
            "marker": {
             "colorbar": {
              "outlinewidth": 0,
              "ticks": ""
             }
            },
            "type": "scatterternary"
           }
          ],
          "surface": [
           {
            "colorbar": {
             "outlinewidth": 0,
             "ticks": ""
            },
            "colorscale": [
             [
              0,
              "#0d0887"
             ],
             [
              0.1111111111111111,
              "#46039f"
             ],
             [
              0.2222222222222222,
              "#7201a8"
             ],
             [
              0.3333333333333333,
              "#9c179e"
             ],
             [
              0.4444444444444444,
              "#bd3786"
             ],
             [
              0.5555555555555556,
              "#d8576b"
             ],
             [
              0.6666666666666666,
              "#ed7953"
             ],
             [
              0.7777777777777778,
              "#fb9f3a"
             ],
             [
              0.8888888888888888,
              "#fdca26"
             ],
             [
              1,
              "#f0f921"
             ]
            ],
            "type": "surface"
           }
          ],
          "table": [
           {
            "cells": {
             "fill": {
              "color": "#EBF0F8"
             },
             "line": {
              "color": "white"
             }
            },
            "header": {
             "fill": {
              "color": "#C8D4E3"
             },
             "line": {
              "color": "white"
             }
            },
            "type": "table"
           }
          ]
         },
         "layout": {
          "annotationdefaults": {
           "arrowcolor": "#2a3f5f",
           "arrowhead": 0,
           "arrowwidth": 1
          },
          "autotypenumbers": "strict",
          "coloraxis": {
           "colorbar": {
            "outlinewidth": 0,
            "ticks": ""
           }
          },
          "colorscale": {
           "diverging": [
            [
             0,
             "#8e0152"
            ],
            [
             0.1,
             "#c51b7d"
            ],
            [
             0.2,
             "#de77ae"
            ],
            [
             0.3,
             "#f1b6da"
            ],
            [
             0.4,
             "#fde0ef"
            ],
            [
             0.5,
             "#f7f7f7"
            ],
            [
             0.6,
             "#e6f5d0"
            ],
            [
             0.7,
             "#b8e186"
            ],
            [
             0.8,
             "#7fbc41"
            ],
            [
             0.9,
             "#4d9221"
            ],
            [
             1,
             "#276419"
            ]
           ],
           "sequential": [
            [
             0,
             "#0d0887"
            ],
            [
             0.1111111111111111,
             "#46039f"
            ],
            [
             0.2222222222222222,
             "#7201a8"
            ],
            [
             0.3333333333333333,
             "#9c179e"
            ],
            [
             0.4444444444444444,
             "#bd3786"
            ],
            [
             0.5555555555555556,
             "#d8576b"
            ],
            [
             0.6666666666666666,
             "#ed7953"
            ],
            [
             0.7777777777777778,
             "#fb9f3a"
            ],
            [
             0.8888888888888888,
             "#fdca26"
            ],
            [
             1,
             "#f0f921"
            ]
           ],
           "sequentialminus": [
            [
             0,
             "#0d0887"
            ],
            [
             0.1111111111111111,
             "#46039f"
            ],
            [
             0.2222222222222222,
             "#7201a8"
            ],
            [
             0.3333333333333333,
             "#9c179e"
            ],
            [
             0.4444444444444444,
             "#bd3786"
            ],
            [
             0.5555555555555556,
             "#d8576b"
            ],
            [
             0.6666666666666666,
             "#ed7953"
            ],
            [
             0.7777777777777778,
             "#fb9f3a"
            ],
            [
             0.8888888888888888,
             "#fdca26"
            ],
            [
             1,
             "#f0f921"
            ]
           ]
          },
          "colorway": [
           "#636efa",
           "#EF553B",
           "#00cc96",
           "#ab63fa",
           "#FFA15A",
           "#19d3f3",
           "#FF6692",
           "#B6E880",
           "#FF97FF",
           "#FECB52"
          ],
          "font": {
           "color": "#2a3f5f"
          },
          "geo": {
           "bgcolor": "white",
           "lakecolor": "white",
           "landcolor": "#E5ECF6",
           "showlakes": true,
           "showland": true,
           "subunitcolor": "white"
          },
          "hoverlabel": {
           "align": "left"
          },
          "hovermode": "closest",
          "mapbox": {
           "style": "light"
          },
          "paper_bgcolor": "white",
          "plot_bgcolor": "#E5ECF6",
          "polar": {
           "angularaxis": {
            "gridcolor": "white",
            "linecolor": "white",
            "ticks": ""
           },
           "bgcolor": "#E5ECF6",
           "radialaxis": {
            "gridcolor": "white",
            "linecolor": "white",
            "ticks": ""
           }
          },
          "scene": {
           "xaxis": {
            "backgroundcolor": "#E5ECF6",
            "gridcolor": "white",
            "gridwidth": 2,
            "linecolor": "white",
            "showbackground": true,
            "ticks": "",
            "zerolinecolor": "white"
           },
           "yaxis": {
            "backgroundcolor": "#E5ECF6",
            "gridcolor": "white",
            "gridwidth": 2,
            "linecolor": "white",
            "showbackground": true,
            "ticks": "",
            "zerolinecolor": "white"
           },
           "zaxis": {
            "backgroundcolor": "#E5ECF6",
            "gridcolor": "white",
            "gridwidth": 2,
            "linecolor": "white",
            "showbackground": true,
            "ticks": "",
            "zerolinecolor": "white"
           }
          },
          "shapedefaults": {
           "line": {
            "color": "#2a3f5f"
           }
          },
          "ternary": {
           "aaxis": {
            "gridcolor": "white",
            "linecolor": "white",
            "ticks": ""
           },
           "baxis": {
            "gridcolor": "white",
            "linecolor": "white",
            "ticks": ""
           },
           "bgcolor": "#E5ECF6",
           "caxis": {
            "gridcolor": "white",
            "linecolor": "white",
            "ticks": ""
           }
          },
          "title": {
           "x": 0.05
          },
          "xaxis": {
           "automargin": true,
           "gridcolor": "white",
           "linecolor": "white",
           "ticks": "",
           "title": {
            "standoff": 15
           },
           "zerolinecolor": "white",
           "zerolinewidth": 2
          },
          "yaxis": {
           "automargin": true,
           "gridcolor": "white",
           "linecolor": "white",
           "ticks": "",
           "title": {
            "standoff": 15
           },
           "zerolinecolor": "white",
           "zerolinewidth": 2
          }
         }
        },
        "width": 800,
        "xaxis": {
         "anchor": "y",
         "domain": [
          0,
          1
         ],
         "title": {
          "text": "x"
         }
        },
        "yaxis": {
         "anchor": "x",
         "domain": [
          0,
          1
         ],
         "title": {
          "text": "y"
         }
        }
       }
      }
     },
     "metadata": {},
     "output_type": "display_data"
    }
   ],
   "source": [
    "labels = [\"None\"] + [f\"{layer}.{head}\" for layer, head in circuit_heads[1:]]\n",
    "fig = px.line(x = labels, y=logit_diffs.cpu().numpy(), error_y=std_logit_diffs.cpu().numpy(), width=800, height=400)\n",
    "fig.add_hline(y=val_logit_diff.item(), line_width=1.5, line_dash=\"dash\", line_color=\"black\")\n",
    "fig.show()"
   ]
  },
  {
   "cell_type": "code",
   "execution_count": 13,
   "metadata": {},
   "outputs": [],
   "source": [
    "with open(\"ordered_heads.pkl\", \"rb\") as handle:\n",
    "    circuit_heads = pickle.load(handle)"
   ]
  },
  {
   "cell_type": "code",
   "execution_count": 12,
   "metadata": {},
   "outputs": [],
   "source": [
    "heads_to_patch = []\n",
    "logit_diffs = []\n",
    "std_logit_diffs = []\n",
    "\n",
    "for circuit_head in circuit_heads:\n",
    "    heads_to_patch.append(circuit_head)\n",
    "    hooks = []\n",
    "    for layer_i, head_i in heads_to_patch:\n",
    "        hook_fn = partial(mean_ablate_head, layer_idx=layer_i, head_idx=head_i, cache=average_head_acts)\n",
    "        hooks.append(model.transformer.h[layer_i].attn.c_attn.register_forward_hook(hook_fn))\n",
    "    circuit_logits = model(val_tokens)[\"logits\"]\n",
    "    [hook.remove() for hook in hooks]\n",
    "\n",
    "    logit_diff = compute_logit_diff(circuit_logits, val_answer_tokens, average=False)\n",
    "    av_logit_diff = logit_diff[..., -1].mean(0)\n",
    "    std_logit_diff = logit_diff[..., -1].std(0)\n",
    "    logit_diffs.append(av_logit_diff)\n",
    "    std_logit_diffs.append(std_logit_diff)\n",
    "logit_diffs = torch.stack(logit_diffs, dim=0)\n",
    "std_logit_diffs = torch.stack(std_logit_diffs, dim=0)"
   ]
  },
  {
   "cell_type": "code",
   "execution_count": 13,
   "metadata": {},
   "outputs": [
    {
     "data": {
      "application/vnd.plotly.v1+json": {
       "config": {
        "plotlyServerURL": "https://plot.ly"
       },
       "data": [
        {
         "error_y": {
          "array": [
           1.5646679401397705,
           1.4712181091308594,
           1.5952836275100708,
           1.4140348434448242,
           1.361767053604126,
           1.3348098993301392,
           1.3056997060775757,
           1.3173787593841553,
           1.3409764766693115,
           1.301740288734436,
           1.2848061323165894,
           1.2365262508392334,
           1.2346388101577759,
           1.2123384475708008,
           1.1999446153640747,
           1.1688374280929565,
           1.1445871591567993,
           1.1363170146942139,
           1.1572564840316772,
           1.1624248027801514,
           1.1514755487442017,
           1.1459256410598755,
           1.1347635984420776,
           1.1301809549331665,
           1.1060277223587036,
           1.1151235103607178,
           1.1051758527755737,
           1.0950795412063599,
           1.0809125900268555,
           1.084080457687378,
           1.0803050994873047,
           1.0655721426010132,
           1.0678993463516235,
           1.059016466140747,
           1.0610350370407104,
           1.0637964010238647,
           1.0583198070526123,
           1.0271763801574707,
           1.0710245370864868,
           1.0729674100875854,
           1.0741331577301025,
           1.0753146409988403,
           1.0759384632110596,
           1.088600993156433,
           1.092013955116272,
           1.090428113937378,
           1.0849815607070923,
           1.0902013778686523,
           1.0909382104873657,
           1.0941641330718994,
           1.086733102798462,
           1.082798957824707,
           1.076176404953003,
           1.0761864185333252,
           1.0861053466796875,
           1.0838658809661865,
           1.0810890197753906,
           1.0805137157440186,
           1.0878626108169556,
           1.0910009145736694,
           1.0927410125732422,
           1.0658700466156006,
           1.0750130414962769,
           1.0618023872375488,
           1.0598119497299194,
           1.0597169399261475,
           1.0586233139038086,
           1.0585744380950928,
           1.058779239654541,
           1.056594729423523,
           1.0573424100875854,
           1.0612150430679321,
           1.0604413747787476,
           1.0633267164230347,
           1.06787109375,
           1.0651131868362427,
           1.0634628534317017,
           1.064360499382019,
           1.064735770225525,
           1.0643035173416138,
           1.064090609550476,
           1.0644387006759644,
           1.0559899806976318,
           1.0524464845657349,
           1.0560293197631836,
           1.0457102060317993,
           1.0471631288528442,
           1.048346757888794,
           1.0484894514083862,
           1.051534652709961,
           1.0566117763519287,
           1.0574822425842285,
           1.0583209991455078,
           1.0483615398406982,
           1.0476447343826294,
           1.0469608306884766,
           1.0473088026046753,
           1.0430959463119507,
           1.0412346124649048,
           1.0486637353897095,
           1.0395087003707886,
           1.0369296073913574,
           1.0357896089553833,
           1.0363205671310425,
           1.0415220260620117,
           1.0427818298339844,
           1.0522410869598389,
           1.0536378622055054,
           1.0483980178833008,
           1.0567646026611328,
           1.0559712648391724,
           1.0551902055740356,
           1.0512526035308838,
           1.051500678062439,
           1.0474573373794556,
           1.0495411157608032,
           1.0518834590911865,
           1.0575965642929077,
           1.0538115501403809,
           1.0468246936798096,
           1.040374994277954,
           1.0423130989074707,
           1.0511294603347778,
           1.0607178211212158,
           1.071312665939331,
           1.0605117082595825,
           1.0592979192733765,
           1.0615124702453613,
           1.0609883069992065,
           1.0658605098724365,
           1.081928014755249,
           1.0764447450637817,
           1.0877536535263062,
           1.0753345489501953,
           1.085164189338684,
           1.07787024974823,
           1.058501124382019,
           1.0624057054519653,
           1.090078592300415,
           1.1154638528823853,
           1.111297607421875,
           1.1057106256484985,
           1.2292317152023315,
           1.2753971815109253
          ]
         },
         "hovertemplate": "x=%{x}<br>y=%{y}<extra></extra>",
         "legendgroup": "",
         "line": {
          "color": "#636efa",
          "dash": "solid"
         },
         "marker": {
          "symbol": "circle"
         },
         "mode": "lines",
         "name": "",
         "orientation": "v",
         "showlegend": false,
         "type": "scatter",
         "x": [
          "5.6",
          "9.9",
          "11.10",
          "4.11",
          "0.1",
          "7.10",
          "5.10",
          "10.7",
          "0.5",
          "6.8",
          "0.7",
          "2.1",
          "0.11",
          "10.0",
          "2.2",
          "7.0",
          "3.2",
          "6.9",
          "1.0",
          "2.4",
          "5.5",
          "11.0",
          "7.2",
          "0.9",
          "0.3",
          "0.4",
          "10.1",
          "2.8",
          "4.5",
          "10.6",
          "6.1",
          "0.6",
          "3.5",
          "7.8",
          "4.6",
          "3.0",
          "3.9",
          "6.7",
          "1.11",
          "6.4",
          "0.8",
          "5.7",
          "2.11",
          "3.7",
          "9.3",
          "6.0",
          "8.5",
          "11.1",
          "9.6",
          "5.3",
          "5.4",
          "11.9",
          "8.1",
          "4.2",
          "7.6",
          "4.10",
          "11.5",
          "10.11",
          "3.3",
          "5.0",
          "2.3",
          "4.3",
          "4.1",
          "8.6",
          "7.4",
          "5.1",
          "3.6",
          "4.9",
          "6.2",
          "4.8",
          "7.7",
          "8.0",
          "9.4",
          "7.11",
          "10.3",
          "11.7",
          "6.3",
          "10.4",
          "9.5",
          "8.4",
          "10.5",
          "9.11",
          "3.4",
          "8.7",
          "1.8",
          "8.8",
          "9.2",
          "2.6",
          "1.2",
          "6.10",
          "3.11",
          "6.11",
          "10.2",
          "7.1",
          "9.10",
          "8.2",
          "1.9",
          "11.3",
          "1.3",
          "2.10",
          "1.6",
          "9.7",
          "10.9",
          "3.1",
          "10.8",
          "9.1",
          "11.2",
          "9.8",
          "7.3",
          "7.5",
          "9.0",
          "8.9",
          "4.0",
          "1.4",
          "1.1",
          "1.10",
          "3.8",
          "6.6",
          "0.2",
          "2.7",
          "11.8",
          "5.2",
          "2.5",
          "7.9",
          "2.9",
          "0.0",
          "2.0",
          "4.4",
          "6.5",
          "5.11",
          "0.10",
          "5.9",
          "5.8",
          "1.5",
          "11.6",
          "8.3",
          "1.7",
          "11.11",
          "11.4",
          "3.10",
          "8.10",
          "4.7",
          "10.10",
          "8.11"
         ],
         "xaxis": "x",
         "y": [
          3.7892322540283203,
          3.948397159576416,
          4.2671942710876465,
          4.423165798187256,
          4.509268760681152,
          4.1427693367004395,
          4.217902660369873,
          4.635891914367676,
          4.6676177978515625,
          4.6993937492370605,
          4.688284397125244,
          4.7151079177856445,
          4.680700778961182,
          4.6988701820373535,
          4.702916145324707,
          4.718206882476807,
          4.721510410308838,
          4.722028732299805,
          4.7461066246032715,
          4.748347282409668,
          4.726425647735596,
          4.744190216064453,
          4.759204387664795,
          4.760661602020264,
          4.793718338012695,
          4.790256500244141,
          4.820076942443848,
          4.821521282196045,
          4.808321475982666,
          4.809473991394043,
          4.801527500152588,
          4.796812057495117,
          4.788636684417725,
          4.7746124267578125,
          4.793796539306641,
          4.80478048324585,
          4.805567264556885,
          4.8286285400390625,
          4.770638942718506,
          4.76191520690918,
          4.771962642669678,
          4.782132148742676,
          4.776437282562256,
          4.781330585479736,
          4.762282848358154,
          4.733424663543701,
          4.726529598236084,
          4.737082004547119,
          4.7244181632995605,
          4.725101947784424,
          4.713204383850098,
          4.737293720245361,
          4.73141622543335,
          4.738819122314453,
          4.758781909942627,
          4.764753341674805,
          4.7701802253723145,
          4.77052640914917,
          4.811647891998291,
          4.813757419586182,
          4.824820041656494,
          4.782847881317139,
          4.7790303230285645,
          4.753922939300537,
          4.74954080581665,
          4.748452663421631,
          4.703554630279541,
          4.703211307525635,
          4.69858455657959,
          4.726993560791016,
          4.724396228790283,
          4.723074436187744,
          4.7246246337890625,
          4.720840930938721,
          4.7144622802734375,
          4.722968578338623,
          4.7250213623046875,
          4.725896835327148,
          4.751120567321777,
          4.75141716003418,
          4.749156951904297,
          4.750035285949707,
          4.740016460418701,
          4.753972053527832,
          4.749685287475586,
          4.745596408843994,
          4.735534191131592,
          4.735497951507568,
          4.737003326416016,
          4.741544723510742,
          4.741008281707764,
          4.734593868255615,
          4.732076644897461,
          4.718518257141113,
          4.718540668487549,
          4.726231098175049,
          4.723595142364502,
          4.705134391784668,
          4.699467182159424,
          4.662186145782471,
          4.66723108291626,
          4.674863815307617,
          4.672032833099365,
          4.663670539855957,
          4.665791034698486,
          4.66081428527832,
          4.647252082824707,
          4.642839431762695,
          4.641243934631348,
          4.642788887023926,
          4.629030227661133,
          4.636157989501953,
          4.647385120391846,
          4.645646572113037,
          4.642937183380127,
          4.633671760559082,
          4.614449501037598,
          4.63648796081543,
          4.627142429351807,
          4.649667739868164,
          4.642448902130127,
          4.631093502044678,
          4.638252258300781,
          4.633817195892334,
          4.617788314819336,
          4.595015048980713,
          4.5908098220825195,
          4.611114978790283,
          4.610172271728516,
          4.5981903076171875,
          4.638978004455566,
          4.610183238983154,
          4.644069194793701,
          4.632622718811035,
          4.57887077331543,
          4.534491539001465,
          4.521328926086426,
          4.4712934494018555,
          4.348693370819092,
          4.3162970542907715,
          4.411560535430908,
          4.303490161895752,
          2.512139081954956,
          -0.9596958160400391
         ],
         "yaxis": "y"
        }
       ],
       "layout": {
        "legend": {
         "tracegroupgap": 0
        },
        "margin": {
         "t": 60
        },
        "shapes": [
         {
          "line": {
           "color": "black",
           "dash": "dash",
           "width": 1.5
          },
          "type": "line",
          "x0": 0,
          "x1": 1,
          "xref": "x domain",
          "y0": 3.4387547969818115,
          "y1": 3.4387547969818115,
          "yref": "y"
         }
        ],
        "template": {
         "data": {
          "bar": [
           {
            "error_x": {
             "color": "#2a3f5f"
            },
            "error_y": {
             "color": "#2a3f5f"
            },
            "marker": {
             "line": {
              "color": "#E5ECF6",
              "width": 0.5
             },
             "pattern": {
              "fillmode": "overlay",
              "size": 10,
              "solidity": 0.2
             }
            },
            "type": "bar"
           }
          ],
          "barpolar": [
           {
            "marker": {
             "line": {
              "color": "#E5ECF6",
              "width": 0.5
             },
             "pattern": {
              "fillmode": "overlay",
              "size": 10,
              "solidity": 0.2
             }
            },
            "type": "barpolar"
           }
          ],
          "carpet": [
           {
            "aaxis": {
             "endlinecolor": "#2a3f5f",
             "gridcolor": "white",
             "linecolor": "white",
             "minorgridcolor": "white",
             "startlinecolor": "#2a3f5f"
            },
            "baxis": {
             "endlinecolor": "#2a3f5f",
             "gridcolor": "white",
             "linecolor": "white",
             "minorgridcolor": "white",
             "startlinecolor": "#2a3f5f"
            },
            "type": "carpet"
           }
          ],
          "choropleth": [
           {
            "colorbar": {
             "outlinewidth": 0,
             "ticks": ""
            },
            "type": "choropleth"
           }
          ],
          "contour": [
           {
            "colorbar": {
             "outlinewidth": 0,
             "ticks": ""
            },
            "colorscale": [
             [
              0,
              "#0d0887"
             ],
             [
              0.1111111111111111,
              "#46039f"
             ],
             [
              0.2222222222222222,
              "#7201a8"
             ],
             [
              0.3333333333333333,
              "#9c179e"
             ],
             [
              0.4444444444444444,
              "#bd3786"
             ],
             [
              0.5555555555555556,
              "#d8576b"
             ],
             [
              0.6666666666666666,
              "#ed7953"
             ],
             [
              0.7777777777777778,
              "#fb9f3a"
             ],
             [
              0.8888888888888888,
              "#fdca26"
             ],
             [
              1,
              "#f0f921"
             ]
            ],
            "type": "contour"
           }
          ],
          "contourcarpet": [
           {
            "colorbar": {
             "outlinewidth": 0,
             "ticks": ""
            },
            "type": "contourcarpet"
           }
          ],
          "heatmap": [
           {
            "colorbar": {
             "outlinewidth": 0,
             "ticks": ""
            },
            "colorscale": [
             [
              0,
              "#0d0887"
             ],
             [
              0.1111111111111111,
              "#46039f"
             ],
             [
              0.2222222222222222,
              "#7201a8"
             ],
             [
              0.3333333333333333,
              "#9c179e"
             ],
             [
              0.4444444444444444,
              "#bd3786"
             ],
             [
              0.5555555555555556,
              "#d8576b"
             ],
             [
              0.6666666666666666,
              "#ed7953"
             ],
             [
              0.7777777777777778,
              "#fb9f3a"
             ],
             [
              0.8888888888888888,
              "#fdca26"
             ],
             [
              1,
              "#f0f921"
             ]
            ],
            "type": "heatmap"
           }
          ],
          "heatmapgl": [
           {
            "colorbar": {
             "outlinewidth": 0,
             "ticks": ""
            },
            "colorscale": [
             [
              0,
              "#0d0887"
             ],
             [
              0.1111111111111111,
              "#46039f"
             ],
             [
              0.2222222222222222,
              "#7201a8"
             ],
             [
              0.3333333333333333,
              "#9c179e"
             ],
             [
              0.4444444444444444,
              "#bd3786"
             ],
             [
              0.5555555555555556,
              "#d8576b"
             ],
             [
              0.6666666666666666,
              "#ed7953"
             ],
             [
              0.7777777777777778,
              "#fb9f3a"
             ],
             [
              0.8888888888888888,
              "#fdca26"
             ],
             [
              1,
              "#f0f921"
             ]
            ],
            "type": "heatmapgl"
           }
          ],
          "histogram": [
           {
            "marker": {
             "pattern": {
              "fillmode": "overlay",
              "size": 10,
              "solidity": 0.2
             }
            },
            "type": "histogram"
           }
          ],
          "histogram2d": [
           {
            "colorbar": {
             "outlinewidth": 0,
             "ticks": ""
            },
            "colorscale": [
             [
              0,
              "#0d0887"
             ],
             [
              0.1111111111111111,
              "#46039f"
             ],
             [
              0.2222222222222222,
              "#7201a8"
             ],
             [
              0.3333333333333333,
              "#9c179e"
             ],
             [
              0.4444444444444444,
              "#bd3786"
             ],
             [
              0.5555555555555556,
              "#d8576b"
             ],
             [
              0.6666666666666666,
              "#ed7953"
             ],
             [
              0.7777777777777778,
              "#fb9f3a"
             ],
             [
              0.8888888888888888,
              "#fdca26"
             ],
             [
              1,
              "#f0f921"
             ]
            ],
            "type": "histogram2d"
           }
          ],
          "histogram2dcontour": [
           {
            "colorbar": {
             "outlinewidth": 0,
             "ticks": ""
            },
            "colorscale": [
             [
              0,
              "#0d0887"
             ],
             [
              0.1111111111111111,
              "#46039f"
             ],
             [
              0.2222222222222222,
              "#7201a8"
             ],
             [
              0.3333333333333333,
              "#9c179e"
             ],
             [
              0.4444444444444444,
              "#bd3786"
             ],
             [
              0.5555555555555556,
              "#d8576b"
             ],
             [
              0.6666666666666666,
              "#ed7953"
             ],
             [
              0.7777777777777778,
              "#fb9f3a"
             ],
             [
              0.8888888888888888,
              "#fdca26"
             ],
             [
              1,
              "#f0f921"
             ]
            ],
            "type": "histogram2dcontour"
           }
          ],
          "mesh3d": [
           {
            "colorbar": {
             "outlinewidth": 0,
             "ticks": ""
            },
            "type": "mesh3d"
           }
          ],
          "parcoords": [
           {
            "line": {
             "colorbar": {
              "outlinewidth": 0,
              "ticks": ""
             }
            },
            "type": "parcoords"
           }
          ],
          "pie": [
           {
            "automargin": true,
            "type": "pie"
           }
          ],
          "scatter": [
           {
            "fillpattern": {
             "fillmode": "overlay",
             "size": 10,
             "solidity": 0.2
            },
            "type": "scatter"
           }
          ],
          "scatter3d": [
           {
            "line": {
             "colorbar": {
              "outlinewidth": 0,
              "ticks": ""
             }
            },
            "marker": {
             "colorbar": {
              "outlinewidth": 0,
              "ticks": ""
             }
            },
            "type": "scatter3d"
           }
          ],
          "scattercarpet": [
           {
            "marker": {
             "colorbar": {
              "outlinewidth": 0,
              "ticks": ""
             }
            },
            "type": "scattercarpet"
           }
          ],
          "scattergeo": [
           {
            "marker": {
             "colorbar": {
              "outlinewidth": 0,
              "ticks": ""
             }
            },
            "type": "scattergeo"
           }
          ],
          "scattergl": [
           {
            "marker": {
             "colorbar": {
              "outlinewidth": 0,
              "ticks": ""
             }
            },
            "type": "scattergl"
           }
          ],
          "scattermapbox": [
           {
            "marker": {
             "colorbar": {
              "outlinewidth": 0,
              "ticks": ""
             }
            },
            "type": "scattermapbox"
           }
          ],
          "scatterpolar": [
           {
            "marker": {
             "colorbar": {
              "outlinewidth": 0,
              "ticks": ""
             }
            },
            "type": "scatterpolar"
           }
          ],
          "scatterpolargl": [
           {
            "marker": {
             "colorbar": {
              "outlinewidth": 0,
              "ticks": ""
             }
            },
            "type": "scatterpolargl"
           }
          ],
          "scatterternary": [
           {
            "marker": {
             "colorbar": {
              "outlinewidth": 0,
              "ticks": ""
             }
            },
            "type": "scatterternary"
           }
          ],
          "surface": [
           {
            "colorbar": {
             "outlinewidth": 0,
             "ticks": ""
            },
            "colorscale": [
             [
              0,
              "#0d0887"
             ],
             [
              0.1111111111111111,
              "#46039f"
             ],
             [
              0.2222222222222222,
              "#7201a8"
             ],
             [
              0.3333333333333333,
              "#9c179e"
             ],
             [
              0.4444444444444444,
              "#bd3786"
             ],
             [
              0.5555555555555556,
              "#d8576b"
             ],
             [
              0.6666666666666666,
              "#ed7953"
             ],
             [
              0.7777777777777778,
              "#fb9f3a"
             ],
             [
              0.8888888888888888,
              "#fdca26"
             ],
             [
              1,
              "#f0f921"
             ]
            ],
            "type": "surface"
           }
          ],
          "table": [
           {
            "cells": {
             "fill": {
              "color": "#EBF0F8"
             },
             "line": {
              "color": "white"
             }
            },
            "header": {
             "fill": {
              "color": "#C8D4E3"
             },
             "line": {
              "color": "white"
             }
            },
            "type": "table"
           }
          ]
         },
         "layout": {
          "annotationdefaults": {
           "arrowcolor": "#2a3f5f",
           "arrowhead": 0,
           "arrowwidth": 1
          },
          "autotypenumbers": "strict",
          "coloraxis": {
           "colorbar": {
            "outlinewidth": 0,
            "ticks": ""
           }
          },
          "colorscale": {
           "diverging": [
            [
             0,
             "#8e0152"
            ],
            [
             0.1,
             "#c51b7d"
            ],
            [
             0.2,
             "#de77ae"
            ],
            [
             0.3,
             "#f1b6da"
            ],
            [
             0.4,
             "#fde0ef"
            ],
            [
             0.5,
             "#f7f7f7"
            ],
            [
             0.6,
             "#e6f5d0"
            ],
            [
             0.7,
             "#b8e186"
            ],
            [
             0.8,
             "#7fbc41"
            ],
            [
             0.9,
             "#4d9221"
            ],
            [
             1,
             "#276419"
            ]
           ],
           "sequential": [
            [
             0,
             "#0d0887"
            ],
            [
             0.1111111111111111,
             "#46039f"
            ],
            [
             0.2222222222222222,
             "#7201a8"
            ],
            [
             0.3333333333333333,
             "#9c179e"
            ],
            [
             0.4444444444444444,
             "#bd3786"
            ],
            [
             0.5555555555555556,
             "#d8576b"
            ],
            [
             0.6666666666666666,
             "#ed7953"
            ],
            [
             0.7777777777777778,
             "#fb9f3a"
            ],
            [
             0.8888888888888888,
             "#fdca26"
            ],
            [
             1,
             "#f0f921"
            ]
           ],
           "sequentialminus": [
            [
             0,
             "#0d0887"
            ],
            [
             0.1111111111111111,
             "#46039f"
            ],
            [
             0.2222222222222222,
             "#7201a8"
            ],
            [
             0.3333333333333333,
             "#9c179e"
            ],
            [
             0.4444444444444444,
             "#bd3786"
            ],
            [
             0.5555555555555556,
             "#d8576b"
            ],
            [
             0.6666666666666666,
             "#ed7953"
            ],
            [
             0.7777777777777778,
             "#fb9f3a"
            ],
            [
             0.8888888888888888,
             "#fdca26"
            ],
            [
             1,
             "#f0f921"
            ]
           ]
          },
          "colorway": [
           "#636efa",
           "#EF553B",
           "#00cc96",
           "#ab63fa",
           "#FFA15A",
           "#19d3f3",
           "#FF6692",
           "#B6E880",
           "#FF97FF",
           "#FECB52"
          ],
          "font": {
           "color": "#2a3f5f"
          },
          "geo": {
           "bgcolor": "white",
           "lakecolor": "white",
           "landcolor": "#E5ECF6",
           "showlakes": true,
           "showland": true,
           "subunitcolor": "white"
          },
          "hoverlabel": {
           "align": "left"
          },
          "hovermode": "closest",
          "mapbox": {
           "style": "light"
          },
          "paper_bgcolor": "white",
          "plot_bgcolor": "#E5ECF6",
          "polar": {
           "angularaxis": {
            "gridcolor": "white",
            "linecolor": "white",
            "ticks": ""
           },
           "bgcolor": "#E5ECF6",
           "radialaxis": {
            "gridcolor": "white",
            "linecolor": "white",
            "ticks": ""
           }
          },
          "scene": {
           "xaxis": {
            "backgroundcolor": "#E5ECF6",
            "gridcolor": "white",
            "gridwidth": 2,
            "linecolor": "white",
            "showbackground": true,
            "ticks": "",
            "zerolinecolor": "white"
           },
           "yaxis": {
            "backgroundcolor": "#E5ECF6",
            "gridcolor": "white",
            "gridwidth": 2,
            "linecolor": "white",
            "showbackground": true,
            "ticks": "",
            "zerolinecolor": "white"
           },
           "zaxis": {
            "backgroundcolor": "#E5ECF6",
            "gridcolor": "white",
            "gridwidth": 2,
            "linecolor": "white",
            "showbackground": true,
            "ticks": "",
            "zerolinecolor": "white"
           }
          },
          "shapedefaults": {
           "line": {
            "color": "#2a3f5f"
           }
          },
          "ternary": {
           "aaxis": {
            "gridcolor": "white",
            "linecolor": "white",
            "ticks": ""
           },
           "baxis": {
            "gridcolor": "white",
            "linecolor": "white",
            "ticks": ""
           },
           "bgcolor": "#E5ECF6",
           "caxis": {
            "gridcolor": "white",
            "linecolor": "white",
            "ticks": ""
           }
          },
          "title": {
           "x": 0.05
          },
          "xaxis": {
           "automargin": true,
           "gridcolor": "white",
           "linecolor": "white",
           "ticks": "",
           "title": {
            "standoff": 15
           },
           "zerolinecolor": "white",
           "zerolinewidth": 2
          },
          "yaxis": {
           "automargin": true,
           "gridcolor": "white",
           "linecolor": "white",
           "ticks": "",
           "title": {
            "standoff": 15
           },
           "zerolinecolor": "white",
           "zerolinewidth": 2
          }
         }
        },
        "xaxis": {
         "anchor": "y",
         "domain": [
          0,
          1
         ],
         "title": {
          "text": "x"
         }
        },
        "yaxis": {
         "anchor": "x",
         "domain": [
          0,
          1
         ],
         "title": {
          "text": "y"
         }
        }
       }
      }
     },
     "metadata": {},
     "output_type": "display_data"
    }
   ],
   "source": [
    "labels = [f\"{layer}.{head}\" for layer, head in circuit_heads]\n",
    "fig = px.line(x = labels, y=logit_diffs.cpu().numpy(), error_y=std_logit_diffs.cpu().numpy())\n",
    "fig.add_hline(y=val_logit_diff.item(), line_width=1.5, line_dash=\"dash\", line_color=\"black\")\n",
    "fig.show()"
   ]
  },
  {
   "cell_type": "markdown",
   "metadata": {},
   "source": [
    "# Repeat the above experiment, but by using the prune function to iteratively remove attention heads"
   ]
  },
  {
   "cell_type": "code",
   "execution_count": 20,
   "metadata": {},
   "outputs": [],
   "source": [
    "tokenizer = AutoTokenizer.from_pretrained(\"openai-community/gpt2\", add_bos_token=True)\n",
    "model = AutoModelForCausalLM.from_pretrained(\"openai-community/gpt2\", output_hidden_states=False, use_cache=False)\n",
    "\n",
    "initial_parameters = model.num_parameters()"
   ]
  },
  {
   "cell_type": "code",
   "execution_count": 21,
   "metadata": {},
   "outputs": [],
   "source": [
    "class AttentionIdentity(nn.Module):\n",
    "    \"\"\"\n",
    "    Placeholder for the GPT2Attention layer, literally does nothing\n",
    "    \"\"\"\n",
    "    def __init__(self, *args: Any, **kwargs: Any) -> None:\n",
    "        super().__init__()\n",
    "\n",
    "    def forward(\n",
    "        self,\n",
    "        hidden_states: Optional[Tuple[torch.FloatTensor]],\n",
    "        layer_past: Optional[Tuple[torch.Tensor]] = None,\n",
    "        attention_mask: Optional[torch.FloatTensor] = None,\n",
    "        head_mask: Optional[torch.FloatTensor] = None,\n",
    "        encoder_hidden_states: Optional[torch.Tensor] = None,\n",
    "        encoder_attention_mask: Optional[torch.FloatTensor] = None,\n",
    "        use_cache: Optional[bool] = False,\n",
    "        output_attentions: Optional[bool] = False,\n",
    "    ) -> Tuple[Union[torch.Tensor, Tuple[torch.Tensor]], ...]:\n",
    "        return (torch.zeros_like(hidden_states), None)"
   ]
  },
  {
   "cell_type": "code",
   "execution_count": 22,
   "metadata": {},
   "outputs": [],
   "source": [
    "average_head_acts = torch.load(\"average_head_acts.pt\")\n",
    "\n",
    "def add_average_act(module, input, output, avg_act):\n",
    "    return (output[0] + avg_act, None)"
   ]
  },
  {
   "cell_type": "code",
   "execution_count": 23,
   "metadata": {},
   "outputs": [
    {
     "name": "stderr",
     "output_type": "stream",
     "text": [
      "Avg. Logit Diff. = -0.84:   5%|▍         | 7/144 [00:08<02:46,  1.21s/it]\n"
     ]
    },
    {
     "ename": "KeyboardInterrupt",
     "evalue": "",
     "output_type": "error",
     "traceback": [
      "\u001b[0;31m---------------------------------------------------------------------------\u001b[0m",
      "\u001b[0;31mKeyboardInterrupt\u001b[0m                         Traceback (most recent call last)",
      "Cell \u001b[0;32mIn[23], line 20\u001b[0m\n\u001b[1;32m     17\u001b[0m hook_fn \u001b[38;5;241m=\u001b[39m partial(add_average_act, avg_act\u001b[38;5;241m=\u001b[39maverage_head_acts[layer_i][head_i])\n\u001b[1;32m     18\u001b[0m hooks\u001b[38;5;241m.\u001b[39mappend(model\u001b[38;5;241m.\u001b[39mtransformer\u001b[38;5;241m.\u001b[39mh[layer_i]\u001b[38;5;241m.\u001b[39mattn\u001b[38;5;241m.\u001b[39mregister_forward_hook(hook_fn))\n\u001b[0;32m---> 20\u001b[0m circuit_logits \u001b[38;5;241m=\u001b[39m \u001b[43mmodel\u001b[49m\u001b[43m(\u001b[49m\u001b[43mval_tokens\u001b[49m\u001b[43m)\u001b[49m[\u001b[38;5;124m\"\u001b[39m\u001b[38;5;124mlogits\u001b[39m\u001b[38;5;124m\"\u001b[39m]\n\u001b[1;32m     22\u001b[0m logit_diff \u001b[38;5;241m=\u001b[39m compute_logit_diff(circuit_logits, val_answer_tokens, average\u001b[38;5;241m=\u001b[39m\u001b[38;5;28;01mFalse\u001b[39;00m)\n\u001b[1;32m     23\u001b[0m pbar\u001b[38;5;241m.\u001b[39mset_description(\u001b[38;5;124mf\u001b[39m\u001b[38;5;124m\"\u001b[39m\u001b[38;5;124mAvg. Logit Diff. = \u001b[39m\u001b[38;5;132;01m{\u001b[39;00mlogit_diff[\u001b[38;5;241m.\u001b[39m\u001b[38;5;241m.\u001b[39m\u001b[38;5;241m.\u001b[39m,\u001b[38;5;250m \u001b[39m\u001b[38;5;241m-\u001b[39m\u001b[38;5;241m1\u001b[39m]\u001b[38;5;241m.\u001b[39mmean(\u001b[38;5;241m0\u001b[39m)\u001b[38;5;241m.\u001b[39mitem()\u001b[38;5;132;01m:\u001b[39;00m\u001b[38;5;124m.2f\u001b[39m\u001b[38;5;132;01m}\u001b[39;00m\u001b[38;5;124m\"\u001b[39m)\n",
      "File \u001b[0;32m~/.virtualenvs/mech_interp/lib/python3.11/site-packages/torch/nn/modules/module.py:1511\u001b[0m, in \u001b[0;36mModule._wrapped_call_impl\u001b[0;34m(self, *args, **kwargs)\u001b[0m\n\u001b[1;32m   1509\u001b[0m     \u001b[38;5;28;01mreturn\u001b[39;00m \u001b[38;5;28mself\u001b[39m\u001b[38;5;241m.\u001b[39m_compiled_call_impl(\u001b[38;5;241m*\u001b[39margs, \u001b[38;5;241m*\u001b[39m\u001b[38;5;241m*\u001b[39mkwargs)  \u001b[38;5;66;03m# type: ignore[misc]\u001b[39;00m\n\u001b[1;32m   1510\u001b[0m \u001b[38;5;28;01melse\u001b[39;00m:\n\u001b[0;32m-> 1511\u001b[0m     \u001b[38;5;28;01mreturn\u001b[39;00m \u001b[38;5;28;43mself\u001b[39;49m\u001b[38;5;241;43m.\u001b[39;49m\u001b[43m_call_impl\u001b[49m\u001b[43m(\u001b[49m\u001b[38;5;241;43m*\u001b[39;49m\u001b[43margs\u001b[49m\u001b[43m,\u001b[49m\u001b[43m \u001b[49m\u001b[38;5;241;43m*\u001b[39;49m\u001b[38;5;241;43m*\u001b[39;49m\u001b[43mkwargs\u001b[49m\u001b[43m)\u001b[49m\n",
      "File \u001b[0;32m~/.virtualenvs/mech_interp/lib/python3.11/site-packages/torch/nn/modules/module.py:1520\u001b[0m, in \u001b[0;36mModule._call_impl\u001b[0;34m(self, *args, **kwargs)\u001b[0m\n\u001b[1;32m   1515\u001b[0m \u001b[38;5;66;03m# If we don't have any hooks, we want to skip the rest of the logic in\u001b[39;00m\n\u001b[1;32m   1516\u001b[0m \u001b[38;5;66;03m# this function, and just call forward.\u001b[39;00m\n\u001b[1;32m   1517\u001b[0m \u001b[38;5;28;01mif\u001b[39;00m \u001b[38;5;129;01mnot\u001b[39;00m (\u001b[38;5;28mself\u001b[39m\u001b[38;5;241m.\u001b[39m_backward_hooks \u001b[38;5;129;01mor\u001b[39;00m \u001b[38;5;28mself\u001b[39m\u001b[38;5;241m.\u001b[39m_backward_pre_hooks \u001b[38;5;129;01mor\u001b[39;00m \u001b[38;5;28mself\u001b[39m\u001b[38;5;241m.\u001b[39m_forward_hooks \u001b[38;5;129;01mor\u001b[39;00m \u001b[38;5;28mself\u001b[39m\u001b[38;5;241m.\u001b[39m_forward_pre_hooks\n\u001b[1;32m   1518\u001b[0m         \u001b[38;5;129;01mor\u001b[39;00m _global_backward_pre_hooks \u001b[38;5;129;01mor\u001b[39;00m _global_backward_hooks\n\u001b[1;32m   1519\u001b[0m         \u001b[38;5;129;01mor\u001b[39;00m _global_forward_hooks \u001b[38;5;129;01mor\u001b[39;00m _global_forward_pre_hooks):\n\u001b[0;32m-> 1520\u001b[0m     \u001b[38;5;28;01mreturn\u001b[39;00m \u001b[43mforward_call\u001b[49m\u001b[43m(\u001b[49m\u001b[38;5;241;43m*\u001b[39;49m\u001b[43margs\u001b[49m\u001b[43m,\u001b[49m\u001b[43m \u001b[49m\u001b[38;5;241;43m*\u001b[39;49m\u001b[38;5;241;43m*\u001b[39;49m\u001b[43mkwargs\u001b[49m\u001b[43m)\u001b[49m\n\u001b[1;32m   1522\u001b[0m \u001b[38;5;28;01mtry\u001b[39;00m:\n\u001b[1;32m   1523\u001b[0m     result \u001b[38;5;241m=\u001b[39m \u001b[38;5;28;01mNone\u001b[39;00m\n",
      "File \u001b[0;32m~/.virtualenvs/mech_interp/lib/python3.11/site-packages/transformers/models/gpt2/modeling_gpt2.py:1096\u001b[0m, in \u001b[0;36mGPT2LMHeadModel.forward\u001b[0;34m(self, input_ids, past_key_values, attention_mask, token_type_ids, position_ids, head_mask, inputs_embeds, encoder_hidden_states, encoder_attention_mask, labels, use_cache, output_attentions, output_hidden_states, return_dict)\u001b[0m\n\u001b[1;32m   1093\u001b[0m     torch\u001b[38;5;241m.\u001b[39mcuda\u001b[38;5;241m.\u001b[39mset_device(\u001b[38;5;28mself\u001b[39m\u001b[38;5;241m.\u001b[39mtransformer\u001b[38;5;241m.\u001b[39mfirst_device)\n\u001b[1;32m   1094\u001b[0m     hidden_states \u001b[38;5;241m=\u001b[39m hidden_states\u001b[38;5;241m.\u001b[39mto(\u001b[38;5;28mself\u001b[39m\u001b[38;5;241m.\u001b[39mlm_head\u001b[38;5;241m.\u001b[39mweight\u001b[38;5;241m.\u001b[39mdevice)\n\u001b[0;32m-> 1096\u001b[0m lm_logits \u001b[38;5;241m=\u001b[39m \u001b[38;5;28;43mself\u001b[39;49m\u001b[38;5;241;43m.\u001b[39;49m\u001b[43mlm_head\u001b[49m\u001b[43m(\u001b[49m\u001b[43mhidden_states\u001b[49m\u001b[43m)\u001b[49m\n\u001b[1;32m   1098\u001b[0m loss \u001b[38;5;241m=\u001b[39m \u001b[38;5;28;01mNone\u001b[39;00m\n\u001b[1;32m   1099\u001b[0m \u001b[38;5;28;01mif\u001b[39;00m labels \u001b[38;5;129;01mis\u001b[39;00m \u001b[38;5;129;01mnot\u001b[39;00m \u001b[38;5;28;01mNone\u001b[39;00m:\n\u001b[1;32m   1100\u001b[0m     \u001b[38;5;66;03m# move labels to correct device to enable model parallelism\u001b[39;00m\n",
      "File \u001b[0;32m~/.virtualenvs/mech_interp/lib/python3.11/site-packages/torch/nn/modules/module.py:1511\u001b[0m, in \u001b[0;36mModule._wrapped_call_impl\u001b[0;34m(self, *args, **kwargs)\u001b[0m\n\u001b[1;32m   1509\u001b[0m     \u001b[38;5;28;01mreturn\u001b[39;00m \u001b[38;5;28mself\u001b[39m\u001b[38;5;241m.\u001b[39m_compiled_call_impl(\u001b[38;5;241m*\u001b[39margs, \u001b[38;5;241m*\u001b[39m\u001b[38;5;241m*\u001b[39mkwargs)  \u001b[38;5;66;03m# type: ignore[misc]\u001b[39;00m\n\u001b[1;32m   1510\u001b[0m \u001b[38;5;28;01melse\u001b[39;00m:\n\u001b[0;32m-> 1511\u001b[0m     \u001b[38;5;28;01mreturn\u001b[39;00m \u001b[38;5;28;43mself\u001b[39;49m\u001b[38;5;241;43m.\u001b[39;49m\u001b[43m_call_impl\u001b[49m\u001b[43m(\u001b[49m\u001b[38;5;241;43m*\u001b[39;49m\u001b[43margs\u001b[49m\u001b[43m,\u001b[49m\u001b[43m \u001b[49m\u001b[38;5;241;43m*\u001b[39;49m\u001b[38;5;241;43m*\u001b[39;49m\u001b[43mkwargs\u001b[49m\u001b[43m)\u001b[49m\n",
      "File \u001b[0;32m~/.virtualenvs/mech_interp/lib/python3.11/site-packages/torch/nn/modules/module.py:1520\u001b[0m, in \u001b[0;36mModule._call_impl\u001b[0;34m(self, *args, **kwargs)\u001b[0m\n\u001b[1;32m   1515\u001b[0m \u001b[38;5;66;03m# If we don't have any hooks, we want to skip the rest of the logic in\u001b[39;00m\n\u001b[1;32m   1516\u001b[0m \u001b[38;5;66;03m# this function, and just call forward.\u001b[39;00m\n\u001b[1;32m   1517\u001b[0m \u001b[38;5;28;01mif\u001b[39;00m \u001b[38;5;129;01mnot\u001b[39;00m (\u001b[38;5;28mself\u001b[39m\u001b[38;5;241m.\u001b[39m_backward_hooks \u001b[38;5;129;01mor\u001b[39;00m \u001b[38;5;28mself\u001b[39m\u001b[38;5;241m.\u001b[39m_backward_pre_hooks \u001b[38;5;129;01mor\u001b[39;00m \u001b[38;5;28mself\u001b[39m\u001b[38;5;241m.\u001b[39m_forward_hooks \u001b[38;5;129;01mor\u001b[39;00m \u001b[38;5;28mself\u001b[39m\u001b[38;5;241m.\u001b[39m_forward_pre_hooks\n\u001b[1;32m   1518\u001b[0m         \u001b[38;5;129;01mor\u001b[39;00m _global_backward_pre_hooks \u001b[38;5;129;01mor\u001b[39;00m _global_backward_hooks\n\u001b[1;32m   1519\u001b[0m         \u001b[38;5;129;01mor\u001b[39;00m _global_forward_hooks \u001b[38;5;129;01mor\u001b[39;00m _global_forward_pre_hooks):\n\u001b[0;32m-> 1520\u001b[0m     \u001b[38;5;28;01mreturn\u001b[39;00m \u001b[43mforward_call\u001b[49m\u001b[43m(\u001b[49m\u001b[38;5;241;43m*\u001b[39;49m\u001b[43margs\u001b[49m\u001b[43m,\u001b[49m\u001b[43m \u001b[49m\u001b[38;5;241;43m*\u001b[39;49m\u001b[38;5;241;43m*\u001b[39;49m\u001b[43mkwargs\u001b[49m\u001b[43m)\u001b[49m\n\u001b[1;32m   1522\u001b[0m \u001b[38;5;28;01mtry\u001b[39;00m:\n\u001b[1;32m   1523\u001b[0m     result \u001b[38;5;241m=\u001b[39m \u001b[38;5;28;01mNone\u001b[39;00m\n",
      "File \u001b[0;32m~/.virtualenvs/mech_interp/lib/python3.11/site-packages/torch/nn/modules/linear.py:116\u001b[0m, in \u001b[0;36mLinear.forward\u001b[0;34m(self, input)\u001b[0m\n\u001b[1;32m    115\u001b[0m \u001b[38;5;28;01mdef\u001b[39;00m \u001b[38;5;21mforward\u001b[39m(\u001b[38;5;28mself\u001b[39m, \u001b[38;5;28minput\u001b[39m: Tensor) \u001b[38;5;241m-\u001b[39m\u001b[38;5;241m>\u001b[39m Tensor:\n\u001b[0;32m--> 116\u001b[0m     \u001b[38;5;28;01mreturn\u001b[39;00m \u001b[43mF\u001b[49m\u001b[38;5;241;43m.\u001b[39;49m\u001b[43mlinear\u001b[49m\u001b[43m(\u001b[49m\u001b[38;5;28;43minput\u001b[39;49m\u001b[43m,\u001b[49m\u001b[43m \u001b[49m\u001b[38;5;28;43mself\u001b[39;49m\u001b[38;5;241;43m.\u001b[39;49m\u001b[43mweight\u001b[49m\u001b[43m,\u001b[49m\u001b[43m \u001b[49m\u001b[38;5;28;43mself\u001b[39;49m\u001b[38;5;241;43m.\u001b[39;49m\u001b[43mbias\u001b[49m\u001b[43m)\u001b[49m\n",
      "\u001b[0;31mKeyboardInterrupt\u001b[0m: "
     ]
    }
   ],
   "source": [
    "heads_to_patch = []\n",
    "logit_diffs = []\n",
    "std_logit_diffs = []\n",
    "\n",
    "hooks = []\n",
    "\n",
    "pbar = tqdm(circuit_heads)\n",
    "for layer_i, head_i in pbar:\n",
    "    # if the layer only has one head, remove it directly\n",
    "    if model.transformer.h[layer_i].attn.num_heads <= 1:\n",
    "        #print(f\"Removing layer {layer_i}\")\n",
    "        model.transformer.h[layer_i].attn = AttentionIdentity()\n",
    "    else:\n",
    "        model.transformer.h[layer_i].attn.prune_heads([head_i])\n",
    "    # after removing the head, include a hook that adds its mean activation\n",
    "\n",
    "    hook_fn = partial(add_average_act, avg_act=average_head_acts[layer_i][head_i])\n",
    "    hooks.append(model.transformer.h[layer_i].attn.register_forward_hook(hook_fn))\n",
    "     \n",
    "    circuit_logits = model(val_tokens)[\"logits\"]\n",
    "        \n",
    "    logit_diff = compute_logit_diff(circuit_logits, val_answer_tokens, average=False)\n",
    "    pbar.set_description(f\"Avg. Logit Diff. = {logit_diff[..., -1].mean(0).item():.2f}\")\n",
    "    av_logit_diff = logit_diff[..., -1].mean(0)\n",
    "    std_logit_diff = logit_diff[..., -1].std(0)\n",
    "    logit_diffs.append(av_logit_diff)\n",
    "    std_logit_diffs.append(std_logit_diff)\n",
    "logit_diffs = torch.stack(logit_diffs, dim=0)\n",
    "std_logit_diffs = torch.stack(std_logit_diffs, dim=0)"
   ]
  },
  {
   "cell_type": "code",
   "execution_count": 138,
   "metadata": {},
   "outputs": [
    {
     "data": {
      "application/vnd.plotly.v1+json": {
       "config": {
        "plotlyServerURL": "https://plot.ly"
       },
       "data": [
        {
         "error_y": {
          "array": [
           1.5602858066558838,
           1.565819263458252,
           1.7540085315704346,
           1.8171813488006592,
           2.305866241455078,
           2.2308504581451416,
           2.5337915420532227,
           1.3502298593521118,
           1.2919436693191528,
           1.4584205150604248,
           0.9431660175323486,
           0.9167274832725525,
           0.7174025774002075,
           0.9875676035881042,
           1.3343530893325806,
           0.7482355833053589,
           0.7638407945632935,
           0.6877533197402954,
           0.6811550855636597,
           0.6726272106170654,
           0.8688271045684814,
           0.9404023885726929,
           0.9637706279754639,
           1.0510578155517578,
           1.0939241647720337,
           1.1993714570999146,
           1.2583510875701904,
           1.1631156206130981,
           1.3476518392562866,
           1.5590184926986694,
           1.6494473218917847,
           1.657655954360962,
           1.6290931701660156,
           1.6538480520248413,
           1.5250236988067627,
           1.411423921585083,
           1.3985449075698853,
           1.2619357109069824,
           1.2832292318344116,
           1.279298186302185,
           1.245405673980713,
           1.232581377029419,
           1.1039695739746094,
           1.1988253593444824,
           1.3827403783798218,
           1.1973094940185547,
           1.023422360420227,
           1.0570520162582397,
           1.1093716621398926,
           1.0683904886245728,
           1.0497299432754517,
           0.9839242100715637,
           1.0610123872756958,
           1.0858967304229736,
           0.9924038648605347,
           0.9963129162788391,
           1.0564525127410889,
           1.0218605995178223,
           1.031937599182129,
           1.0394121408462524,
           1.0237199068069458,
           1.0967317819595337,
           1.1130808591842651,
           1.0535171031951904,
           0.9939995408058167,
           1.0123796463012695,
           1.04924738407135,
           1.155432939529419,
           1.1442818641662598,
           1.1183817386627197,
           1.0998457670211792,
           1.0513484477996826,
           1.0074684619903564,
           1.008284091949463,
           0.9848252534866333,
           0.8481820821762085,
           0.8851960301399231,
           0.8710123300552368,
           0.8883674740791321,
           0.8835209012031555,
           0.9369227886199951,
           0.9855470657348633,
           1.0162354707717896,
           0.9463162422180176,
           0.9767646789550781,
           0.9617058038711548,
           0.8744011521339417,
           0.8977063894271851,
           0.8791768550872803,
           0.8132172226905823,
           0.79859858751297,
           0.8213135600090027,
           0.7867354154586792,
           0.7553284764289856,
           0.7375217080116272,
           0.7461146712303162,
           0.6373193860054016,
           0.6226897239685059,
           0.6034039855003357,
           0.6243903040885925,
           0.6423325538635254,
           0.6572631597518921,
           0.6786407828330994,
           0.6640932559967041,
           0.6096509695053101,
           0.6834962368011475,
           0.7078231573104858,
           0.707817792892456,
           0.6567150354385376,
           0.674781322479248,
           0.6587801575660706,
           0.6583174467086792,
           0.6592379212379456,
           0.6793643236160278,
           0.7435690760612488,
           0.7540717124938965,
           0.7791993021965027,
           0.7761684656143188,
           0.7659793496131897,
           0.7780268788337708,
           0.7875703573226929,
           0.7930573225021362,
           0.7965127229690552,
           0.7650190591812134,
           0.7723737955093384,
           0.7210333347320557,
           0.6125059127807617,
           0.6130266189575195,
           0.6212549805641174,
           0.6152001023292542,
           0.6165671944618225,
           0.6210329532623291,
           0.40893879532814026,
           0.3818496763706207,
           0.4005374014377594,
           0.37799176573753357,
           1.3123888969421387,
           1.3477962017059326,
           1.1624082326889038,
           1.1581363677978516,
           1.236270785331726,
           1.1922351121902466,
           1.1212407350540161,
           0.6727415919303894
          ]
         },
         "hovertemplate": "x=%{x}<br>y=%{y}<extra></extra>",
         "legendgroup": "",
         "line": {
          "color": "#636efa",
          "dash": "solid"
         },
         "marker": {
          "symbol": "circle"
         },
         "mode": "lines",
         "name": "",
         "orientation": "v",
         "showlegend": false,
         "type": "scatter",
         "x": [
          "5.6",
          "9.9",
          "11.10",
          "4.11",
          "0.5",
          "0.1",
          "5.10",
          "0.3",
          "6.8",
          "3.3",
          "0.4",
          "10.7",
          "1.11",
          "6.9",
          "5.5",
          "0.10",
          "7.0",
          "2.1",
          "10.6",
          "10.0",
          "3.2",
          "2.8",
          "6.1",
          "4.1",
          "7.2",
          "3.1",
          "2.4",
          "2.3",
          "2.6",
          "2.9",
          "10.1",
          "4.0",
          "4.6",
          "3.6",
          "3.8",
          "0.8",
          "3.5",
          "7.8",
          "8.7",
          "3.7",
          "11.1",
          "1.9",
          "0.6",
          "2.2",
          "1.3",
          "11.0",
          "2.7",
          "6.11",
          "3.4",
          "11.5",
          "5.0",
          "9.4",
          "7.3",
          "6.0",
          "5.8",
          "8.0",
          "5.3",
          "8.1",
          "6.7",
          "1.1",
          "10.8",
          "5.7",
          "5.1",
          "7.7",
          "1.2",
          "4.9",
          "4.5",
          "0.7",
          "11.3",
          "9.1",
          "2.5",
          "7.11",
          "10.2",
          "4.2",
          "9.11",
          "2.11",
          "5.4",
          "11.9",
          "7.5",
          "10.3",
          "0.2",
          "0.0",
          "10.9",
          "0.9",
          "7.10",
          "11.7",
          "1.8",
          "9.2",
          "10.11",
          "9.5",
          "4.8",
          "3.11",
          "10.4",
          "8.2",
          "9.7",
          "9.3",
          "2.10",
          "9.10",
          "6.4",
          "4.10",
          "6.3",
          "5.9",
          "8.4",
          "10.5",
          "11.2",
          "1.6",
          "3.9",
          "11.8",
          "1.10",
          "8.9",
          "7.6",
          "9.0",
          "9.6",
          "6.10",
          "9.8",
          "6.2",
          "6.6",
          "8.5",
          "7.4",
          "8.8",
          "7.1",
          "4.3",
          "4.4",
          "7.9",
          "5.2",
          "6.5",
          "1.4",
          "8.6",
          "11.11",
          "2.0",
          "1.0",
          "3.0",
          "0.11",
          "3.10",
          "1.5",
          "5.11",
          "1.7",
          "8.3",
          "11.4",
          "11.6",
          "8.10",
          "4.7",
          "10.10",
          "8.11"
         ],
         "xaxis": "x",
         "y": [
          3.389446973800659,
          3.44478702545166,
          3.6153078079223633,
          3.293118953704834,
          1.6091793775558472,
          -1.1138558387756348,
          -1.5009639263153076,
          -1.9127411842346191,
          -1.919435977935791,
          -2.145137071609497,
          -2.0068788528442383,
          -1.8705631494522095,
          -1.329167127609253,
          -1.9338598251342773,
          -2.043973207473755,
          -1.5290703773498535,
          -1.5869609117507935,
          -1.5205702781677246,
          -1.7108185291290283,
          -1.7075837850570679,
          -2.2675974369049072,
          -2.3405911922454834,
          -2.269758939743042,
          -2.277337074279785,
          -2.2460215091705322,
          -2.275587797164917,
          -2.465975522994995,
          -2.5739824771881104,
          -2.5817501544952393,
          -2.7763075828552246,
          -2.6633388996124268,
          -2.6440114974975586,
          -2.6632628440856934,
          -2.724959373474121,
          -2.468923568725586,
          -1.973963975906372,
          -1.920666217803955,
          -1.8372896909713745,
          -1.9347376823425293,
          -1.9526454210281372,
          -2.0747323036193848,
          -2.0343029499053955,
          -1.8293251991271973,
          -1.9150255918502808,
          -2.055903196334839,
          -1.790115475654602,
          -1.5276178121566772,
          -1.588541865348816,
          -1.5458999872207642,
          -1.5010403394699097,
          -1.4673418998718262,
          -1.4420591592788696,
          -1.4856971502304077,
          -1.496579885482788,
          -1.4966717958450317,
          -1.4587199687957764,
          -1.4680460691452026,
          -1.4762035608291626,
          -1.4469341039657593,
          -1.642852783203125,
          -1.54152250289917,
          -1.7031652927398682,
          -1.705127239227295,
          -1.6927986145019531,
          -1.659305214881897,
          -1.6300119161605835,
          -1.6287609338760376,
          -1.7780258655548096,
          -1.6621638536453247,
          -1.6592434644699097,
          -1.7748774290084839,
          -1.7351264953613281,
          -1.7547296285629272,
          -1.7203586101531982,
          -1.7529137134552002,
          -1.5725806951522827,
          -1.5886623859405518,
          -1.5299266576766968,
          -1.6140446662902832,
          -1.619293212890625,
          -1.6388834714889526,
          -1.6871724128723145,
          -1.7197822332382202,
          -1.548756718635559,
          -1.6203179359436035,
          -1.63983154296875,
          -1.445298433303833,
          -1.4763771295547485,
          -1.501650333404541,
          -1.6166796684265137,
          -1.6092835664749146,
          -1.6115978956222534,
          -1.5650320053100586,
          -1.4072686433792114,
          -1.3617037534713745,
          -1.3832449913024902,
          -1.2843787670135498,
          -1.2927839756011963,
          -1.2714251279830933,
          -1.3027530908584595,
          -1.3492431640625,
          -1.3320846557617188,
          -1.4135994911193848,
          -1.4450323581695557,
          -1.378790020942688,
          -1.440140962600708,
          -1.4238513708114624,
          -1.4557894468307495,
          -1.3792965412139893,
          -1.3903347253799438,
          -1.3827450275421143,
          -1.38499116897583,
          -1.4207741022109985,
          -1.4696811437606812,
          -1.3010064363479614,
          -1.2829900979995728,
          -1.3134808540344238,
          -1.280343770980835,
          -1.3029104471206665,
          -1.3282270431518555,
          -1.3411527872085571,
          -1.356373906135559,
          -1.3573100566864014,
          -1.3253936767578125,
          -1.3499352931976318,
          -1.236875057220459,
          -1.1975806951522827,
          -1.216515302658081,
          -1.1984412670135498,
          -1.0712144374847412,
          -1.1698487997055054,
          -1.153914451599121,
          -0.966755747795105,
          -1.0048404932022095,
          -1.0477427244186401,
          -1.0709421634674072,
          -0.6357901096343994,
          -0.6211490631103516,
          -0.472706139087677,
          -0.6534714698791504,
          -0.6476472616195679,
          -0.7758851647377014,
          -0.8356194496154785,
          -0.7043939232826233
         ],
         "yaxis": "y"
        }
       ],
       "layout": {
        "legend": {
         "tracegroupgap": 0
        },
        "margin": {
         "t": 60
        },
        "shapes": [
         {
          "line": {
           "color": "black",
           "dash": "dash",
           "width": 1.5
          },
          "type": "line",
          "x0": 0,
          "x1": 1,
          "xref": "x domain",
          "y0": 3.310142755508423,
          "y1": 3.310142755508423,
          "yref": "y"
         }
        ],
        "template": {
         "data": {
          "bar": [
           {
            "error_x": {
             "color": "#2a3f5f"
            },
            "error_y": {
             "color": "#2a3f5f"
            },
            "marker": {
             "line": {
              "color": "#E5ECF6",
              "width": 0.5
             },
             "pattern": {
              "fillmode": "overlay",
              "size": 10,
              "solidity": 0.2
             }
            },
            "type": "bar"
           }
          ],
          "barpolar": [
           {
            "marker": {
             "line": {
              "color": "#E5ECF6",
              "width": 0.5
             },
             "pattern": {
              "fillmode": "overlay",
              "size": 10,
              "solidity": 0.2
             }
            },
            "type": "barpolar"
           }
          ],
          "carpet": [
           {
            "aaxis": {
             "endlinecolor": "#2a3f5f",
             "gridcolor": "white",
             "linecolor": "white",
             "minorgridcolor": "white",
             "startlinecolor": "#2a3f5f"
            },
            "baxis": {
             "endlinecolor": "#2a3f5f",
             "gridcolor": "white",
             "linecolor": "white",
             "minorgridcolor": "white",
             "startlinecolor": "#2a3f5f"
            },
            "type": "carpet"
           }
          ],
          "choropleth": [
           {
            "colorbar": {
             "outlinewidth": 0,
             "ticks": ""
            },
            "type": "choropleth"
           }
          ],
          "contour": [
           {
            "colorbar": {
             "outlinewidth": 0,
             "ticks": ""
            },
            "colorscale": [
             [
              0,
              "#0d0887"
             ],
             [
              0.1111111111111111,
              "#46039f"
             ],
             [
              0.2222222222222222,
              "#7201a8"
             ],
             [
              0.3333333333333333,
              "#9c179e"
             ],
             [
              0.4444444444444444,
              "#bd3786"
             ],
             [
              0.5555555555555556,
              "#d8576b"
             ],
             [
              0.6666666666666666,
              "#ed7953"
             ],
             [
              0.7777777777777778,
              "#fb9f3a"
             ],
             [
              0.8888888888888888,
              "#fdca26"
             ],
             [
              1,
              "#f0f921"
             ]
            ],
            "type": "contour"
           }
          ],
          "contourcarpet": [
           {
            "colorbar": {
             "outlinewidth": 0,
             "ticks": ""
            },
            "type": "contourcarpet"
           }
          ],
          "heatmap": [
           {
            "colorbar": {
             "outlinewidth": 0,
             "ticks": ""
            },
            "colorscale": [
             [
              0,
              "#0d0887"
             ],
             [
              0.1111111111111111,
              "#46039f"
             ],
             [
              0.2222222222222222,
              "#7201a8"
             ],
             [
              0.3333333333333333,
              "#9c179e"
             ],
             [
              0.4444444444444444,
              "#bd3786"
             ],
             [
              0.5555555555555556,
              "#d8576b"
             ],
             [
              0.6666666666666666,
              "#ed7953"
             ],
             [
              0.7777777777777778,
              "#fb9f3a"
             ],
             [
              0.8888888888888888,
              "#fdca26"
             ],
             [
              1,
              "#f0f921"
             ]
            ],
            "type": "heatmap"
           }
          ],
          "heatmapgl": [
           {
            "colorbar": {
             "outlinewidth": 0,
             "ticks": ""
            },
            "colorscale": [
             [
              0,
              "#0d0887"
             ],
             [
              0.1111111111111111,
              "#46039f"
             ],
             [
              0.2222222222222222,
              "#7201a8"
             ],
             [
              0.3333333333333333,
              "#9c179e"
             ],
             [
              0.4444444444444444,
              "#bd3786"
             ],
             [
              0.5555555555555556,
              "#d8576b"
             ],
             [
              0.6666666666666666,
              "#ed7953"
             ],
             [
              0.7777777777777778,
              "#fb9f3a"
             ],
             [
              0.8888888888888888,
              "#fdca26"
             ],
             [
              1,
              "#f0f921"
             ]
            ],
            "type": "heatmapgl"
           }
          ],
          "histogram": [
           {
            "marker": {
             "pattern": {
              "fillmode": "overlay",
              "size": 10,
              "solidity": 0.2
             }
            },
            "type": "histogram"
           }
          ],
          "histogram2d": [
           {
            "colorbar": {
             "outlinewidth": 0,
             "ticks": ""
            },
            "colorscale": [
             [
              0,
              "#0d0887"
             ],
             [
              0.1111111111111111,
              "#46039f"
             ],
             [
              0.2222222222222222,
              "#7201a8"
             ],
             [
              0.3333333333333333,
              "#9c179e"
             ],
             [
              0.4444444444444444,
              "#bd3786"
             ],
             [
              0.5555555555555556,
              "#d8576b"
             ],
             [
              0.6666666666666666,
              "#ed7953"
             ],
             [
              0.7777777777777778,
              "#fb9f3a"
             ],
             [
              0.8888888888888888,
              "#fdca26"
             ],
             [
              1,
              "#f0f921"
             ]
            ],
            "type": "histogram2d"
           }
          ],
          "histogram2dcontour": [
           {
            "colorbar": {
             "outlinewidth": 0,
             "ticks": ""
            },
            "colorscale": [
             [
              0,
              "#0d0887"
             ],
             [
              0.1111111111111111,
              "#46039f"
             ],
             [
              0.2222222222222222,
              "#7201a8"
             ],
             [
              0.3333333333333333,
              "#9c179e"
             ],
             [
              0.4444444444444444,
              "#bd3786"
             ],
             [
              0.5555555555555556,
              "#d8576b"
             ],
             [
              0.6666666666666666,
              "#ed7953"
             ],
             [
              0.7777777777777778,
              "#fb9f3a"
             ],
             [
              0.8888888888888888,
              "#fdca26"
             ],
             [
              1,
              "#f0f921"
             ]
            ],
            "type": "histogram2dcontour"
           }
          ],
          "mesh3d": [
           {
            "colorbar": {
             "outlinewidth": 0,
             "ticks": ""
            },
            "type": "mesh3d"
           }
          ],
          "parcoords": [
           {
            "line": {
             "colorbar": {
              "outlinewidth": 0,
              "ticks": ""
             }
            },
            "type": "parcoords"
           }
          ],
          "pie": [
           {
            "automargin": true,
            "type": "pie"
           }
          ],
          "scatter": [
           {
            "fillpattern": {
             "fillmode": "overlay",
             "size": 10,
             "solidity": 0.2
            },
            "type": "scatter"
           }
          ],
          "scatter3d": [
           {
            "line": {
             "colorbar": {
              "outlinewidth": 0,
              "ticks": ""
             }
            },
            "marker": {
             "colorbar": {
              "outlinewidth": 0,
              "ticks": ""
             }
            },
            "type": "scatter3d"
           }
          ],
          "scattercarpet": [
           {
            "marker": {
             "colorbar": {
              "outlinewidth": 0,
              "ticks": ""
             }
            },
            "type": "scattercarpet"
           }
          ],
          "scattergeo": [
           {
            "marker": {
             "colorbar": {
              "outlinewidth": 0,
              "ticks": ""
             }
            },
            "type": "scattergeo"
           }
          ],
          "scattergl": [
           {
            "marker": {
             "colorbar": {
              "outlinewidth": 0,
              "ticks": ""
             }
            },
            "type": "scattergl"
           }
          ],
          "scattermapbox": [
           {
            "marker": {
             "colorbar": {
              "outlinewidth": 0,
              "ticks": ""
             }
            },
            "type": "scattermapbox"
           }
          ],
          "scatterpolar": [
           {
            "marker": {
             "colorbar": {
              "outlinewidth": 0,
              "ticks": ""
             }
            },
            "type": "scatterpolar"
           }
          ],
          "scatterpolargl": [
           {
            "marker": {
             "colorbar": {
              "outlinewidth": 0,
              "ticks": ""
             }
            },
            "type": "scatterpolargl"
           }
          ],
          "scatterternary": [
           {
            "marker": {
             "colorbar": {
              "outlinewidth": 0,
              "ticks": ""
             }
            },
            "type": "scatterternary"
           }
          ],
          "surface": [
           {
            "colorbar": {
             "outlinewidth": 0,
             "ticks": ""
            },
            "colorscale": [
             [
              0,
              "#0d0887"
             ],
             [
              0.1111111111111111,
              "#46039f"
             ],
             [
              0.2222222222222222,
              "#7201a8"
             ],
             [
              0.3333333333333333,
              "#9c179e"
             ],
             [
              0.4444444444444444,
              "#bd3786"
             ],
             [
              0.5555555555555556,
              "#d8576b"
             ],
             [
              0.6666666666666666,
              "#ed7953"
             ],
             [
              0.7777777777777778,
              "#fb9f3a"
             ],
             [
              0.8888888888888888,
              "#fdca26"
             ],
             [
              1,
              "#f0f921"
             ]
            ],
            "type": "surface"
           }
          ],
          "table": [
           {
            "cells": {
             "fill": {
              "color": "#EBF0F8"
             },
             "line": {
              "color": "white"
             }
            },
            "header": {
             "fill": {
              "color": "#C8D4E3"
             },
             "line": {
              "color": "white"
             }
            },
            "type": "table"
           }
          ]
         },
         "layout": {
          "annotationdefaults": {
           "arrowcolor": "#2a3f5f",
           "arrowhead": 0,
           "arrowwidth": 1
          },
          "autotypenumbers": "strict",
          "coloraxis": {
           "colorbar": {
            "outlinewidth": 0,
            "ticks": ""
           }
          },
          "colorscale": {
           "diverging": [
            [
             0,
             "#8e0152"
            ],
            [
             0.1,
             "#c51b7d"
            ],
            [
             0.2,
             "#de77ae"
            ],
            [
             0.3,
             "#f1b6da"
            ],
            [
             0.4,
             "#fde0ef"
            ],
            [
             0.5,
             "#f7f7f7"
            ],
            [
             0.6,
             "#e6f5d0"
            ],
            [
             0.7,
             "#b8e186"
            ],
            [
             0.8,
             "#7fbc41"
            ],
            [
             0.9,
             "#4d9221"
            ],
            [
             1,
             "#276419"
            ]
           ],
           "sequential": [
            [
             0,
             "#0d0887"
            ],
            [
             0.1111111111111111,
             "#46039f"
            ],
            [
             0.2222222222222222,
             "#7201a8"
            ],
            [
             0.3333333333333333,
             "#9c179e"
            ],
            [
             0.4444444444444444,
             "#bd3786"
            ],
            [
             0.5555555555555556,
             "#d8576b"
            ],
            [
             0.6666666666666666,
             "#ed7953"
            ],
            [
             0.7777777777777778,
             "#fb9f3a"
            ],
            [
             0.8888888888888888,
             "#fdca26"
            ],
            [
             1,
             "#f0f921"
            ]
           ],
           "sequentialminus": [
            [
             0,
             "#0d0887"
            ],
            [
             0.1111111111111111,
             "#46039f"
            ],
            [
             0.2222222222222222,
             "#7201a8"
            ],
            [
             0.3333333333333333,
             "#9c179e"
            ],
            [
             0.4444444444444444,
             "#bd3786"
            ],
            [
             0.5555555555555556,
             "#d8576b"
            ],
            [
             0.6666666666666666,
             "#ed7953"
            ],
            [
             0.7777777777777778,
             "#fb9f3a"
            ],
            [
             0.8888888888888888,
             "#fdca26"
            ],
            [
             1,
             "#f0f921"
            ]
           ]
          },
          "colorway": [
           "#636efa",
           "#EF553B",
           "#00cc96",
           "#ab63fa",
           "#FFA15A",
           "#19d3f3",
           "#FF6692",
           "#B6E880",
           "#FF97FF",
           "#FECB52"
          ],
          "font": {
           "color": "#2a3f5f"
          },
          "geo": {
           "bgcolor": "white",
           "lakecolor": "white",
           "landcolor": "#E5ECF6",
           "showlakes": true,
           "showland": true,
           "subunitcolor": "white"
          },
          "hoverlabel": {
           "align": "left"
          },
          "hovermode": "closest",
          "mapbox": {
           "style": "light"
          },
          "paper_bgcolor": "white",
          "plot_bgcolor": "#E5ECF6",
          "polar": {
           "angularaxis": {
            "gridcolor": "white",
            "linecolor": "white",
            "ticks": ""
           },
           "bgcolor": "#E5ECF6",
           "radialaxis": {
            "gridcolor": "white",
            "linecolor": "white",
            "ticks": ""
           }
          },
          "scene": {
           "xaxis": {
            "backgroundcolor": "#E5ECF6",
            "gridcolor": "white",
            "gridwidth": 2,
            "linecolor": "white",
            "showbackground": true,
            "ticks": "",
            "zerolinecolor": "white"
           },
           "yaxis": {
            "backgroundcolor": "#E5ECF6",
            "gridcolor": "white",
            "gridwidth": 2,
            "linecolor": "white",
            "showbackground": true,
            "ticks": "",
            "zerolinecolor": "white"
           },
           "zaxis": {
            "backgroundcolor": "#E5ECF6",
            "gridcolor": "white",
            "gridwidth": 2,
            "linecolor": "white",
            "showbackground": true,
            "ticks": "",
            "zerolinecolor": "white"
           }
          },
          "shapedefaults": {
           "line": {
            "color": "#2a3f5f"
           }
          },
          "ternary": {
           "aaxis": {
            "gridcolor": "white",
            "linecolor": "white",
            "ticks": ""
           },
           "baxis": {
            "gridcolor": "white",
            "linecolor": "white",
            "ticks": ""
           },
           "bgcolor": "#E5ECF6",
           "caxis": {
            "gridcolor": "white",
            "linecolor": "white",
            "ticks": ""
           }
          },
          "title": {
           "x": 0.05
          },
          "xaxis": {
           "automargin": true,
           "gridcolor": "white",
           "linecolor": "white",
           "ticks": "",
           "title": {
            "standoff": 15
           },
           "zerolinecolor": "white",
           "zerolinewidth": 2
          },
          "yaxis": {
           "automargin": true,
           "gridcolor": "white",
           "linecolor": "white",
           "ticks": "",
           "title": {
            "standoff": 15
           },
           "zerolinecolor": "white",
           "zerolinewidth": 2
          }
         }
        },
        "xaxis": {
         "anchor": "y",
         "domain": [
          0,
          1
         ],
         "title": {
          "text": "x"
         }
        },
        "yaxis": {
         "anchor": "x",
         "domain": [
          0,
          1
         ],
         "title": {
          "text": "y"
         }
        }
       }
      }
     },
     "metadata": {},
     "output_type": "display_data"
    }
   ],
   "source": [
    "labels = [f\"{layer}.{head}\" for layer, head in circuit_heads]\n",
    "fig = px.line(x = labels, y=logit_diffs.cpu().numpy(), error_y=std_logit_diffs.cpu().numpy())\n",
    "fig.add_hline(y=val_logit_diff.item(), line_width=1.5, line_dash=\"dash\", line_color=\"black\")\n",
    "fig.show()"
   ]
  },
  {
   "cell_type": "code",
   "execution_count": 60,
   "metadata": {},
   "outputs": [
    {
     "name": "stdout",
     "output_type": "stream",
     "text": [
      "0.23\n"
     ]
    }
   ],
   "source": [
    "final_parameters = model.num_parameters()\n",
    "p_reduction = (initial_parameters - final_parameters) / initial_parameters\n",
    "print(f\"{p_reduction:.2f}\")"
   ]
  }
 ],
 "metadata": {
  "kernelspec": {
   "display_name": "mech_interp",
   "language": "python",
   "name": "python3"
  },
  "language_info": {
   "codemirror_mode": {
    "name": "ipython",
    "version": 3
   },
   "file_extension": ".py",
   "mimetype": "text/x-python",
   "name": "python",
   "nbconvert_exporter": "python",
   "pygments_lexer": "ipython3",
   "version": "3.11.7"
  }
 },
 "nbformat": 4,
 "nbformat_minor": 2
}
