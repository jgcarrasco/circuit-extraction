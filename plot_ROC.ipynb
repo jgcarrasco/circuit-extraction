{
 "cells": [
  {
   "cell_type": "code",
   "execution_count": 8,
   "metadata": {},
   "outputs": [],
   "source": [
    "from glob import glob\n",
    "\n",
    "import pandas as pd\n",
    "import seaborn as sns\n",
    "import matplotlib.pyplot as plt\n",
    "\n",
    "# This is done to avoid using Type 3 fonts and instead use TrueType\n",
    "import matplotlib as mpl\n",
    "mpl.rcParams['pdf.fonttype'] = 42\n",
    "mpl.rcParams['ps.fonttype'] = 42\n",
    "\n",
    "from sklearn.metrics import auc"
   ]
  },
  {
   "cell_type": "code",
   "execution_count": 9,
   "metadata": {},
   "outputs": [],
   "source": [
    "tasks = [\"greater-than\", \"acronyms\", \"ioi\"]\n",
    "ablation_scheme = \"mean\""
   ]
  },
  {
   "cell_type": "code",
   "execution_count": 10,
   "metadata": {},
   "outputs": [],
   "source": [
    "df = []\n",
    "for task in tasks:\n",
    "    df_temp = []\n",
    "    for path in glob(f\"roc_results/{task}_{ablation_scheme}_*.csv\"):\n",
    "        df_temp.append(pd.read_csv(path))\n",
    "    df_temp = pd.concat(df_temp)\n",
    "    df_temp[\"Task\"] = task\n",
    "    df.append(df_temp)\n",
    "df = pd.concat(df)"
   ]
  },
  {
   "cell_type": "code",
   "execution_count": 11,
   "metadata": {},
   "outputs": [
    {
     "data": {
      "text/html": [
       "<div>\n",
       "<style scoped>\n",
       "    .dataframe tbody tr th:only-of-type {\n",
       "        vertical-align: middle;\n",
       "    }\n",
       "\n",
       "    .dataframe tbody tr th {\n",
       "        vertical-align: top;\n",
       "    }\n",
       "\n",
       "    .dataframe thead th {\n",
       "        text-align: right;\n",
       "    }\n",
       "</style>\n",
       "<table border=\"1\" class=\"dataframe\">\n",
       "  <thead>\n",
       "    <tr style=\"text-align: right;\">\n",
       "      <th></th>\n",
       "      <th>threshold</th>\n",
       "      <th>TPR</th>\n",
       "      <th>FPR</th>\n",
       "      <th>Task</th>\n",
       "    </tr>\n",
       "  </thead>\n",
       "  <tbody>\n",
       "    <tr>\n",
       "      <th>0</th>\n",
       "      <td>0.000010</td>\n",
       "      <td>1.000000</td>\n",
       "      <td>0.911765</td>\n",
       "      <td>greater-than</td>\n",
       "    </tr>\n",
       "    <tr>\n",
       "      <th>1</th>\n",
       "      <td>0.000016</td>\n",
       "      <td>1.000000</td>\n",
       "      <td>0.889706</td>\n",
       "      <td>greater-than</td>\n",
       "    </tr>\n",
       "    <tr>\n",
       "      <th>2</th>\n",
       "      <td>0.000026</td>\n",
       "      <td>0.875000</td>\n",
       "      <td>0.845588</td>\n",
       "      <td>greater-than</td>\n",
       "    </tr>\n",
       "    <tr>\n",
       "      <th>3</th>\n",
       "      <td>0.000042</td>\n",
       "      <td>0.875000</td>\n",
       "      <td>0.779412</td>\n",
       "      <td>greater-than</td>\n",
       "    </tr>\n",
       "    <tr>\n",
       "      <th>4</th>\n",
       "      <td>0.000067</td>\n",
       "      <td>0.875000</td>\n",
       "      <td>0.705882</td>\n",
       "      <td>greater-than</td>\n",
       "    </tr>\n",
       "    <tr>\n",
       "      <th>...</th>\n",
       "      <td>...</td>\n",
       "      <td>...</td>\n",
       "      <td>...</td>\n",
       "      <td>...</td>\n",
       "    </tr>\n",
       "    <tr>\n",
       "      <th>25</th>\n",
       "      <td>0.204336</td>\n",
       "      <td>0.086957</td>\n",
       "      <td>0.000000</td>\n",
       "      <td>ioi</td>\n",
       "    </tr>\n",
       "    <tr>\n",
       "      <th>26</th>\n",
       "      <td>0.303920</td>\n",
       "      <td>0.086957</td>\n",
       "      <td>0.000000</td>\n",
       "      <td>ioi</td>\n",
       "    </tr>\n",
       "    <tr>\n",
       "      <th>27</th>\n",
       "      <td>0.452035</td>\n",
       "      <td>0.086957</td>\n",
       "      <td>0.000000</td>\n",
       "      <td>ioi</td>\n",
       "    </tr>\n",
       "    <tr>\n",
       "      <th>28</th>\n",
       "      <td>0.672336</td>\n",
       "      <td>0.043478</td>\n",
       "      <td>0.000000</td>\n",
       "      <td>ioi</td>\n",
       "    </tr>\n",
       "    <tr>\n",
       "      <th>29</th>\n",
       "      <td>1.000000</td>\n",
       "      <td>0.043478</td>\n",
       "      <td>0.000000</td>\n",
       "      <td>ioi</td>\n",
       "    </tr>\n",
       "  </tbody>\n",
       "</table>\n",
       "<p>450 rows × 4 columns</p>\n",
       "</div>"
      ],
      "text/plain": [
       "    threshold       TPR       FPR          Task\n",
       "0    0.000010  1.000000  0.911765  greater-than\n",
       "1    0.000016  1.000000  0.889706  greater-than\n",
       "2    0.000026  0.875000  0.845588  greater-than\n",
       "3    0.000042  0.875000  0.779412  greater-than\n",
       "4    0.000067  0.875000  0.705882  greater-than\n",
       "..        ...       ...       ...           ...\n",
       "25   0.204336  0.086957  0.000000           ioi\n",
       "26   0.303920  0.086957  0.000000           ioi\n",
       "27   0.452035  0.086957  0.000000           ioi\n",
       "28   0.672336  0.043478  0.000000           ioi\n",
       "29   1.000000  0.043478  0.000000           ioi\n",
       "\n",
       "[450 rows x 4 columns]"
      ]
     },
     "execution_count": 11,
     "metadata": {},
     "output_type": "execute_result"
    }
   ],
   "source": [
    "df"
   ]
  },
  {
   "cell_type": "code",
   "execution_count": 12,
   "metadata": {},
   "outputs": [],
   "source": [
    "df_mean = df.groupby([\"threshold\", \"Task\"]).mean().sort_values(by=\"FPR\").reset_index()"
   ]
  },
  {
   "cell_type": "code",
   "execution_count": 13,
   "metadata": {},
   "outputs": [],
   "source": [
    "aucs = []\n",
    "for task in tasks:\n",
    "    df_temp = df_mean[df_mean[\"Task\"] == task]\n",
    "    aucs.append(auc(df_temp[\"FPR\"].values, df_temp[\"TPR\"].values))"
   ]
  },
  {
   "cell_type": "code",
   "execution_count": 14,
   "metadata": {},
   "outputs": [
    {
     "data": {
      "image/png": "[encoded data removed]",
      "text/plain": [
       "<Figure size 720x400 with 1 Axes>"
      ]
     },
     "metadata": {},
     "output_type": "display_data"
    }
   ],
   "source": [
    "ratio = 1.8\n",
    "plt.figure(figsize=(ratio*4, 4))\n",
    "ax = sns.lineplot(df_mean, x=\"FPR\", y=\"TPR\", hue=\"Task\", drawstyle=\"steps-post\", \n",
    "                  errorbar=None, hue_order=tasks)\n",
    "ax.set_ylabel(\"True Positive Rate\")\n",
    "ax.set_xlabel(\"False Positive Rate\")\n",
    "plt.legend(title=\"AUC\", loc=\"lower right\", labels=[f\"{task.capitalize()}: {x:.2f}\" for task, x in zip(tasks, aucs)])\n",
    "#plt.legend()\n",
    "plt.tight_layout()\n",
    "ax.set_xlim([0, 1])\n",
    "plt.savefig(f\"images/ROC_{ablation_scheme}.pdf\")"
   ]
  }
 ],
 "metadata": {
  "kernelspec": {
   "display_name": "mech_interp",
   "language": "python",
   "name": "python3"
  },
  "language_info": {
   "codemirror_mode": {
    "name": "ipython",
    "version": 3
   },
   "file_extension": ".py",
   "mimetype": "text/x-python",
   "name": "python",
   "nbconvert_exporter": "python",
   "pygments_lexer": "ipython3",
   "version": "3.11.2"
  }
 },
 "nbformat": 4,
 "nbformat_minor": 2
}
